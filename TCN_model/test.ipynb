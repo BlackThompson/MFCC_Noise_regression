{
 "cells": [
  {
   "cell_type": "code",
   "execution_count": 3,
   "metadata": {
    "collapsed": true
   },
   "outputs": [
    {
     "data": {
      "text/plain": "<Figure size 432x288 with 1 Axes>",
      "image/png": "[encoded data removed]"
     },
     "metadata": {
      "needs_background": "light"
     },
     "output_type": "display_data"
    },
    {
     "name": "stdout",
     "output_type": "stream",
     "text": [
      "[4958.79777212 +0.j          -13.65899247-21.40024584j\n",
      "  -10.90435325-14.02176242j ...   24.90363647 -2.31792836j\n",
      "  -10.90435325+14.02176242j  -13.65899247+21.40024584j]\n"
     ]
    }
   ],
   "source": [
    "import numpy as np\n",
    "import matplotlib.pyplot as plt\n",
    "\n",
    "# 生成随机时序数据\n",
    "data = np.random.rand(10000)\n",
    "\n",
    "# 对数据进行傅里叶变换\n",
    "fft_result = np.fft.fft(data)\n",
    "\n",
    "# 计算频率分量\n",
    "freqs = np.fft.fftfreq(len(data))\n",
    "\n",
    "# 取实部作为振幅\n",
    "amplitudes = np.abs(fft_result.real)\n",
    "\n",
    "# 绘制频域图\n",
    "plt.plot(freqs, amplitudes)\n",
    "plt.xlabel(\"Frequency\")\n",
    "plt.ylabel(\"Amplitude\")\n",
    "plt.show()\n"
   ]
  },
  {
   "cell_type": "code",
   "execution_count": 6,
   "outputs": [
    {
     "data": {
      "text/plain": "array([[[ 7.54514797e+01,  1.02812207e+02,  8.68565419e+01, ...,\n          9.43233640e+01,  8.33852929e+01,  7.63960962e+01],\n        [ 1.03445466e+02,  9.77517169e+01,  1.08114483e+02, ...,\n          7.25619807e+01,  1.14564822e+02,  9.64970111e+01],\n        [ 1.08471668e+02,  9.95377098e+01,  1.08085168e+02, ...,\n          1.26235532e+02,  9.35540059e+01,  9.15198267e+01],\n        ...,\n        [ 1.17204941e+02,  9.75583740e+01,  8.69987092e+01, ...,\n          1.01846873e+02,  1.04810725e+02,  9.64028848e+01],\n        [ 1.03785289e+02,  9.19355099e+01,  9.14992580e+01, ...,\n          1.31869912e+02,  8.86335551e+01,  1.07346302e+02],\n        [ 1.13374621e+02,  9.56472600e+01,  7.53522705e+01, ...,\n          1.35973545e+02,  9.26805031e+01,  8.67876448e+01]],\n\n       [[-8.70770300e-01, -1.58977530e+01,  8.37077790e+00, ...,\n          4.26841987e+00,  7.52680968e+00,  5.21866542e+00],\n        [-1.05744059e+01, -9.88019675e+00, -2.06522140e+00, ...,\n          3.03028180e+00, -8.42928142e+00,  9.15831043e+00],\n        [-1.53121532e+01, -1.34132703e+01, -4.08870885e+00, ...,\n          1.56808610e+01, -6.77929814e+00,  2.16577191e+01],\n        ...,\n        [ 1.18699415e+01,  5.06645526e+00,  8.91339781e+00, ...,\n          1.04537911e+01, -1.52832318e+01,  4.26319630e+00],\n        [-1.01746420e+01,  1.18344711e+01, -3.72475510e+00, ...,\n          3.68181000e+00,  4.92921242e+00, -2.65980050e+00],\n        [ 8.89553352e-02, -2.54803049e+00, -2.59669511e-01, ...,\n          2.06946717e+00,  8.17873691e+00,  3.21520064e+00]],\n\n       [[-4.85674609e+00, -4.12114077e+00, -5.20398961e+00, ...,\n         -1.39192574e+01,  4.52203194e+00, -3.75518281e+00],\n        [ 9.81365564e+00, -1.00933500e+01,  5.25564052e+00, ...,\n          7.81932445e+00,  4.16724699e+00, -2.21087946e+00],\n        [-4.85293621e+00,  2.06522621e+01, -3.94681720e-01, ...,\n         -3.37316072e-01, -1.15545142e+01,  4.28894840e+00],\n        ...,\n        [ 3.93959486e+00, -6.68741846e+00,  1.55511128e+01, ...,\n         -8.43656109e+00,  4.78091652e+00,  1.49919775e+01],\n        [ 5.41030732e+00,  5.35025354e+00,  3.19398222e+00, ...,\n         -5.08201993e+00, -4.00930827e+00,  8.18622561e+00],\n        [-1.66014238e+01, -1.47734838e+01, -9.39595494e-01, ...,\n          9.72354374e-01,  1.38664041e+01,  5.78769102e+00]],\n\n       ...,\n\n       [[-6.65015251e-01, -2.38492467e+00,  1.56524358e+00, ...,\n         -2.71864274e-01,  2.45255460e+00, -2.61785348e+00],\n        [-8.90875039e+00, -4.79208025e-01, -2.92621922e+00, ...,\n         -2.09366477e+00,  3.21583659e+00, -3.62157035e-01],\n        [-3.15477823e+00,  1.76321834e+00, -1.44217619e-01, ...,\n         -1.70709960e+00, -1.21612295e-01, -2.48833468e+00],\n        ...,\n        [ 3.54436645e+00,  6.04916666e-01, -6.30980736e-01, ...,\n          2.63575819e-02, -1.12744530e+00, -2.02357668e+00],\n        [-3.21838255e+00, -7.93094083e-01, -1.61162416e+00, ...,\n         -3.29233189e-01, -6.84692729e-02,  1.33608517e-01],\n        [ 2.83510515e+00,  3.61030967e+00, -1.09483458e+00, ...,\n          5.05689102e-01, -1.58415070e-01, -9.30164053e-01]],\n\n       [[-2.12776583e+00,  3.30241252e-01,  6.40062903e-01, ...,\n         -3.26609194e-01,  4.34708516e-01, -1.98885127e+00],\n        [ 5.82336590e+00,  9.26590904e-01,  6.12082393e-01, ...,\n          2.19178291e+00,  4.15745956e-01,  8.22671288e-02],\n        [ 1.09740994e+00, -1.01264037e+00,  1.28192408e-02, ...,\n         -5.82121594e-01,  4.21725393e-02, -4.39895609e-02],\n        ...,\n        [-1.27062502e+00, -2.12485164e-01,  4.69428270e-02, ...,\n         -3.10688134e-01, -1.07014549e+00, -9.55640860e-01],\n        [ 8.87014652e-01,  7.25108766e-01,  4.20282013e-01, ...,\n         -5.74331211e-01, -1.24932854e+00, -2.77056218e-01],\n        [ 3.22886441e+00, -2.26127034e+00,  8.04081244e-01, ...,\n          9.69068058e-01,  2.08261487e+00,  8.87001310e-01]],\n\n       [[ 8.77682376e-01, -8.89239064e-01,  3.12678154e-01, ...,\n          6.79141975e-02, -2.30368292e-01,  1.28362821e+00],\n        [-2.16463949e+00,  5.33803724e-01, -1.25517765e+00, ...,\n         -4.13067762e-01,  1.79304218e-01,  7.73766605e-02],\n        [ 2.27067031e-01,  2.07216741e+00, -2.92469605e-04, ...,\n          3.06406390e-01, -1.30419221e-02,  9.21396733e-02],\n        ...,\n        [-2.84038875e-01,  1.19540830e+00,  5.76245345e-01, ...,\n         -5.43100089e-02, -3.40502574e-01,  2.48029781e-01],\n        [ 1.20043920e-01,  6.95824824e-02,  8.95451139e-01, ...,\n         -9.83075493e-01,  1.23057876e-01, -1.12707679e-01],\n        [ 1.12273867e+00,  1.74325967e+00,  1.16711878e-01, ...,\n          1.65174685e+00, -1.22936220e+00,  2.68467988e-01]]])"
     },
     "execution_count": 6,
     "metadata": {},
     "output_type": "execute_result"
    }
   ],
   "source": [
    "import numpy as np\n",
    "\n",
    "\n",
    "def autocorr(x):\n",
    "    result = np.correlate(x, x, mode='full')\n",
    "    return result[len(result) // 2:]\n",
    "\n",
    "\n",
    "data = np.random.randn(100, 100, 100)  # 三维数组，可以是任意维度\n",
    "autocorr_data = np.apply_along_axis(autocorr, 0, data)  # 按第0个维度计算自相关函数\n"
   ],
   "metadata": {
    "collapsed": false,
    "pycharm": {
     "name": "#%%\n"
    }
   }
  },
  {
   "cell_type": "code",
   "execution_count": 7,
   "outputs": [
    {
     "data": {
      "text/plain": "<Figure size 432x288 with 1 Axes>",
      "image/png": "[encoded data removed]"
     },
     "metadata": {
      "needs_background": "light"
     },
     "output_type": "display_data"
    },
    {
     "name": "stdout",
     "output_type": "stream",
     "text": [
      "First peak at lag 0\n"
     ]
    }
   ],
   "source": [
    "import numpy as np\n",
    "import statsmodels.api as sm\n",
    "import matplotlib.pyplot as plt\n",
    "\n",
    "# 生成示例数据\n",
    "data = np.sin(np.linspace(0, 4 * np.pi, 1000))\n",
    "\n",
    "# 计算ACF\n",
    "acf = sm.tsa.acf(data, nlags=100)\n",
    "\n",
    "# 绘制ACF图像\n",
    "plt.plot(acf)\n",
    "plt.xlabel('Lag')\n",
    "plt.ylabel('Autocorrelation')\n",
    "plt.show()\n",
    "\n",
    "# 找到第一个峰值\n",
    "first_peak = np.argmax(acf > 0.2)\n",
    "print(f\"First peak at lag {first_peak}\")"
   ],
   "metadata": {
    "collapsed": false,
    "pycharm": {
     "name": "#%%\n"
    }
   }
  },
  {
   "cell_type": "code",
   "execution_count": 24,
   "outputs": [
    {
     "name": "stdout",
     "output_type": "stream",
     "text": [
      "平均自相关系数： 0.3520426757136591\n",
      "最大自相关系数： 1.0\n"
     ]
    }
   ],
   "source": [
    "import numpy as np\n",
    "\n",
    "\n",
    "def autocorr(x, t):\n",
    "    \"\"\"\n",
    "    计算序列x在时延t下的自相关系数\n",
    "    \"\"\"\n",
    "    return np.corrcoef(np.array([x[:-t], x[t:]]))\n",
    "\n",
    "\n",
    "def mean_autocorr(x):\n",
    "    \"\"\"\n",
    "    计算序列x的平均自相关系数\n",
    "    \"\"\"\n",
    "    n = len(x)\n",
    "    acorr = [autocorr(x, t)[0, 1] for t in range(1, n)]\n",
    "    acorr = np.nan_to_num(acorr)\n",
    "    return np.mean(acorr)\n",
    "\n",
    "\n",
    "def max_autocorr(x):\n",
    "    \"\"\"\n",
    "    计算序列x的最大自相关系数\n",
    "    \"\"\"\n",
    "    n = len(x)\n",
    "    acorr = [autocorr(x, t)[0, 1] for t in range(1, n)]\n",
    "    acorr = np.nan_to_num(acorr)\n",
    "    return np.max(acorr)\n",
    "\n",
    "\n",
    "# 示例\n",
    "x = [1, 2, 3, 1, 1, 3, 4, 5]\n",
    "print(\"平均自相关系数：\", mean_autocorr(x))\n",
    "print(\"最大自相关系数：\", max_autocorr(x))"
   ],
   "metadata": {
    "collapsed": false,
    "pycharm": {
     "name": "#%%\n"
    }
   }
  },
  {
   "cell_type": "code",
   "execution_count": 49,
   "outputs": [
    {
     "name": "stdout",
     "output_type": "stream",
     "text": [
      "1\n",
      "[1, 2, 3, 3, 2] [2, 3, 3, 2, 3]\n",
      "0.21821789023599233\n",
      "2\n",
      "[1, 2, 3, 3] [3, 3, 2, 3]\n",
      "-0.5222329678670935\n",
      "3\n",
      "[1, 2, 3] [3, 2, 3]\n",
      "0.0\n",
      "4\n",
      "[1, 2] [2, 3]\n",
      "0.9999999999999999\n",
      "5\n",
      "[1] [3]\n",
      "nan\n",
      "[ 0.21821789 -0.52223297  0.          1.          0.          0.        ]\n",
      "0.9999999999999999\n",
      "存在周期性，周期为3个单位\n"
     ]
    }
   ],
   "source": [
    "def periodicity(x):\n",
    "    n = len(x)\n",
    "    acf = np.zeros(n)\n",
    "    for lag in range(1, n):\n",
    "        print(lag)\n",
    "        print(x[:-lag], x[lag:])\n",
    "        acf[lag - 1] = np.corrcoef(np.array([x[:-lag], x[lag:]]))[0, 1]\n",
    "        print(acf[lag - 1])\n",
    "    acf = np.nan_to_num(acf)\n",
    "    print(acf)\n",
    "    max_corr = np.max(acf[1:])\n",
    "    max_lag = np.argmax(acf[1:]) + 1\n",
    "    return max_corr, max_lag\n",
    "\n",
    "\n",
    "x = [1, 2, 3, 3, 2, 3]\n",
    "max_corr, max_lag = periodicity(x)\n",
    "if max_corr > 0.5:\n",
    "    print(max_corr)\n",
    "    print(f\"存在周期性，周期为{max_lag}个单位\")\n",
    "else:\n",
    "    print(\"不存在周期性\")\n",
    "    print(max_corr)"
   ],
   "metadata": {
    "collapsed": false,
    "pycharm": {
     "name": "#%%\n"
    }
   }
  },
  {
   "cell_type": "code",
   "execution_count": 47,
   "outputs": [
    {
     "ename": "TypeError",
     "evalue": "Field elements must be 2- or 3-tuples, got '2'",
     "output_type": "error",
     "traceback": [
      "\u001B[1;31m---------------------------------------------------------------------------\u001B[0m",
      "\u001B[1;31mTypeError\u001B[0m                                 Traceback (most recent call last)",
      "Input \u001B[1;32mIn [47]\u001B[0m, in \u001B[0;36m<cell line: 1>\u001B[1;34m()\u001B[0m\n\u001B[1;32m----> 1\u001B[0m \u001B[38;5;28mprint\u001B[39m(np\u001B[38;5;241m.\u001B[39mcorrcoef(\u001B[43mnp\u001B[49m\u001B[38;5;241;43m.\u001B[39;49m\u001B[43marray\u001B[49m\u001B[43m(\u001B[49m\u001B[43m[\u001B[49m\u001B[38;5;241;43m1\u001B[39;49m\u001B[43m,\u001B[49m\u001B[43m \u001B[49m\u001B[38;5;241;43m2\u001B[39;49m\u001B[43m]\u001B[49m\u001B[43m,\u001B[49m\u001B[43m \u001B[49m\u001B[43m[\u001B[49m\u001B[38;5;241;43m2\u001B[39;49m\u001B[43m,\u001B[49m\u001B[43m \u001B[49m\u001B[38;5;241;43m3\u001B[39;49m\u001B[43m,\u001B[49m\u001B[43m \u001B[49m\u001B[38;5;241;43m4\u001B[39;49m\u001B[43m,\u001B[49m\u001B[43m \u001B[49m\u001B[38;5;241;43m1\u001B[39;49m\u001B[43m]\u001B[49m\u001B[43m)\u001B[49m))\n",
      "\u001B[1;31mTypeError\u001B[0m: Field elements must be 2- or 3-tuples, got '2'"
     ]
    }
   ],
   "source": [],
   "metadata": {
    "collapsed": false,
    "pycharm": {
     "name": "#%%\n"
    }
   }
  },
  {
   "cell_type": "code",
   "execution_count": null,
   "outputs": [],
   "source": [],
   "metadata": {
    "collapsed": false,
    "pycharm": {
     "name": "#%%\n"
    }
   }
  }
 ],
 "metadata": {
  "kernelspec": {
   "display_name": "Python 3",
   "language": "python",
   "name": "python3"
  },
  "language_info": {
   "codemirror_mode": {
    "name": "ipython",
    "version": 2
   },
   "file_extension": ".py",
   "mimetype": "text/x-python",
   "name": "python",
   "nbconvert_exporter": "python",
   "pygments_lexer": "ipython2",
   "version": "2.7.6"
  }
 },
 "nbformat": 4,
 "nbformat_minor": 0
}