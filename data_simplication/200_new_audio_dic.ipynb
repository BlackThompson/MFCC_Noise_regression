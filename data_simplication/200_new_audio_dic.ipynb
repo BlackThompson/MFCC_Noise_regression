{
 "cells": [
  {
   "cell_type": "code",
   "execution_count": 6,
   "outputs": [],
   "source": [
    "import os\n",
    "import random\n",
    "\n",
    "folder_path =  r'C:\\Users\\Black\\Desktop\\挑选音频'  # 将文件夹路径替换为你的实际路径\n",
    "\n",
    "# 获取文件夹中所有文件名\n",
    "file_names = os.listdir(folder_path)\n",
    "\n",
    "# 生成不重复的随机数字列表\n",
    "rand_nums = random.sample(range(1, 201), len(file_names))\n",
    "\n",
    "# 遍历文件名列表和随机数字列表\n",
    "for i, file_name in enumerate(file_names):\n",
    "    # 生成随机数字\n",
    "    random_num = str(rand_nums[i]).zfill(3)  # 获取随机数字列表中第i个数字，并在左侧补零至3位数\n",
    "    # 生成新文件名\n",
    "    new_file_name = f\"{random_num}-{file_name}\"\n",
    "    # 构造文件路径\n",
    "    old_path = os.path.join(folder_path, file_name)\n",
    "    new_path = os.path.join(folder_path, new_file_name)\n",
    "    # 重命名文件\n",
    "    os.rename(old_path, new_path)\n"
   ],
   "metadata": {
    "collapsed": false,
    "pycharm": {
     "name": "#%%\n"
    }
   }
  },
  {
   "cell_type": "code",
   "execution_count": 4,
   "outputs": [],
   "source": [
    "# import os\n",
    "#\n",
    "# folder_path =  r'C:\\Users\\Black\\Desktop\\挑选音频' # 将文件夹路径替换为你的实际路径\n",
    "#\n",
    "# # 获取文件夹中所有文件名\n",
    "# file_names = os.listdir(folder_path)\n",
    "#\n",
    "# # 遍历文件名列表\n",
    "# for file_name in file_names:\n",
    "#     # 获取除数字前缀外的文件名部分\n",
    "#     new_file_name = file_name.split('-', 1)[1]  # 使用字符串的split()函数将文件名分割为数字前缀和文件名部分，然后取文件名部分\n",
    "#     # 构造文件路径\n",
    "#     old_path = os.path.join(folder_path, file_name)\n",
    "#     new_path = os.path.join(folder_path, new_file_name)\n",
    "#     # 重命名文件\n",
    "#     os.rename(old_path, new_path)\n"
   ],
   "metadata": {
    "collapsed": false,
    "pycharm": {
     "name": "#%%\n"
    }
   }
  }
 ],
 "metadata": {
  "kernelspec": {
   "display_name": "Python 3",
   "language": "python",
   "name": "python3"
  },
  "language_info": {
   "codemirror_mode": {
    "name": "ipython",
    "version": 2
   },
   "file_extension": ".py",
   "mimetype": "text/x-python",
   "name": "python",
   "nbconvert_exporter": "python",
   "pygments_lexer": "ipython2",
   "version": "2.7.6"
  }
 },
 "nbformat": 4,
 "nbformat_minor": 0
}