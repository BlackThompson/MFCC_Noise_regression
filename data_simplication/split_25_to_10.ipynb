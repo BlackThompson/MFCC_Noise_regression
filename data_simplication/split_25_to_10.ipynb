{
 "cells": [
  {
   "cell_type": "code",
   "execution_count": 1,
   "metadata": {
    "collapsed": true
   },
   "outputs": [],
   "source": [
    "import os\n",
    "import wave\n",
    "\n",
    "import pandas as pd\n",
    "\n",
    "input_folder_path = r'C:\\Users\\Black\\Desktop\\挑选音频'  # 将输入文件夹路径替换为你的实际路径\n",
    "output_folder_path = r'C:\\Users\\Black\\Desktop\\挑选音频_10s'  # 将输出文件夹路径替换为你的实际路径\n",
    "\n",
    "# 获取文件夹中所有wav文件名\n",
    "file_names = [f for f in os.listdir(input_folder_path) if f.endswith('.wav')]\n",
    "\n",
    "# 遍历文件名列表\n",
    "for file_name in file_names:\n",
    "    # 打开原wav文件并读取音频数据\n",
    "    with wave.open(os.path.join(input_folder_path, file_name), 'rb') as wav_file:\n",
    "        num_channels = wav_file.getnchannels()\n",
    "        sample_width = wav_file.getsampwidth()\n",
    "        frame_rate = wav_file.getframerate()\n",
    "        num_frames = wav_file.getnframes()\n",
    "\n",
    "        # 计算前10秒对应的帧数\n",
    "        ten_seconds_frames = min(num_frames, frame_rate * 10)\n",
    "\n",
    "        # 读取前10秒的音频数据\n",
    "        data = wav_file.readframes(ten_seconds_frames)\n",
    "\n",
    "    # 创建新的wav文件并写入前10秒的音频数据\n",
    "    with wave.open(os.path.join(output_folder_path, file_name), 'wb') as new_wav_file:\n",
    "        new_wav_file.setnchannels(num_channels)\n",
    "        new_wav_file.setsampwidth(sample_width)\n",
    "        new_wav_file.setframerate(frame_rate)\n",
    "        new_wav_file.writeframes(data)\n"
   ]
  },
  {
   "cell_type": "code",
   "execution_count": 4,
   "outputs": [],
   "source": [
    "import pandas as pd\n",
    "\n",
    "frame_names = os.listdir(output_folder_path)\n",
    "df = pd.DataFrame(columns=['file_names'])\n",
    "df['file_names'] = file_names"
   ],
   "metadata": {
    "collapsed": false,
    "pycharm": {
     "name": "#%%\n"
    }
   }
  },
  {
   "cell_type": "code",
   "execution_count": 5,
   "outputs": [
    {
     "data": {
      "text/plain": "                       file_names\n0                001-143-L-11.wav\n1                002-127-L-11.wav\n2                003-154-L-11.wav\n3                 004-131-L-3.wav\n4    005-2023-04-09_05h17m42s.wav\n..                            ...\n195      196-construction2_08.wav\n196               197-103-L-1.wav\n197                 198-2-L-2.wav\n198                 199-3-L-2.wav\n199               200-137-L-9.wav\n\n[200 rows x 1 columns]",
      "text/html": "<div>\n<style scoped>\n    .dataframe tbody tr th:only-of-type {\n        vertical-align: middle;\n    }\n\n    .dataframe tbody tr th {\n        vertical-align: top;\n    }\n\n    .dataframe thead th {\n        text-align: right;\n    }\n</style>\n<table border=\"1\" class=\"dataframe\">\n  <thead>\n    <tr style=\"text-align: right;\">\n      <th></th>\n      <th>file_names</th>\n    </tr>\n  </thead>\n  <tbody>\n    <tr>\n      <th>0</th>\n      <td>001-143-L-11.wav</td>\n    </tr>\n    <tr>\n      <th>1</th>\n      <td>002-127-L-11.wav</td>\n    </tr>\n    <tr>\n      <th>2</th>\n      <td>003-154-L-11.wav</td>\n    </tr>\n    <tr>\n      <th>3</th>\n      <td>004-131-L-3.wav</td>\n    </tr>\n    <tr>\n      <th>4</th>\n      <td>005-2023-04-09_05h17m42s.wav</td>\n    </tr>\n    <tr>\n      <th>...</th>\n      <td>...</td>\n    </tr>\n    <tr>\n      <th>195</th>\n      <td>196-construction2_08.wav</td>\n    </tr>\n    <tr>\n      <th>196</th>\n      <td>197-103-L-1.wav</td>\n    </tr>\n    <tr>\n      <th>197</th>\n      <td>198-2-L-2.wav</td>\n    </tr>\n    <tr>\n      <th>198</th>\n      <td>199-3-L-2.wav</td>\n    </tr>\n    <tr>\n      <th>199</th>\n      <td>200-137-L-9.wav</td>\n    </tr>\n  </tbody>\n</table>\n<p>200 rows × 1 columns</p>\n</div>"
     },
     "execution_count": 5,
     "metadata": {},
     "output_type": "execute_result"
    }
   ],
   "source": [
    "df"
   ],
   "metadata": {
    "collapsed": false,
    "pycharm": {
     "name": "#%%\n"
    }
   }
  },
  {
   "cell_type": "code",
   "execution_count": 7,
   "outputs": [],
   "source": [
    "df.to_excel(r'./output/200_file_names.xlsx', index=False, encoding='utf_8_sig')"
   ],
   "metadata": {
    "collapsed": false,
    "pycharm": {
     "name": "#%%\n"
    }
   }
  },
  {
   "cell_type": "code",
   "execution_count": null,
   "outputs": [],
   "source": [],
   "metadata": {
    "collapsed": false,
    "pycharm": {
     "name": "#%%\n"
    }
   }
  }
 ],
 "metadata": {
  "kernelspec": {
   "display_name": "Python 3",
   "language": "python",
   "name": "python3"
  },
  "language_info": {
   "codemirror_mode": {
    "name": "ipython",
    "version": 2
   },
   "file_extension": ".py",
   "mimetype": "text/x-python",
   "name": "python",
   "nbconvert_exporter": "python",
   "pygments_lexer": "ipython2",
   "version": "2.7.6"
  }
 },
 "nbformat": 4,
 "nbformat_minor": 0
}