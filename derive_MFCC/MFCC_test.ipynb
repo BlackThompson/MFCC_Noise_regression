{
 "cells": [
  {
   "cell_type": "code",
   "execution_count": 4,
   "metadata": {
    "collapsed": true,
    "pycharm": {
     "name": "#%%\n"
    }
   },
   "outputs": [],
   "source": [
    "# import torch\n",
    "# import torchaudio\n",
    "# import pandas as pd\n",
    "#\n",
    "# filename = r'./input/test.wav'\n",
    "# waveform, sample_rate = torchaudio.load(filename)\n",
    "#\n",
    "# # 设置MFCC系数数目为13\n",
    "# # 设置Mel滤波器组的数量为80\n",
    "# mfcc_transform = torchaudio.transforms.MFCC(\n",
    "#     sample_rate=sample_rate,\n",
    "#     n_mfcc=13,\n",
    "#     melkwargs={'n_mels': 80}\n",
    "# )\n",
    "# mfcc = mfcc_transform(waveform.squeeze(0)).transpose(0, 1).numpy()\n",
    "#\n",
    "# df = pd.DataFrame(mfcc)\n",
    "# df.to_csv('mfcc_features.csv', index=False, header=False)"
   ]
  },
  {
   "cell_type": "code",
   "execution_count": 12,
   "outputs": [
    {
     "data": {
      "text/plain": "array([[-2.70779781e+01,  7.23210239e+00,  9.98232365e+00, ...,\n        -2.70671478e+02, -2.66602356e+02, -2.61091492e+02],\n       [ 5.21209030e+01,  5.14190292e+01,  5.26524200e+01, ...,\n         1.38360855e+02,  1.36491425e+02,  1.27362625e+02],\n       [ 1.13741703e+01,  1.20439262e+01,  1.35303822e+01, ...,\n        -4.18696022e+00, -5.88453388e+00,  8.86192703e+00],\n       ...,\n       [-7.96374702e+00, -2.39302158e+00,  6.29879594e-01, ...,\n        -9.35241508e+00, -9.28396416e+00, -1.23338640e-01],\n       [-3.39663506e+00, -2.20928144e+00,  1.22062898e+00, ...,\n        -3.24965429e+00, -3.16747665e+00,  3.67027378e+00],\n       [ 1.07317867e+01,  1.67506523e+01,  1.84671555e+01, ...,\n        -8.10214281e-01, -2.68426514e+00,  1.76663089e+00]], dtype=float32)"
     },
     "execution_count": 12,
     "metadata": {},
     "output_type": "execute_result"
    }
   ],
   "source": [
    "import librosa\n",
    "\n",
    "# 读取音频文件\n",
    "y, sr = librosa.load(r'./input/test.wav')\n",
    "\n",
    "# 提取MFCC特征\n",
    "# mfcc = librosa.feature.mfcc(y=y, sr=sr, norm='ortho')\n",
    "mfcc = librosa.feature.mfcc(y=y, sr=sr)\n",
    "\n",
    "# 显示MFCC特征图\n",
    "mfcc\n"
   ],
   "metadata": {
    "collapsed": false,
    "pycharm": {
     "name": "#%%\n"
    }
   }
  },
  {
   "cell_type": "code",
   "execution_count": 8,
   "outputs": [
    {
     "data": {
      "text/plain": "array([-0.03130964,  0.03949704,  0.1042758 , ...,  0.04473412,\n        0.04129746,  0.04804738], dtype=float32)"
     },
     "execution_count": 8,
     "metadata": {},
     "output_type": "execute_result"
    }
   ],
   "source": [
    "y"
   ],
   "metadata": {
    "collapsed": false,
    "pycharm": {
     "name": "#%%\n"
    }
   }
  },
  {
   "cell_type": "code",
   "execution_count": 9,
   "outputs": [
    {
     "data": {
      "text/plain": "22050"
     },
     "execution_count": 9,
     "metadata": {},
     "output_type": "execute_result"
    }
   ],
   "source": [
    "sr"
   ],
   "metadata": {
    "collapsed": false,
    "pycharm": {
     "name": "#%%\n"
    }
   }
  },
  {
   "cell_type": "code",
   "execution_count": null,
   "outputs": [],
   "source": [],
   "metadata": {
    "collapsed": false,
    "pycharm": {
     "name": "#%%\n"
    }
   }
  }
 ],
 "metadata": {
  "kernelspec": {
   "display_name": "Python 3",
   "language": "python",
   "name": "python3"
  },
  "language_info": {
   "codemirror_mode": {
    "name": "ipython",
    "version": 2
   },
   "file_extension": ".py",
   "mimetype": "text/x-python",
   "name": "python",
   "nbconvert_exporter": "python",
   "pygments_lexer": "ipython2",
   "version": "2.7.6"
  }
 },
 "nbformat": 4,
 "nbformat_minor": 0
}