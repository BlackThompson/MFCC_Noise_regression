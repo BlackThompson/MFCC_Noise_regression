{
 "cells": [
  {
   "cell_type": "code",
   "execution_count": 13,
   "metadata": {
    "collapsed": true,
    "pycharm": {
     "name": "#%%\n"
    }
   },
   "outputs": [],
   "source": [
    "# import torch\n",
    "# import torchaudio\n",
    "# import pandas as pd\n",
    "#\n",
    "# filename = r'./input/test.wav'\n",
    "# waveform, sample_rate = torchaudio.load(filename)\n",
    "#\n",
    "# # 设置MFCC系数数目为13\n",
    "# # 设置Mel滤波器组的数量为80\n",
    "# mfcc_transform = torchaudio.transforms.MFCC(\n",
    "#     sample_rate=sample_rate,\n",
    "#     n_mfcc=13,\n",
    "#     melkwargs={'n_mels': 80}\n",
    "# )\n",
    "# mfcc = mfcc_transform(waveform.squeeze(0)).transpose(0, 1).numpy()\n",
    "#\n",
    "# df = pd.DataFrame(mfcc)\n",
    "# df.to_csv('mfcc_features.csv', index=False, header=False)"
   ]
  },
  {
   "cell_type": "code",
   "execution_count": 22,
   "outputs": [
    {
     "data": {
      "text/plain": "array([[ 19.296568  , 125.59667   , -20.76247   , ...,   9.169367  ,\n         -1.084015  ,   1.327017  ],\n       [ 42.418793  , 133.85869   , -25.094051  , ...,   5.9517403 ,\n          1.1508768 ,   3.2702026 ],\n       [ 43.95664   , 135.61896   , -29.404274  , ...,   6.8018403 ,\n          0.70371956,   0.621344  ],\n       ...,\n       [ 19.796427  , 114.785484  , -24.139198  , ...,   4.7365875 ,\n          4.7383947 ,  12.680695  ],\n       [ 22.397339  , 112.367004  , -21.518017  , ...,   1.5998683 ,\n          8.982136  ,  10.699698  ],\n       [  8.419903  , 108.68257   , -19.737888  , ...,   0.6270691 ,\n          2.7343884 ,   5.879462  ]], dtype=float32)"
     },
     "execution_count": 22,
     "metadata": {},
     "output_type": "execute_result"
    }
   ],
   "source": [
    "import librosa\n",
    "import numpy as np\n",
    "\n",
    "\n",
    "def read_and_normalize_wav(filename):\n",
    "    # 读取 WAV 文件并获取采样率和声音片段\n",
    "    data, rate = librosa.load(filename, sr=None)\n",
    "    # 计算声音片段的平均值和标准差\n",
    "    mean = np.mean(data)\n",
    "    std = np.std(data)\n",
    "    # 对声音片段进行 Z-score 标准化\n",
    "    normalized_data = (data - mean) / std\n",
    "    # 返回标准化后的声音片段和采样率\n",
    "    return normalized_data, rate\n",
    "\n",
    "\n",
    "# 读取音频文件\n",
    "y2, sr2 = read_and_normalize_wav('./input/test2.wav')\n",
    "y3, sr3 = read_and_normalize_wav('./input/test3.wav')\n",
    "\n",
    "# 提取MFCC特征\n",
    "# mfcc = librosa.feature.mfcc(y=y, sr=sr, norm='ortho')\n",
    "mfcc2 = librosa.feature.mfcc(y=y2, sr=sr2)\n",
    "mfcc3 = librosa.feature.mfcc(y=y3, sr=sr3)\n",
    "\n",
    "# 显示MFCC特征图\n",
    "mfcc2.T"
   ],
   "metadata": {
    "collapsed": false,
    "pycharm": {
     "name": "#%%\n"
    }
   }
  },
  {
   "cell_type": "code",
   "execution_count": 23,
   "outputs": [
    {
     "data": {
      "text/plain": "array([[ 48.974277  , 125.575195  , -20.73095   , ...,   9.157983  ,\n         -1.0744449 ,   1.3181666 ],\n       [ 72.10458   , 133.80014   , -25.039295  , ...,   5.949977  ,\n          1.1548924 ,   3.2758427 ],\n       [ 73.60344   , 135.61606   , -29.399836  , ...,   6.8078094 ,\n          0.7027496 ,   0.62269783],\n       ...,\n       [ 48.361652  , 105.48484   , -37.68351   , ...,   1.8144281 ,\n          7.8945713 ,  -1.0056479 ],\n       [ 47.205494  ,  99.71706   , -42.526936  , ...,  -1.1794693 ,\n          5.261243  ,  -0.7938851 ],\n       [ 11.379166  ,  99.01367   , -37.49072   , ...,  -7.275978  ,\n          3.6461499 ,   1.4645207 ]], dtype=float32)"
     },
     "execution_count": 23,
     "metadata": {},
     "output_type": "execute_result"
    }
   ],
   "source": [
    "mfcc3.T"
   ],
   "metadata": {
    "collapsed": false,
    "pycharm": {
     "name": "#%%\n"
    }
   }
  },
  {
   "cell_type": "code",
   "execution_count": 24,
   "outputs": [
    {
     "data": {
      "text/plain": "array([0.7767827 , 0.73998636, 0.70264083, ..., 0.47966617, 0.40497518,\n       0.21934603], dtype=float32)"
     },
     "execution_count": 24,
     "metadata": {},
     "output_type": "execute_result"
    }
   ],
   "source": [
    "y2"
   ],
   "metadata": {
    "collapsed": false,
    "pycharm": {
     "name": "#%%\n"
    }
   }
  },
  {
   "cell_type": "code",
   "execution_count": 25,
   "outputs": [
    {
     "data": {
      "text/plain": "array([1.051836  , 1.0016214 , 0.95140666, ..., 0.09775764, 0.19818693,\n       0.29861623], dtype=float32)"
     },
     "execution_count": 25,
     "metadata": {},
     "output_type": "execute_result"
    }
   ],
   "source": [
    "y3"
   ],
   "metadata": {
    "collapsed": false,
    "pycharm": {
     "name": "#%%\n"
    }
   }
  },
  {
   "cell_type": "code",
   "execution_count": 26,
   "outputs": [
    {
     "data": {
      "text/plain": "48000"
     },
     "execution_count": 26,
     "metadata": {},
     "output_type": "execute_result"
    }
   ],
   "source": [
    "sr3"
   ],
   "metadata": {
    "collapsed": false,
    "pycharm": {
     "name": "#%%\n"
    }
   }
  },
  {
   "cell_type": "code",
   "execution_count": 29,
   "outputs": [
    {
     "data": {
      "text/plain": "array([[-3.3392200e-01,  8.3295625e-01,  4.4105020e-01, ...,\n         1.4329898e+00, -6.8173051e-01,  9.1777497e-04],\n       [ 8.4510416e-01,  1.5832731e+00, -4.8130795e-02, ...,\n         7.0850056e-01, -1.5858443e-01,  4.6742338e-01],\n       [ 9.2150569e-01,  1.7489293e+00, -5.4323810e-01, ...,\n         9.0223163e-01, -2.6468626e-01, -1.6480939e-01],\n       ...,\n       [-3.6514947e-01, -9.9977696e-01, -1.4837884e+00, ...,\n        -2.2546302e-01,  1.4229783e+00, -5.5283701e-01],\n       [-4.2408258e-01, -1.5259403e+00, -2.0337238e+00, ...,\n        -9.0159845e-01,  8.0502981e-01, -5.0237489e-01],\n       [-2.2502658e+00, -1.5901062e+00, -1.4618984e+00, ...,\n        -2.2784209e+00,  4.2602497e-01,  3.5793312e-02]], dtype=float32)"
     },
     "execution_count": 29,
     "metadata": {},
     "output_type": "execute_result"
    }
   ],
   "source": [
    "# 计算声音片段的平均值和标准差\n",
    "mean = np.mean(mfcc3.T, axis=0)\n",
    "std = np.std(mfcc3.T, axis=0)\n",
    "# 对声音片段进行 Z-score 标准化\n",
    "normalized_data = (mfcc3.T - mean) / std\n",
    "normalized_data"
   ],
   "metadata": {
    "collapsed": false,
    "pycharm": {
     "name": "#%%\n"
    }
   }
  },
  {
   "cell_type": "code",
   "execution_count": 30,
   "outputs": [
    {
     "data": {
      "text/plain": "array([[-0.41405353,  0.406307  ,  0.8021049 , ...,  1.2848834 ,\n        -0.12110324,  0.14132164],\n       [ 1.3214301 ,  1.4289056 ,  0.12788025, ...,  0.52586156,\n         0.38124862,  0.597014  ],\n       [ 1.436856  ,  1.646776  , -0.5430199 , ...,  0.7263959 ,\n         0.28073806, -0.02416423],\n       ...,\n       [-0.37653565, -0.93180525,  0.27650622, ...,  0.2392132 ,\n         1.1876396 ,  2.8038487 ],\n       [-0.18131915, -1.2311431 ,  0.68450165, ..., -0.500723  ,\n         2.141534  ,  2.3392894 ],\n       [-1.2304229 , -1.6871693 ,  0.9615844 , ..., -0.7302014 ,\n         0.7371853 ,  1.2089059 ]], dtype=float32)"
     },
     "execution_count": 30,
     "metadata": {},
     "output_type": "execute_result"
    }
   ],
   "source": [
    "# 计算声音片段的平均值和标准差\n",
    "mean1 = np.mean(mfcc2.T, axis=0)\n",
    "std1 = np.std(mfcc2.T, axis=0)\n",
    "# 对声音片段进行 Z-score 标准化\n",
    "normalized_data1 = (mfcc2.T - mean1) / std1\n",
    "normalized_data1"
   ],
   "metadata": {
    "collapsed": false,
    "pycharm": {
     "name": "#%%\n"
    }
   }
  },
  {
   "cell_type": "code",
   "execution_count": null,
   "outputs": [],
   "source": [],
   "metadata": {
    "collapsed": false,
    "pycharm": {
     "name": "#%%\n"
    }
   }
  }
 ],
 "metadata": {
  "kernelspec": {
   "display_name": "Python 3",
   "language": "python",
   "name": "python3"
  },
  "language_info": {
   "codemirror_mode": {
    "name": "ipython",
    "version": 2
   },
   "file_extension": ".py",
   "mimetype": "text/x-python",
   "name": "python",
   "nbconvert_exporter": "python",
   "pygments_lexer": "ipython2",
   "version": "2.7.6"
  }
 },
 "nbformat": 4,
 "nbformat_minor": 0
}