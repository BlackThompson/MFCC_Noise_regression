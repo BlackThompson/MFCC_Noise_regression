{
 "cells": [
  {
   "cell_type": "code",
   "execution_count": 50,
   "metadata": {
    "collapsed": true
   },
   "outputs": [],
   "source": [
    "import librosa\n",
    "import pandas as pd\n",
    "import numpy as np\n",
    "import os\n",
    "from natsort import natsorted\n",
    "from config import *\n",
    "from scipy.stats import kurtosis, skew\n",
    "\n",
    "# 记得改！！！\n",
    "# audio_path = '.\\\\input\\\\test_audio'\n",
    "# audio_path = 'F:\\\\702'\n",
    "audio_path = '.\\\\input\\\\audio\\\\碧兴'\n",
    "# audio_path = '.\\\\input\\\\audio\\\\83'\n",
    "# audio_path = 'E:\\\\Python\\\\Code\\\\Mel_recognition\\\\select_exp_audios\\\\output\\\\split_audio'"
   ]
  },
  {
   "cell_type": "code",
   "execution_count": 51,
   "outputs": [],
   "source": [
    "file_names = [f for f in os.listdir(audio_path) if os.path.isfile(os.path.join(audio_path, f))]"
   ],
   "metadata": {
    "collapsed": false,
    "pycharm": {
     "name": "#%%\n"
    }
   }
  },
  {
   "cell_type": "code",
   "execution_count": 52,
   "outputs": [
    {
     "data": {
      "text/plain": "['2023-04-08_17h33m32s.wav',\n '2023-04-08_17h33m42s.wav',\n '2023-04-08_17h33m52s.wav',\n '2023-04-08_17h34m02s.wav',\n '2023-04-08_17h34m12s.wav',\n '2023-04-08_17h34m22s.wav',\n '2023-04-08_17h34m32s.wav',\n '2023-04-08_17h34m42s.wav',\n '2023-04-08_17h34m52s.wav',\n '2023-04-08_17h35m03s.wav',\n '2023-04-08_17h35m12s.wav',\n '2023-04-08_17h35m22s.wav',\n '2023-04-08_17h35m32s.wav',\n '2023-04-08_17h35m42s.wav',\n '2023-04-08_17h35m52s.wav',\n '2023-04-08_17h36m02s.wav',\n '2023-04-08_17h36m12s.wav',\n '2023-04-08_17h36m22s.wav',\n '2023-04-08_17h36m32s.wav',\n '2023-04-08_17h36m42s.wav']"
     },
     "execution_count": 52,
     "metadata": {},
     "output_type": "execute_result"
    }
   ],
   "source": [
    "# natsort 自然排序超级好用\n",
    "file_names = natsorted(file_names)\n",
    "file_names"
   ],
   "metadata": {
    "collapsed": false,
    "pycharm": {
     "name": "#%%\n"
    }
   }
  },
  {
   "cell_type": "code",
   "execution_count": 53,
   "outputs": [],
   "source": [
    "def amplitude(y):\n",
    "    \"\"\"\n",
    "    Applies automatic gain control to the audio to make it sound more comfortable to listen to.\n",
    "\n",
    "    Parameters:\n",
    "    ----------\n",
    "    y : numpy.ndarray [shape=(n_samples,)]\n",
    "        The input audio signal as a time series.\n",
    "    sr : number > 0 [scalar]\n",
    "        The sampling rate of `y`, i.e. the number of samples per second.\n",
    "\n",
    "    Returns:\n",
    "    -------\n",
    "    y_agc : numpy.ndarray [shape=(n_samples,)]\n",
    "        The output audio signal after applying AGC.\n",
    "    \"\"\"\n",
    "    target_db = -40  # 目标分贝值\n",
    "    db = librosa.amplitude_to_db(y)\n",
    "    gain = librosa.db_to_amplitude(target_db - db.mean())  # 计算增益系数\n",
    "    y_agc = y * gain\n",
    "    return y_agc"
   ],
   "metadata": {
    "collapsed": false,
    "pycharm": {
     "name": "#%%\n"
    }
   }
  },
  {
   "cell_type": "code",
   "execution_count": 54,
   "outputs": [
    {
     "data": {
      "text/plain": "Empty DataFrame\nColumns: [category, file_name, score, 1_mean, 2_mean, 3_mean, 4_mean, 5_mean, 6_mean, 7_mean, 8_mean, 9_mean, 10_mean, 11_mean, 12_mean, 13_mean, 14_mean, 15_mean, 16_mean, 17_mean, 18_mean, 19_mean, 20_mean, 1_25_per, 2_25_per, 3_25_per, 4_25_per, 5_25_per, 6_25_per, 7_25_per, 8_25_per, 9_25_per, 10_25_per, 11_25_per, 12_25_per, 13_25_per, 14_25_per, 15_25_per, 16_25_per, 17_25_per, 18_25_per, 19_25_per, 20_25_per, 1_75_per, 2_75_per, 3_75_per, 4_75_per, 5_75_per, 6_75_per, 7_75_per, 8_75_per, 9_75_per, 10_75_per, 11_75_per, 12_75_per, 13_75_per, 14_75_per, 15_75_per, 16_75_per, 17_75_per, 18_75_per, 19_75_per, 20_75_per, 1_kurtosis, 2_kurtosis, 3_kurtosis, 4_kurtosis, 5_kurtosis, 6_kurtosis, 7_kurtosis, 8_kurtosis, 9_kurtosis, 10_kurtosis, 11_kurtosis, 12_kurtosis, 13_kurtosis, 14_kurtosis, 15_kurtosis, 16_kurtosis, 17_kurtosis, 18_kurtosis, 19_kurtosis, 20_kurtosis, 1_skew, 2_skew, 3_skew, 4_skew, 5_skew, 6_skew, 7_skew, 8_skew, 9_skew, 10_skew, 11_skew, 12_skew, 13_skew, 14_skew, 15_skew, 16_skew, 17_skew, ...]\nIndex: []\n\n[0 rows x 103 columns]",
      "text/html": "<div>\n<style scoped>\n    .dataframe tbody tr th:only-of-type {\n        vertical-align: middle;\n    }\n\n    .dataframe tbody tr th {\n        vertical-align: top;\n    }\n\n    .dataframe thead th {\n        text-align: right;\n    }\n</style>\n<table border=\"1\" class=\"dataframe\">\n  <thead>\n    <tr style=\"text-align: right;\">\n      <th></th>\n      <th>category</th>\n      <th>file_name</th>\n      <th>score</th>\n      <th>1_mean</th>\n      <th>2_mean</th>\n      <th>3_mean</th>\n      <th>4_mean</th>\n      <th>5_mean</th>\n      <th>6_mean</th>\n      <th>7_mean</th>\n      <th>...</th>\n      <th>11_skew</th>\n      <th>12_skew</th>\n      <th>13_skew</th>\n      <th>14_skew</th>\n      <th>15_skew</th>\n      <th>16_skew</th>\n      <th>17_skew</th>\n      <th>18_skew</th>\n      <th>19_skew</th>\n      <th>20_skew</th>\n    </tr>\n  </thead>\n  <tbody>\n  </tbody>\n</table>\n<p>0 rows × 103 columns</p>\n</div>"
     },
     "execution_count": 54,
     "metadata": {},
     "output_type": "execute_result"
    }
   ],
   "source": [
    "test_features = pd.DataFrame(columns=columns_new_1)\n",
    "test_features"
   ],
   "metadata": {
    "collapsed": false,
    "pycharm": {
     "name": "#%%\n"
    }
   }
  },
  {
   "cell_type": "code",
   "execution_count": 55,
   "outputs": [
    {
     "data": {
      "text/plain": "   category                 file_name score 1_mean 2_mean 3_mean 4_mean  \\\n0        BX  2023-04-08_17h33m32s.wav   NaN    NaN    NaN    NaN    NaN   \n1        BX  2023-04-08_17h33m42s.wav   NaN    NaN    NaN    NaN    NaN   \n2        BX  2023-04-08_17h33m52s.wav   NaN    NaN    NaN    NaN    NaN   \n3        BX  2023-04-08_17h34m02s.wav   NaN    NaN    NaN    NaN    NaN   \n4        BX  2023-04-08_17h34m12s.wav   NaN    NaN    NaN    NaN    NaN   \n5        BX  2023-04-08_17h34m22s.wav   NaN    NaN    NaN    NaN    NaN   \n6        BX  2023-04-08_17h34m32s.wav   NaN    NaN    NaN    NaN    NaN   \n7        BX  2023-04-08_17h34m42s.wav   NaN    NaN    NaN    NaN    NaN   \n8        BX  2023-04-08_17h34m52s.wav   NaN    NaN    NaN    NaN    NaN   \n9        BX  2023-04-08_17h35m03s.wav   NaN    NaN    NaN    NaN    NaN   \n10       BX  2023-04-08_17h35m12s.wav   NaN    NaN    NaN    NaN    NaN   \n11       BX  2023-04-08_17h35m22s.wav   NaN    NaN    NaN    NaN    NaN   \n12       BX  2023-04-08_17h35m32s.wav   NaN    NaN    NaN    NaN    NaN   \n13       BX  2023-04-08_17h35m42s.wav   NaN    NaN    NaN    NaN    NaN   \n14       BX  2023-04-08_17h35m52s.wav   NaN    NaN    NaN    NaN    NaN   \n15       BX  2023-04-08_17h36m02s.wav   NaN    NaN    NaN    NaN    NaN   \n16       BX  2023-04-08_17h36m12s.wav   NaN    NaN    NaN    NaN    NaN   \n17       BX  2023-04-08_17h36m22s.wav   NaN    NaN    NaN    NaN    NaN   \n18       BX  2023-04-08_17h36m32s.wav   NaN    NaN    NaN    NaN    NaN   \n19       BX  2023-04-08_17h36m42s.wav   NaN    NaN    NaN    NaN    NaN   \n\n   5_mean 6_mean 7_mean  ... 11_skew 12_skew 13_skew 14_skew 15_skew 16_skew  \\\n0     NaN    NaN    NaN  ...     NaN     NaN     NaN     NaN     NaN     NaN   \n1     NaN    NaN    NaN  ...     NaN     NaN     NaN     NaN     NaN     NaN   \n2     NaN    NaN    NaN  ...     NaN     NaN     NaN     NaN     NaN     NaN   \n3     NaN    NaN    NaN  ...     NaN     NaN     NaN     NaN     NaN     NaN   \n4     NaN    NaN    NaN  ...     NaN     NaN     NaN     NaN     NaN     NaN   \n5     NaN    NaN    NaN  ...     NaN     NaN     NaN     NaN     NaN     NaN   \n6     NaN    NaN    NaN  ...     NaN     NaN     NaN     NaN     NaN     NaN   \n7     NaN    NaN    NaN  ...     NaN     NaN     NaN     NaN     NaN     NaN   \n8     NaN    NaN    NaN  ...     NaN     NaN     NaN     NaN     NaN     NaN   \n9     NaN    NaN    NaN  ...     NaN     NaN     NaN     NaN     NaN     NaN   \n10    NaN    NaN    NaN  ...     NaN     NaN     NaN     NaN     NaN     NaN   \n11    NaN    NaN    NaN  ...     NaN     NaN     NaN     NaN     NaN     NaN   \n12    NaN    NaN    NaN  ...     NaN     NaN     NaN     NaN     NaN     NaN   \n13    NaN    NaN    NaN  ...     NaN     NaN     NaN     NaN     NaN     NaN   \n14    NaN    NaN    NaN  ...     NaN     NaN     NaN     NaN     NaN     NaN   \n15    NaN    NaN    NaN  ...     NaN     NaN     NaN     NaN     NaN     NaN   \n16    NaN    NaN    NaN  ...     NaN     NaN     NaN     NaN     NaN     NaN   \n17    NaN    NaN    NaN  ...     NaN     NaN     NaN     NaN     NaN     NaN   \n18    NaN    NaN    NaN  ...     NaN     NaN     NaN     NaN     NaN     NaN   \n19    NaN    NaN    NaN  ...     NaN     NaN     NaN     NaN     NaN     NaN   \n\n   17_skew 18_skew 19_skew 20_skew  \n0      NaN     NaN     NaN     NaN  \n1      NaN     NaN     NaN     NaN  \n2      NaN     NaN     NaN     NaN  \n3      NaN     NaN     NaN     NaN  \n4      NaN     NaN     NaN     NaN  \n5      NaN     NaN     NaN     NaN  \n6      NaN     NaN     NaN     NaN  \n7      NaN     NaN     NaN     NaN  \n8      NaN     NaN     NaN     NaN  \n9      NaN     NaN     NaN     NaN  \n10     NaN     NaN     NaN     NaN  \n11     NaN     NaN     NaN     NaN  \n12     NaN     NaN     NaN     NaN  \n13     NaN     NaN     NaN     NaN  \n14     NaN     NaN     NaN     NaN  \n15     NaN     NaN     NaN     NaN  \n16     NaN     NaN     NaN     NaN  \n17     NaN     NaN     NaN     NaN  \n18     NaN     NaN     NaN     NaN  \n19     NaN     NaN     NaN     NaN  \n\n[20 rows x 103 columns]",
      "text/html": "<div>\n<style scoped>\n    .dataframe tbody tr th:only-of-type {\n        vertical-align: middle;\n    }\n\n    .dataframe tbody tr th {\n        vertical-align: top;\n    }\n\n    .dataframe thead th {\n        text-align: right;\n    }\n</style>\n<table border=\"1\" class=\"dataframe\">\n  <thead>\n    <tr style=\"text-align: right;\">\n      <th></th>\n      <th>category</th>\n      <th>file_name</th>\n      <th>score</th>\n      <th>1_mean</th>\n      <th>2_mean</th>\n      <th>3_mean</th>\n      <th>4_mean</th>\n      <th>5_mean</th>\n      <th>6_mean</th>\n      <th>7_mean</th>\n      <th>...</th>\n      <th>11_skew</th>\n      <th>12_skew</th>\n      <th>13_skew</th>\n      <th>14_skew</th>\n      <th>15_skew</th>\n      <th>16_skew</th>\n      <th>17_skew</th>\n      <th>18_skew</th>\n      <th>19_skew</th>\n      <th>20_skew</th>\n    </tr>\n  </thead>\n  <tbody>\n    <tr>\n      <th>0</th>\n      <td>BX</td>\n      <td>2023-04-08_17h33m32s.wav</td>\n      <td>NaN</td>\n      <td>NaN</td>\n      <td>NaN</td>\n      <td>NaN</td>\n      <td>NaN</td>\n      <td>NaN</td>\n      <td>NaN</td>\n      <td>NaN</td>\n      <td>...</td>\n      <td>NaN</td>\n      <td>NaN</td>\n      <td>NaN</td>\n      <td>NaN</td>\n      <td>NaN</td>\n      <td>NaN</td>\n      <td>NaN</td>\n      <td>NaN</td>\n      <td>NaN</td>\n      <td>NaN</td>\n    </tr>\n    <tr>\n      <th>1</th>\n      <td>BX</td>\n      <td>2023-04-08_17h33m42s.wav</td>\n      <td>NaN</td>\n      <td>NaN</td>\n      <td>NaN</td>\n      <td>NaN</td>\n      <td>NaN</td>\n      <td>NaN</td>\n      <td>NaN</td>\n      <td>NaN</td>\n      <td>...</td>\n      <td>NaN</td>\n      <td>NaN</td>\n      <td>NaN</td>\n      <td>NaN</td>\n      <td>NaN</td>\n      <td>NaN</td>\n      <td>NaN</td>\n      <td>NaN</td>\n      <td>NaN</td>\n      <td>NaN</td>\n    </tr>\n    <tr>\n      <th>2</th>\n      <td>BX</td>\n      <td>2023-04-08_17h33m52s.wav</td>\n      <td>NaN</td>\n      <td>NaN</td>\n      <td>NaN</td>\n      <td>NaN</td>\n      <td>NaN</td>\n      <td>NaN</td>\n      <td>NaN</td>\n      <td>NaN</td>\n      <td>...</td>\n      <td>NaN</td>\n      <td>NaN</td>\n      <td>NaN</td>\n      <td>NaN</td>\n      <td>NaN</td>\n      <td>NaN</td>\n      <td>NaN</td>\n      <td>NaN</td>\n      <td>NaN</td>\n      <td>NaN</td>\n    </tr>\n    <tr>\n      <th>3</th>\n      <td>BX</td>\n      <td>2023-04-08_17h34m02s.wav</td>\n      <td>NaN</td>\n      <td>NaN</td>\n      <td>NaN</td>\n      <td>NaN</td>\n      <td>NaN</td>\n      <td>NaN</td>\n      <td>NaN</td>\n      <td>NaN</td>\n      <td>...</td>\n      <td>NaN</td>\n      <td>NaN</td>\n      <td>NaN</td>\n      <td>NaN</td>\n      <td>NaN</td>\n      <td>NaN</td>\n      <td>NaN</td>\n      <td>NaN</td>\n      <td>NaN</td>\n      <td>NaN</td>\n    </tr>\n    <tr>\n      <th>4</th>\n      <td>BX</td>\n      <td>2023-04-08_17h34m12s.wav</td>\n      <td>NaN</td>\n      <td>NaN</td>\n      <td>NaN</td>\n      <td>NaN</td>\n      <td>NaN</td>\n      <td>NaN</td>\n      <td>NaN</td>\n      <td>NaN</td>\n      <td>...</td>\n      <td>NaN</td>\n      <td>NaN</td>\n      <td>NaN</td>\n      <td>NaN</td>\n      <td>NaN</td>\n      <td>NaN</td>\n      <td>NaN</td>\n      <td>NaN</td>\n      <td>NaN</td>\n      <td>NaN</td>\n    </tr>\n    <tr>\n      <th>5</th>\n      <td>BX</td>\n      <td>2023-04-08_17h34m22s.wav</td>\n      <td>NaN</td>\n      <td>NaN</td>\n      <td>NaN</td>\n      <td>NaN</td>\n      <td>NaN</td>\n      <td>NaN</td>\n      <td>NaN</td>\n      <td>NaN</td>\n      <td>...</td>\n      <td>NaN</td>\n      <td>NaN</td>\n      <td>NaN</td>\n      <td>NaN</td>\n      <td>NaN</td>\n      <td>NaN</td>\n      <td>NaN</td>\n      <td>NaN</td>\n      <td>NaN</td>\n      <td>NaN</td>\n    </tr>\n    <tr>\n      <th>6</th>\n      <td>BX</td>\n      <td>2023-04-08_17h34m32s.wav</td>\n      <td>NaN</td>\n      <td>NaN</td>\n      <td>NaN</td>\n      <td>NaN</td>\n      <td>NaN</td>\n      <td>NaN</td>\n      <td>NaN</td>\n      <td>NaN</td>\n      <td>...</td>\n      <td>NaN</td>\n      <td>NaN</td>\n      <td>NaN</td>\n      <td>NaN</td>\n      <td>NaN</td>\n      <td>NaN</td>\n      <td>NaN</td>\n      <td>NaN</td>\n      <td>NaN</td>\n      <td>NaN</td>\n    </tr>\n    <tr>\n      <th>7</th>\n      <td>BX</td>\n      <td>2023-04-08_17h34m42s.wav</td>\n      <td>NaN</td>\n      <td>NaN</td>\n      <td>NaN</td>\n      <td>NaN</td>\n      <td>NaN</td>\n      <td>NaN</td>\n      <td>NaN</td>\n      <td>NaN</td>\n      <td>...</td>\n      <td>NaN</td>\n      <td>NaN</td>\n      <td>NaN</td>\n      <td>NaN</td>\n      <td>NaN</td>\n      <td>NaN</td>\n      <td>NaN</td>\n      <td>NaN</td>\n      <td>NaN</td>\n      <td>NaN</td>\n    </tr>\n    <tr>\n      <th>8</th>\n      <td>BX</td>\n      <td>2023-04-08_17h34m52s.wav</td>\n      <td>NaN</td>\n      <td>NaN</td>\n      <td>NaN</td>\n      <td>NaN</td>\n      <td>NaN</td>\n      <td>NaN</td>\n      <td>NaN</td>\n      <td>NaN</td>\n      <td>...</td>\n      <td>NaN</td>\n      <td>NaN</td>\n      <td>NaN</td>\n      <td>NaN</td>\n      <td>NaN</td>\n      <td>NaN</td>\n      <td>NaN</td>\n      <td>NaN</td>\n      <td>NaN</td>\n      <td>NaN</td>\n    </tr>\n    <tr>\n      <th>9</th>\n      <td>BX</td>\n      <td>2023-04-08_17h35m03s.wav</td>\n      <td>NaN</td>\n      <td>NaN</td>\n      <td>NaN</td>\n      <td>NaN</td>\n      <td>NaN</td>\n      <td>NaN</td>\n      <td>NaN</td>\n      <td>NaN</td>\n      <td>...</td>\n      <td>NaN</td>\n      <td>NaN</td>\n      <td>NaN</td>\n      <td>NaN</td>\n      <td>NaN</td>\n      <td>NaN</td>\n      <td>NaN</td>\n      <td>NaN</td>\n      <td>NaN</td>\n      <td>NaN</td>\n    </tr>\n    <tr>\n      <th>10</th>\n      <td>BX</td>\n      <td>2023-04-08_17h35m12s.wav</td>\n      <td>NaN</td>\n      <td>NaN</td>\n      <td>NaN</td>\n      <td>NaN</td>\n      <td>NaN</td>\n      <td>NaN</td>\n      <td>NaN</td>\n      <td>NaN</td>\n      <td>...</td>\n      <td>NaN</td>\n      <td>NaN</td>\n      <td>NaN</td>\n      <td>NaN</td>\n      <td>NaN</td>\n      <td>NaN</td>\n      <td>NaN</td>\n      <td>NaN</td>\n      <td>NaN</td>\n      <td>NaN</td>\n    </tr>\n    <tr>\n      <th>11</th>\n      <td>BX</td>\n      <td>2023-04-08_17h35m22s.wav</td>\n      <td>NaN</td>\n      <td>NaN</td>\n      <td>NaN</td>\n      <td>NaN</td>\n      <td>NaN</td>\n      <td>NaN</td>\n      <td>NaN</td>\n      <td>NaN</td>\n      <td>...</td>\n      <td>NaN</td>\n      <td>NaN</td>\n      <td>NaN</td>\n      <td>NaN</td>\n      <td>NaN</td>\n      <td>NaN</td>\n      <td>NaN</td>\n      <td>NaN</td>\n      <td>NaN</td>\n      <td>NaN</td>\n    </tr>\n    <tr>\n      <th>12</th>\n      <td>BX</td>\n      <td>2023-04-08_17h35m32s.wav</td>\n      <td>NaN</td>\n      <td>NaN</td>\n      <td>NaN</td>\n      <td>NaN</td>\n      <td>NaN</td>\n      <td>NaN</td>\n      <td>NaN</td>\n      <td>NaN</td>\n      <td>...</td>\n      <td>NaN</td>\n      <td>NaN</td>\n      <td>NaN</td>\n      <td>NaN</td>\n      <td>NaN</td>\n      <td>NaN</td>\n      <td>NaN</td>\n      <td>NaN</td>\n      <td>NaN</td>\n      <td>NaN</td>\n    </tr>\n    <tr>\n      <th>13</th>\n      <td>BX</td>\n      <td>2023-04-08_17h35m42s.wav</td>\n      <td>NaN</td>\n      <td>NaN</td>\n      <td>NaN</td>\n      <td>NaN</td>\n      <td>NaN</td>\n      <td>NaN</td>\n      <td>NaN</td>\n      <td>NaN</td>\n      <td>...</td>\n      <td>NaN</td>\n      <td>NaN</td>\n      <td>NaN</td>\n      <td>NaN</td>\n      <td>NaN</td>\n      <td>NaN</td>\n      <td>NaN</td>\n      <td>NaN</td>\n      <td>NaN</td>\n      <td>NaN</td>\n    </tr>\n    <tr>\n      <th>14</th>\n      <td>BX</td>\n      <td>2023-04-08_17h35m52s.wav</td>\n      <td>NaN</td>\n      <td>NaN</td>\n      <td>NaN</td>\n      <td>NaN</td>\n      <td>NaN</td>\n      <td>NaN</td>\n      <td>NaN</td>\n      <td>NaN</td>\n      <td>...</td>\n      <td>NaN</td>\n      <td>NaN</td>\n      <td>NaN</td>\n      <td>NaN</td>\n      <td>NaN</td>\n      <td>NaN</td>\n      <td>NaN</td>\n      <td>NaN</td>\n      <td>NaN</td>\n      <td>NaN</td>\n    </tr>\n    <tr>\n      <th>15</th>\n      <td>BX</td>\n      <td>2023-04-08_17h36m02s.wav</td>\n      <td>NaN</td>\n      <td>NaN</td>\n      <td>NaN</td>\n      <td>NaN</td>\n      <td>NaN</td>\n      <td>NaN</td>\n      <td>NaN</td>\n      <td>NaN</td>\n      <td>...</td>\n      <td>NaN</td>\n      <td>NaN</td>\n      <td>NaN</td>\n      <td>NaN</td>\n      <td>NaN</td>\n      <td>NaN</td>\n      <td>NaN</td>\n      <td>NaN</td>\n      <td>NaN</td>\n      <td>NaN</td>\n    </tr>\n    <tr>\n      <th>16</th>\n      <td>BX</td>\n      <td>2023-04-08_17h36m12s.wav</td>\n      <td>NaN</td>\n      <td>NaN</td>\n      <td>NaN</td>\n      <td>NaN</td>\n      <td>NaN</td>\n      <td>NaN</td>\n      <td>NaN</td>\n      <td>NaN</td>\n      <td>...</td>\n      <td>NaN</td>\n      <td>NaN</td>\n      <td>NaN</td>\n      <td>NaN</td>\n      <td>NaN</td>\n      <td>NaN</td>\n      <td>NaN</td>\n      <td>NaN</td>\n      <td>NaN</td>\n      <td>NaN</td>\n    </tr>\n    <tr>\n      <th>17</th>\n      <td>BX</td>\n      <td>2023-04-08_17h36m22s.wav</td>\n      <td>NaN</td>\n      <td>NaN</td>\n      <td>NaN</td>\n      <td>NaN</td>\n      <td>NaN</td>\n      <td>NaN</td>\n      <td>NaN</td>\n      <td>NaN</td>\n      <td>...</td>\n      <td>NaN</td>\n      <td>NaN</td>\n      <td>NaN</td>\n      <td>NaN</td>\n      <td>NaN</td>\n      <td>NaN</td>\n      <td>NaN</td>\n      <td>NaN</td>\n      <td>NaN</td>\n      <td>NaN</td>\n    </tr>\n    <tr>\n      <th>18</th>\n      <td>BX</td>\n      <td>2023-04-08_17h36m32s.wav</td>\n      <td>NaN</td>\n      <td>NaN</td>\n      <td>NaN</td>\n      <td>NaN</td>\n      <td>NaN</td>\n      <td>NaN</td>\n      <td>NaN</td>\n      <td>NaN</td>\n      <td>...</td>\n      <td>NaN</td>\n      <td>NaN</td>\n      <td>NaN</td>\n      <td>NaN</td>\n      <td>NaN</td>\n      <td>NaN</td>\n      <td>NaN</td>\n      <td>NaN</td>\n      <td>NaN</td>\n      <td>NaN</td>\n    </tr>\n    <tr>\n      <th>19</th>\n      <td>BX</td>\n      <td>2023-04-08_17h36m42s.wav</td>\n      <td>NaN</td>\n      <td>NaN</td>\n      <td>NaN</td>\n      <td>NaN</td>\n      <td>NaN</td>\n      <td>NaN</td>\n      <td>NaN</td>\n      <td>NaN</td>\n      <td>...</td>\n      <td>NaN</td>\n      <td>NaN</td>\n      <td>NaN</td>\n      <td>NaN</td>\n      <td>NaN</td>\n      <td>NaN</td>\n      <td>NaN</td>\n      <td>NaN</td>\n      <td>NaN</td>\n      <td>NaN</td>\n    </tr>\n  </tbody>\n</table>\n<p>20 rows × 103 columns</p>\n</div>"
     },
     "execution_count": 55,
     "metadata": {},
     "output_type": "execute_result"
    }
   ],
   "source": [
    "test_features['file_name'] = file_names\n",
    "# 记得改！！！\n",
    "test_features['category'] = 'BX'\n",
    "test_features"
   ],
   "metadata": {
    "collapsed": false,
    "pycharm": {
     "name": "#%%\n"
    }
   }
  },
  {
   "cell_type": "code",
   "execution_count": 56,
   "outputs": [
    {
     "data": {
      "text/plain": "   category                 file_name score      1_mean      2_mean  \\\n0        BX  2023-04-08_17h33m32s.wav   NaN -309.500732  137.879257   \n1        BX  2023-04-08_17h33m42s.wav   NaN -314.867615  147.222198   \n2        BX  2023-04-08_17h33m52s.wav   NaN  -314.33075  147.354568   \n3        BX  2023-04-08_17h34m02s.wav   NaN -311.577759  154.179199   \n4        BX  2023-04-08_17h34m12s.wav   NaN -314.397003  151.204773   \n5        BX  2023-04-08_17h34m22s.wav   NaN  -322.64447  154.671555   \n6        BX  2023-04-08_17h34m32s.wav   NaN  -325.40863  152.911545   \n7        BX  2023-04-08_17h34m42s.wav   NaN -311.519867  148.437027   \n8        BX  2023-04-08_17h34m52s.wav   NaN -306.608337  139.457932   \n9        BX  2023-04-08_17h35m03s.wav   NaN -326.903717  148.457184   \n10       BX  2023-04-08_17h35m12s.wav   NaN -306.129242  145.694412   \n11       BX  2023-04-08_17h35m22s.wav   NaN -305.898895  152.860657   \n12       BX  2023-04-08_17h35m32s.wav   NaN -289.952362  147.059067   \n13       BX  2023-04-08_17h35m42s.wav   NaN -309.816437  145.103043   \n14       BX  2023-04-08_17h35m52s.wav   NaN -319.737091  148.772064   \n15       BX  2023-04-08_17h36m02s.wav   NaN -313.222412   150.46373   \n16       BX  2023-04-08_17h36m12s.wav   NaN -313.752167  146.166107   \n17       BX  2023-04-08_17h36m22s.wav   NaN -321.323914  149.056564   \n18       BX  2023-04-08_17h36m32s.wav   NaN -322.009491   152.66629   \n19       BX  2023-04-08_17h36m42s.wav   NaN -315.732086  149.824799   \n\n       3_mean     4_mean    5_mean     6_mean     7_mean  ...   11_skew  \\\n0   -5.642794  25.046951  1.010846  18.139343   2.387585  ...   0.01172   \n1  -12.073138   23.33194  3.637712  14.866352   6.162543  ...  0.040732   \n2   -8.747902  22.741806  4.231772  13.297743   6.442093  ...    0.0466   \n3  -18.938227  24.244261  4.597709  12.893183   6.384051  ...  0.178801   \n4  -10.816665  23.153042   3.41055  14.026796   4.794809  ...  0.096744   \n5  -11.039907   27.32696   5.08951  11.042714   9.683875  ... -0.077754   \n6  -12.065896    27.9883  4.887814  12.235357  10.019712  ...  0.287945   \n7  -13.083735  25.061331  3.420058  15.318568   4.233478  ...  0.167958   \n8  -12.643497  27.368225  2.701741  16.855227   4.509395  ...  0.284579   \n9  -12.522431  30.884987  1.133363  16.468536   3.130126  ...  0.082813   \n10 -13.243397  30.090889  0.792266   15.45935   -0.75602  ...  0.117438   \n11 -17.581947  27.727423   0.85325  15.885782    2.34079  ...  0.098951   \n12   -16.6297   28.95751 -3.030776   16.59273  -2.017966  ...  0.334304   \n13  -8.438431  22.835556  3.627842  15.951997   3.782368  ...  0.141312   \n14  -7.981979  23.219036  3.956201  16.813791   3.402896  ...  0.161053   \n15 -11.994365  23.236113   1.74302  16.753967   4.041969  ...  0.296673   \n16  -8.467323  21.840311  2.787483  17.012487   3.596192  ...  0.344371   \n17  -7.927466  24.359247   5.42826  15.747332   5.251531  ...  0.181623   \n18 -11.211012  26.181147  4.348974  15.851167    6.66152  ... -0.093998   \n19  -8.522896  26.200842  4.235978  14.572336   4.929585  ... -0.257089   \n\n     12_skew   13_skew   14_skew   15_skew   16_skew   17_skew   18_skew  \\\n0   0.174393  -0.02358  0.138345 -0.038137  0.105951 -0.334174  0.046824   \n1   0.059971  -0.15259  0.024064  0.023669  0.101393  0.047335 -0.111379   \n2  -0.269042 -0.070079 -0.077105 -0.178793  0.074686 -0.047008  0.046627   \n3   0.021451 -0.068732  -0.09258 -0.143601 -0.031947   0.12897 -0.076459   \n4  -0.132384  0.016923  0.075599 -0.036233  0.057726  0.079679  0.135171   \n5  -0.213721  0.947169 -0.226818 -0.078679  0.644583 -0.265383 -0.079411   \n6  -0.475906   0.50336 -0.312796  0.133413  0.125376 -0.324102  -0.41746   \n7  -0.407451 -0.099617 -0.003179 -0.089758   0.08018  0.182814  0.076266   \n8  -0.416983 -0.057727 -0.219421 -0.242917  0.014935 -0.483231  0.047823   \n9  -0.188127 -0.142722 -0.097633  0.014669  0.051616  0.136908   0.21318   \n10  -0.44187 -0.156874  0.188443 -0.222282  0.012878 -0.011133  0.048909   \n11 -0.150102  0.229063  0.152743  0.137697  0.489898  0.093705 -0.163869   \n12  0.193329  0.159221 -0.170338 -0.081744  -0.04664  0.199521 -0.091236   \n13  0.053415 -0.592506  0.126001   0.46617  0.151026 -0.336815   0.19794   \n14 -0.435983  0.384388 -0.104348  0.097915  0.173849  0.064111  0.073659   \n15  -0.27356  0.334158  0.029088  -0.05508  0.203436 -0.291838 -0.013595   \n16 -0.107756  0.192973 -0.043552 -0.093537  0.188936 -0.073288   0.04403   \n17 -0.417957  0.160264 -0.201269  0.079787  0.188297 -0.117124 -0.145705   \n18 -0.135453 -0.048974  0.039055  0.022335  0.062823  0.121235  0.023175   \n19 -0.405613 -0.068283  -0.35761   -0.2885  0.191962 -0.126737 -0.017085   \n\n     19_skew   20_skew  \n0    0.17353 -0.110714  \n1    0.15062  0.023479  \n2   0.308746 -0.070234  \n3   0.065327 -0.279641  \n4   0.144749  0.116481  \n5   0.308282   0.04933  \n6   0.212658 -0.017989  \n7   0.189591 -0.217735  \n8  -0.047746  0.113751  \n9   0.103944 -0.159766  \n10  0.197304 -0.012127  \n11 -0.064008  0.130477  \n12  0.049889  0.127125  \n13  0.307648 -0.416297  \n14  0.036672  0.201734  \n15  0.095437 -0.154365  \n16   0.12771  0.151196  \n17  0.073015  0.064355  \n18 -0.215937  0.033206  \n19 -0.091965 -0.016522  \n\n[20 rows x 103 columns]",
      "text/html": "<div>\n<style scoped>\n    .dataframe tbody tr th:only-of-type {\n        vertical-align: middle;\n    }\n\n    .dataframe tbody tr th {\n        vertical-align: top;\n    }\n\n    .dataframe thead th {\n        text-align: right;\n    }\n</style>\n<table border=\"1\" class=\"dataframe\">\n  <thead>\n    <tr style=\"text-align: right;\">\n      <th></th>\n      <th>category</th>\n      <th>file_name</th>\n      <th>score</th>\n      <th>1_mean</th>\n      <th>2_mean</th>\n      <th>3_mean</th>\n      <th>4_mean</th>\n      <th>5_mean</th>\n      <th>6_mean</th>\n      <th>7_mean</th>\n      <th>...</th>\n      <th>11_skew</th>\n      <th>12_skew</th>\n      <th>13_skew</th>\n      <th>14_skew</th>\n      <th>15_skew</th>\n      <th>16_skew</th>\n      <th>17_skew</th>\n      <th>18_skew</th>\n      <th>19_skew</th>\n      <th>20_skew</th>\n    </tr>\n  </thead>\n  <tbody>\n    <tr>\n      <th>0</th>\n      <td>BX</td>\n      <td>2023-04-08_17h33m32s.wav</td>\n      <td>NaN</td>\n      <td>-309.500732</td>\n      <td>137.879257</td>\n      <td>-5.642794</td>\n      <td>25.046951</td>\n      <td>1.010846</td>\n      <td>18.139343</td>\n      <td>2.387585</td>\n      <td>...</td>\n      <td>0.01172</td>\n      <td>0.174393</td>\n      <td>-0.02358</td>\n      <td>0.138345</td>\n      <td>-0.038137</td>\n      <td>0.105951</td>\n      <td>-0.334174</td>\n      <td>0.046824</td>\n      <td>0.17353</td>\n      <td>-0.110714</td>\n    </tr>\n    <tr>\n      <th>1</th>\n      <td>BX</td>\n      <td>2023-04-08_17h33m42s.wav</td>\n      <td>NaN</td>\n      <td>-314.867615</td>\n      <td>147.222198</td>\n      <td>-12.073138</td>\n      <td>23.33194</td>\n      <td>3.637712</td>\n      <td>14.866352</td>\n      <td>6.162543</td>\n      <td>...</td>\n      <td>0.040732</td>\n      <td>0.059971</td>\n      <td>-0.15259</td>\n      <td>0.024064</td>\n      <td>0.023669</td>\n      <td>0.101393</td>\n      <td>0.047335</td>\n      <td>-0.111379</td>\n      <td>0.15062</td>\n      <td>0.023479</td>\n    </tr>\n    <tr>\n      <th>2</th>\n      <td>BX</td>\n      <td>2023-04-08_17h33m52s.wav</td>\n      <td>NaN</td>\n      <td>-314.33075</td>\n      <td>147.354568</td>\n      <td>-8.747902</td>\n      <td>22.741806</td>\n      <td>4.231772</td>\n      <td>13.297743</td>\n      <td>6.442093</td>\n      <td>...</td>\n      <td>0.0466</td>\n      <td>-0.269042</td>\n      <td>-0.070079</td>\n      <td>-0.077105</td>\n      <td>-0.178793</td>\n      <td>0.074686</td>\n      <td>-0.047008</td>\n      <td>0.046627</td>\n      <td>0.308746</td>\n      <td>-0.070234</td>\n    </tr>\n    <tr>\n      <th>3</th>\n      <td>BX</td>\n      <td>2023-04-08_17h34m02s.wav</td>\n      <td>NaN</td>\n      <td>-311.577759</td>\n      <td>154.179199</td>\n      <td>-18.938227</td>\n      <td>24.244261</td>\n      <td>4.597709</td>\n      <td>12.893183</td>\n      <td>6.384051</td>\n      <td>...</td>\n      <td>0.178801</td>\n      <td>0.021451</td>\n      <td>-0.068732</td>\n      <td>-0.09258</td>\n      <td>-0.143601</td>\n      <td>-0.031947</td>\n      <td>0.12897</td>\n      <td>-0.076459</td>\n      <td>0.065327</td>\n      <td>-0.279641</td>\n    </tr>\n    <tr>\n      <th>4</th>\n      <td>BX</td>\n      <td>2023-04-08_17h34m12s.wav</td>\n      <td>NaN</td>\n      <td>-314.397003</td>\n      <td>151.204773</td>\n      <td>-10.816665</td>\n      <td>23.153042</td>\n      <td>3.41055</td>\n      <td>14.026796</td>\n      <td>4.794809</td>\n      <td>...</td>\n      <td>0.096744</td>\n      <td>-0.132384</td>\n      <td>0.016923</td>\n      <td>0.075599</td>\n      <td>-0.036233</td>\n      <td>0.057726</td>\n      <td>0.079679</td>\n      <td>0.135171</td>\n      <td>0.144749</td>\n      <td>0.116481</td>\n    </tr>\n    <tr>\n      <th>5</th>\n      <td>BX</td>\n      <td>2023-04-08_17h34m22s.wav</td>\n      <td>NaN</td>\n      <td>-322.64447</td>\n      <td>154.671555</td>\n      <td>-11.039907</td>\n      <td>27.32696</td>\n      <td>5.08951</td>\n      <td>11.042714</td>\n      <td>9.683875</td>\n      <td>...</td>\n      <td>-0.077754</td>\n      <td>-0.213721</td>\n      <td>0.947169</td>\n      <td>-0.226818</td>\n      <td>-0.078679</td>\n      <td>0.644583</td>\n      <td>-0.265383</td>\n      <td>-0.079411</td>\n      <td>0.308282</td>\n      <td>0.04933</td>\n    </tr>\n    <tr>\n      <th>6</th>\n      <td>BX</td>\n      <td>2023-04-08_17h34m32s.wav</td>\n      <td>NaN</td>\n      <td>-325.40863</td>\n      <td>152.911545</td>\n      <td>-12.065896</td>\n      <td>27.9883</td>\n      <td>4.887814</td>\n      <td>12.235357</td>\n      <td>10.019712</td>\n      <td>...</td>\n      <td>0.287945</td>\n      <td>-0.475906</td>\n      <td>0.50336</td>\n      <td>-0.312796</td>\n      <td>0.133413</td>\n      <td>0.125376</td>\n      <td>-0.324102</td>\n      <td>-0.41746</td>\n      <td>0.212658</td>\n      <td>-0.017989</td>\n    </tr>\n    <tr>\n      <th>7</th>\n      <td>BX</td>\n      <td>2023-04-08_17h34m42s.wav</td>\n      <td>NaN</td>\n      <td>-311.519867</td>\n      <td>148.437027</td>\n      <td>-13.083735</td>\n      <td>25.061331</td>\n      <td>3.420058</td>\n      <td>15.318568</td>\n      <td>4.233478</td>\n      <td>...</td>\n      <td>0.167958</td>\n      <td>-0.407451</td>\n      <td>-0.099617</td>\n      <td>-0.003179</td>\n      <td>-0.089758</td>\n      <td>0.08018</td>\n      <td>0.182814</td>\n      <td>0.076266</td>\n      <td>0.189591</td>\n      <td>-0.217735</td>\n    </tr>\n    <tr>\n      <th>8</th>\n      <td>BX</td>\n      <td>2023-04-08_17h34m52s.wav</td>\n      <td>NaN</td>\n      <td>-306.608337</td>\n      <td>139.457932</td>\n      <td>-12.643497</td>\n      <td>27.368225</td>\n      <td>2.701741</td>\n      <td>16.855227</td>\n      <td>4.509395</td>\n      <td>...</td>\n      <td>0.284579</td>\n      <td>-0.416983</td>\n      <td>-0.057727</td>\n      <td>-0.219421</td>\n      <td>-0.242917</td>\n      <td>0.014935</td>\n      <td>-0.483231</td>\n      <td>0.047823</td>\n      <td>-0.047746</td>\n      <td>0.113751</td>\n    </tr>\n    <tr>\n      <th>9</th>\n      <td>BX</td>\n      <td>2023-04-08_17h35m03s.wav</td>\n      <td>NaN</td>\n      <td>-326.903717</td>\n      <td>148.457184</td>\n      <td>-12.522431</td>\n      <td>30.884987</td>\n      <td>1.133363</td>\n      <td>16.468536</td>\n      <td>3.130126</td>\n      <td>...</td>\n      <td>0.082813</td>\n      <td>-0.188127</td>\n      <td>-0.142722</td>\n      <td>-0.097633</td>\n      <td>0.014669</td>\n      <td>0.051616</td>\n      <td>0.136908</td>\n      <td>0.21318</td>\n      <td>0.103944</td>\n      <td>-0.159766</td>\n    </tr>\n    <tr>\n      <th>10</th>\n      <td>BX</td>\n      <td>2023-04-08_17h35m12s.wav</td>\n      <td>NaN</td>\n      <td>-306.129242</td>\n      <td>145.694412</td>\n      <td>-13.243397</td>\n      <td>30.090889</td>\n      <td>0.792266</td>\n      <td>15.45935</td>\n      <td>-0.75602</td>\n      <td>...</td>\n      <td>0.117438</td>\n      <td>-0.44187</td>\n      <td>-0.156874</td>\n      <td>0.188443</td>\n      <td>-0.222282</td>\n      <td>0.012878</td>\n      <td>-0.011133</td>\n      <td>0.048909</td>\n      <td>0.197304</td>\n      <td>-0.012127</td>\n    </tr>\n    <tr>\n      <th>11</th>\n      <td>BX</td>\n      <td>2023-04-08_17h35m22s.wav</td>\n      <td>NaN</td>\n      <td>-305.898895</td>\n      <td>152.860657</td>\n      <td>-17.581947</td>\n      <td>27.727423</td>\n      <td>0.85325</td>\n      <td>15.885782</td>\n      <td>2.34079</td>\n      <td>...</td>\n      <td>0.098951</td>\n      <td>-0.150102</td>\n      <td>0.229063</td>\n      <td>0.152743</td>\n      <td>0.137697</td>\n      <td>0.489898</td>\n      <td>0.093705</td>\n      <td>-0.163869</td>\n      <td>-0.064008</td>\n      <td>0.130477</td>\n    </tr>\n    <tr>\n      <th>12</th>\n      <td>BX</td>\n      <td>2023-04-08_17h35m32s.wav</td>\n      <td>NaN</td>\n      <td>-289.952362</td>\n      <td>147.059067</td>\n      <td>-16.6297</td>\n      <td>28.95751</td>\n      <td>-3.030776</td>\n      <td>16.59273</td>\n      <td>-2.017966</td>\n      <td>...</td>\n      <td>0.334304</td>\n      <td>0.193329</td>\n      <td>0.159221</td>\n      <td>-0.170338</td>\n      <td>-0.081744</td>\n      <td>-0.04664</td>\n      <td>0.199521</td>\n      <td>-0.091236</td>\n      <td>0.049889</td>\n      <td>0.127125</td>\n    </tr>\n    <tr>\n      <th>13</th>\n      <td>BX</td>\n      <td>2023-04-08_17h35m42s.wav</td>\n      <td>NaN</td>\n      <td>-309.816437</td>\n      <td>145.103043</td>\n      <td>-8.438431</td>\n      <td>22.835556</td>\n      <td>3.627842</td>\n      <td>15.951997</td>\n      <td>3.782368</td>\n      <td>...</td>\n      <td>0.141312</td>\n      <td>0.053415</td>\n      <td>-0.592506</td>\n      <td>0.126001</td>\n      <td>0.46617</td>\n      <td>0.151026</td>\n      <td>-0.336815</td>\n      <td>0.19794</td>\n      <td>0.307648</td>\n      <td>-0.416297</td>\n    </tr>\n    <tr>\n      <th>14</th>\n      <td>BX</td>\n      <td>2023-04-08_17h35m52s.wav</td>\n      <td>NaN</td>\n      <td>-319.737091</td>\n      <td>148.772064</td>\n      <td>-7.981979</td>\n      <td>23.219036</td>\n      <td>3.956201</td>\n      <td>16.813791</td>\n      <td>3.402896</td>\n      <td>...</td>\n      <td>0.161053</td>\n      <td>-0.435983</td>\n      <td>0.384388</td>\n      <td>-0.104348</td>\n      <td>0.097915</td>\n      <td>0.173849</td>\n      <td>0.064111</td>\n      <td>0.073659</td>\n      <td>0.036672</td>\n      <td>0.201734</td>\n    </tr>\n    <tr>\n      <th>15</th>\n      <td>BX</td>\n      <td>2023-04-08_17h36m02s.wav</td>\n      <td>NaN</td>\n      <td>-313.222412</td>\n      <td>150.46373</td>\n      <td>-11.994365</td>\n      <td>23.236113</td>\n      <td>1.74302</td>\n      <td>16.753967</td>\n      <td>4.041969</td>\n      <td>...</td>\n      <td>0.296673</td>\n      <td>-0.27356</td>\n      <td>0.334158</td>\n      <td>0.029088</td>\n      <td>-0.05508</td>\n      <td>0.203436</td>\n      <td>-0.291838</td>\n      <td>-0.013595</td>\n      <td>0.095437</td>\n      <td>-0.154365</td>\n    </tr>\n    <tr>\n      <th>16</th>\n      <td>BX</td>\n      <td>2023-04-08_17h36m12s.wav</td>\n      <td>NaN</td>\n      <td>-313.752167</td>\n      <td>146.166107</td>\n      <td>-8.467323</td>\n      <td>21.840311</td>\n      <td>2.787483</td>\n      <td>17.012487</td>\n      <td>3.596192</td>\n      <td>...</td>\n      <td>0.344371</td>\n      <td>-0.107756</td>\n      <td>0.192973</td>\n      <td>-0.043552</td>\n      <td>-0.093537</td>\n      <td>0.188936</td>\n      <td>-0.073288</td>\n      <td>0.04403</td>\n      <td>0.12771</td>\n      <td>0.151196</td>\n    </tr>\n    <tr>\n      <th>17</th>\n      <td>BX</td>\n      <td>2023-04-08_17h36m22s.wav</td>\n      <td>NaN</td>\n      <td>-321.323914</td>\n      <td>149.056564</td>\n      <td>-7.927466</td>\n      <td>24.359247</td>\n      <td>5.42826</td>\n      <td>15.747332</td>\n      <td>5.251531</td>\n      <td>...</td>\n      <td>0.181623</td>\n      <td>-0.417957</td>\n      <td>0.160264</td>\n      <td>-0.201269</td>\n      <td>0.079787</td>\n      <td>0.188297</td>\n      <td>-0.117124</td>\n      <td>-0.145705</td>\n      <td>0.073015</td>\n      <td>0.064355</td>\n    </tr>\n    <tr>\n      <th>18</th>\n      <td>BX</td>\n      <td>2023-04-08_17h36m32s.wav</td>\n      <td>NaN</td>\n      <td>-322.009491</td>\n      <td>152.66629</td>\n      <td>-11.211012</td>\n      <td>26.181147</td>\n      <td>4.348974</td>\n      <td>15.851167</td>\n      <td>6.66152</td>\n      <td>...</td>\n      <td>-0.093998</td>\n      <td>-0.135453</td>\n      <td>-0.048974</td>\n      <td>0.039055</td>\n      <td>0.022335</td>\n      <td>0.062823</td>\n      <td>0.121235</td>\n      <td>0.023175</td>\n      <td>-0.215937</td>\n      <td>0.033206</td>\n    </tr>\n    <tr>\n      <th>19</th>\n      <td>BX</td>\n      <td>2023-04-08_17h36m42s.wav</td>\n      <td>NaN</td>\n      <td>-315.732086</td>\n      <td>149.824799</td>\n      <td>-8.522896</td>\n      <td>26.200842</td>\n      <td>4.235978</td>\n      <td>14.572336</td>\n      <td>4.929585</td>\n      <td>...</td>\n      <td>-0.257089</td>\n      <td>-0.405613</td>\n      <td>-0.068283</td>\n      <td>-0.35761</td>\n      <td>-0.2885</td>\n      <td>0.191962</td>\n      <td>-0.126737</td>\n      <td>-0.017085</td>\n      <td>-0.091965</td>\n      <td>-0.016522</td>\n    </tr>\n  </tbody>\n</table>\n<p>20 rows × 103 columns</p>\n</div>"
     },
     "execution_count": 56,
     "metadata": {},
     "output_type": "execute_result"
    }
   ],
   "source": [
    "for i in range(len(test_features)):\n",
    "    try:\n",
    "        wav_path = os.path.join(audio_path, test_features.loc[i, 'file_name'])\n",
    "        y, sr = librosa.load(wav_path)\n",
    "        # 都增益为相同大小的分贝\n",
    "        y = amplitude(y)\n",
    "\n",
    "        mfcc = librosa.feature.mfcc(y=y, sr=sr, n_mfcc=20)\n",
    "        A = mfcc.T\n",
    "        means = np.mean(A, axis=0)\n",
    "        per_25, per_75 = np.percentile(A, axis=0, q=[25, 75])\n",
    "        kurtosis_list = np.apply_along_axis(func1d=kurtosis, axis=0, arr=A)\n",
    "        skewness_list = np.apply_along_axis(func1d=skew, axis=0, arr=A)\n",
    "        # stds = np.std(A, axis=0)\n",
    "\n",
    "        test_features.loc[i, \"1_mean\":\"20_mean\"] = means\n",
    "        test_features.loc[i, \"1_25_per\":\"20_25_per\"] = per_25\n",
    "        test_features.loc[i, \"1_75_per\":\"20_75_per\"] = per_75\n",
    "        test_features.loc[i, \"1_kurtosis\":\"20_kurtosis\"] = kurtosis_list\n",
    "        test_features.loc[i, \"1_skew\":\"20_skew\"] = skewness_list\n",
    "        # test_features.loc[i, \"1_std\":\"20_std\"] = stds\n",
    "\n",
    "    except Exception as e:\n",
    "        print(f\"Failed to load {wav_path}: {str(e)}\")\n",
    "        continue\n",
    "test_features"
   ],
   "metadata": {
    "collapsed": false,
    "pycharm": {
     "name": "#%%\n"
    }
   }
  },
  {
   "cell_type": "code",
   "execution_count": 22,
   "outputs": [],
   "source": [
    "import pandas as pd\n",
    "\n",
    "def fill_in_score(score_df, target_df):\n",
    "    for index, row in target_df.iterrows():\n",
    "        match = score_df.loc[score_df['file_name'] == row['file_name']]\n",
    "        if not match.empty:\n",
    "            target_df.loc[index, 'score'] = match['score'].values[0]"
   ],
   "metadata": {
    "collapsed": false,
    "pycharm": {
     "name": "#%%\n"
    }
   }
  },
  {
   "cell_type": "code",
   "execution_count": 48,
   "outputs": [
    {
     "data": {
      "text/plain": "   category           file_name  score      1_mean      2_mean     3_mean  \\\n0        80   ba1-M301-1731.wav  4.575 -341.963593  121.484573  -9.561069   \n1        80   ba2-M302-0823.wav    5.1 -352.166107  119.864288  -2.810659   \n2        80   ba3-M303-0743.wav   5.15 -317.863464  102.875671   1.035141   \n3        80   ba4-M304-1030.wav   3.15 -286.127655  101.163101   7.958234   \n4        80   ba5-M306-0708.wav  5.125  -418.56604  141.237991 -10.019359   \n..      ...                 ...    ...         ...         ...        ...   \n75       80  ns11-N601-1050.wav  5.925 -355.162048  151.506638  -9.200617   \n76       80  ns12-N602-0859.wav    5.2 -402.721619   149.97226   9.894753   \n77       80  ns13-N603-1527.wav   4.25 -345.914856  120.946617 -43.428509   \n78       80  ns14-N604-1029.wav   5.75 -399.524078   173.17334   13.33647   \n79       80  ns15-N605-1056.wav   4.05 -430.272308  122.711792  11.523924   \n\n       4_mean     5_mean     6_mean     7_mean  ...   11_skew   12_skew  \\\n0   30.740805   6.344048  14.242373    13.7257  ...  0.131154 -0.498935   \n1   23.607172   8.968362  12.239317   7.057895  ...  0.402192  0.212785   \n2   27.921015  11.634435  19.057365  15.579994  ... -0.826677 -0.015503   \n3   14.708769   15.95633     14.492  18.492823  ... -0.520833 -0.268109   \n4   51.944969 -16.193604  33.998703   8.291136  ...  0.265908 -0.005642   \n..        ...        ...        ...        ...  ...       ...       ...   \n75  72.933983 -23.751083  34.927303   -0.43199  ... -0.338692  0.242869   \n76  70.141304 -15.700896  36.473164  -3.400588  ...  0.252987  0.021291   \n77  77.933586 -14.441318  32.911476   -0.15496  ... -0.257335 -0.087417   \n78  55.726944  -3.209028   26.45133  -9.198932  ...  0.247014 -0.197867   \n79  62.795624 -16.260107  50.241779    11.1904  ...  -0.08453  0.310298   \n\n     13_skew   14_skew   15_skew   16_skew   17_skew   18_skew   19_skew  \\\n0  -0.516243  0.197826 -0.538742  0.960389  0.700823     0.752  0.025954   \n1  -0.282416 -0.159182  0.033128 -0.613238 -0.907071   0.17387 -0.013074   \n2   0.022302 -0.147962 -0.197881  0.021005  0.000952 -0.148632 -0.167538   \n3  -0.446854  0.427439 -0.454786  0.567742  -0.28431  0.428408 -0.405915   \n4   -0.39473 -0.027783 -0.045368 -0.055779  0.108648  0.077841  -0.29738   \n..       ...       ...       ...       ...       ...       ...       ...   \n75  0.011099 -0.151243  0.304605   0.04207  0.268841   0.18569 -0.136707   \n76  0.155114 -0.209558   0.01759  0.131611  -0.02117 -0.379279  -0.05215   \n77  0.194163 -0.151427  -0.40268  0.088697  -0.01963 -0.138102  0.488729   \n78 -0.003129  0.089962 -0.072569  0.022635 -0.184501   0.03069  0.089244   \n79 -0.090632  0.207717  0.163869 -0.195266 -0.319302 -0.236754  0.055411   \n\n     20_skew  \n0   -0.05368  \n1    0.27761  \n2    0.00898  \n3   0.261308  \n4  -0.017971  \n..       ...  \n75  0.387639  \n76  0.178125  \n77 -0.134335  \n78 -0.256051  \n79  0.164904  \n\n[80 rows x 103 columns]",
      "text/html": "<div>\n<style scoped>\n    .dataframe tbody tr th:only-of-type {\n        vertical-align: middle;\n    }\n\n    .dataframe tbody tr th {\n        vertical-align: top;\n    }\n\n    .dataframe thead th {\n        text-align: right;\n    }\n</style>\n<table border=\"1\" class=\"dataframe\">\n  <thead>\n    <tr style=\"text-align: right;\">\n      <th></th>\n      <th>category</th>\n      <th>file_name</th>\n      <th>score</th>\n      <th>1_mean</th>\n      <th>2_mean</th>\n      <th>3_mean</th>\n      <th>4_mean</th>\n      <th>5_mean</th>\n      <th>6_mean</th>\n      <th>7_mean</th>\n      <th>...</th>\n      <th>11_skew</th>\n      <th>12_skew</th>\n      <th>13_skew</th>\n      <th>14_skew</th>\n      <th>15_skew</th>\n      <th>16_skew</th>\n      <th>17_skew</th>\n      <th>18_skew</th>\n      <th>19_skew</th>\n      <th>20_skew</th>\n    </tr>\n  </thead>\n  <tbody>\n    <tr>\n      <th>0</th>\n      <td>80</td>\n      <td>ba1-M301-1731.wav</td>\n      <td>4.575</td>\n      <td>-341.963593</td>\n      <td>121.484573</td>\n      <td>-9.561069</td>\n      <td>30.740805</td>\n      <td>6.344048</td>\n      <td>14.242373</td>\n      <td>13.7257</td>\n      <td>...</td>\n      <td>0.131154</td>\n      <td>-0.498935</td>\n      <td>-0.516243</td>\n      <td>0.197826</td>\n      <td>-0.538742</td>\n      <td>0.960389</td>\n      <td>0.700823</td>\n      <td>0.752</td>\n      <td>0.025954</td>\n      <td>-0.05368</td>\n    </tr>\n    <tr>\n      <th>1</th>\n      <td>80</td>\n      <td>ba2-M302-0823.wav</td>\n      <td>5.1</td>\n      <td>-352.166107</td>\n      <td>119.864288</td>\n      <td>-2.810659</td>\n      <td>23.607172</td>\n      <td>8.968362</td>\n      <td>12.239317</td>\n      <td>7.057895</td>\n      <td>...</td>\n      <td>0.402192</td>\n      <td>0.212785</td>\n      <td>-0.282416</td>\n      <td>-0.159182</td>\n      <td>0.033128</td>\n      <td>-0.613238</td>\n      <td>-0.907071</td>\n      <td>0.17387</td>\n      <td>-0.013074</td>\n      <td>0.27761</td>\n    </tr>\n    <tr>\n      <th>2</th>\n      <td>80</td>\n      <td>ba3-M303-0743.wav</td>\n      <td>5.15</td>\n      <td>-317.863464</td>\n      <td>102.875671</td>\n      <td>1.035141</td>\n      <td>27.921015</td>\n      <td>11.634435</td>\n      <td>19.057365</td>\n      <td>15.579994</td>\n      <td>...</td>\n      <td>-0.826677</td>\n      <td>-0.015503</td>\n      <td>0.022302</td>\n      <td>-0.147962</td>\n      <td>-0.197881</td>\n      <td>0.021005</td>\n      <td>0.000952</td>\n      <td>-0.148632</td>\n      <td>-0.167538</td>\n      <td>0.00898</td>\n    </tr>\n    <tr>\n      <th>3</th>\n      <td>80</td>\n      <td>ba4-M304-1030.wav</td>\n      <td>3.15</td>\n      <td>-286.127655</td>\n      <td>101.163101</td>\n      <td>7.958234</td>\n      <td>14.708769</td>\n      <td>15.95633</td>\n      <td>14.492</td>\n      <td>18.492823</td>\n      <td>...</td>\n      <td>-0.520833</td>\n      <td>-0.268109</td>\n      <td>-0.446854</td>\n      <td>0.427439</td>\n      <td>-0.454786</td>\n      <td>0.567742</td>\n      <td>-0.28431</td>\n      <td>0.428408</td>\n      <td>-0.405915</td>\n      <td>0.261308</td>\n    </tr>\n    <tr>\n      <th>4</th>\n      <td>80</td>\n      <td>ba5-M306-0708.wav</td>\n      <td>5.125</td>\n      <td>-418.56604</td>\n      <td>141.237991</td>\n      <td>-10.019359</td>\n      <td>51.944969</td>\n      <td>-16.193604</td>\n      <td>33.998703</td>\n      <td>8.291136</td>\n      <td>...</td>\n      <td>0.265908</td>\n      <td>-0.005642</td>\n      <td>-0.39473</td>\n      <td>-0.027783</td>\n      <td>-0.045368</td>\n      <td>-0.055779</td>\n      <td>0.108648</td>\n      <td>0.077841</td>\n      <td>-0.29738</td>\n      <td>-0.017971</td>\n    </tr>\n    <tr>\n      <th>...</th>\n      <td>...</td>\n      <td>...</td>\n      <td>...</td>\n      <td>...</td>\n      <td>...</td>\n      <td>...</td>\n      <td>...</td>\n      <td>...</td>\n      <td>...</td>\n      <td>...</td>\n      <td>...</td>\n      <td>...</td>\n      <td>...</td>\n      <td>...</td>\n      <td>...</td>\n      <td>...</td>\n      <td>...</td>\n      <td>...</td>\n      <td>...</td>\n      <td>...</td>\n      <td>...</td>\n    </tr>\n    <tr>\n      <th>75</th>\n      <td>80</td>\n      <td>ns11-N601-1050.wav</td>\n      <td>5.925</td>\n      <td>-355.162048</td>\n      <td>151.506638</td>\n      <td>-9.200617</td>\n      <td>72.933983</td>\n      <td>-23.751083</td>\n      <td>34.927303</td>\n      <td>-0.43199</td>\n      <td>...</td>\n      <td>-0.338692</td>\n      <td>0.242869</td>\n      <td>0.011099</td>\n      <td>-0.151243</td>\n      <td>0.304605</td>\n      <td>0.04207</td>\n      <td>0.268841</td>\n      <td>0.18569</td>\n      <td>-0.136707</td>\n      <td>0.387639</td>\n    </tr>\n    <tr>\n      <th>76</th>\n      <td>80</td>\n      <td>ns12-N602-0859.wav</td>\n      <td>5.2</td>\n      <td>-402.721619</td>\n      <td>149.97226</td>\n      <td>9.894753</td>\n      <td>70.141304</td>\n      <td>-15.700896</td>\n      <td>36.473164</td>\n      <td>-3.400588</td>\n      <td>...</td>\n      <td>0.252987</td>\n      <td>0.021291</td>\n      <td>0.155114</td>\n      <td>-0.209558</td>\n      <td>0.01759</td>\n      <td>0.131611</td>\n      <td>-0.02117</td>\n      <td>-0.379279</td>\n      <td>-0.05215</td>\n      <td>0.178125</td>\n    </tr>\n    <tr>\n      <th>77</th>\n      <td>80</td>\n      <td>ns13-N603-1527.wav</td>\n      <td>4.25</td>\n      <td>-345.914856</td>\n      <td>120.946617</td>\n      <td>-43.428509</td>\n      <td>77.933586</td>\n      <td>-14.441318</td>\n      <td>32.911476</td>\n      <td>-0.15496</td>\n      <td>...</td>\n      <td>-0.257335</td>\n      <td>-0.087417</td>\n      <td>0.194163</td>\n      <td>-0.151427</td>\n      <td>-0.40268</td>\n      <td>0.088697</td>\n      <td>-0.01963</td>\n      <td>-0.138102</td>\n      <td>0.488729</td>\n      <td>-0.134335</td>\n    </tr>\n    <tr>\n      <th>78</th>\n      <td>80</td>\n      <td>ns14-N604-1029.wav</td>\n      <td>5.75</td>\n      <td>-399.524078</td>\n      <td>173.17334</td>\n      <td>13.33647</td>\n      <td>55.726944</td>\n      <td>-3.209028</td>\n      <td>26.45133</td>\n      <td>-9.198932</td>\n      <td>...</td>\n      <td>0.247014</td>\n      <td>-0.197867</td>\n      <td>-0.003129</td>\n      <td>0.089962</td>\n      <td>-0.072569</td>\n      <td>0.022635</td>\n      <td>-0.184501</td>\n      <td>0.03069</td>\n      <td>0.089244</td>\n      <td>-0.256051</td>\n    </tr>\n    <tr>\n      <th>79</th>\n      <td>80</td>\n      <td>ns15-N605-1056.wav</td>\n      <td>4.05</td>\n      <td>-430.272308</td>\n      <td>122.711792</td>\n      <td>11.523924</td>\n      <td>62.795624</td>\n      <td>-16.260107</td>\n      <td>50.241779</td>\n      <td>11.1904</td>\n      <td>...</td>\n      <td>-0.08453</td>\n      <td>0.310298</td>\n      <td>-0.090632</td>\n      <td>0.207717</td>\n      <td>0.163869</td>\n      <td>-0.195266</td>\n      <td>-0.319302</td>\n      <td>-0.236754</td>\n      <td>0.055411</td>\n      <td>0.164904</td>\n    </tr>\n  </tbody>\n</table>\n<p>80 rows × 103 columns</p>\n</div>"
     },
     "execution_count": 48,
     "metadata": {},
     "output_type": "execute_result"
    }
   ],
   "source": [
    "# score_path = r'./input/score/split_audio_score.xlsx'\n",
    "# score_path = r'./input/score/HJ_split_score.xlsx'\n",
    "# score_path = r'./input/score/83_score.xlsx'\n",
    "score_path = r'./input/score/80_score.xlsx'\n",
    "score_df = pd.read_excel(score_path)\n",
    "fill_in_score(score_df, test_features)\n",
    "test_features"
   ],
   "metadata": {
    "collapsed": false,
    "pycharm": {
     "name": "#%%\n"
    }
   }
  },
  {
   "cell_type": "code",
   "execution_count": 57,
   "outputs": [],
   "source": [
    "# 记得改！！！\n",
    "# test_features.to_excel('./output/black_mfcc_features.xlsx', index=False, encoding='utf_8_sig')\n",
    "# test_features.to_excel('./output/HJ_mfcc_features.xlsx', index=False, encoding='utf_8_sig')\n",
    "# test_features.to_excel('./output/83_mfcc_features.xlsx', index=False, encoding='utf_8_sig')\n",
    "# test_features.to_excel('./output/80_mfcc_features.xlsx', index=False, encoding='utf_8_sig')\n",
    "test_features.to_excel('./output/BX_mfcc_features.xlsx', index=False, encoding='utf_8_sig')"
   ],
   "metadata": {
    "collapsed": false,
    "pycharm": {
     "name": "#%%\n"
    }
   }
  },
  {
   "cell_type": "code",
   "execution_count": 9,
   "outputs": [],
   "source": [],
   "metadata": {
    "collapsed": false,
    "pycharm": {
     "name": "#%%\n"
    }
   }
  }
 ],
 "metadata": {
  "kernelspec": {
   "display_name": "Python 3",
   "language": "python",
   "name": "python3"
  },
  "language_info": {
   "codemirror_mode": {
    "name": "ipython",
    "version": 2
   },
   "file_extension": ".py",
   "mimetype": "text/x-python",
   "name": "python",
   "nbconvert_exporter": "python",
   "pygments_lexer": "ipython2",
   "version": "2.7.6"
  }
 },
 "nbformat": 4,
 "nbformat_minor": 0
}