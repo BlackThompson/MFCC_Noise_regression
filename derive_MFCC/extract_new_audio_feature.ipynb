{
 "cells": [
  {
   "cell_type": "code",
   "execution_count": 1,
   "metadata": {
    "collapsed": true
   },
   "outputs": [],
   "source": [
    "import librosa\n",
    "import pandas as pd\n",
    "import numpy as np\n",
    "import os\n",
    "from config import *\n",
    "\n",
    "audio_path = '.\\\\input\\\\audio'"
   ]
  },
  {
   "cell_type": "code",
   "execution_count": 2,
   "outputs": [
    {
     "data": {
      "text/plain": "    Folder Name                      File Name\n0            83                     01-1-1.wav\n1            83                     02-4-2.wav\n2            83  03-M202-1415 ( 270-280 s).wav\n3            83  04-410-1 ( 0.00-300.58 s).wav\n4            83                    05-10-1.wav\n..          ...                            ...\n584        wind              5-179496-A-16.wav\n585        wind              5-179496-B-16.wav\n586        wind              5-217186-A-16.wav\n587        wind              5-217186-B-16.wav\n588        wind              5-217186-C-16.wav\n\n[589 rows x 2 columns]",
      "text/html": "<div>\n<style scoped>\n    .dataframe tbody tr th:only-of-type {\n        vertical-align: middle;\n    }\n\n    .dataframe tbody tr th {\n        vertical-align: top;\n    }\n\n    .dataframe thead th {\n        text-align: right;\n    }\n</style>\n<table border=\"1\" class=\"dataframe\">\n  <thead>\n    <tr style=\"text-align: right;\">\n      <th></th>\n      <th>Folder Name</th>\n      <th>File Name</th>\n    </tr>\n  </thead>\n  <tbody>\n    <tr>\n      <th>0</th>\n      <td>83</td>\n      <td>01-1-1.wav</td>\n    </tr>\n    <tr>\n      <th>1</th>\n      <td>83</td>\n      <td>02-4-2.wav</td>\n    </tr>\n    <tr>\n      <th>2</th>\n      <td>83</td>\n      <td>03-M202-1415 ( 270-280 s).wav</td>\n    </tr>\n    <tr>\n      <th>3</th>\n      <td>83</td>\n      <td>04-410-1 ( 0.00-300.58 s).wav</td>\n    </tr>\n    <tr>\n      <th>4</th>\n      <td>83</td>\n      <td>05-10-1.wav</td>\n    </tr>\n    <tr>\n      <th>...</th>\n      <td>...</td>\n      <td>...</td>\n    </tr>\n    <tr>\n      <th>584</th>\n      <td>wind</td>\n      <td>5-179496-A-16.wav</td>\n    </tr>\n    <tr>\n      <th>585</th>\n      <td>wind</td>\n      <td>5-179496-B-16.wav</td>\n    </tr>\n    <tr>\n      <th>586</th>\n      <td>wind</td>\n      <td>5-217186-A-16.wav</td>\n    </tr>\n    <tr>\n      <th>587</th>\n      <td>wind</td>\n      <td>5-217186-B-16.wav</td>\n    </tr>\n    <tr>\n      <th>588</th>\n      <td>wind</td>\n      <td>5-217186-C-16.wav</td>\n    </tr>\n  </tbody>\n</table>\n<p>589 rows × 2 columns</p>\n</div>"
     },
     "execution_count": 2,
     "metadata": {},
     "output_type": "execute_result"
    }
   ],
   "source": [
    "df = pd.DataFrame(columns=['Folder Name', 'File Name'])\n",
    "for folder_name in os.listdir(audio_path):\n",
    "    folder_path = os.path.join(audio_path, folder_name)\n",
    "    if os.path.isdir(folder_path):\n",
    "        for file_name in os.listdir(folder_path):\n",
    "            file_path = os.path.join(folder_path, file_name)\n",
    "            if os.path.isfile(file_path):\n",
    "                df = df.append({'Folder Name': folder_name, 'File Name': file_name}, ignore_index=True)\n",
    "df"
   ],
   "metadata": {
    "collapsed": false,
    "pycharm": {
     "name": "#%%\n"
    }
   }
  },
  {
   "cell_type": "code",
   "execution_count": 3,
   "outputs": [],
   "source": [
    "# file_path = os.path.join(audio_path, df.loc[0, 'Folder Name'], df.loc[0, 'File Name'])\n",
    "# y, sr = librosa.load(file_path)"
   ],
   "metadata": {
    "collapsed": false,
    "pycharm": {
     "name": "#%%\n"
    }
   }
  },
  {
   "cell_type": "code",
   "execution_count": 4,
   "outputs": [
    {
     "data": {
      "text/plain": "Empty DataFrame\nColumns: [category, file_name, score, 1_mean, 2_mean, 3_mean, 4_mean, 5_mean, 6_mean, 7_mean, 8_mean, 9_mean, 10_mean, 11_mean, 12_mean, 13_mean, 14_mean, 15_mean, 16_mean, 17_mean, 18_mean, 19_mean, 20_mean, 1_std, 2_std, 3_std, 4_std, 5_std, 6_std, 7_std, 8_std, 9_std, 10_std, 11_std, 12_std, 13_std, 14_std, 15_std, 16_std, 17_std, 18_std, 19_std, 20_std]\nIndex: []\n\n[0 rows x 43 columns]",
      "text/html": "<div>\n<style scoped>\n    .dataframe tbody tr th:only-of-type {\n        vertical-align: middle;\n    }\n\n    .dataframe tbody tr th {\n        vertical-align: top;\n    }\n\n    .dataframe thead th {\n        text-align: right;\n    }\n</style>\n<table border=\"1\" class=\"dataframe\">\n  <thead>\n    <tr style=\"text-align: right;\">\n      <th></th>\n      <th>category</th>\n      <th>file_name</th>\n      <th>score</th>\n      <th>1_mean</th>\n      <th>2_mean</th>\n      <th>3_mean</th>\n      <th>4_mean</th>\n      <th>5_mean</th>\n      <th>6_mean</th>\n      <th>7_mean</th>\n      <th>...</th>\n      <th>11_std</th>\n      <th>12_std</th>\n      <th>13_std</th>\n      <th>14_std</th>\n      <th>15_std</th>\n      <th>16_std</th>\n      <th>17_std</th>\n      <th>18_std</th>\n      <th>19_std</th>\n      <th>20_std</th>\n    </tr>\n  </thead>\n  <tbody>\n  </tbody>\n</table>\n<p>0 rows × 43 columns</p>\n</div>"
     },
     "execution_count": 4,
     "metadata": {},
     "output_type": "execute_result"
    }
   ],
   "source": [
    "columns_mean = [f'{i}_mean' for i in range(1, 21)]\n",
    "columns_std = [f'{i}_std' for i in range(1, 21)]\n",
    "columns = ['category', 'file_name', 'score'] + columns_mean + columns_std\n",
    "features = pd.DataFrame(columns=columns)\n",
    "features"
   ],
   "metadata": {
    "collapsed": false,
    "pycharm": {
     "name": "#%%\n"
    }
   }
  },
  {
   "cell_type": "code",
   "execution_count": 5,
   "outputs": [
    {
     "data": {
      "text/plain": "    category                      file_name score 1_mean 2_mean 3_mean 4_mean  \\\n0         83                     01-1-1.wav   NaN    NaN    NaN    NaN    NaN   \n1         83                     02-4-2.wav   NaN    NaN    NaN    NaN    NaN   \n2         83  03-M202-1415 ( 270-280 s).wav   NaN    NaN    NaN    NaN    NaN   \n3         83  04-410-1 ( 0.00-300.58 s).wav   NaN    NaN    NaN    NaN    NaN   \n4         83                    05-10-1.wav   NaN    NaN    NaN    NaN    NaN   \n..       ...                            ...   ...    ...    ...    ...    ...   \n584     wind              5-179496-A-16.wav   NaN    NaN    NaN    NaN    NaN   \n585     wind              5-179496-B-16.wav   NaN    NaN    NaN    NaN    NaN   \n586     wind              5-217186-A-16.wav   NaN    NaN    NaN    NaN    NaN   \n587     wind              5-217186-B-16.wav   NaN    NaN    NaN    NaN    NaN   \n588     wind              5-217186-C-16.wav   NaN    NaN    NaN    NaN    NaN   \n\n    5_mean 6_mean 7_mean  ... 11_std 12_std 13_std 14_std 15_std 16_std  \\\n0      NaN    NaN    NaN  ...    NaN    NaN    NaN    NaN    NaN    NaN   \n1      NaN    NaN    NaN  ...    NaN    NaN    NaN    NaN    NaN    NaN   \n2      NaN    NaN    NaN  ...    NaN    NaN    NaN    NaN    NaN    NaN   \n3      NaN    NaN    NaN  ...    NaN    NaN    NaN    NaN    NaN    NaN   \n4      NaN    NaN    NaN  ...    NaN    NaN    NaN    NaN    NaN    NaN   \n..     ...    ...    ...  ...    ...    ...    ...    ...    ...    ...   \n584    NaN    NaN    NaN  ...    NaN    NaN    NaN    NaN    NaN    NaN   \n585    NaN    NaN    NaN  ...    NaN    NaN    NaN    NaN    NaN    NaN   \n586    NaN    NaN    NaN  ...    NaN    NaN    NaN    NaN    NaN    NaN   \n587    NaN    NaN    NaN  ...    NaN    NaN    NaN    NaN    NaN    NaN   \n588    NaN    NaN    NaN  ...    NaN    NaN    NaN    NaN    NaN    NaN   \n\n    17_std 18_std 19_std 20_std  \n0      NaN    NaN    NaN    NaN  \n1      NaN    NaN    NaN    NaN  \n2      NaN    NaN    NaN    NaN  \n3      NaN    NaN    NaN    NaN  \n4      NaN    NaN    NaN    NaN  \n..     ...    ...    ...    ...  \n584    NaN    NaN    NaN    NaN  \n585    NaN    NaN    NaN    NaN  \n586    NaN    NaN    NaN    NaN  \n587    NaN    NaN    NaN    NaN  \n588    NaN    NaN    NaN    NaN  \n\n[589 rows x 43 columns]",
      "text/html": "<div>\n<style scoped>\n    .dataframe tbody tr th:only-of-type {\n        vertical-align: middle;\n    }\n\n    .dataframe tbody tr th {\n        vertical-align: top;\n    }\n\n    .dataframe thead th {\n        text-align: right;\n    }\n</style>\n<table border=\"1\" class=\"dataframe\">\n  <thead>\n    <tr style=\"text-align: right;\">\n      <th></th>\n      <th>category</th>\n      <th>file_name</th>\n      <th>score</th>\n      <th>1_mean</th>\n      <th>2_mean</th>\n      <th>3_mean</th>\n      <th>4_mean</th>\n      <th>5_mean</th>\n      <th>6_mean</th>\n      <th>7_mean</th>\n      <th>...</th>\n      <th>11_std</th>\n      <th>12_std</th>\n      <th>13_std</th>\n      <th>14_std</th>\n      <th>15_std</th>\n      <th>16_std</th>\n      <th>17_std</th>\n      <th>18_std</th>\n      <th>19_std</th>\n      <th>20_std</th>\n    </tr>\n  </thead>\n  <tbody>\n    <tr>\n      <th>0</th>\n      <td>83</td>\n      <td>01-1-1.wav</td>\n      <td>NaN</td>\n      <td>NaN</td>\n      <td>NaN</td>\n      <td>NaN</td>\n      <td>NaN</td>\n      <td>NaN</td>\n      <td>NaN</td>\n      <td>NaN</td>\n      <td>...</td>\n      <td>NaN</td>\n      <td>NaN</td>\n      <td>NaN</td>\n      <td>NaN</td>\n      <td>NaN</td>\n      <td>NaN</td>\n      <td>NaN</td>\n      <td>NaN</td>\n      <td>NaN</td>\n      <td>NaN</td>\n    </tr>\n    <tr>\n      <th>1</th>\n      <td>83</td>\n      <td>02-4-2.wav</td>\n      <td>NaN</td>\n      <td>NaN</td>\n      <td>NaN</td>\n      <td>NaN</td>\n      <td>NaN</td>\n      <td>NaN</td>\n      <td>NaN</td>\n      <td>NaN</td>\n      <td>...</td>\n      <td>NaN</td>\n      <td>NaN</td>\n      <td>NaN</td>\n      <td>NaN</td>\n      <td>NaN</td>\n      <td>NaN</td>\n      <td>NaN</td>\n      <td>NaN</td>\n      <td>NaN</td>\n      <td>NaN</td>\n    </tr>\n    <tr>\n      <th>2</th>\n      <td>83</td>\n      <td>03-M202-1415 ( 270-280 s).wav</td>\n      <td>NaN</td>\n      <td>NaN</td>\n      <td>NaN</td>\n      <td>NaN</td>\n      <td>NaN</td>\n      <td>NaN</td>\n      <td>NaN</td>\n      <td>NaN</td>\n      <td>...</td>\n      <td>NaN</td>\n      <td>NaN</td>\n      <td>NaN</td>\n      <td>NaN</td>\n      <td>NaN</td>\n      <td>NaN</td>\n      <td>NaN</td>\n      <td>NaN</td>\n      <td>NaN</td>\n      <td>NaN</td>\n    </tr>\n    <tr>\n      <th>3</th>\n      <td>83</td>\n      <td>04-410-1 ( 0.00-300.58 s).wav</td>\n      <td>NaN</td>\n      <td>NaN</td>\n      <td>NaN</td>\n      <td>NaN</td>\n      <td>NaN</td>\n      <td>NaN</td>\n      <td>NaN</td>\n      <td>NaN</td>\n      <td>...</td>\n      <td>NaN</td>\n      <td>NaN</td>\n      <td>NaN</td>\n      <td>NaN</td>\n      <td>NaN</td>\n      <td>NaN</td>\n      <td>NaN</td>\n      <td>NaN</td>\n      <td>NaN</td>\n      <td>NaN</td>\n    </tr>\n    <tr>\n      <th>4</th>\n      <td>83</td>\n      <td>05-10-1.wav</td>\n      <td>NaN</td>\n      <td>NaN</td>\n      <td>NaN</td>\n      <td>NaN</td>\n      <td>NaN</td>\n      <td>NaN</td>\n      <td>NaN</td>\n      <td>NaN</td>\n      <td>...</td>\n      <td>NaN</td>\n      <td>NaN</td>\n      <td>NaN</td>\n      <td>NaN</td>\n      <td>NaN</td>\n      <td>NaN</td>\n      <td>NaN</td>\n      <td>NaN</td>\n      <td>NaN</td>\n      <td>NaN</td>\n    </tr>\n    <tr>\n      <th>...</th>\n      <td>...</td>\n      <td>...</td>\n      <td>...</td>\n      <td>...</td>\n      <td>...</td>\n      <td>...</td>\n      <td>...</td>\n      <td>...</td>\n      <td>...</td>\n      <td>...</td>\n      <td>...</td>\n      <td>...</td>\n      <td>...</td>\n      <td>...</td>\n      <td>...</td>\n      <td>...</td>\n      <td>...</td>\n      <td>...</td>\n      <td>...</td>\n      <td>...</td>\n      <td>...</td>\n    </tr>\n    <tr>\n      <th>584</th>\n      <td>wind</td>\n      <td>5-179496-A-16.wav</td>\n      <td>NaN</td>\n      <td>NaN</td>\n      <td>NaN</td>\n      <td>NaN</td>\n      <td>NaN</td>\n      <td>NaN</td>\n      <td>NaN</td>\n      <td>NaN</td>\n      <td>...</td>\n      <td>NaN</td>\n      <td>NaN</td>\n      <td>NaN</td>\n      <td>NaN</td>\n      <td>NaN</td>\n      <td>NaN</td>\n      <td>NaN</td>\n      <td>NaN</td>\n      <td>NaN</td>\n      <td>NaN</td>\n    </tr>\n    <tr>\n      <th>585</th>\n      <td>wind</td>\n      <td>5-179496-B-16.wav</td>\n      <td>NaN</td>\n      <td>NaN</td>\n      <td>NaN</td>\n      <td>NaN</td>\n      <td>NaN</td>\n      <td>NaN</td>\n      <td>NaN</td>\n      <td>NaN</td>\n      <td>...</td>\n      <td>NaN</td>\n      <td>NaN</td>\n      <td>NaN</td>\n      <td>NaN</td>\n      <td>NaN</td>\n      <td>NaN</td>\n      <td>NaN</td>\n      <td>NaN</td>\n      <td>NaN</td>\n      <td>NaN</td>\n    </tr>\n    <tr>\n      <th>586</th>\n      <td>wind</td>\n      <td>5-217186-A-16.wav</td>\n      <td>NaN</td>\n      <td>NaN</td>\n      <td>NaN</td>\n      <td>NaN</td>\n      <td>NaN</td>\n      <td>NaN</td>\n      <td>NaN</td>\n      <td>NaN</td>\n      <td>...</td>\n      <td>NaN</td>\n      <td>NaN</td>\n      <td>NaN</td>\n      <td>NaN</td>\n      <td>NaN</td>\n      <td>NaN</td>\n      <td>NaN</td>\n      <td>NaN</td>\n      <td>NaN</td>\n      <td>NaN</td>\n    </tr>\n    <tr>\n      <th>587</th>\n      <td>wind</td>\n      <td>5-217186-B-16.wav</td>\n      <td>NaN</td>\n      <td>NaN</td>\n      <td>NaN</td>\n      <td>NaN</td>\n      <td>NaN</td>\n      <td>NaN</td>\n      <td>NaN</td>\n      <td>NaN</td>\n      <td>...</td>\n      <td>NaN</td>\n      <td>NaN</td>\n      <td>NaN</td>\n      <td>NaN</td>\n      <td>NaN</td>\n      <td>NaN</td>\n      <td>NaN</td>\n      <td>NaN</td>\n      <td>NaN</td>\n      <td>NaN</td>\n    </tr>\n    <tr>\n      <th>588</th>\n      <td>wind</td>\n      <td>5-217186-C-16.wav</td>\n      <td>NaN</td>\n      <td>NaN</td>\n      <td>NaN</td>\n      <td>NaN</td>\n      <td>NaN</td>\n      <td>NaN</td>\n      <td>NaN</td>\n      <td>NaN</td>\n      <td>...</td>\n      <td>NaN</td>\n      <td>NaN</td>\n      <td>NaN</td>\n      <td>NaN</td>\n      <td>NaN</td>\n      <td>NaN</td>\n      <td>NaN</td>\n      <td>NaN</td>\n      <td>NaN</td>\n      <td>NaN</td>\n    </tr>\n  </tbody>\n</table>\n<p>589 rows × 43 columns</p>\n</div>"
     },
     "execution_count": 5,
     "metadata": {},
     "output_type": "execute_result"
    }
   ],
   "source": [
    "features['category'] = df['Folder Name']\n",
    "features['file_name'] = df['File Name']\n",
    "features"
   ],
   "metadata": {
    "collapsed": false,
    "pycharm": {
     "name": "#%%\n"
    }
   }
  },
  {
   "cell_type": "code",
   "execution_count": 6,
   "outputs": [],
   "source": [
    "for i in range(len(features)):\n",
    "    wav_path = os.path.join(audio_path, features.loc[i, 'category'], features.loc[i, 'file_name'])\n",
    "    y, sr = librosa.load(wav_path)\n",
    "    mfcc = librosa.feature.mfcc(y=y, sr=sr, n_mfcc=20)\n",
    "    A = mfcc.T\n",
    "    means = np.mean(A, axis=0)\n",
    "    stds = np.std(A, axis=0)\n",
    "    features.loc[i, \"1_mean\":\"20_mean\"] = means\n",
    "    features.loc[i, \"1_std\":\"20_std\"] = stds"
   ],
   "metadata": {
    "collapsed": false,
    "pycharm": {
     "name": "#%%\n"
    }
   }
  },
  {
   "cell_type": "code",
   "execution_count": 7,
   "outputs": [
    {
     "data": {
      "text/plain": "    category                      file_name score      1_mean      2_mean  \\\n0         83                     01-1-1.wav   NaN -252.127609   86.128586   \n1         83                     02-4-2.wav   NaN -279.456085    108.1278   \n2         83  03-M202-1415 ( 270-280 s).wav   NaN -305.366821  148.540115   \n3         83  04-410-1 ( 0.00-300.58 s).wav   NaN -361.024445  159.265884   \n4         83                    05-10-1.wav   NaN -272.939178  113.978241   \n..       ...                            ...   ...         ...         ...   \n584     wind              5-179496-A-16.wav   NaN -192.173355  150.866333   \n585     wind              5-179496-B-16.wav   NaN -101.767982  131.221893   \n586     wind              5-217186-A-16.wav   NaN -222.207809  183.943939   \n587     wind              5-217186-B-16.wav   NaN -235.302231  205.780579   \n588     wind              5-217186-C-16.wav   NaN -230.492188  208.371674   \n\n        3_mean     4_mean     5_mean     6_mean     7_mean  ...    11_std  \\\n0    10.461998  14.621578   1.361512  10.490637  15.488813  ...  5.522668   \n1   -13.898211  18.046717   0.117357  -0.215368  -1.474596  ...  4.539378   \n2   -39.237045  48.273968  -9.937784  32.072445   6.839402  ...  4.306561   \n3   -17.051327  60.628349 -29.338272  22.672075   4.683626  ...  5.622759   \n4    -2.218684  13.162933   1.828024   5.188318   7.835854  ...  4.314792   \n..         ...        ...        ...        ...        ...  ...       ...   \n584 -12.687344  37.799076  -5.425802  -3.221573 -10.228493  ...  3.806068   \n585 -12.948376  40.412327 -12.006949 -10.983552 -16.728296  ...  3.419275   \n586   4.119511  10.777032   2.228588  16.810087  -1.126828  ...  3.450438   \n587    9.52617  -7.369459  -0.006387  10.415432  -5.040024  ...  3.887994   \n588   8.142572  -9.621955   -2.40158   7.428629  -8.327747  ...  4.237537   \n\n       12_std    13_std    14_std    15_std    16_std    17_std    18_std  \\\n0    5.133493  5.313482  4.102946   4.30753  4.510207  4.222592   4.36722   \n1    5.529422  5.066746  3.682637  3.820986  4.655492  4.363879  3.150316   \n2    5.249732  4.431898  4.859552  5.152275  5.295307  4.712944  4.877386   \n3     6.10471  5.724388   4.85767   5.63729  4.589547  4.885151  5.507865   \n4    4.286691  4.043229  3.552147  3.915589  3.958913  3.652741  3.416843   \n..        ...       ...       ...       ...       ...       ...       ...   \n584  4.752535  3.326014  3.381884  4.005228  3.470412  3.348992   3.67846   \n585  4.036082  3.934014  3.776955  4.999513  5.648588  5.538414   5.00893   \n586  3.888676  3.335238  3.510907  3.688945  3.235584  3.624189  3.850795   \n587  6.172148   7.31273  6.992607  6.899125  6.877663  7.316746  5.923437   \n588  6.044907  5.079111  4.308301  5.896577  6.583111  5.089331  3.716858   \n\n       19_std    20_std  \n0    4.141992   4.08354  \n1    3.727645  3.961967  \n2    5.356045  4.864066  \n3    5.501323  5.779461  \n4    3.533836  3.606537  \n..        ...       ...  \n584  3.864959  4.983475  \n585  5.194777  5.314892  \n586  3.227175  3.408997  \n587  5.465483  4.719625  \n588  3.426226  3.312782  \n\n[589 rows x 43 columns]",
      "text/html": "<div>\n<style scoped>\n    .dataframe tbody tr th:only-of-type {\n        vertical-align: middle;\n    }\n\n    .dataframe tbody tr th {\n        vertical-align: top;\n    }\n\n    .dataframe thead th {\n        text-align: right;\n    }\n</style>\n<table border=\"1\" class=\"dataframe\">\n  <thead>\n    <tr style=\"text-align: right;\">\n      <th></th>\n      <th>category</th>\n      <th>file_name</th>\n      <th>score</th>\n      <th>1_mean</th>\n      <th>2_mean</th>\n      <th>3_mean</th>\n      <th>4_mean</th>\n      <th>5_mean</th>\n      <th>6_mean</th>\n      <th>7_mean</th>\n      <th>...</th>\n      <th>11_std</th>\n      <th>12_std</th>\n      <th>13_std</th>\n      <th>14_std</th>\n      <th>15_std</th>\n      <th>16_std</th>\n      <th>17_std</th>\n      <th>18_std</th>\n      <th>19_std</th>\n      <th>20_std</th>\n    </tr>\n  </thead>\n  <tbody>\n    <tr>\n      <th>0</th>\n      <td>83</td>\n      <td>01-1-1.wav</td>\n      <td>NaN</td>\n      <td>-252.127609</td>\n      <td>86.128586</td>\n      <td>10.461998</td>\n      <td>14.621578</td>\n      <td>1.361512</td>\n      <td>10.490637</td>\n      <td>15.488813</td>\n      <td>...</td>\n      <td>5.522668</td>\n      <td>5.133493</td>\n      <td>5.313482</td>\n      <td>4.102946</td>\n      <td>4.30753</td>\n      <td>4.510207</td>\n      <td>4.222592</td>\n      <td>4.36722</td>\n      <td>4.141992</td>\n      <td>4.08354</td>\n    </tr>\n    <tr>\n      <th>1</th>\n      <td>83</td>\n      <td>02-4-2.wav</td>\n      <td>NaN</td>\n      <td>-279.456085</td>\n      <td>108.1278</td>\n      <td>-13.898211</td>\n      <td>18.046717</td>\n      <td>0.117357</td>\n      <td>-0.215368</td>\n      <td>-1.474596</td>\n      <td>...</td>\n      <td>4.539378</td>\n      <td>5.529422</td>\n      <td>5.066746</td>\n      <td>3.682637</td>\n      <td>3.820986</td>\n      <td>4.655492</td>\n      <td>4.363879</td>\n      <td>3.150316</td>\n      <td>3.727645</td>\n      <td>3.961967</td>\n    </tr>\n    <tr>\n      <th>2</th>\n      <td>83</td>\n      <td>03-M202-1415 ( 270-280 s).wav</td>\n      <td>NaN</td>\n      <td>-305.366821</td>\n      <td>148.540115</td>\n      <td>-39.237045</td>\n      <td>48.273968</td>\n      <td>-9.937784</td>\n      <td>32.072445</td>\n      <td>6.839402</td>\n      <td>...</td>\n      <td>4.306561</td>\n      <td>5.249732</td>\n      <td>4.431898</td>\n      <td>4.859552</td>\n      <td>5.152275</td>\n      <td>5.295307</td>\n      <td>4.712944</td>\n      <td>4.877386</td>\n      <td>5.356045</td>\n      <td>4.864066</td>\n    </tr>\n    <tr>\n      <th>3</th>\n      <td>83</td>\n      <td>04-410-1 ( 0.00-300.58 s).wav</td>\n      <td>NaN</td>\n      <td>-361.024445</td>\n      <td>159.265884</td>\n      <td>-17.051327</td>\n      <td>60.628349</td>\n      <td>-29.338272</td>\n      <td>22.672075</td>\n      <td>4.683626</td>\n      <td>...</td>\n      <td>5.622759</td>\n      <td>6.10471</td>\n      <td>5.724388</td>\n      <td>4.85767</td>\n      <td>5.63729</td>\n      <td>4.589547</td>\n      <td>4.885151</td>\n      <td>5.507865</td>\n      <td>5.501323</td>\n      <td>5.779461</td>\n    </tr>\n    <tr>\n      <th>4</th>\n      <td>83</td>\n      <td>05-10-1.wav</td>\n      <td>NaN</td>\n      <td>-272.939178</td>\n      <td>113.978241</td>\n      <td>-2.218684</td>\n      <td>13.162933</td>\n      <td>1.828024</td>\n      <td>5.188318</td>\n      <td>7.835854</td>\n      <td>...</td>\n      <td>4.314792</td>\n      <td>4.286691</td>\n      <td>4.043229</td>\n      <td>3.552147</td>\n      <td>3.915589</td>\n      <td>3.958913</td>\n      <td>3.652741</td>\n      <td>3.416843</td>\n      <td>3.533836</td>\n      <td>3.606537</td>\n    </tr>\n    <tr>\n      <th>...</th>\n      <td>...</td>\n      <td>...</td>\n      <td>...</td>\n      <td>...</td>\n      <td>...</td>\n      <td>...</td>\n      <td>...</td>\n      <td>...</td>\n      <td>...</td>\n      <td>...</td>\n      <td>...</td>\n      <td>...</td>\n      <td>...</td>\n      <td>...</td>\n      <td>...</td>\n      <td>...</td>\n      <td>...</td>\n      <td>...</td>\n      <td>...</td>\n      <td>...</td>\n      <td>...</td>\n    </tr>\n    <tr>\n      <th>584</th>\n      <td>wind</td>\n      <td>5-179496-A-16.wav</td>\n      <td>NaN</td>\n      <td>-192.173355</td>\n      <td>150.866333</td>\n      <td>-12.687344</td>\n      <td>37.799076</td>\n      <td>-5.425802</td>\n      <td>-3.221573</td>\n      <td>-10.228493</td>\n      <td>...</td>\n      <td>3.806068</td>\n      <td>4.752535</td>\n      <td>3.326014</td>\n      <td>3.381884</td>\n      <td>4.005228</td>\n      <td>3.470412</td>\n      <td>3.348992</td>\n      <td>3.67846</td>\n      <td>3.864959</td>\n      <td>4.983475</td>\n    </tr>\n    <tr>\n      <th>585</th>\n      <td>wind</td>\n      <td>5-179496-B-16.wav</td>\n      <td>NaN</td>\n      <td>-101.767982</td>\n      <td>131.221893</td>\n      <td>-12.948376</td>\n      <td>40.412327</td>\n      <td>-12.006949</td>\n      <td>-10.983552</td>\n      <td>-16.728296</td>\n      <td>...</td>\n      <td>3.419275</td>\n      <td>4.036082</td>\n      <td>3.934014</td>\n      <td>3.776955</td>\n      <td>4.999513</td>\n      <td>5.648588</td>\n      <td>5.538414</td>\n      <td>5.00893</td>\n      <td>5.194777</td>\n      <td>5.314892</td>\n    </tr>\n    <tr>\n      <th>586</th>\n      <td>wind</td>\n      <td>5-217186-A-16.wav</td>\n      <td>NaN</td>\n      <td>-222.207809</td>\n      <td>183.943939</td>\n      <td>4.119511</td>\n      <td>10.777032</td>\n      <td>2.228588</td>\n      <td>16.810087</td>\n      <td>-1.126828</td>\n      <td>...</td>\n      <td>3.450438</td>\n      <td>3.888676</td>\n      <td>3.335238</td>\n      <td>3.510907</td>\n      <td>3.688945</td>\n      <td>3.235584</td>\n      <td>3.624189</td>\n      <td>3.850795</td>\n      <td>3.227175</td>\n      <td>3.408997</td>\n    </tr>\n    <tr>\n      <th>587</th>\n      <td>wind</td>\n      <td>5-217186-B-16.wav</td>\n      <td>NaN</td>\n      <td>-235.302231</td>\n      <td>205.780579</td>\n      <td>9.52617</td>\n      <td>-7.369459</td>\n      <td>-0.006387</td>\n      <td>10.415432</td>\n      <td>-5.040024</td>\n      <td>...</td>\n      <td>3.887994</td>\n      <td>6.172148</td>\n      <td>7.31273</td>\n      <td>6.992607</td>\n      <td>6.899125</td>\n      <td>6.877663</td>\n      <td>7.316746</td>\n      <td>5.923437</td>\n      <td>5.465483</td>\n      <td>4.719625</td>\n    </tr>\n    <tr>\n      <th>588</th>\n      <td>wind</td>\n      <td>5-217186-C-16.wav</td>\n      <td>NaN</td>\n      <td>-230.492188</td>\n      <td>208.371674</td>\n      <td>8.142572</td>\n      <td>-9.621955</td>\n      <td>-2.40158</td>\n      <td>7.428629</td>\n      <td>-8.327747</td>\n      <td>...</td>\n      <td>4.237537</td>\n      <td>6.044907</td>\n      <td>5.079111</td>\n      <td>4.308301</td>\n      <td>5.896577</td>\n      <td>6.583111</td>\n      <td>5.089331</td>\n      <td>3.716858</td>\n      <td>3.426226</td>\n      <td>3.312782</td>\n    </tr>\n  </tbody>\n</table>\n<p>589 rows × 43 columns</p>\n</div>"
     },
     "execution_count": 7,
     "metadata": {},
     "output_type": "execute_result"
    }
   ],
   "source": [
    "features"
   ],
   "metadata": {
    "collapsed": false,
    "pycharm": {
     "name": "#%%\n"
    }
   }
  },
  {
   "cell_type": "code",
   "execution_count": 11,
   "outputs": [
    {
     "data": {
      "text/plain": "['83',\n 'airplane',\n 'car_horn',\n 'chainsaw',\n 'chirping_birds',\n 'crickets',\n 'engine',\n 'hand_saw',\n 'helicopter',\n 'rain',\n 'sea_waves',\n 'thunderstorm',\n 'train',\n 'wind']"
     },
     "execution_count": 11,
     "metadata": {},
     "output_type": "execute_result"
    }
   ],
   "source": [
    "category_list = features['category'].unique().tolist()\n",
    "category_list"
   ],
   "metadata": {
    "collapsed": false,
    "pycharm": {
     "name": "#%%\n"
    }
   }
  },
  {
   "cell_type": "code",
   "execution_count": 14,
   "outputs": [],
   "source": [
    "mapping_dict = {'airplane': 3,\n",
    "        'car_horn': 3,\n",
    "        'chainsaw': 3,\n",
    "        'chirping_birds': 7,\n",
    "        'crickets': 6,\n",
    "        'engine': 3.5,\n",
    "        'hand_saw': 3,\n",
    "        'helicopter': 3,\n",
    "        'rain': 5,\n",
    "        'sea_waves': 7.2,\n",
    "        'thunderstorm': 5,\n",
    "        'train': 4,\n",
    "        'wind': 5}"
   ],
   "metadata": {
    "collapsed": false,
    "pycharm": {
     "name": "#%%\n"
    }
   }
  },
  {
   "cell_type": "code",
   "execution_count": 15,
   "outputs": [],
   "source": [
    "def map_values(category):\n",
    "    return mapping_dict.get(category)\n",
    "\n",
    "features['score'] = features['category'].apply(map_values)"
   ],
   "metadata": {
    "collapsed": false,
    "pycharm": {
     "name": "#%%\n"
    }
   }
  },
  {
   "cell_type": "code",
   "execution_count": 16,
   "outputs": [
    {
     "data": {
      "text/plain": "    category                      file_name  score      1_mean      2_mean  \\\n0         83                     01-1-1.wav    NaN -252.127609   86.128586   \n1         83                     02-4-2.wav    NaN -279.456085    108.1278   \n2         83  03-M202-1415 ( 270-280 s).wav    NaN -305.366821  148.540115   \n3         83  04-410-1 ( 0.00-300.58 s).wav    NaN -361.024445  159.265884   \n4         83                    05-10-1.wav    NaN -272.939178  113.978241   \n..       ...                            ...    ...         ...         ...   \n584     wind              5-179496-A-16.wav    5.0 -192.173355  150.866333   \n585     wind              5-179496-B-16.wav    5.0 -101.767982  131.221893   \n586     wind              5-217186-A-16.wav    5.0 -222.207809  183.943939   \n587     wind              5-217186-B-16.wav    5.0 -235.302231  205.780579   \n588     wind              5-217186-C-16.wav    5.0 -230.492188  208.371674   \n\n        3_mean     4_mean     5_mean     6_mean     7_mean  ...    11_std  \\\n0    10.461998  14.621578   1.361512  10.490637  15.488813  ...  5.522668   \n1   -13.898211  18.046717   0.117357  -0.215368  -1.474596  ...  4.539378   \n2   -39.237045  48.273968  -9.937784  32.072445   6.839402  ...  4.306561   \n3   -17.051327  60.628349 -29.338272  22.672075   4.683626  ...  5.622759   \n4    -2.218684  13.162933   1.828024   5.188318   7.835854  ...  4.314792   \n..         ...        ...        ...        ...        ...  ...       ...   \n584 -12.687344  37.799076  -5.425802  -3.221573 -10.228493  ...  3.806068   \n585 -12.948376  40.412327 -12.006949 -10.983552 -16.728296  ...  3.419275   \n586   4.119511  10.777032   2.228588  16.810087  -1.126828  ...  3.450438   \n587    9.52617  -7.369459  -0.006387  10.415432  -5.040024  ...  3.887994   \n588   8.142572  -9.621955   -2.40158   7.428629  -8.327747  ...  4.237537   \n\n       12_std    13_std    14_std    15_std    16_std    17_std    18_std  \\\n0    5.133493  5.313482  4.102946   4.30753  4.510207  4.222592   4.36722   \n1    5.529422  5.066746  3.682637  3.820986  4.655492  4.363879  3.150316   \n2    5.249732  4.431898  4.859552  5.152275  5.295307  4.712944  4.877386   \n3     6.10471  5.724388   4.85767   5.63729  4.589547  4.885151  5.507865   \n4    4.286691  4.043229  3.552147  3.915589  3.958913  3.652741  3.416843   \n..        ...       ...       ...       ...       ...       ...       ...   \n584  4.752535  3.326014  3.381884  4.005228  3.470412  3.348992   3.67846   \n585  4.036082  3.934014  3.776955  4.999513  5.648588  5.538414   5.00893   \n586  3.888676  3.335238  3.510907  3.688945  3.235584  3.624189  3.850795   \n587  6.172148   7.31273  6.992607  6.899125  6.877663  7.316746  5.923437   \n588  6.044907  5.079111  4.308301  5.896577  6.583111  5.089331  3.716858   \n\n       19_std    20_std  \n0    4.141992   4.08354  \n1    3.727645  3.961967  \n2    5.356045  4.864066  \n3    5.501323  5.779461  \n4    3.533836  3.606537  \n..        ...       ...  \n584  3.864959  4.983475  \n585  5.194777  5.314892  \n586  3.227175  3.408997  \n587  5.465483  4.719625  \n588  3.426226  3.312782  \n\n[589 rows x 43 columns]",
      "text/html": "<div>\n<style scoped>\n    .dataframe tbody tr th:only-of-type {\n        vertical-align: middle;\n    }\n\n    .dataframe tbody tr th {\n        vertical-align: top;\n    }\n\n    .dataframe thead th {\n        text-align: right;\n    }\n</style>\n<table border=\"1\" class=\"dataframe\">\n  <thead>\n    <tr style=\"text-align: right;\">\n      <th></th>\n      <th>category</th>\n      <th>file_name</th>\n      <th>score</th>\n      <th>1_mean</th>\n      <th>2_mean</th>\n      <th>3_mean</th>\n      <th>4_mean</th>\n      <th>5_mean</th>\n      <th>6_mean</th>\n      <th>7_mean</th>\n      <th>...</th>\n      <th>11_std</th>\n      <th>12_std</th>\n      <th>13_std</th>\n      <th>14_std</th>\n      <th>15_std</th>\n      <th>16_std</th>\n      <th>17_std</th>\n      <th>18_std</th>\n      <th>19_std</th>\n      <th>20_std</th>\n    </tr>\n  </thead>\n  <tbody>\n    <tr>\n      <th>0</th>\n      <td>83</td>\n      <td>01-1-1.wav</td>\n      <td>NaN</td>\n      <td>-252.127609</td>\n      <td>86.128586</td>\n      <td>10.461998</td>\n      <td>14.621578</td>\n      <td>1.361512</td>\n      <td>10.490637</td>\n      <td>15.488813</td>\n      <td>...</td>\n      <td>5.522668</td>\n      <td>5.133493</td>\n      <td>5.313482</td>\n      <td>4.102946</td>\n      <td>4.30753</td>\n      <td>4.510207</td>\n      <td>4.222592</td>\n      <td>4.36722</td>\n      <td>4.141992</td>\n      <td>4.08354</td>\n    </tr>\n    <tr>\n      <th>1</th>\n      <td>83</td>\n      <td>02-4-2.wav</td>\n      <td>NaN</td>\n      <td>-279.456085</td>\n      <td>108.1278</td>\n      <td>-13.898211</td>\n      <td>18.046717</td>\n      <td>0.117357</td>\n      <td>-0.215368</td>\n      <td>-1.474596</td>\n      <td>...</td>\n      <td>4.539378</td>\n      <td>5.529422</td>\n      <td>5.066746</td>\n      <td>3.682637</td>\n      <td>3.820986</td>\n      <td>4.655492</td>\n      <td>4.363879</td>\n      <td>3.150316</td>\n      <td>3.727645</td>\n      <td>3.961967</td>\n    </tr>\n    <tr>\n      <th>2</th>\n      <td>83</td>\n      <td>03-M202-1415 ( 270-280 s).wav</td>\n      <td>NaN</td>\n      <td>-305.366821</td>\n      <td>148.540115</td>\n      <td>-39.237045</td>\n      <td>48.273968</td>\n      <td>-9.937784</td>\n      <td>32.072445</td>\n      <td>6.839402</td>\n      <td>...</td>\n      <td>4.306561</td>\n      <td>5.249732</td>\n      <td>4.431898</td>\n      <td>4.859552</td>\n      <td>5.152275</td>\n      <td>5.295307</td>\n      <td>4.712944</td>\n      <td>4.877386</td>\n      <td>5.356045</td>\n      <td>4.864066</td>\n    </tr>\n    <tr>\n      <th>3</th>\n      <td>83</td>\n      <td>04-410-1 ( 0.00-300.58 s).wav</td>\n      <td>NaN</td>\n      <td>-361.024445</td>\n      <td>159.265884</td>\n      <td>-17.051327</td>\n      <td>60.628349</td>\n      <td>-29.338272</td>\n      <td>22.672075</td>\n      <td>4.683626</td>\n      <td>...</td>\n      <td>5.622759</td>\n      <td>6.10471</td>\n      <td>5.724388</td>\n      <td>4.85767</td>\n      <td>5.63729</td>\n      <td>4.589547</td>\n      <td>4.885151</td>\n      <td>5.507865</td>\n      <td>5.501323</td>\n      <td>5.779461</td>\n    </tr>\n    <tr>\n      <th>4</th>\n      <td>83</td>\n      <td>05-10-1.wav</td>\n      <td>NaN</td>\n      <td>-272.939178</td>\n      <td>113.978241</td>\n      <td>-2.218684</td>\n      <td>13.162933</td>\n      <td>1.828024</td>\n      <td>5.188318</td>\n      <td>7.835854</td>\n      <td>...</td>\n      <td>4.314792</td>\n      <td>4.286691</td>\n      <td>4.043229</td>\n      <td>3.552147</td>\n      <td>3.915589</td>\n      <td>3.958913</td>\n      <td>3.652741</td>\n      <td>3.416843</td>\n      <td>3.533836</td>\n      <td>3.606537</td>\n    </tr>\n    <tr>\n      <th>...</th>\n      <td>...</td>\n      <td>...</td>\n      <td>...</td>\n      <td>...</td>\n      <td>...</td>\n      <td>...</td>\n      <td>...</td>\n      <td>...</td>\n      <td>...</td>\n      <td>...</td>\n      <td>...</td>\n      <td>...</td>\n      <td>...</td>\n      <td>...</td>\n      <td>...</td>\n      <td>...</td>\n      <td>...</td>\n      <td>...</td>\n      <td>...</td>\n      <td>...</td>\n      <td>...</td>\n    </tr>\n    <tr>\n      <th>584</th>\n      <td>wind</td>\n      <td>5-179496-A-16.wav</td>\n      <td>5.0</td>\n      <td>-192.173355</td>\n      <td>150.866333</td>\n      <td>-12.687344</td>\n      <td>37.799076</td>\n      <td>-5.425802</td>\n      <td>-3.221573</td>\n      <td>-10.228493</td>\n      <td>...</td>\n      <td>3.806068</td>\n      <td>4.752535</td>\n      <td>3.326014</td>\n      <td>3.381884</td>\n      <td>4.005228</td>\n      <td>3.470412</td>\n      <td>3.348992</td>\n      <td>3.67846</td>\n      <td>3.864959</td>\n      <td>4.983475</td>\n    </tr>\n    <tr>\n      <th>585</th>\n      <td>wind</td>\n      <td>5-179496-B-16.wav</td>\n      <td>5.0</td>\n      <td>-101.767982</td>\n      <td>131.221893</td>\n      <td>-12.948376</td>\n      <td>40.412327</td>\n      <td>-12.006949</td>\n      <td>-10.983552</td>\n      <td>-16.728296</td>\n      <td>...</td>\n      <td>3.419275</td>\n      <td>4.036082</td>\n      <td>3.934014</td>\n      <td>3.776955</td>\n      <td>4.999513</td>\n      <td>5.648588</td>\n      <td>5.538414</td>\n      <td>5.00893</td>\n      <td>5.194777</td>\n      <td>5.314892</td>\n    </tr>\n    <tr>\n      <th>586</th>\n      <td>wind</td>\n      <td>5-217186-A-16.wav</td>\n      <td>5.0</td>\n      <td>-222.207809</td>\n      <td>183.943939</td>\n      <td>4.119511</td>\n      <td>10.777032</td>\n      <td>2.228588</td>\n      <td>16.810087</td>\n      <td>-1.126828</td>\n      <td>...</td>\n      <td>3.450438</td>\n      <td>3.888676</td>\n      <td>3.335238</td>\n      <td>3.510907</td>\n      <td>3.688945</td>\n      <td>3.235584</td>\n      <td>3.624189</td>\n      <td>3.850795</td>\n      <td>3.227175</td>\n      <td>3.408997</td>\n    </tr>\n    <tr>\n      <th>587</th>\n      <td>wind</td>\n      <td>5-217186-B-16.wav</td>\n      <td>5.0</td>\n      <td>-235.302231</td>\n      <td>205.780579</td>\n      <td>9.52617</td>\n      <td>-7.369459</td>\n      <td>-0.006387</td>\n      <td>10.415432</td>\n      <td>-5.040024</td>\n      <td>...</td>\n      <td>3.887994</td>\n      <td>6.172148</td>\n      <td>7.31273</td>\n      <td>6.992607</td>\n      <td>6.899125</td>\n      <td>6.877663</td>\n      <td>7.316746</td>\n      <td>5.923437</td>\n      <td>5.465483</td>\n      <td>4.719625</td>\n    </tr>\n    <tr>\n      <th>588</th>\n      <td>wind</td>\n      <td>5-217186-C-16.wav</td>\n      <td>5.0</td>\n      <td>-230.492188</td>\n      <td>208.371674</td>\n      <td>8.142572</td>\n      <td>-9.621955</td>\n      <td>-2.40158</td>\n      <td>7.428629</td>\n      <td>-8.327747</td>\n      <td>...</td>\n      <td>4.237537</td>\n      <td>6.044907</td>\n      <td>5.079111</td>\n      <td>4.308301</td>\n      <td>5.896577</td>\n      <td>6.583111</td>\n      <td>5.089331</td>\n      <td>3.716858</td>\n      <td>3.426226</td>\n      <td>3.312782</td>\n    </tr>\n  </tbody>\n</table>\n<p>589 rows × 43 columns</p>\n</div>"
     },
     "execution_count": 16,
     "metadata": {},
     "output_type": "execute_result"
    }
   ],
   "source": [
    "features"
   ],
   "metadata": {
    "collapsed": false,
    "pycharm": {
     "name": "#%%\n"
    }
   }
  },
  {
   "cell_type": "code",
   "execution_count": 17,
   "outputs": [],
   "source": [
    "features.to_excel('./output/features.xlsx', index=False, encoding='utf_8_sig')"
   ],
   "metadata": {
    "collapsed": false,
    "pycharm": {
     "name": "#%%\n"
    }
   }
  },
  {
   "cell_type": "code",
   "execution_count": null,
   "outputs": [],
   "source": [],
   "metadata": {
    "collapsed": false,
    "pycharm": {
     "name": "#%%\n"
    }
   }
  }
 ],
 "metadata": {
  "kernelspec": {
   "display_name": "Python 3",
   "language": "python",
   "name": "python3"
  },
  "language_info": {
   "codemirror_mode": {
    "name": "ipython",
    "version": 2
   },
   "file_extension": ".py",
   "mimetype": "text/x-python",
   "name": "python",
   "nbconvert_exporter": "python",
   "pygments_lexer": "ipython2",
   "version": "2.7.6"
  }
 },
 "nbformat": 4,
 "nbformat_minor": 0
}