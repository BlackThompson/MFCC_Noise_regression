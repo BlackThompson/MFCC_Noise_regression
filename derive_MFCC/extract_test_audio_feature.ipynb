{
 "cells": [
  {
   "cell_type": "code",
   "execution_count": 1,
   "metadata": {
    "collapsed": true
   },
   "outputs": [],
   "source": [
    "import librosa\n",
    "import pandas as pd\n",
    "import numpy as np\n",
    "import os\n",
    "from config import *\n",
    "\n",
    "audio_path = '.\\\\input\\\\test_audio'"
   ]
  },
  {
   "cell_type": "code",
   "execution_count": 2,
   "outputs": [],
   "source": [
    "file_names = [f for f in os.listdir(audio_path) if os.path.isfile(os.path.join(audio_path, f))]"
   ],
   "metadata": {
    "collapsed": false,
    "pycharm": {
     "name": "#%%\n"
    }
   }
  },
  {
   "cell_type": "code",
   "execution_count": 3,
   "outputs": [
    {
     "data": {
      "text/plain": "['ba1-M301-1731.wav',\n 'ba10-M311-1416.wav',\n 'ba11-M312-0710.wav',\n 'ba12-N301-1712.wav',\n 'ba13-N302-0729.wav',\n 'ba2-M302-0823.wav',\n 'ba3-M303-0743.wav',\n 'ba4-M304-1030.wav',\n 'ba5-M306-0708.wav',\n 'ba6-M307-0731.wav',\n 'ba7-M308-1505.wav',\n 'ba8-M309-0812.wav',\n 'ba9-M310-0745.wav',\n 'dp1-M101-1713.wav',\n 'dp10-N109-1012.wav',\n 'dp11-N113-0950.wav',\n 'dp12-N118-1630.wav',\n 'dp13-N119-1950.wav',\n 'dp14-N121-1910.wav',\n 'dp15-N124-1449.wav',\n 'dp16-N126-1515.wav',\n 'dp2-M102-0638.wav',\n 'dp3-M103-1658.wav',\n 'dp4-M107-0752.wav',\n 'dp5-M109-0700.wav',\n 'dp6-M114-2150.wav',\n 'dp7-N103-1531.wav',\n 'dp8-N105-0620.wav',\n 'dp9-N106-0628.wav',\n 'ft1-M201-0645.wav',\n 'ft10-N201-0719.wav',\n 'ft11-N202-0716.wav',\n 'ft12-N203-0819.wav',\n 'ft13-N205-1731.wav',\n 'ft2-M202-1005.wav',\n 'ft3-M203-1038.wav',\n 'ft4-M204-1609.wav',\n 'ft5-M206-0726.wav',\n 'ft6-M207-1733.wav',\n 'ft7-M208-0746.wav',\n 'ft8-M210-0643.wav',\n 'ft9-M211-1202.wav',\n 'lg1-M401-1055.wav',\n 'lg10-N404-1620.wav',\n 'lg2-M402-1450.wav',\n 'lg3-M404-0830.wav',\n 'lg4-M405-1915.wav',\n 'lg5-M406-1016.wav',\n 'lg6-M407-1936.wav',\n 'lg7-N401-1550.wav',\n 'lg8-N402-0820.wav',\n 'lg9-N403-1618.wav',\n 'lh1-M501-1825.wav',\n 'lh10-N501-0819.wav',\n 'lh11-N502-1256.wav',\n 'lh12-N503-1302.wav',\n 'lh13-N504-1148.wav',\n 'lh2-M502-0915.wav',\n 'lh3-M503-1412.wav',\n 'lh4-M504-0941.wav',\n 'lh5-M505-1001.wav',\n 'lh6-M506-1359.wav',\n 'lh7-M508-0830.wav',\n 'lh8-M509-1336.wav',\n 'lh9-M510-1751.wav',\n 'ns1-M601-1715.wav',\n 'ns10-M610-1140.wav',\n 'ns11-N601-1050.wav',\n 'ns12-N602-0859.wav',\n 'ns13-N603-1527.wav',\n 'ns14-N604-1029.wav',\n 'ns15-N605-1056.wav',\n 'ns2-M602-0806.wav',\n 'ns3-M603-0731.wav',\n 'ns4-M604-0751.wav',\n 'ns5-M605-0831.wav',\n 'ns6-M606-0829.wav',\n 'ns7-M607-1508.wav',\n 'ns8-M608-1846.wav',\n 'ns9-M609-0739.wav']"
     },
     "execution_count": 3,
     "metadata": {},
     "output_type": "execute_result"
    }
   ],
   "source": [
    "file_names"
   ],
   "metadata": {
    "collapsed": false,
    "pycharm": {
     "name": "#%%\n"
    }
   }
  },
  {
   "cell_type": "code",
   "execution_count": 4,
   "outputs": [
    {
     "data": {
      "text/plain": "Empty DataFrame\nColumns: [file_name, score, 1_mean, 2_mean, 3_mean, 4_mean, 5_mean, 6_mean, 7_mean, 8_mean, 9_mean, 10_mean, 11_mean, 12_mean, 13_mean, 14_mean, 15_mean, 16_mean, 17_mean, 18_mean, 19_mean, 20_mean, 1_std, 2_std, 3_std, 4_std, 5_std, 6_std, 7_std, 8_std, 9_std, 10_std, 11_std, 12_std, 13_std, 14_std, 15_std, 16_std, 17_std, 18_std, 19_std, 20_std]\nIndex: []\n\n[0 rows x 42 columns]",
      "text/html": "<div>\n<style scoped>\n    .dataframe tbody tr th:only-of-type {\n        vertical-align: middle;\n    }\n\n    .dataframe tbody tr th {\n        vertical-align: top;\n    }\n\n    .dataframe thead th {\n        text-align: right;\n    }\n</style>\n<table border=\"1\" class=\"dataframe\">\n  <thead>\n    <tr style=\"text-align: right;\">\n      <th></th>\n      <th>file_name</th>\n      <th>score</th>\n      <th>1_mean</th>\n      <th>2_mean</th>\n      <th>3_mean</th>\n      <th>4_mean</th>\n      <th>5_mean</th>\n      <th>6_mean</th>\n      <th>7_mean</th>\n      <th>8_mean</th>\n      <th>...</th>\n      <th>11_std</th>\n      <th>12_std</th>\n      <th>13_std</th>\n      <th>14_std</th>\n      <th>15_std</th>\n      <th>16_std</th>\n      <th>17_std</th>\n      <th>18_std</th>\n      <th>19_std</th>\n      <th>20_std</th>\n    </tr>\n  </thead>\n  <tbody>\n  </tbody>\n</table>\n<p>0 rows × 42 columns</p>\n</div>"
     },
     "execution_count": 4,
     "metadata": {},
     "output_type": "execute_result"
    }
   ],
   "source": [
    "columns_mean = [f'{i}_mean' for i in range(1, 21)]\n",
    "columns_std = [f'{i}_std' for i in range(1, 21)]\n",
    "columns = ['file_name', 'score'] + columns_mean + columns_std\n",
    "test_features = pd.DataFrame(columns=columns)\n",
    "test_features"
   ],
   "metadata": {
    "collapsed": false,
    "pycharm": {
     "name": "#%%\n"
    }
   }
  },
  {
   "cell_type": "code",
   "execution_count": 5,
   "outputs": [
    {
     "data": {
      "text/plain": "             file_name score 1_mean 2_mean 3_mean 4_mean 5_mean 6_mean 7_mean  \\\n0    ba1-M301-1731.wav   NaN    NaN    NaN    NaN    NaN    NaN    NaN    NaN   \n1   ba10-M311-1416.wav   NaN    NaN    NaN    NaN    NaN    NaN    NaN    NaN   \n2   ba11-M312-0710.wav   NaN    NaN    NaN    NaN    NaN    NaN    NaN    NaN   \n3   ba12-N301-1712.wav   NaN    NaN    NaN    NaN    NaN    NaN    NaN    NaN   \n4   ba13-N302-0729.wav   NaN    NaN    NaN    NaN    NaN    NaN    NaN    NaN   \n..                 ...   ...    ...    ...    ...    ...    ...    ...    ...   \n75   ns5-M605-0831.wav   NaN    NaN    NaN    NaN    NaN    NaN    NaN    NaN   \n76   ns6-M606-0829.wav   NaN    NaN    NaN    NaN    NaN    NaN    NaN    NaN   \n77   ns7-M607-1508.wav   NaN    NaN    NaN    NaN    NaN    NaN    NaN    NaN   \n78   ns8-M608-1846.wav   NaN    NaN    NaN    NaN    NaN    NaN    NaN    NaN   \n79   ns9-M609-0739.wav   NaN    NaN    NaN    NaN    NaN    NaN    NaN    NaN   \n\n   8_mean  ... 11_std 12_std 13_std 14_std 15_std 16_std 17_std 18_std 19_std  \\\n0     NaN  ...    NaN    NaN    NaN    NaN    NaN    NaN    NaN    NaN    NaN   \n1     NaN  ...    NaN    NaN    NaN    NaN    NaN    NaN    NaN    NaN    NaN   \n2     NaN  ...    NaN    NaN    NaN    NaN    NaN    NaN    NaN    NaN    NaN   \n3     NaN  ...    NaN    NaN    NaN    NaN    NaN    NaN    NaN    NaN    NaN   \n4     NaN  ...    NaN    NaN    NaN    NaN    NaN    NaN    NaN    NaN    NaN   \n..    ...  ...    ...    ...    ...    ...    ...    ...    ...    ...    ...   \n75    NaN  ...    NaN    NaN    NaN    NaN    NaN    NaN    NaN    NaN    NaN   \n76    NaN  ...    NaN    NaN    NaN    NaN    NaN    NaN    NaN    NaN    NaN   \n77    NaN  ...    NaN    NaN    NaN    NaN    NaN    NaN    NaN    NaN    NaN   \n78    NaN  ...    NaN    NaN    NaN    NaN    NaN    NaN    NaN    NaN    NaN   \n79    NaN  ...    NaN    NaN    NaN    NaN    NaN    NaN    NaN    NaN    NaN   \n\n   20_std  \n0     NaN  \n1     NaN  \n2     NaN  \n3     NaN  \n4     NaN  \n..    ...  \n75    NaN  \n76    NaN  \n77    NaN  \n78    NaN  \n79    NaN  \n\n[80 rows x 42 columns]",
      "text/html": "<div>\n<style scoped>\n    .dataframe tbody tr th:only-of-type {\n        vertical-align: middle;\n    }\n\n    .dataframe tbody tr th {\n        vertical-align: top;\n    }\n\n    .dataframe thead th {\n        text-align: right;\n    }\n</style>\n<table border=\"1\" class=\"dataframe\">\n  <thead>\n    <tr style=\"text-align: right;\">\n      <th></th>\n      <th>file_name</th>\n      <th>score</th>\n      <th>1_mean</th>\n      <th>2_mean</th>\n      <th>3_mean</th>\n      <th>4_mean</th>\n      <th>5_mean</th>\n      <th>6_mean</th>\n      <th>7_mean</th>\n      <th>8_mean</th>\n      <th>...</th>\n      <th>11_std</th>\n      <th>12_std</th>\n      <th>13_std</th>\n      <th>14_std</th>\n      <th>15_std</th>\n      <th>16_std</th>\n      <th>17_std</th>\n      <th>18_std</th>\n      <th>19_std</th>\n      <th>20_std</th>\n    </tr>\n  </thead>\n  <tbody>\n    <tr>\n      <th>0</th>\n      <td>ba1-M301-1731.wav</td>\n      <td>NaN</td>\n      <td>NaN</td>\n      <td>NaN</td>\n      <td>NaN</td>\n      <td>NaN</td>\n      <td>NaN</td>\n      <td>NaN</td>\n      <td>NaN</td>\n      <td>NaN</td>\n      <td>...</td>\n      <td>NaN</td>\n      <td>NaN</td>\n      <td>NaN</td>\n      <td>NaN</td>\n      <td>NaN</td>\n      <td>NaN</td>\n      <td>NaN</td>\n      <td>NaN</td>\n      <td>NaN</td>\n      <td>NaN</td>\n    </tr>\n    <tr>\n      <th>1</th>\n      <td>ba10-M311-1416.wav</td>\n      <td>NaN</td>\n      <td>NaN</td>\n      <td>NaN</td>\n      <td>NaN</td>\n      <td>NaN</td>\n      <td>NaN</td>\n      <td>NaN</td>\n      <td>NaN</td>\n      <td>NaN</td>\n      <td>...</td>\n      <td>NaN</td>\n      <td>NaN</td>\n      <td>NaN</td>\n      <td>NaN</td>\n      <td>NaN</td>\n      <td>NaN</td>\n      <td>NaN</td>\n      <td>NaN</td>\n      <td>NaN</td>\n      <td>NaN</td>\n    </tr>\n    <tr>\n      <th>2</th>\n      <td>ba11-M312-0710.wav</td>\n      <td>NaN</td>\n      <td>NaN</td>\n      <td>NaN</td>\n      <td>NaN</td>\n      <td>NaN</td>\n      <td>NaN</td>\n      <td>NaN</td>\n      <td>NaN</td>\n      <td>NaN</td>\n      <td>...</td>\n      <td>NaN</td>\n      <td>NaN</td>\n      <td>NaN</td>\n      <td>NaN</td>\n      <td>NaN</td>\n      <td>NaN</td>\n      <td>NaN</td>\n      <td>NaN</td>\n      <td>NaN</td>\n      <td>NaN</td>\n    </tr>\n    <tr>\n      <th>3</th>\n      <td>ba12-N301-1712.wav</td>\n      <td>NaN</td>\n      <td>NaN</td>\n      <td>NaN</td>\n      <td>NaN</td>\n      <td>NaN</td>\n      <td>NaN</td>\n      <td>NaN</td>\n      <td>NaN</td>\n      <td>NaN</td>\n      <td>...</td>\n      <td>NaN</td>\n      <td>NaN</td>\n      <td>NaN</td>\n      <td>NaN</td>\n      <td>NaN</td>\n      <td>NaN</td>\n      <td>NaN</td>\n      <td>NaN</td>\n      <td>NaN</td>\n      <td>NaN</td>\n    </tr>\n    <tr>\n      <th>4</th>\n      <td>ba13-N302-0729.wav</td>\n      <td>NaN</td>\n      <td>NaN</td>\n      <td>NaN</td>\n      <td>NaN</td>\n      <td>NaN</td>\n      <td>NaN</td>\n      <td>NaN</td>\n      <td>NaN</td>\n      <td>NaN</td>\n      <td>...</td>\n      <td>NaN</td>\n      <td>NaN</td>\n      <td>NaN</td>\n      <td>NaN</td>\n      <td>NaN</td>\n      <td>NaN</td>\n      <td>NaN</td>\n      <td>NaN</td>\n      <td>NaN</td>\n      <td>NaN</td>\n    </tr>\n    <tr>\n      <th>...</th>\n      <td>...</td>\n      <td>...</td>\n      <td>...</td>\n      <td>...</td>\n      <td>...</td>\n      <td>...</td>\n      <td>...</td>\n      <td>...</td>\n      <td>...</td>\n      <td>...</td>\n      <td>...</td>\n      <td>...</td>\n      <td>...</td>\n      <td>...</td>\n      <td>...</td>\n      <td>...</td>\n      <td>...</td>\n      <td>...</td>\n      <td>...</td>\n      <td>...</td>\n      <td>...</td>\n    </tr>\n    <tr>\n      <th>75</th>\n      <td>ns5-M605-0831.wav</td>\n      <td>NaN</td>\n      <td>NaN</td>\n      <td>NaN</td>\n      <td>NaN</td>\n      <td>NaN</td>\n      <td>NaN</td>\n      <td>NaN</td>\n      <td>NaN</td>\n      <td>NaN</td>\n      <td>...</td>\n      <td>NaN</td>\n      <td>NaN</td>\n      <td>NaN</td>\n      <td>NaN</td>\n      <td>NaN</td>\n      <td>NaN</td>\n      <td>NaN</td>\n      <td>NaN</td>\n      <td>NaN</td>\n      <td>NaN</td>\n    </tr>\n    <tr>\n      <th>76</th>\n      <td>ns6-M606-0829.wav</td>\n      <td>NaN</td>\n      <td>NaN</td>\n      <td>NaN</td>\n      <td>NaN</td>\n      <td>NaN</td>\n      <td>NaN</td>\n      <td>NaN</td>\n      <td>NaN</td>\n      <td>NaN</td>\n      <td>...</td>\n      <td>NaN</td>\n      <td>NaN</td>\n      <td>NaN</td>\n      <td>NaN</td>\n      <td>NaN</td>\n      <td>NaN</td>\n      <td>NaN</td>\n      <td>NaN</td>\n      <td>NaN</td>\n      <td>NaN</td>\n    </tr>\n    <tr>\n      <th>77</th>\n      <td>ns7-M607-1508.wav</td>\n      <td>NaN</td>\n      <td>NaN</td>\n      <td>NaN</td>\n      <td>NaN</td>\n      <td>NaN</td>\n      <td>NaN</td>\n      <td>NaN</td>\n      <td>NaN</td>\n      <td>NaN</td>\n      <td>...</td>\n      <td>NaN</td>\n      <td>NaN</td>\n      <td>NaN</td>\n      <td>NaN</td>\n      <td>NaN</td>\n      <td>NaN</td>\n      <td>NaN</td>\n      <td>NaN</td>\n      <td>NaN</td>\n      <td>NaN</td>\n    </tr>\n    <tr>\n      <th>78</th>\n      <td>ns8-M608-1846.wav</td>\n      <td>NaN</td>\n      <td>NaN</td>\n      <td>NaN</td>\n      <td>NaN</td>\n      <td>NaN</td>\n      <td>NaN</td>\n      <td>NaN</td>\n      <td>NaN</td>\n      <td>NaN</td>\n      <td>...</td>\n      <td>NaN</td>\n      <td>NaN</td>\n      <td>NaN</td>\n      <td>NaN</td>\n      <td>NaN</td>\n      <td>NaN</td>\n      <td>NaN</td>\n      <td>NaN</td>\n      <td>NaN</td>\n      <td>NaN</td>\n    </tr>\n    <tr>\n      <th>79</th>\n      <td>ns9-M609-0739.wav</td>\n      <td>NaN</td>\n      <td>NaN</td>\n      <td>NaN</td>\n      <td>NaN</td>\n      <td>NaN</td>\n      <td>NaN</td>\n      <td>NaN</td>\n      <td>NaN</td>\n      <td>NaN</td>\n      <td>...</td>\n      <td>NaN</td>\n      <td>NaN</td>\n      <td>NaN</td>\n      <td>NaN</td>\n      <td>NaN</td>\n      <td>NaN</td>\n      <td>NaN</td>\n      <td>NaN</td>\n      <td>NaN</td>\n      <td>NaN</td>\n    </tr>\n  </tbody>\n</table>\n<p>80 rows × 42 columns</p>\n</div>"
     },
     "execution_count": 5,
     "metadata": {},
     "output_type": "execute_result"
    }
   ],
   "source": [
    "test_features['file_name'] = file_names\n",
    "test_features"
   ],
   "metadata": {
    "collapsed": false,
    "pycharm": {
     "name": "#%%\n"
    }
   }
  },
  {
   "cell_type": "code",
   "execution_count": 6,
   "outputs": [
    {
     "data": {
      "text/plain": "             file_name score      1_mean      2_mean     3_mean     4_mean  \\\n0    ba1-M301-1731.wav   NaN -379.915894  121.484573  -9.561069  30.740805   \n1   ba10-M311-1416.wav   NaN -389.567322  104.404694   1.735771   17.84227   \n2   ba11-M312-0710.wav   NaN -340.902466  119.983734   7.850637  28.497646   \n3   ba12-N301-1712.wav   NaN -324.119904   95.772949  29.654537  31.449263   \n4   ba13-N302-0729.wav   NaN -320.010193   71.716736  31.357893   39.20871   \n..                 ...   ...         ...         ...        ...        ...   \n75   ns5-M605-0831.wav   NaN -444.706635  151.115906 -36.676922  35.464718   \n76   ns6-M606-0829.wav   NaN -371.483246  180.746948 -16.223913  63.969383   \n77   ns7-M607-1508.wav   NaN -368.713501  158.436371 -20.232477  54.537422   \n78   ns8-M608-1846.wav   NaN -338.293579  135.813461   3.742237  54.406132   \n79   ns9-M609-0739.wav   NaN -439.811615  175.525909 -35.800541  38.013245   \n\n       5_mean     6_mean     7_mean     8_mean  ...    11_std    12_std  \\\n0    6.344048  14.242371    13.7257  13.898823  ...  6.348057  5.557012   \n1    2.359507  13.318727  16.691154  17.618414  ...  4.539108   4.70059   \n2    11.75486  19.158529  20.285519  15.364017  ...   4.56725  4.519084   \n3   18.386858  17.007147  19.529036  13.759062  ...   4.68095  5.060575   \n4    14.09876  22.575167  12.492645  10.995086  ...  5.268176  5.639967   \n..        ...        ...        ...        ...  ...       ...       ...   \n75  -23.76515  19.882576  -6.928316   9.014794  ...  5.299026  4.866765   \n76 -10.826746  30.815088  -6.779669  15.532515  ...  3.792125  3.729633   \n77  -6.922021  31.867296   5.088599   21.03179  ...  4.235102   4.09918   \n78  -7.137683  48.125862  -4.826029  23.184002  ...  6.728139  6.801905   \n79  -8.572528  25.689186   1.823579  11.778252  ...  5.489779  4.097455   \n\n      13_std    14_std    15_std    16_std    17_std    18_std    19_std  \\\n0   4.313754  4.438601  4.212533  5.525868  5.761434  4.766224  3.856444   \n1   4.333097  5.305111  4.786023  4.156812  3.891042  4.251973  3.696651   \n2   4.486757  4.145894  3.825438  3.987225  3.838557  3.832442  3.613857   \n3   4.581211  4.352899  4.963758  4.230967  4.728704  4.349295  3.796372   \n4   5.414101   4.54866  5.331937  4.579217  4.812475  4.249076  4.144152   \n..       ...       ...       ...       ...       ...       ...       ...   \n75  4.097343  4.554919  4.834748  5.442841  4.992425  4.789721  3.750025   \n76   3.63908  3.878492  3.066617  3.511427   3.59554  3.701008  3.556084   \n77  4.318021  4.102073  4.912251  3.980759  4.009274  4.082791  3.651686   \n78  6.564405  6.304907  5.784012  5.534504  5.108086  5.432263  5.044048   \n79  4.240636  5.072956  6.287661  5.171718  4.651983  5.380447  4.648871   \n\n      20_std  \n0   3.709206  \n1   3.787946  \n2   3.521799  \n3   4.106761  \n4   4.208647  \n..       ...  \n75  4.440737  \n76  3.592381  \n77  3.357535  \n78  4.617203  \n79  5.303709  \n\n[80 rows x 42 columns]",
      "text/html": "<div>\n<style scoped>\n    .dataframe tbody tr th:only-of-type {\n        vertical-align: middle;\n    }\n\n    .dataframe tbody tr th {\n        vertical-align: top;\n    }\n\n    .dataframe thead th {\n        text-align: right;\n    }\n</style>\n<table border=\"1\" class=\"dataframe\">\n  <thead>\n    <tr style=\"text-align: right;\">\n      <th></th>\n      <th>file_name</th>\n      <th>score</th>\n      <th>1_mean</th>\n      <th>2_mean</th>\n      <th>3_mean</th>\n      <th>4_mean</th>\n      <th>5_mean</th>\n      <th>6_mean</th>\n      <th>7_mean</th>\n      <th>8_mean</th>\n      <th>...</th>\n      <th>11_std</th>\n      <th>12_std</th>\n      <th>13_std</th>\n      <th>14_std</th>\n      <th>15_std</th>\n      <th>16_std</th>\n      <th>17_std</th>\n      <th>18_std</th>\n      <th>19_std</th>\n      <th>20_std</th>\n    </tr>\n  </thead>\n  <tbody>\n    <tr>\n      <th>0</th>\n      <td>ba1-M301-1731.wav</td>\n      <td>NaN</td>\n      <td>-379.915894</td>\n      <td>121.484573</td>\n      <td>-9.561069</td>\n      <td>30.740805</td>\n      <td>6.344048</td>\n      <td>14.242371</td>\n      <td>13.7257</td>\n      <td>13.898823</td>\n      <td>...</td>\n      <td>6.348057</td>\n      <td>5.557012</td>\n      <td>4.313754</td>\n      <td>4.438601</td>\n      <td>4.212533</td>\n      <td>5.525868</td>\n      <td>5.761434</td>\n      <td>4.766224</td>\n      <td>3.856444</td>\n      <td>3.709206</td>\n    </tr>\n    <tr>\n      <th>1</th>\n      <td>ba10-M311-1416.wav</td>\n      <td>NaN</td>\n      <td>-389.567322</td>\n      <td>104.404694</td>\n      <td>1.735771</td>\n      <td>17.84227</td>\n      <td>2.359507</td>\n      <td>13.318727</td>\n      <td>16.691154</td>\n      <td>17.618414</td>\n      <td>...</td>\n      <td>4.539108</td>\n      <td>4.70059</td>\n      <td>4.333097</td>\n      <td>5.305111</td>\n      <td>4.786023</td>\n      <td>4.156812</td>\n      <td>3.891042</td>\n      <td>4.251973</td>\n      <td>3.696651</td>\n      <td>3.787946</td>\n    </tr>\n    <tr>\n      <th>2</th>\n      <td>ba11-M312-0710.wav</td>\n      <td>NaN</td>\n      <td>-340.902466</td>\n      <td>119.983734</td>\n      <td>7.850637</td>\n      <td>28.497646</td>\n      <td>11.75486</td>\n      <td>19.158529</td>\n      <td>20.285519</td>\n      <td>15.364017</td>\n      <td>...</td>\n      <td>4.56725</td>\n      <td>4.519084</td>\n      <td>4.486757</td>\n      <td>4.145894</td>\n      <td>3.825438</td>\n      <td>3.987225</td>\n      <td>3.838557</td>\n      <td>3.832442</td>\n      <td>3.613857</td>\n      <td>3.521799</td>\n    </tr>\n    <tr>\n      <th>3</th>\n      <td>ba12-N301-1712.wav</td>\n      <td>NaN</td>\n      <td>-324.119904</td>\n      <td>95.772949</td>\n      <td>29.654537</td>\n      <td>31.449263</td>\n      <td>18.386858</td>\n      <td>17.007147</td>\n      <td>19.529036</td>\n      <td>13.759062</td>\n      <td>...</td>\n      <td>4.68095</td>\n      <td>5.060575</td>\n      <td>4.581211</td>\n      <td>4.352899</td>\n      <td>4.963758</td>\n      <td>4.230967</td>\n      <td>4.728704</td>\n      <td>4.349295</td>\n      <td>3.796372</td>\n      <td>4.106761</td>\n    </tr>\n    <tr>\n      <th>4</th>\n      <td>ba13-N302-0729.wav</td>\n      <td>NaN</td>\n      <td>-320.010193</td>\n      <td>71.716736</td>\n      <td>31.357893</td>\n      <td>39.20871</td>\n      <td>14.09876</td>\n      <td>22.575167</td>\n      <td>12.492645</td>\n      <td>10.995086</td>\n      <td>...</td>\n      <td>5.268176</td>\n      <td>5.639967</td>\n      <td>5.414101</td>\n      <td>4.54866</td>\n      <td>5.331937</td>\n      <td>4.579217</td>\n      <td>4.812475</td>\n      <td>4.249076</td>\n      <td>4.144152</td>\n      <td>4.208647</td>\n    </tr>\n    <tr>\n      <th>...</th>\n      <td>...</td>\n      <td>...</td>\n      <td>...</td>\n      <td>...</td>\n      <td>...</td>\n      <td>...</td>\n      <td>...</td>\n      <td>...</td>\n      <td>...</td>\n      <td>...</td>\n      <td>...</td>\n      <td>...</td>\n      <td>...</td>\n      <td>...</td>\n      <td>...</td>\n      <td>...</td>\n      <td>...</td>\n      <td>...</td>\n      <td>...</td>\n      <td>...</td>\n      <td>...</td>\n    </tr>\n    <tr>\n      <th>75</th>\n      <td>ns5-M605-0831.wav</td>\n      <td>NaN</td>\n      <td>-444.706635</td>\n      <td>151.115906</td>\n      <td>-36.676922</td>\n      <td>35.464718</td>\n      <td>-23.76515</td>\n      <td>19.882576</td>\n      <td>-6.928316</td>\n      <td>9.014794</td>\n      <td>...</td>\n      <td>5.299026</td>\n      <td>4.866765</td>\n      <td>4.097343</td>\n      <td>4.554919</td>\n      <td>4.834748</td>\n      <td>5.442841</td>\n      <td>4.992425</td>\n      <td>4.789721</td>\n      <td>3.750025</td>\n      <td>4.440737</td>\n    </tr>\n    <tr>\n      <th>76</th>\n      <td>ns6-M606-0829.wav</td>\n      <td>NaN</td>\n      <td>-371.483246</td>\n      <td>180.746948</td>\n      <td>-16.223913</td>\n      <td>63.969383</td>\n      <td>-10.826746</td>\n      <td>30.815088</td>\n      <td>-6.779669</td>\n      <td>15.532515</td>\n      <td>...</td>\n      <td>3.792125</td>\n      <td>3.729633</td>\n      <td>3.63908</td>\n      <td>3.878492</td>\n      <td>3.066617</td>\n      <td>3.511427</td>\n      <td>3.59554</td>\n      <td>3.701008</td>\n      <td>3.556084</td>\n      <td>3.592381</td>\n    </tr>\n    <tr>\n      <th>77</th>\n      <td>ns7-M607-1508.wav</td>\n      <td>NaN</td>\n      <td>-368.713501</td>\n      <td>158.436371</td>\n      <td>-20.232477</td>\n      <td>54.537422</td>\n      <td>-6.922021</td>\n      <td>31.867296</td>\n      <td>5.088599</td>\n      <td>21.03179</td>\n      <td>...</td>\n      <td>4.235102</td>\n      <td>4.09918</td>\n      <td>4.318021</td>\n      <td>4.102073</td>\n      <td>4.912251</td>\n      <td>3.980759</td>\n      <td>4.009274</td>\n      <td>4.082791</td>\n      <td>3.651686</td>\n      <td>3.357535</td>\n    </tr>\n    <tr>\n      <th>78</th>\n      <td>ns8-M608-1846.wav</td>\n      <td>NaN</td>\n      <td>-338.293579</td>\n      <td>135.813461</td>\n      <td>3.742237</td>\n      <td>54.406132</td>\n      <td>-7.137683</td>\n      <td>48.125862</td>\n      <td>-4.826029</td>\n      <td>23.184002</td>\n      <td>...</td>\n      <td>6.728139</td>\n      <td>6.801905</td>\n      <td>6.564405</td>\n      <td>6.304907</td>\n      <td>5.784012</td>\n      <td>5.534504</td>\n      <td>5.108086</td>\n      <td>5.432263</td>\n      <td>5.044048</td>\n      <td>4.617203</td>\n    </tr>\n    <tr>\n      <th>79</th>\n      <td>ns9-M609-0739.wav</td>\n      <td>NaN</td>\n      <td>-439.811615</td>\n      <td>175.525909</td>\n      <td>-35.800541</td>\n      <td>38.013245</td>\n      <td>-8.572528</td>\n      <td>25.689186</td>\n      <td>1.823579</td>\n      <td>11.778252</td>\n      <td>...</td>\n      <td>5.489779</td>\n      <td>4.097455</td>\n      <td>4.240636</td>\n      <td>5.072956</td>\n      <td>6.287661</td>\n      <td>5.171718</td>\n      <td>4.651983</td>\n      <td>5.380447</td>\n      <td>4.648871</td>\n      <td>5.303709</td>\n    </tr>\n  </tbody>\n</table>\n<p>80 rows × 42 columns</p>\n</div>"
     },
     "execution_count": 6,
     "metadata": {},
     "output_type": "execute_result"
    }
   ],
   "source": [
    "for i in range(len(test_features)):\n",
    "    wav_path = os.path.join(audio_path, test_features.loc[i, 'file_name'])\n",
    "    y, sr = librosa.load(wav_path)\n",
    "    mfcc = librosa.feature.mfcc(y=y, sr=sr, n_mfcc=20)\n",
    "    A = mfcc.T\n",
    "    means = np.mean(A, axis=0)\n",
    "    stds = np.std(A, axis=0)\n",
    "    test_features.loc[i, \"1_mean\":\"20_mean\"] = means\n",
    "    test_features.loc[i, \"1_std\":\"20_std\"] = stds\n",
    "\n",
    "test_features"
   ],
   "metadata": {
    "collapsed": false,
    "pycharm": {
     "name": "#%%\n"
    }
   }
  },
  {
   "cell_type": "code",
   "execution_count": 7,
   "outputs": [],
   "source": [
    "test_features.to_excel('./output/test_features.xlsx', index=False, encoding='utf_8_sig')"
   ],
   "metadata": {
    "collapsed": false,
    "pycharm": {
     "name": "#%%\n"
    }
   }
  },
  {
   "cell_type": "code",
   "execution_count": null,
   "outputs": [],
   "source": [],
   "metadata": {
    "collapsed": false,
    "pycharm": {
     "name": "#%%\n"
    }
   }
  }
 ],
 "metadata": {
  "kernelspec": {
   "display_name": "Python 3",
   "language": "python",
   "name": "python3"
  },
  "language_info": {
   "codemirror_mode": {
    "name": "ipython",
    "version": 2
   },
   "file_extension": ".py",
   "mimetype": "text/x-python",
   "name": "python",
   "nbconvert_exporter": "python",
   "pygments_lexer": "ipython2",
   "version": "2.7.6"
  }
 },
 "nbformat": 4,
 "nbformat_minor": 0
}