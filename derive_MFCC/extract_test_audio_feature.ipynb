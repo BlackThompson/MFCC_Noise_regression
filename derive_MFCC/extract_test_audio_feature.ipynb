{
 "cells": [
  {
   "cell_type": "code",
   "execution_count": 1,
   "metadata": {
    "collapsed": true
   },
   "outputs": [],
   "source": [
    "import librosa\n",
    "import pandas as pd\n",
    "import numpy as np\n",
    "import os\n",
    "from natsort import natsorted\n",
    "from config import *\n",
    "from scipy.stats import kurtosis, skew\n",
    "\n",
    "# 记得改！！！\n",
    "# audio_path = '.\\\\input\\\\test_audio'\n",
    "# audio_path = 'F:\\\\702'\n",
    "audio_path = '.\\\\input\\\\audio\\\\83'\n"
   ]
  },
  {
   "cell_type": "code",
   "execution_count": 2,
   "outputs": [],
   "source": [
    "file_names = [f for f in os.listdir(audio_path) if os.path.isfile(os.path.join(audio_path, f))]"
   ],
   "metadata": {
    "collapsed": false,
    "pycharm": {
     "name": "#%%\n"
    }
   }
  },
  {
   "cell_type": "code",
   "execution_count": 3,
   "outputs": [
    {
     "data": {
      "text/plain": "['01-1-1.wav',\n '02-4-2.wav',\n '03-M202-1415 ( 270-280 s).wav',\n '04-410-1 ( 0.00-300.58 s).wav',\n '05-10-1.wav',\n '06-14-1.wav',\n '07-27-1.wav',\n '08-28-1.wav',\n '09-31-2.wav',\n '10-32-1.wav',\n '11-M112-0800 (5-15s).wav',\n '12-37-1.wav',\n '13-M204-1446 ( 0.00-300.00 s).wav',\n '14-413-4 ( 0.00-300.08 s).wav',\n '15-47-1.wav',\n '16-50-1.wav',\n '17-53-1.wav',\n '18-M112-0800 (50-60s).wav',\n '19-67-1.wav',\n '20-70-1.wav',\n '21-77-1.wav',\n '22-110-1.wav',\n '23-M208-0746 ( 0.00-300.00 s).wav',\n '24-413-9 ( 0.00-300.08 s).wav',\n '25-M202-1415 ( 130-140 s).wav',\n '26-128-12.wav',\n '27-131-1.wav',\n '28-133-8.wav',\n '29-142-1.wav',\n '30-149-1.wav',\n '31-186-7.wav',\n '32-186-预实验29号.wav',\n '33-M209-0820 ( 40-50 s).wav',\n '34-420-2 ( 0.00-300.58 s).wav',\n '35-221-9.wav',\n '36-227-6.wav',\n '37-244-8.wav',\n '38-251-7.wav',\n '39-281-7.wav',\n '40-295-5.wav',\n '41-303-3.wav',\n '42-312-11.wav',\n '43-M209-0820 ( 60-70 s).wav',\n '44-427-1.wav',\n '45-321-9 ( 0.00-300.00 s).wav',\n '46-324-4 ( 0.00-300.08 s).wav',\n '47-338-3.wav',\n '48-360-2.wav',\n '49-365-1 ( 0.00-300.58 s).wav',\n '50-407-9 ( 0.00-300.58 s).wav',\n '51-409-3.wav',\n '52-M609-1139 ( 0.00-300.00 s).wav',\n '53-8-1.wav',\n '54-43-1.wav',\n '55-127-1.wav',\n '56-216-10.wav',\n '57-321-7 ( 0.00-300.00 s).wav',\n '58-435-1.wav',\n '59-437-12.wav',\n '60-7-1.wav',\n '61-441-2.wav',\n '62-443-4.wav',\n '63-444-8.wav',\n '64-450-11.wav',\n '65-454-6.wav',\n '66-527-5.wav',\n '67-555-5.wav',\n '68-607-1.wav',\n '69-615-7.wav',\n '70-657-2 ( 0.00-300.00 s).wav',\n '71-665-4.wav',\n '72-684-9.wav',\n '73-699-11.wav',\n '74-438-3.wav',\n '75-40-1.wav',\n '76-112-1.wav',\n '77-201-2.wav',\n '78-313-9.wav',\n '79-409-5.wav',\n '80-N118-1630 ( 0.00-60.00 s).wav',\n '81-N401-0900.wav',\n '82-N402-1744.wav',\n '83-N601-0847 ( 0.00-300.00 s).wav']"
     },
     "execution_count": 3,
     "metadata": {},
     "output_type": "execute_result"
    }
   ],
   "source": [
    "# natsort 自然排序超级好用\n",
    "file_names = natsorted(file_names)\n",
    "file_names"
   ],
   "metadata": {
    "collapsed": false,
    "pycharm": {
     "name": "#%%\n"
    }
   }
  },
  {
   "cell_type": "code",
   "execution_count": 4,
   "outputs": [
    {
     "data": {
      "text/plain": "Empty DataFrame\nColumns: [category, file_name, score, 1_mean, 2_mean, 3_mean, 4_mean, 5_mean, 6_mean, 7_mean, 8_mean, 9_mean, 10_mean, 11_mean, 12_mean, 13_mean, 14_mean, 15_mean, 16_mean, 17_mean, 18_mean, 19_mean, 20_mean, 1_25_per, 2_25_per, 3_25_per, 4_25_per, 5_25_per, 6_25_per, 7_25_per, 8_25_per, 9_25_per, 10_25_per, 11_25_per, 12_25_per, 13_25_per, 14_25_per, 15_25_per, 16_25_per, 17_25_per, 18_25_per, 19_25_per, 20_25_per, 1_75_per, 2_75_per, 3_75_per, 4_75_per, 5_75_per, 6_75_per, 7_75_per, 8_75_per, 9_75_per, 10_75_per, 11_75_per, 12_75_per, 13_75_per, 14_75_per, 15_75_per, 16_75_per, 17_75_per, 18_75_per, 19_75_per, 20_75_per, 1_kurtosis, 2_kurtosis, 3_kurtosis, 4_kurtosis, 5_kurtosis, 6_kurtosis, 7_kurtosis, 8_kurtosis, 9_kurtosis, 10_kurtosis, 11_kurtosis, 12_kurtosis, 13_kurtosis, 14_kurtosis, 15_kurtosis, 16_kurtosis, 17_kurtosis, 18_kurtosis, 19_kurtosis, 20_kurtosis, 1_skew, 2_skew, 3_skew, 4_skew, 5_skew, 6_skew, 7_skew, 8_skew, 9_skew, 10_skew, 11_skew, 12_skew, 13_skew, 14_skew, 15_skew, 16_skew, 17_skew, ...]\nIndex: []\n\n[0 rows x 103 columns]",
      "text/html": "<div>\n<style scoped>\n    .dataframe tbody tr th:only-of-type {\n        vertical-align: middle;\n    }\n\n    .dataframe tbody tr th {\n        vertical-align: top;\n    }\n\n    .dataframe thead th {\n        text-align: right;\n    }\n</style>\n<table border=\"1\" class=\"dataframe\">\n  <thead>\n    <tr style=\"text-align: right;\">\n      <th></th>\n      <th>category</th>\n      <th>file_name</th>\n      <th>score</th>\n      <th>1_mean</th>\n      <th>2_mean</th>\n      <th>3_mean</th>\n      <th>4_mean</th>\n      <th>5_mean</th>\n      <th>6_mean</th>\n      <th>7_mean</th>\n      <th>...</th>\n      <th>11_skew</th>\n      <th>12_skew</th>\n      <th>13_skew</th>\n      <th>14_skew</th>\n      <th>15_skew</th>\n      <th>16_skew</th>\n      <th>17_skew</th>\n      <th>18_skew</th>\n      <th>19_skew</th>\n      <th>20_skew</th>\n    </tr>\n  </thead>\n  <tbody>\n  </tbody>\n</table>\n<p>0 rows × 103 columns</p>\n</div>"
     },
     "execution_count": 4,
     "metadata": {},
     "output_type": "execute_result"
    }
   ],
   "source": [
    "test_features = pd.DataFrame(columns=columns_new_1)\n",
    "test_features"
   ],
   "metadata": {
    "collapsed": false,
    "pycharm": {
     "name": "#%%\n"
    }
   }
  },
  {
   "cell_type": "code",
   "execution_count": 5,
   "outputs": [
    {
     "data": {
      "text/plain": "    category                          file_name score 1_mean 2_mean 3_mean  \\\n0         83                         01-1-1.wav   NaN    NaN    NaN    NaN   \n1         83                         02-4-2.wav   NaN    NaN    NaN    NaN   \n2         83      03-M202-1415 ( 270-280 s).wav   NaN    NaN    NaN    NaN   \n3         83      04-410-1 ( 0.00-300.58 s).wav   NaN    NaN    NaN    NaN   \n4         83                        05-10-1.wav   NaN    NaN    NaN    NaN   \n..       ...                                ...   ...    ...    ...    ...   \n78        83                       79-409-5.wav   NaN    NaN    NaN    NaN   \n79        83   80-N118-1630 ( 0.00-60.00 s).wav   NaN    NaN    NaN    NaN   \n80        83                   81-N401-0900.wav   NaN    NaN    NaN    NaN   \n81        83                   82-N402-1744.wav   NaN    NaN    NaN    NaN   \n82        83  83-N601-0847 ( 0.00-300.00 s).wav   NaN    NaN    NaN    NaN   \n\n   4_mean 5_mean 6_mean 7_mean  ... 11_skew 12_skew 13_skew 14_skew 15_skew  \\\n0     NaN    NaN    NaN    NaN  ...     NaN     NaN     NaN     NaN     NaN   \n1     NaN    NaN    NaN    NaN  ...     NaN     NaN     NaN     NaN     NaN   \n2     NaN    NaN    NaN    NaN  ...     NaN     NaN     NaN     NaN     NaN   \n3     NaN    NaN    NaN    NaN  ...     NaN     NaN     NaN     NaN     NaN   \n4     NaN    NaN    NaN    NaN  ...     NaN     NaN     NaN     NaN     NaN   \n..    ...    ...    ...    ...  ...     ...     ...     ...     ...     ...   \n78    NaN    NaN    NaN    NaN  ...     NaN     NaN     NaN     NaN     NaN   \n79    NaN    NaN    NaN    NaN  ...     NaN     NaN     NaN     NaN     NaN   \n80    NaN    NaN    NaN    NaN  ...     NaN     NaN     NaN     NaN     NaN   \n81    NaN    NaN    NaN    NaN  ...     NaN     NaN     NaN     NaN     NaN   \n82    NaN    NaN    NaN    NaN  ...     NaN     NaN     NaN     NaN     NaN   \n\n   16_skew 17_skew 18_skew 19_skew 20_skew  \n0      NaN     NaN     NaN     NaN     NaN  \n1      NaN     NaN     NaN     NaN     NaN  \n2      NaN     NaN     NaN     NaN     NaN  \n3      NaN     NaN     NaN     NaN     NaN  \n4      NaN     NaN     NaN     NaN     NaN  \n..     ...     ...     ...     ...     ...  \n78     NaN     NaN     NaN     NaN     NaN  \n79     NaN     NaN     NaN     NaN     NaN  \n80     NaN     NaN     NaN     NaN     NaN  \n81     NaN     NaN     NaN     NaN     NaN  \n82     NaN     NaN     NaN     NaN     NaN  \n\n[83 rows x 103 columns]",
      "text/html": "<div>\n<style scoped>\n    .dataframe tbody tr th:only-of-type {\n        vertical-align: middle;\n    }\n\n    .dataframe tbody tr th {\n        vertical-align: top;\n    }\n\n    .dataframe thead th {\n        text-align: right;\n    }\n</style>\n<table border=\"1\" class=\"dataframe\">\n  <thead>\n    <tr style=\"text-align: right;\">\n      <th></th>\n      <th>category</th>\n      <th>file_name</th>\n      <th>score</th>\n      <th>1_mean</th>\n      <th>2_mean</th>\n      <th>3_mean</th>\n      <th>4_mean</th>\n      <th>5_mean</th>\n      <th>6_mean</th>\n      <th>7_mean</th>\n      <th>...</th>\n      <th>11_skew</th>\n      <th>12_skew</th>\n      <th>13_skew</th>\n      <th>14_skew</th>\n      <th>15_skew</th>\n      <th>16_skew</th>\n      <th>17_skew</th>\n      <th>18_skew</th>\n      <th>19_skew</th>\n      <th>20_skew</th>\n    </tr>\n  </thead>\n  <tbody>\n    <tr>\n      <th>0</th>\n      <td>83</td>\n      <td>01-1-1.wav</td>\n      <td>NaN</td>\n      <td>NaN</td>\n      <td>NaN</td>\n      <td>NaN</td>\n      <td>NaN</td>\n      <td>NaN</td>\n      <td>NaN</td>\n      <td>NaN</td>\n      <td>...</td>\n      <td>NaN</td>\n      <td>NaN</td>\n      <td>NaN</td>\n      <td>NaN</td>\n      <td>NaN</td>\n      <td>NaN</td>\n      <td>NaN</td>\n      <td>NaN</td>\n      <td>NaN</td>\n      <td>NaN</td>\n    </tr>\n    <tr>\n      <th>1</th>\n      <td>83</td>\n      <td>02-4-2.wav</td>\n      <td>NaN</td>\n      <td>NaN</td>\n      <td>NaN</td>\n      <td>NaN</td>\n      <td>NaN</td>\n      <td>NaN</td>\n      <td>NaN</td>\n      <td>NaN</td>\n      <td>...</td>\n      <td>NaN</td>\n      <td>NaN</td>\n      <td>NaN</td>\n      <td>NaN</td>\n      <td>NaN</td>\n      <td>NaN</td>\n      <td>NaN</td>\n      <td>NaN</td>\n      <td>NaN</td>\n      <td>NaN</td>\n    </tr>\n    <tr>\n      <th>2</th>\n      <td>83</td>\n      <td>03-M202-1415 ( 270-280 s).wav</td>\n      <td>NaN</td>\n      <td>NaN</td>\n      <td>NaN</td>\n      <td>NaN</td>\n      <td>NaN</td>\n      <td>NaN</td>\n      <td>NaN</td>\n      <td>NaN</td>\n      <td>...</td>\n      <td>NaN</td>\n      <td>NaN</td>\n      <td>NaN</td>\n      <td>NaN</td>\n      <td>NaN</td>\n      <td>NaN</td>\n      <td>NaN</td>\n      <td>NaN</td>\n      <td>NaN</td>\n      <td>NaN</td>\n    </tr>\n    <tr>\n      <th>3</th>\n      <td>83</td>\n      <td>04-410-1 ( 0.00-300.58 s).wav</td>\n      <td>NaN</td>\n      <td>NaN</td>\n      <td>NaN</td>\n      <td>NaN</td>\n      <td>NaN</td>\n      <td>NaN</td>\n      <td>NaN</td>\n      <td>NaN</td>\n      <td>...</td>\n      <td>NaN</td>\n      <td>NaN</td>\n      <td>NaN</td>\n      <td>NaN</td>\n      <td>NaN</td>\n      <td>NaN</td>\n      <td>NaN</td>\n      <td>NaN</td>\n      <td>NaN</td>\n      <td>NaN</td>\n    </tr>\n    <tr>\n      <th>4</th>\n      <td>83</td>\n      <td>05-10-1.wav</td>\n      <td>NaN</td>\n      <td>NaN</td>\n      <td>NaN</td>\n      <td>NaN</td>\n      <td>NaN</td>\n      <td>NaN</td>\n      <td>NaN</td>\n      <td>NaN</td>\n      <td>...</td>\n      <td>NaN</td>\n      <td>NaN</td>\n      <td>NaN</td>\n      <td>NaN</td>\n      <td>NaN</td>\n      <td>NaN</td>\n      <td>NaN</td>\n      <td>NaN</td>\n      <td>NaN</td>\n      <td>NaN</td>\n    </tr>\n    <tr>\n      <th>...</th>\n      <td>...</td>\n      <td>...</td>\n      <td>...</td>\n      <td>...</td>\n      <td>...</td>\n      <td>...</td>\n      <td>...</td>\n      <td>...</td>\n      <td>...</td>\n      <td>...</td>\n      <td>...</td>\n      <td>...</td>\n      <td>...</td>\n      <td>...</td>\n      <td>...</td>\n      <td>...</td>\n      <td>...</td>\n      <td>...</td>\n      <td>...</td>\n      <td>...</td>\n      <td>...</td>\n    </tr>\n    <tr>\n      <th>78</th>\n      <td>83</td>\n      <td>79-409-5.wav</td>\n      <td>NaN</td>\n      <td>NaN</td>\n      <td>NaN</td>\n      <td>NaN</td>\n      <td>NaN</td>\n      <td>NaN</td>\n      <td>NaN</td>\n      <td>NaN</td>\n      <td>...</td>\n      <td>NaN</td>\n      <td>NaN</td>\n      <td>NaN</td>\n      <td>NaN</td>\n      <td>NaN</td>\n      <td>NaN</td>\n      <td>NaN</td>\n      <td>NaN</td>\n      <td>NaN</td>\n      <td>NaN</td>\n    </tr>\n    <tr>\n      <th>79</th>\n      <td>83</td>\n      <td>80-N118-1630 ( 0.00-60.00 s).wav</td>\n      <td>NaN</td>\n      <td>NaN</td>\n      <td>NaN</td>\n      <td>NaN</td>\n      <td>NaN</td>\n      <td>NaN</td>\n      <td>NaN</td>\n      <td>NaN</td>\n      <td>...</td>\n      <td>NaN</td>\n      <td>NaN</td>\n      <td>NaN</td>\n      <td>NaN</td>\n      <td>NaN</td>\n      <td>NaN</td>\n      <td>NaN</td>\n      <td>NaN</td>\n      <td>NaN</td>\n      <td>NaN</td>\n    </tr>\n    <tr>\n      <th>80</th>\n      <td>83</td>\n      <td>81-N401-0900.wav</td>\n      <td>NaN</td>\n      <td>NaN</td>\n      <td>NaN</td>\n      <td>NaN</td>\n      <td>NaN</td>\n      <td>NaN</td>\n      <td>NaN</td>\n      <td>NaN</td>\n      <td>...</td>\n      <td>NaN</td>\n      <td>NaN</td>\n      <td>NaN</td>\n      <td>NaN</td>\n      <td>NaN</td>\n      <td>NaN</td>\n      <td>NaN</td>\n      <td>NaN</td>\n      <td>NaN</td>\n      <td>NaN</td>\n    </tr>\n    <tr>\n      <th>81</th>\n      <td>83</td>\n      <td>82-N402-1744.wav</td>\n      <td>NaN</td>\n      <td>NaN</td>\n      <td>NaN</td>\n      <td>NaN</td>\n      <td>NaN</td>\n      <td>NaN</td>\n      <td>NaN</td>\n      <td>NaN</td>\n      <td>...</td>\n      <td>NaN</td>\n      <td>NaN</td>\n      <td>NaN</td>\n      <td>NaN</td>\n      <td>NaN</td>\n      <td>NaN</td>\n      <td>NaN</td>\n      <td>NaN</td>\n      <td>NaN</td>\n      <td>NaN</td>\n    </tr>\n    <tr>\n      <th>82</th>\n      <td>83</td>\n      <td>83-N601-0847 ( 0.00-300.00 s).wav</td>\n      <td>NaN</td>\n      <td>NaN</td>\n      <td>NaN</td>\n      <td>NaN</td>\n      <td>NaN</td>\n      <td>NaN</td>\n      <td>NaN</td>\n      <td>NaN</td>\n      <td>...</td>\n      <td>NaN</td>\n      <td>NaN</td>\n      <td>NaN</td>\n      <td>NaN</td>\n      <td>NaN</td>\n      <td>NaN</td>\n      <td>NaN</td>\n      <td>NaN</td>\n      <td>NaN</td>\n      <td>NaN</td>\n    </tr>\n  </tbody>\n</table>\n<p>83 rows × 103 columns</p>\n</div>"
     },
     "execution_count": 5,
     "metadata": {},
     "output_type": "execute_result"
    }
   ],
   "source": [
    "test_features['file_name'] = file_names\n",
    "# 记得改！！！\n",
    "test_features['category'] = 83\n",
    "test_features"
   ],
   "metadata": {
    "collapsed": false,
    "pycharm": {
     "name": "#%%\n"
    }
   }
  },
  {
   "cell_type": "code",
   "execution_count": 6,
   "outputs": [
    {
     "data": {
      "text/plain": "    category                          file_name score      1_mean      2_mean  \\\n0         83                         01-1-1.wav   NaN -252.127609   86.128586   \n1         83                         02-4-2.wav   NaN -279.456085    108.1278   \n2         83      03-M202-1415 ( 270-280 s).wav   NaN -305.366821  148.540115   \n3         83      04-410-1 ( 0.00-300.58 s).wav   NaN -361.024445  159.265884   \n4         83                        05-10-1.wav   NaN -272.939178  113.978241   \n..       ...                                ...   ...         ...         ...   \n78        83                       79-409-5.wav   NaN -315.749207  162.350464   \n79        83   80-N118-1630 ( 0.00-60.00 s).wav   NaN  -280.79892  100.395042   \n80        83                   81-N401-0900.wav   NaN -313.263336  171.576416   \n81        83                   82-N402-1744.wav   NaN  -326.16568  161.727875   \n82        83  83-N601-0847 ( 0.00-300.00 s).wav   NaN -293.294403  145.835175   \n\n       3_mean     4_mean     5_mean     6_mean     7_mean  ...   11_skew  \\\n0   10.461998  14.621578   1.361512  10.490637  15.488813  ...  0.388371   \n1  -13.898211  18.046717   0.117357  -0.215368  -1.474596  ...  0.099664   \n2  -39.237045  48.273968  -9.937784  32.072445   6.839402  ... -0.356707   \n3  -17.051327  60.628349 -29.338272  22.672075   4.683626  ...  0.200374   \n4   -2.218684  13.162933   1.828024   5.188318   7.835854  ...  0.302959   \n..        ...        ...        ...        ...        ...  ...       ...   \n78 -54.000969  65.145287 -21.757175  42.820473  -4.557957  ... -0.074314   \n79  -6.403555  10.684509   5.546415   8.623883  11.074948  ... -0.007494   \n80 -53.190144  42.963417 -32.493988  36.102497  -6.278632  ... -0.470795   \n81 -20.656282  54.649933   -1.41338  32.564034  10.089631  ...  0.635318   \n82 -13.535511  63.164307  -9.052842  33.486946  -0.350281  ...  0.224813   \n\n     12_skew   13_skew   14_skew   15_skew   16_skew   17_skew   18_skew  \\\n0  -0.388503  0.238906 -0.072952  0.190036 -0.143168 -0.421977 -0.085949   \n1   0.211773   0.25395 -0.287342   0.07901 -0.241918 -0.373027 -0.062473   \n2  -0.424135 -0.205677   0.38796  0.651305  1.097207  0.073332   0.12681   \n3   0.017425 -0.704816 -0.167998  0.411482   0.00269  0.158483  0.001301   \n4   -0.10477   0.12956 -0.105493  -0.09627  0.149827 -0.141725 -0.033388   \n..       ...       ...       ...       ...       ...       ...       ...   \n78   0.32715  0.055369   0.28549  0.009954 -0.012773  -0.16457  0.089109   \n79  0.291918  0.347218 -0.099641 -0.160115 -0.241031  0.358053  0.299751   \n80  0.067876  0.393222 -0.241966  0.259055  0.214019  0.292408 -0.168547   \n81 -0.281767 -0.057934 -0.102343  0.623389  0.023795 -0.456956  0.237242   \n82  0.021366 -0.042736 -0.443673 -0.183227 -0.017536  0.436614  0.505495   \n\n     19_skew   20_skew  \n0   -0.15848  0.276203  \n1  -0.512938  0.088225  \n2   -0.42468 -0.144282  \n3   0.718411  0.711256  \n4  -0.047115 -0.131163  \n..       ...       ...  \n78 -0.100901 -0.621312  \n79 -0.048212 -0.040477  \n80 -0.310484  0.313622  \n81 -0.014119  0.378333  \n82  0.089566  0.022822  \n\n[83 rows x 103 columns]",
      "text/html": "<div>\n<style scoped>\n    .dataframe tbody tr th:only-of-type {\n        vertical-align: middle;\n    }\n\n    .dataframe tbody tr th {\n        vertical-align: top;\n    }\n\n    .dataframe thead th {\n        text-align: right;\n    }\n</style>\n<table border=\"1\" class=\"dataframe\">\n  <thead>\n    <tr style=\"text-align: right;\">\n      <th></th>\n      <th>category</th>\n      <th>file_name</th>\n      <th>score</th>\n      <th>1_mean</th>\n      <th>2_mean</th>\n      <th>3_mean</th>\n      <th>4_mean</th>\n      <th>5_mean</th>\n      <th>6_mean</th>\n      <th>7_mean</th>\n      <th>...</th>\n      <th>11_skew</th>\n      <th>12_skew</th>\n      <th>13_skew</th>\n      <th>14_skew</th>\n      <th>15_skew</th>\n      <th>16_skew</th>\n      <th>17_skew</th>\n      <th>18_skew</th>\n      <th>19_skew</th>\n      <th>20_skew</th>\n    </tr>\n  </thead>\n  <tbody>\n    <tr>\n      <th>0</th>\n      <td>83</td>\n      <td>01-1-1.wav</td>\n      <td>NaN</td>\n      <td>-252.127609</td>\n      <td>86.128586</td>\n      <td>10.461998</td>\n      <td>14.621578</td>\n      <td>1.361512</td>\n      <td>10.490637</td>\n      <td>15.488813</td>\n      <td>...</td>\n      <td>0.388371</td>\n      <td>-0.388503</td>\n      <td>0.238906</td>\n      <td>-0.072952</td>\n      <td>0.190036</td>\n      <td>-0.143168</td>\n      <td>-0.421977</td>\n      <td>-0.085949</td>\n      <td>-0.15848</td>\n      <td>0.276203</td>\n    </tr>\n    <tr>\n      <th>1</th>\n      <td>83</td>\n      <td>02-4-2.wav</td>\n      <td>NaN</td>\n      <td>-279.456085</td>\n      <td>108.1278</td>\n      <td>-13.898211</td>\n      <td>18.046717</td>\n      <td>0.117357</td>\n      <td>-0.215368</td>\n      <td>-1.474596</td>\n      <td>...</td>\n      <td>0.099664</td>\n      <td>0.211773</td>\n      <td>0.25395</td>\n      <td>-0.287342</td>\n      <td>0.07901</td>\n      <td>-0.241918</td>\n      <td>-0.373027</td>\n      <td>-0.062473</td>\n      <td>-0.512938</td>\n      <td>0.088225</td>\n    </tr>\n    <tr>\n      <th>2</th>\n      <td>83</td>\n      <td>03-M202-1415 ( 270-280 s).wav</td>\n      <td>NaN</td>\n      <td>-305.366821</td>\n      <td>148.540115</td>\n      <td>-39.237045</td>\n      <td>48.273968</td>\n      <td>-9.937784</td>\n      <td>32.072445</td>\n      <td>6.839402</td>\n      <td>...</td>\n      <td>-0.356707</td>\n      <td>-0.424135</td>\n      <td>-0.205677</td>\n      <td>0.38796</td>\n      <td>0.651305</td>\n      <td>1.097207</td>\n      <td>0.073332</td>\n      <td>0.12681</td>\n      <td>-0.42468</td>\n      <td>-0.144282</td>\n    </tr>\n    <tr>\n      <th>3</th>\n      <td>83</td>\n      <td>04-410-1 ( 0.00-300.58 s).wav</td>\n      <td>NaN</td>\n      <td>-361.024445</td>\n      <td>159.265884</td>\n      <td>-17.051327</td>\n      <td>60.628349</td>\n      <td>-29.338272</td>\n      <td>22.672075</td>\n      <td>4.683626</td>\n      <td>...</td>\n      <td>0.200374</td>\n      <td>0.017425</td>\n      <td>-0.704816</td>\n      <td>-0.167998</td>\n      <td>0.411482</td>\n      <td>0.00269</td>\n      <td>0.158483</td>\n      <td>0.001301</td>\n      <td>0.718411</td>\n      <td>0.711256</td>\n    </tr>\n    <tr>\n      <th>4</th>\n      <td>83</td>\n      <td>05-10-1.wav</td>\n      <td>NaN</td>\n      <td>-272.939178</td>\n      <td>113.978241</td>\n      <td>-2.218684</td>\n      <td>13.162933</td>\n      <td>1.828024</td>\n      <td>5.188318</td>\n      <td>7.835854</td>\n      <td>...</td>\n      <td>0.302959</td>\n      <td>-0.10477</td>\n      <td>0.12956</td>\n      <td>-0.105493</td>\n      <td>-0.09627</td>\n      <td>0.149827</td>\n      <td>-0.141725</td>\n      <td>-0.033388</td>\n      <td>-0.047115</td>\n      <td>-0.131163</td>\n    </tr>\n    <tr>\n      <th>...</th>\n      <td>...</td>\n      <td>...</td>\n      <td>...</td>\n      <td>...</td>\n      <td>...</td>\n      <td>...</td>\n      <td>...</td>\n      <td>...</td>\n      <td>...</td>\n      <td>...</td>\n      <td>...</td>\n      <td>...</td>\n      <td>...</td>\n      <td>...</td>\n      <td>...</td>\n      <td>...</td>\n      <td>...</td>\n      <td>...</td>\n      <td>...</td>\n      <td>...</td>\n      <td>...</td>\n    </tr>\n    <tr>\n      <th>78</th>\n      <td>83</td>\n      <td>79-409-5.wav</td>\n      <td>NaN</td>\n      <td>-315.749207</td>\n      <td>162.350464</td>\n      <td>-54.000969</td>\n      <td>65.145287</td>\n      <td>-21.757175</td>\n      <td>42.820473</td>\n      <td>-4.557957</td>\n      <td>...</td>\n      <td>-0.074314</td>\n      <td>0.32715</td>\n      <td>0.055369</td>\n      <td>0.28549</td>\n      <td>0.009954</td>\n      <td>-0.012773</td>\n      <td>-0.16457</td>\n      <td>0.089109</td>\n      <td>-0.100901</td>\n      <td>-0.621312</td>\n    </tr>\n    <tr>\n      <th>79</th>\n      <td>83</td>\n      <td>80-N118-1630 ( 0.00-60.00 s).wav</td>\n      <td>NaN</td>\n      <td>-280.79892</td>\n      <td>100.395042</td>\n      <td>-6.403555</td>\n      <td>10.684509</td>\n      <td>5.546415</td>\n      <td>8.623883</td>\n      <td>11.074948</td>\n      <td>...</td>\n      <td>-0.007494</td>\n      <td>0.291918</td>\n      <td>0.347218</td>\n      <td>-0.099641</td>\n      <td>-0.160115</td>\n      <td>-0.241031</td>\n      <td>0.358053</td>\n      <td>0.299751</td>\n      <td>-0.048212</td>\n      <td>-0.040477</td>\n    </tr>\n    <tr>\n      <th>80</th>\n      <td>83</td>\n      <td>81-N401-0900.wav</td>\n      <td>NaN</td>\n      <td>-313.263336</td>\n      <td>171.576416</td>\n      <td>-53.190144</td>\n      <td>42.963417</td>\n      <td>-32.493988</td>\n      <td>36.102497</td>\n      <td>-6.278632</td>\n      <td>...</td>\n      <td>-0.470795</td>\n      <td>0.067876</td>\n      <td>0.393222</td>\n      <td>-0.241966</td>\n      <td>0.259055</td>\n      <td>0.214019</td>\n      <td>0.292408</td>\n      <td>-0.168547</td>\n      <td>-0.310484</td>\n      <td>0.313622</td>\n    </tr>\n    <tr>\n      <th>81</th>\n      <td>83</td>\n      <td>82-N402-1744.wav</td>\n      <td>NaN</td>\n      <td>-326.16568</td>\n      <td>161.727875</td>\n      <td>-20.656282</td>\n      <td>54.649933</td>\n      <td>-1.41338</td>\n      <td>32.564034</td>\n      <td>10.089631</td>\n      <td>...</td>\n      <td>0.635318</td>\n      <td>-0.281767</td>\n      <td>-0.057934</td>\n      <td>-0.102343</td>\n      <td>0.623389</td>\n      <td>0.023795</td>\n      <td>-0.456956</td>\n      <td>0.237242</td>\n      <td>-0.014119</td>\n      <td>0.378333</td>\n    </tr>\n    <tr>\n      <th>82</th>\n      <td>83</td>\n      <td>83-N601-0847 ( 0.00-300.00 s).wav</td>\n      <td>NaN</td>\n      <td>-293.294403</td>\n      <td>145.835175</td>\n      <td>-13.535511</td>\n      <td>63.164307</td>\n      <td>-9.052842</td>\n      <td>33.486946</td>\n      <td>-0.350281</td>\n      <td>...</td>\n      <td>0.224813</td>\n      <td>0.021366</td>\n      <td>-0.042736</td>\n      <td>-0.443673</td>\n      <td>-0.183227</td>\n      <td>-0.017536</td>\n      <td>0.436614</td>\n      <td>0.505495</td>\n      <td>0.089566</td>\n      <td>0.022822</td>\n    </tr>\n  </tbody>\n</table>\n<p>83 rows × 103 columns</p>\n</div>"
     },
     "execution_count": 6,
     "metadata": {},
     "output_type": "execute_result"
    }
   ],
   "source": [
    "for i in range(len(test_features)):\n",
    "    try:\n",
    "        wav_path = os.path.join(audio_path, test_features.loc[i, 'file_name'])\n",
    "        y, sr = librosa.load(wav_path)\n",
    "        mfcc = librosa.feature.mfcc(y=y, sr=sr, n_mfcc=20)\n",
    "        A = mfcc.T\n",
    "        means = np.mean(A, axis=0)\n",
    "        per_25, per_75 = np.percentile(A, axis=0, q=[25, 75])\n",
    "        kurtosis_list = np.apply_along_axis(func1d=kurtosis, axis=0, arr=A)\n",
    "        skewness_list = np.apply_along_axis(func1d=skew, axis=0, arr=A)\n",
    "        # stds = np.std(A, axis=0)\n",
    "\n",
    "        test_features.loc[i, \"1_mean\":\"20_mean\"] = means\n",
    "        test_features.loc[i, \"1_25_per\":\"20_25_per\"] = per_25\n",
    "        test_features.loc[i, \"1_75_per\":\"20_75_per\"] = per_75\n",
    "        test_features.loc[i, \"1_kurtosis\":\"20_kurtosis\"] = kurtosis_list\n",
    "        test_features.loc[i, \"1_skew\":\"20_skew\"] = skewness_list\n",
    "        # test_features.loc[i, \"1_std\":\"20_std\"] = stds\n",
    "\n",
    "    except Exception as e:\n",
    "        print(f\"Failed to load {wav_path}: {str(e)}\")\n",
    "        continue\n",
    "test_features"
   ],
   "metadata": {
    "collapsed": false,
    "pycharm": {
     "name": "#%%\n"
    }
   }
  },
  {
   "cell_type": "code",
   "execution_count": 7,
   "outputs": [],
   "source": [
    "# test_features.to_excel('./output/test_features.xlsx', index=False, encoding='utf_8_sig')"
   ],
   "metadata": {
    "collapsed": false,
    "pycharm": {
     "name": "#%%\n"
    }
   }
  },
  {
   "cell_type": "code",
   "execution_count": 8,
   "outputs": [
    {
     "data": {
      "text/plain": "    category                          file_name score      1_mean      2_mean  \\\n0         83                         01-1-1.wav   NaN -252.127609   86.128586   \n1         83                         02-4-2.wav   NaN -279.456085    108.1278   \n2         83      03-M202-1415 ( 270-280 s).wav   NaN -305.366821  148.540115   \n3         83      04-410-1 ( 0.00-300.58 s).wav   NaN -361.024445  159.265884   \n4         83                        05-10-1.wav   NaN -272.939178  113.978241   \n..       ...                                ...   ...         ...         ...   \n78        83                       79-409-5.wav   NaN -315.749207  162.350464   \n79        83   80-N118-1630 ( 0.00-60.00 s).wav   NaN  -280.79892  100.395042   \n80        83                   81-N401-0900.wav   NaN -313.263336  171.576416   \n81        83                   82-N402-1744.wav   NaN  -326.16568  161.727875   \n82        83  83-N601-0847 ( 0.00-300.00 s).wav   NaN -293.294403  145.835175   \n\n       3_mean     4_mean     5_mean     6_mean     7_mean  ...   11_skew  \\\n0   10.461998  14.621578   1.361512  10.490637  15.488813  ...  0.388371   \n1  -13.898211  18.046717   0.117357  -0.215368  -1.474596  ...  0.099664   \n2  -39.237045  48.273968  -9.937784  32.072445   6.839402  ... -0.356707   \n3  -17.051327  60.628349 -29.338272  22.672075   4.683626  ...  0.200374   \n4   -2.218684  13.162933   1.828024   5.188318   7.835854  ...  0.302959   \n..        ...        ...        ...        ...        ...  ...       ...   \n78 -54.000969  65.145287 -21.757175  42.820473  -4.557957  ... -0.074314   \n79  -6.403555  10.684509   5.546415   8.623883  11.074948  ... -0.007494   \n80 -53.190144  42.963417 -32.493988  36.102497  -6.278632  ... -0.470795   \n81 -20.656282  54.649933   -1.41338  32.564034  10.089631  ...  0.635318   \n82 -13.535511  63.164307  -9.052842  33.486946  -0.350281  ...  0.224813   \n\n     12_skew   13_skew   14_skew   15_skew   16_skew   17_skew   18_skew  \\\n0  -0.388503  0.238906 -0.072952  0.190036 -0.143168 -0.421977 -0.085949   \n1   0.211773   0.25395 -0.287342   0.07901 -0.241918 -0.373027 -0.062473   \n2  -0.424135 -0.205677   0.38796  0.651305  1.097207  0.073332   0.12681   \n3   0.017425 -0.704816 -0.167998  0.411482   0.00269  0.158483  0.001301   \n4   -0.10477   0.12956 -0.105493  -0.09627  0.149827 -0.141725 -0.033388   \n..       ...       ...       ...       ...       ...       ...       ...   \n78   0.32715  0.055369   0.28549  0.009954 -0.012773  -0.16457  0.089109   \n79  0.291918  0.347218 -0.099641 -0.160115 -0.241031  0.358053  0.299751   \n80  0.067876  0.393222 -0.241966  0.259055  0.214019  0.292408 -0.168547   \n81 -0.281767 -0.057934 -0.102343  0.623389  0.023795 -0.456956  0.237242   \n82  0.021366 -0.042736 -0.443673 -0.183227 -0.017536  0.436614  0.505495   \n\n     19_skew   20_skew  \n0   -0.15848  0.276203  \n1  -0.512938  0.088225  \n2   -0.42468 -0.144282  \n3   0.718411  0.711256  \n4  -0.047115 -0.131163  \n..       ...       ...  \n78 -0.100901 -0.621312  \n79 -0.048212 -0.040477  \n80 -0.310484  0.313622  \n81 -0.014119  0.378333  \n82  0.089566  0.022822  \n\n[83 rows x 103 columns]",
      "text/html": "<div>\n<style scoped>\n    .dataframe tbody tr th:only-of-type {\n        vertical-align: middle;\n    }\n\n    .dataframe tbody tr th {\n        vertical-align: top;\n    }\n\n    .dataframe thead th {\n        text-align: right;\n    }\n</style>\n<table border=\"1\" class=\"dataframe\">\n  <thead>\n    <tr style=\"text-align: right;\">\n      <th></th>\n      <th>category</th>\n      <th>file_name</th>\n      <th>score</th>\n      <th>1_mean</th>\n      <th>2_mean</th>\n      <th>3_mean</th>\n      <th>4_mean</th>\n      <th>5_mean</th>\n      <th>6_mean</th>\n      <th>7_mean</th>\n      <th>...</th>\n      <th>11_skew</th>\n      <th>12_skew</th>\n      <th>13_skew</th>\n      <th>14_skew</th>\n      <th>15_skew</th>\n      <th>16_skew</th>\n      <th>17_skew</th>\n      <th>18_skew</th>\n      <th>19_skew</th>\n      <th>20_skew</th>\n    </tr>\n  </thead>\n  <tbody>\n    <tr>\n      <th>0</th>\n      <td>83</td>\n      <td>01-1-1.wav</td>\n      <td>NaN</td>\n      <td>-252.127609</td>\n      <td>86.128586</td>\n      <td>10.461998</td>\n      <td>14.621578</td>\n      <td>1.361512</td>\n      <td>10.490637</td>\n      <td>15.488813</td>\n      <td>...</td>\n      <td>0.388371</td>\n      <td>-0.388503</td>\n      <td>0.238906</td>\n      <td>-0.072952</td>\n      <td>0.190036</td>\n      <td>-0.143168</td>\n      <td>-0.421977</td>\n      <td>-0.085949</td>\n      <td>-0.15848</td>\n      <td>0.276203</td>\n    </tr>\n    <tr>\n      <th>1</th>\n      <td>83</td>\n      <td>02-4-2.wav</td>\n      <td>NaN</td>\n      <td>-279.456085</td>\n      <td>108.1278</td>\n      <td>-13.898211</td>\n      <td>18.046717</td>\n      <td>0.117357</td>\n      <td>-0.215368</td>\n      <td>-1.474596</td>\n      <td>...</td>\n      <td>0.099664</td>\n      <td>0.211773</td>\n      <td>0.25395</td>\n      <td>-0.287342</td>\n      <td>0.07901</td>\n      <td>-0.241918</td>\n      <td>-0.373027</td>\n      <td>-0.062473</td>\n      <td>-0.512938</td>\n      <td>0.088225</td>\n    </tr>\n    <tr>\n      <th>2</th>\n      <td>83</td>\n      <td>03-M202-1415 ( 270-280 s).wav</td>\n      <td>NaN</td>\n      <td>-305.366821</td>\n      <td>148.540115</td>\n      <td>-39.237045</td>\n      <td>48.273968</td>\n      <td>-9.937784</td>\n      <td>32.072445</td>\n      <td>6.839402</td>\n      <td>...</td>\n      <td>-0.356707</td>\n      <td>-0.424135</td>\n      <td>-0.205677</td>\n      <td>0.38796</td>\n      <td>0.651305</td>\n      <td>1.097207</td>\n      <td>0.073332</td>\n      <td>0.12681</td>\n      <td>-0.42468</td>\n      <td>-0.144282</td>\n    </tr>\n    <tr>\n      <th>3</th>\n      <td>83</td>\n      <td>04-410-1 ( 0.00-300.58 s).wav</td>\n      <td>NaN</td>\n      <td>-361.024445</td>\n      <td>159.265884</td>\n      <td>-17.051327</td>\n      <td>60.628349</td>\n      <td>-29.338272</td>\n      <td>22.672075</td>\n      <td>4.683626</td>\n      <td>...</td>\n      <td>0.200374</td>\n      <td>0.017425</td>\n      <td>-0.704816</td>\n      <td>-0.167998</td>\n      <td>0.411482</td>\n      <td>0.00269</td>\n      <td>0.158483</td>\n      <td>0.001301</td>\n      <td>0.718411</td>\n      <td>0.711256</td>\n    </tr>\n    <tr>\n      <th>4</th>\n      <td>83</td>\n      <td>05-10-1.wav</td>\n      <td>NaN</td>\n      <td>-272.939178</td>\n      <td>113.978241</td>\n      <td>-2.218684</td>\n      <td>13.162933</td>\n      <td>1.828024</td>\n      <td>5.188318</td>\n      <td>7.835854</td>\n      <td>...</td>\n      <td>0.302959</td>\n      <td>-0.10477</td>\n      <td>0.12956</td>\n      <td>-0.105493</td>\n      <td>-0.09627</td>\n      <td>0.149827</td>\n      <td>-0.141725</td>\n      <td>-0.033388</td>\n      <td>-0.047115</td>\n      <td>-0.131163</td>\n    </tr>\n    <tr>\n      <th>...</th>\n      <td>...</td>\n      <td>...</td>\n      <td>...</td>\n      <td>...</td>\n      <td>...</td>\n      <td>...</td>\n      <td>...</td>\n      <td>...</td>\n      <td>...</td>\n      <td>...</td>\n      <td>...</td>\n      <td>...</td>\n      <td>...</td>\n      <td>...</td>\n      <td>...</td>\n      <td>...</td>\n      <td>...</td>\n      <td>...</td>\n      <td>...</td>\n      <td>...</td>\n      <td>...</td>\n    </tr>\n    <tr>\n      <th>78</th>\n      <td>83</td>\n      <td>79-409-5.wav</td>\n      <td>NaN</td>\n      <td>-315.749207</td>\n      <td>162.350464</td>\n      <td>-54.000969</td>\n      <td>65.145287</td>\n      <td>-21.757175</td>\n      <td>42.820473</td>\n      <td>-4.557957</td>\n      <td>...</td>\n      <td>-0.074314</td>\n      <td>0.32715</td>\n      <td>0.055369</td>\n      <td>0.28549</td>\n      <td>0.009954</td>\n      <td>-0.012773</td>\n      <td>-0.16457</td>\n      <td>0.089109</td>\n      <td>-0.100901</td>\n      <td>-0.621312</td>\n    </tr>\n    <tr>\n      <th>79</th>\n      <td>83</td>\n      <td>80-N118-1630 ( 0.00-60.00 s).wav</td>\n      <td>NaN</td>\n      <td>-280.79892</td>\n      <td>100.395042</td>\n      <td>-6.403555</td>\n      <td>10.684509</td>\n      <td>5.546415</td>\n      <td>8.623883</td>\n      <td>11.074948</td>\n      <td>...</td>\n      <td>-0.007494</td>\n      <td>0.291918</td>\n      <td>0.347218</td>\n      <td>-0.099641</td>\n      <td>-0.160115</td>\n      <td>-0.241031</td>\n      <td>0.358053</td>\n      <td>0.299751</td>\n      <td>-0.048212</td>\n      <td>-0.040477</td>\n    </tr>\n    <tr>\n      <th>80</th>\n      <td>83</td>\n      <td>81-N401-0900.wav</td>\n      <td>NaN</td>\n      <td>-313.263336</td>\n      <td>171.576416</td>\n      <td>-53.190144</td>\n      <td>42.963417</td>\n      <td>-32.493988</td>\n      <td>36.102497</td>\n      <td>-6.278632</td>\n      <td>...</td>\n      <td>-0.470795</td>\n      <td>0.067876</td>\n      <td>0.393222</td>\n      <td>-0.241966</td>\n      <td>0.259055</td>\n      <td>0.214019</td>\n      <td>0.292408</td>\n      <td>-0.168547</td>\n      <td>-0.310484</td>\n      <td>0.313622</td>\n    </tr>\n    <tr>\n      <th>81</th>\n      <td>83</td>\n      <td>82-N402-1744.wav</td>\n      <td>NaN</td>\n      <td>-326.16568</td>\n      <td>161.727875</td>\n      <td>-20.656282</td>\n      <td>54.649933</td>\n      <td>-1.41338</td>\n      <td>32.564034</td>\n      <td>10.089631</td>\n      <td>...</td>\n      <td>0.635318</td>\n      <td>-0.281767</td>\n      <td>-0.057934</td>\n      <td>-0.102343</td>\n      <td>0.623389</td>\n      <td>0.023795</td>\n      <td>-0.456956</td>\n      <td>0.237242</td>\n      <td>-0.014119</td>\n      <td>0.378333</td>\n    </tr>\n    <tr>\n      <th>82</th>\n      <td>83</td>\n      <td>83-N601-0847 ( 0.00-300.00 s).wav</td>\n      <td>NaN</td>\n      <td>-293.294403</td>\n      <td>145.835175</td>\n      <td>-13.535511</td>\n      <td>63.164307</td>\n      <td>-9.052842</td>\n      <td>33.486946</td>\n      <td>-0.350281</td>\n      <td>...</td>\n      <td>0.224813</td>\n      <td>0.021366</td>\n      <td>-0.042736</td>\n      <td>-0.443673</td>\n      <td>-0.183227</td>\n      <td>-0.017536</td>\n      <td>0.436614</td>\n      <td>0.505495</td>\n      <td>0.089566</td>\n      <td>0.022822</td>\n    </tr>\n  </tbody>\n</table>\n<p>83 rows × 103 columns</p>\n</div>"
     },
     "execution_count": 8,
     "metadata": {},
     "output_type": "execute_result"
    }
   ],
   "source": [
    "test_features"
   ],
   "metadata": {
    "collapsed": false,
    "pycharm": {
     "name": "#%%\n"
    }
   }
  },
  {
   "cell_type": "code",
   "execution_count": 9,
   "outputs": [],
   "source": [
    "# 记得改！！！\n",
    "test_features.to_excel('./output/83_features.xlsx', encoding='utf_8_sig')\n",
    "# test_features.to_excel('./output/80_features.xlsx', encoding='utf_8_sig')\n",
    "# test_features.to_excel('./output/703_features.xlsx', index=False, encoding='utf_8_sig')"
   ],
   "metadata": {
    "collapsed": false,
    "pycharm": {
     "name": "#%%\n"
    }
   }
  },
  {
   "cell_type": "code",
   "execution_count": 9,
   "outputs": [],
   "source": [],
   "metadata": {
    "collapsed": false,
    "pycharm": {
     "name": "#%%\n"
    }
   }
  }
 ],
 "metadata": {
  "kernelspec": {
   "display_name": "Python 3",
   "language": "python",
   "name": "python3"
  },
  "language_info": {
   "codemirror_mode": {
    "name": "ipython",
    "version": 2
   },
   "file_extension": ".py",
   "mimetype": "text/x-python",
   "name": "python",
   "nbconvert_exporter": "python",
   "pygments_lexer": "ipython2",
   "version": "2.7.6"
  }
 },
 "nbformat": 4,
 "nbformat_minor": 0
}