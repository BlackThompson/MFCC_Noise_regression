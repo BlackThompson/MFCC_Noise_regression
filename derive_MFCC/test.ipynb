{
 "cells": [
  {
   "cell_type": "code",
   "execution_count": 3,
   "outputs": [],
   "source": [
    "import os\n",
    "import pandas as pd\n",
    "\n",
    "# 指定要读取的文件夹路径\n",
    "folder_path = r'F:\\702'\n",
    "\n",
    "# 使用 os.scandir() 方法读取文件夹中的所有文件名，并按照文件系统中的顺序排序\n",
    "file_names = [f.name for f in sorted(os.scandir(folder_path), key=lambda x: x.inode())]\n",
    "\n",
    "# 创建一个 pandas DataFrame，并将文件名存入其中\n",
    "df = pd.DataFrame({'File Name': file_names})\n",
    "\n",
    "# 将 DataFrame 存储为 Excel 文件\n",
    "df.to_excel('file_names.xlsx', index=False)\n"
   ],
   "metadata": {
    "collapsed": false,
    "pycharm": {
     "name": "#%%\n"
    }
   }
  }
 ],
 "metadata": {
  "kernelspec": {
   "display_name": "Python 3",
   "language": "python",
   "name": "python3"
  },
  "language_info": {
   "codemirror_mode": {
    "name": "ipython",
    "version": 2
   },
   "file_extension": ".py",
   "mimetype": "text/x-python",
   "name": "python",
   "nbconvert_exporter": "python",
   "pygments_lexer": "ipython2",
   "version": "2.7.6"
  }
 },
 "nbformat": 4,
 "nbformat_minor": 0
}