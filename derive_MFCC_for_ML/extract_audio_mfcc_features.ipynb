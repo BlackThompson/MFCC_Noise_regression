{
 "cells": [
  {
   "cell_type": "code",
   "execution_count": 51,
   "metadata": {
    "collapsed": true
   },
   "outputs": [],
   "source": [
    "import librosa\n",
    "import numpy as np\n",
    "import os\n",
    "from natsort import natsorted\n",
    "from config import *\n",
    "from scipy.stats import kurtosis, skew\n",
    "import pandas as pd\n",
    "\n",
    "# 记得改！！！\n",
    "# audio_path = '.\\\\input\\\\test_audio'\n",
    "audio_path = 'F:\\\\702'\n",
    "# audio_path = '.\\\\input\\\\audio\\\\83'\n",
    "# audio_path = 'E:\\\\Python\\\\Code\\\\Mel_recognition\\\\select_exp_audios\\\\output\\\\split_audio'"
   ]
  },
  {
   "cell_type": "code",
   "execution_count": 52,
   "outputs": [],
   "source": [
    "file_names = [f for f in os.listdir(audio_path) if os.path.isfile(os.path.join(audio_path, f))]"
   ],
   "metadata": {
    "collapsed": false,
    "pycharm": {
     "name": "#%%\n"
    }
   }
  },
  {
   "cell_type": "code",
   "execution_count": 53,
   "outputs": [
    {
     "data": {
      "text/plain": "['1-L-1.wav',\n '1-L-2.wav',\n '2-L-1.wav',\n '2-L-2.wav',\n '3-L-1.wav',\n '3-L-2.wav',\n '4-L-1.wav',\n '4-L-2.wav',\n '5-L-1.wav',\n '5-L-2.wav',\n '6-L-1.wav',\n '6-L-2.wav',\n '7-L-1.wav',\n '7-L-2.wav',\n '8-L-1.wav',\n '8-L-2.wav',\n '9-L-1.wav',\n '9-L-2.wav',\n '10-L-1.wav',\n '10-L-2.wav',\n '11-L-1.wav',\n '11-L-2.wav',\n '12-L-1.wav',\n '12-L-2.wav',\n '13-L-1.wav',\n '13-L-2.wav',\n '14-L-1.wav',\n '14-L-2.wav',\n '15-L-1.wav',\n '15-L-2.wav',\n '16-L-1.wav',\n '16-L-2.wav',\n '17-L-1.wav',\n '17-L-2.wav',\n '18-L-1.wav',\n '18-L-2.wav',\n '19-L-1.wav',\n '19-L-2.wav',\n '20-L-1.wav',\n '20-L-2.wav',\n '21-L-1.wav',\n '21-L-2.wav',\n '22-L-1.wav',\n '22-L-2.wav',\n '23-L-1.wav',\n '23-L-2.wav',\n '24-L-1.wav',\n '24-L-2.wav',\n '25-L-1.wav',\n '25-L-2.wav',\n '26-L-1.wav',\n '26-L-2.wav',\n '27-L-1.wav',\n '27-L-2.wav',\n '28-L-1.wav',\n '28-L-2.wav',\n '29-L-1.wav',\n '29-L-2.wav',\n '30-L-1.wav',\n '30-L-2.wav',\n '31-L-1.wav',\n '31-L-2.wav',\n '32-L-1.wav',\n '32-L-2.wav',\n '33-L-1.wav',\n '33-L-2.wav',\n '34-L-1.wav',\n '34-L-2.wav',\n '35-L-1.wav',\n '35-L-2.wav',\n '36-L-1.wav',\n '36-L-2.wav',\n '37-L-1.wav',\n '37-L-2.wav',\n '38-L-1.wav',\n '38-L-2.wav',\n '39-L-1.wav',\n '39-L-2.wav',\n '40-L-1.wav',\n '40-L-2.wav',\n '41-L-1.wav',\n '41-L-2.wav',\n '42-L-1.wav',\n '42-L-2.wav',\n '43-L-1.wav',\n '43-L-2.wav',\n '44-L-1.wav',\n '44-L-2.wav',\n '45-L-1.wav',\n '45-L-2.wav',\n '46-L-1.wav',\n '46-L-2.wav',\n '47-L-1.wav',\n '47-L-2.wav',\n '48-L-1.wav',\n '48-L-2.wav',\n '49-L-1.wav',\n '49-L-2.wav',\n '50-L-1.wav',\n '50-L-2.wav',\n '51-L-1.wav',\n '51-L-2.wav',\n '52-L-1.wav',\n '52-L-2.wav',\n '53-L-1.wav',\n '54-L-1.wav',\n '54-L-2.wav',\n '55-L-1.wav',\n '55-L-2.wav',\n '56-L-1.wav',\n '56-L-2.wav',\n '58-L-1.wav',\n '58-L-2.wav',\n '59-L-1.wav',\n '59-L-2.wav',\n '60-L-1.wav',\n '60-L-2.wav',\n '61-L-1.wav',\n '61-L-2.wav',\n '62-L-1.wav',\n '62-L-2.wav',\n '63-L-1.wav',\n '63-L-2.wav',\n '64-L-1.wav',\n '64-L-2.wav',\n '65-L-1.wav',\n '65-L-2.wav',\n '66-L-1.wav',\n '66-L-2.wav',\n '67-L-1.wav',\n '67-L-2.wav',\n '68-L-1.wav',\n '68-L-2.wav',\n '69-L-1.wav',\n '69-L-2.wav',\n '70-L-1.wav',\n '70-L-2.wav',\n '71-L-1.wav',\n '71-L-2.wav',\n '72-L-1.wav',\n '72-L-2.wav',\n '73-L-1.wav',\n '73-L-2.wav',\n '74-L-1.wav',\n '74-L-2.wav',\n '75-L-1.wav',\n '75-L-2.wav',\n '76-L-1.wav',\n '76-L-2.wav',\n '77-L-1.wav',\n '78-L-1.wav',\n '78-L-2.wav',\n '79-L-1.wav',\n '79-L-2.wav',\n '80-L-1.wav',\n '80-L-2.wav',\n '81-L-1.wav',\n '81-L-2.wav',\n '82-L-1.wav',\n '82-L-2.wav',\n '83-L-1.wav',\n '83-L-2.wav',\n '84-L-1.wav',\n '84-L-2.wav',\n '85-L-1.wav',\n '85-L-2.wav',\n '86-L-1.wav',\n '86-L-2.wav',\n '87-L-1.wav',\n '87-L-2.wav',\n '88-L-1.wav',\n '88-L-2.wav',\n '89-L-1.wav',\n '89-L-2.wav',\n '90-L-1.wav',\n '90-L-2.wav',\n '91-L-1.wav',\n '91-L-2.wav',\n '92-L-1.wav',\n '92-L-2.wav',\n '93-L-1.wav',\n '93-L-2.wav',\n '94-L-1.wav',\n '94-L-2.wav',\n '95-L-1.wav',\n '95-L-2.wav',\n '96-L-1.wav',\n '96-L-2.wav',\n '97-L-1.wav',\n '97-L-2.wav',\n '98-L-1.wav',\n '98-L-2.wav',\n '99-L-1.wav',\n '99-L-2.wav',\n '100-L-1.wav',\n '100-L-2.wav',\n '101-L-1.wav',\n '101-L-2.wav',\n '102-L-1.wav',\n '102-L-2.wav',\n '103-L-1.wav',\n '103-L-2.wav',\n '104-L-1.wav',\n '104-L-2.wav',\n '105-L-1.wav',\n '105-L-2.wav',\n '106-L-1.wav',\n '106-L-2.wav',\n '107-L-1.wav',\n '107-L-2.wav',\n '108-L-1.wav',\n '108-L-2.wav',\n '109-L-1.wav',\n '109-L-2.wav',\n '110-L-1.wav',\n '110-L-2.wav',\n '111-L-1.wav',\n '111-L-2.wav',\n '112-L-1.wav',\n '113-L-1.wav',\n '113-L-2.wav',\n '114-L-1.wav',\n '114-L-2.wav',\n '115-L-1.wav',\n '115-L-2.wav',\n '116-L-1.wav',\n '116-L-2.wav',\n '117-L-1.wav',\n '117-L-2.wav',\n '118-L-1.wav',\n '118-L-2.wav',\n '119-L-1.wav',\n '119-L-2.wav',\n '120-L-1.wav',\n '120-L-2.wav',\n '121-L-1.wav',\n '121-L-2.wav',\n '122-L-1.wav',\n '122-L-2.wav',\n '123-L-1.wav',\n '123-L-2.wav',\n '124-L-1.wav',\n '124-L-2.wav',\n '125-L-1.wav',\n '125-L-2.wav',\n '126-L-1.wav',\n '126-L-2.wav',\n '127-L-1.wav',\n '127-L-2.wav',\n '127-L-3.wav',\n '127-L-4.wav',\n '127-L-5.wav',\n '127-L-6.wav',\n '127-L-7.wav',\n '127-L-8.wav',\n '127-L-9.wav',\n '127-L-10.wav',\n '127-L-11.wav',\n '128-L-1.wav',\n '128-L-2.wav',\n '128-L-3.wav',\n '128-L-4.wav',\n '128-L-5.wav',\n '128-L-6.wav',\n '128-L-7.wav',\n '128-L-8.wav',\n '128-L-9.wav',\n '128-L-10.wav',\n '128-L-11.wav',\n '128-L-12.wav',\n '129-L-1.wav',\n '129-L-2.wav',\n '129-L-3.wav',\n '129-L-4.wav',\n '129-L-5.wav',\n '129-L-6.wav',\n '129-L-7.wav',\n '129-L-8.wav',\n '129-L-9.wav',\n '129-L-10.wav',\n '129-L-11.wav',\n '129-L-12.wav',\n '130-L-1.wav',\n '130-L-2.wav',\n '130-L-3.wav',\n '130-L-4.wav',\n '130-L-5.wav',\n '130-L-6.wav',\n '130-L-7.wav',\n '130-L-8.wav',\n '130-L-9.wav',\n '130-L-10.wav',\n '130-L-11.wav',\n '131-L-1.wav',\n '131-L-2.wav',\n '131-L-3.wav',\n '131-L-4.wav',\n '131-L-5.wav',\n '131-L-6.wav',\n '131-L-7.wav',\n '131-L-8.wav',\n '131-L-9.wav',\n '131-L-10.wav',\n '131-L-11.wav',\n '131-L-12.wav',\n '132-L-1.wav',\n '132-L-2.wav',\n '132-L-3.wav',\n '132-L-4.wav',\n '132-L-5.wav',\n '132-L-6.wav',\n '132-L-7.wav',\n '132-L-8.wav',\n '132-L-9.wav',\n '132-L-10.wav',\n '132-L-11.wav',\n '132-L-12.wav',\n '133-L-1.wav',\n '133-L-2.wav',\n '133-L-3.wav',\n '133-L-4.wav',\n '133-L-5.wav',\n '133-L-6.wav',\n '133-L-7.wav',\n '133-L-8.wav',\n '133-L-9.wav',\n '133-L-10.wav',\n '133-L-11.wav',\n '133-L-12.wav',\n '134-L-1.wav',\n '134-L-2.wav',\n '134-L-3.wav',\n '134-L-4.wav',\n '134-L-5.wav',\n '134-L-6.wav',\n '134-L-7.wav',\n '134-L-8.wav',\n '134-L-9.wav',\n '134-L-10.wav',\n '134-L-11.wav',\n '134-L-12.wav',\n '135-L-1.wav',\n '135-L-2.wav',\n '135-L-3.wav',\n '135-L-4.wav',\n '135-L-5.wav',\n '135-L-6.wav',\n '135-L-7.wav',\n '135-L-8.wav',\n '135-L-9.wav',\n '135-L-10.wav',\n '135-L-11.wav',\n '135-L-12.wav',\n '136-L-1.wav',\n '136-L-2.wav',\n '136-L-3.wav',\n '136-L-4.wav',\n '136-L-5.wav',\n '136-L-6.wav',\n '136-L-7.wav',\n '136-L-8.wav',\n '136-L-9.wav',\n '136-L-10.wav',\n '136-L-11.wav',\n '137-L-1.wav',\n '137-L-2.wav',\n '137-L-3.wav',\n '137-L-4.wav',\n '137-L-5.wav',\n '137-L-6.wav',\n '137-L-7.wav',\n '137-L-8.wav',\n '137-L-9.wav',\n '137-L-10.wav',\n '137-L-11.wav',\n '137-L-12.wav',\n '138-L-1.wav',\n '138-L-2.wav',\n '138-L-3.wav',\n '138-L-4.wav',\n '138-L-5.wav',\n '138-L-6.wav',\n '138-L-7.wav',\n '138-L-8.wav',\n '138-L-9.wav',\n '138-L-10.wav',\n '138-L-11.wav',\n '139-L-1.wav',\n '139-L-2.wav',\n '139-L-3.wav',\n '139-L-4.wav',\n '139-L-5.wav',\n '139-L-6.wav',\n '139-L-7.wav',\n '139-L-8.wav',\n '139-L-9.wav',\n '139-L-10.wav',\n '139-L-11.wav',\n '139-L-12.wav',\n '140-L-1.wav',\n '140-L-2.wav',\n '140-L-3.wav',\n '140-L-4.wav',\n '140-L-5.wav',\n '140-L-6.wav',\n '140-L-7.wav',\n '140-L-8.wav',\n '140-L-9.wav',\n '140-L-10.wav',\n '140-L-11.wav',\n '141-L-1.wav',\n '141-L-2.wav',\n '141-L-3.wav',\n '141-L-4.wav',\n '141-L-5.wav',\n '141-L-6.wav',\n '141-L-7.wav',\n '141-L-8.wav',\n '141-L-9.wav',\n '141-L-10.wav',\n '141-L-11.wav',\n '141-L-12.wav',\n '142-L-1.wav',\n '142-L-2.wav',\n '142-L-3.wav',\n '142-L-4.wav',\n '142-L-5.wav',\n '142-L-6.wav',\n '142-L-7.wav',\n '142-L-8.wav',\n '142-L-9.wav',\n '142-L-10.wav',\n '142-L-11.wav',\n '143-L-1.wav',\n '143-L-2.wav',\n '143-L-3.wav',\n '143-L-4.wav',\n '143-L-5.wav',\n '143-L-6.wav',\n '143-L-7.wav',\n '143-L-8.wav',\n '143-L-9.wav',\n '143-L-10.wav',\n '143-L-11.wav',\n '144-L-1.wav',\n '144-L-2.wav',\n '144-L-3.wav',\n '144-L-4.wav',\n '144-L-5.wav',\n '144-L-6.wav',\n '144-L-7.wav',\n '144-L-8.wav',\n '144-L-9.wav',\n '144-L-10.wav',\n '144-L-11.wav',\n '144-L-12.wav',\n '145-L-1.wav',\n '145-L-2.wav',\n '145-L-3.wav',\n '145-L-4.wav',\n '145-L-5.wav',\n '145-L-6.wav',\n '145-L-7.wav',\n '145-L-8.wav',\n '145-L-9.wav',\n '145-L-10.wav',\n '145-L-11.wav',\n '145-L-12.wav',\n '146-L-1.wav',\n '146-L-2.wav',\n '146-L-3.wav',\n '146-L-4.wav',\n '146-L-5.wav',\n '146-L-6.wav',\n '146-L-7.wav',\n '146-L-8.wav',\n '146-L-9.wav',\n '146-L-10.wav',\n '146-L-11.wav',\n '147-L-1.wav',\n '147-L-2.wav',\n '147-L-3.wav',\n '147-L-4.wav',\n '147-L-5.wav',\n '147-L-6.wav',\n '147-L-7.wav',\n '147-L-8.wav',\n '147-L-9.wav',\n '147-L-10.wav',\n '147-L-11.wav',\n '147-L-12.wav',\n '148-L-1.wav',\n '148-L-2.wav',\n '148-L-3.wav',\n '148-L-4.wav',\n '148-L-5.wav',\n '148-L-6.wav',\n '148-L-7.wav',\n '148-L-8.wav',\n '148-L-9.wav',\n '148-L-10.wav',\n '148-L-11.wav',\n '149-L-1.wav',\n '149-L-2.wav',\n '149-L-3.wav',\n '149-L-4.wav',\n '149-L-5.wav',\n '149-L-6.wav',\n '149-L-7.wav',\n '149-L-8.wav',\n '149-L-9.wav',\n '149-L-10.wav',\n '149-L-11.wav',\n '149-L-12.wav',\n '150-L-1.wav',\n '150-L-2.wav',\n '150-L-3.wav',\n '150-L-4.wav',\n '150-L-5.wav',\n '150-L-6.wav',\n '150-L-7.wav',\n '150-L-8.wav',\n '150-L-9.wav',\n '150-L-10.wav',\n '150-L-11.wav',\n '151-L-1.wav',\n '151-L-2.wav',\n '151-L-3.wav',\n '151-L-4.wav',\n '151-L-5.wav',\n '151-L-6.wav',\n '151-L-7.wav',\n '151-L-8.wav',\n '151-L-9.wav',\n '151-L-10.wav',\n '151-L-11.wav',\n '151-L-12.wav',\n '152-L-1.wav',\n '152-L-2.wav',\n '152-L-3.wav',\n '152-L-4.wav',\n '152-L-5.wav',\n '152-L-6.wav',\n '152-L-7.wav',\n '152-L-8.wav',\n '152-L-9.wav',\n '152-L-10.wav',\n '152-L-11.wav',\n '152-L-12.wav',\n '153-L-1.wav',\n '153-L-2.wav',\n '153-L-3.wav',\n '153-L-4.wav',\n '153-L-5.wav',\n '153-L-6.wav',\n '153-L-7.wav',\n '153-L-8.wav',\n '153-L-9.wav',\n '153-L-10.wav',\n '153-L-11.wav',\n '153-L-12.wav',\n '154-L-1.wav',\n '154-L-2.wav',\n '154-L-3.wav',\n '154-L-4.wav',\n '154-L-5.wav',\n '154-L-6.wav',\n '154-L-7.wav',\n '154-L-8.wav',\n '154-L-9.wav',\n '154-L-10.wav',\n '154-L-11.wav',\n '155-L-1.wav',\n '155-L-2.wav',\n '155-L-3.wav',\n '155-L-4.wav',\n '155-L-5.wav',\n '155-L-6.wav',\n '155-L-7.wav',\n '155-L-8.wav',\n '155-L-9.wav',\n '155-L-10.wav',\n '155-L-11.wav',\n '155-L-12.wav',\n '156-L-1.wav',\n '156-L-2.wav',\n '156-L-3.wav',\n '156-L-4.wav',\n '156-L-5.wav',\n '156-L-6.wav',\n '156-L-7.wav',\n '156-L-8.wav',\n '156-L-9.wav',\n '156-L-10.wav',\n '156-L-11.wav',\n '157-L-1.wav',\n '157-L-2.wav',\n '157-L-3.wav',\n '157-L-4.wav',\n '157-L-5.wav',\n '157-L-6.wav',\n '157-L-7.wav',\n '157-L-8.wav',\n '157-L-9.wav',\n '157-L-10.wav',\n '157-L-11.wav',\n '158-L-1.wav',\n '158-L-2.wav',\n '158-L-3.wav',\n '158-L-4.wav',\n '158-L-5.wav',\n '158-L-6.wav',\n '158-L-7.wav',\n '158-L-8.wav',\n '158-L-9.wav',\n '158-L-10.wav',\n '158-L-11.wav',\n '159-L-1.wav',\n '159-L-2.wav',\n '159-L-3.wav',\n '159-L-4.wav',\n '159-L-5.wav',\n '159-L-6.wav',\n '159-L-7.wav',\n '159-L-8.wav',\n '159-L-9.wav',\n '159-L-10.wav',\n '159-L-11.wav',\n '160-L-1.wav',\n '160-L-2.wav',\n '160-L-3.wav',\n '160-L-4.wav',\n '160-L-5.wav',\n '160-L-6.wav',\n '160-L-7.wav',\n '160-L-8.wav',\n '160-L-9.wav',\n '160-L-10.wav',\n '160-L-11.wav',\n '160-L-12.wav',\n '161-L-1.wav',\n '161-L-2.wav',\n '161-L-3.wav',\n '161-L-4.wav',\n '161-L-5.wav',\n '161-L-6.wav',\n '161-L-7.wav',\n '161-L-8.wav',\n '161-L-9.wav',\n '161-L-10.wav',\n '161-L-11.wav',\n '162-L-1.wav',\n '162-L-2.wav',\n '162-L-3.wav',\n '162-L-4.wav',\n '162-L-5.wav',\n '162-L-6.wav',\n '162-L-7.wav',\n '162-L-8.wav',\n '162-L-9.wav',\n '162-L-10.wav',\n '162-L-11.wav',\n '162-L-12.wav',\n '163-L-1.wav',\n '163-L-2.wav',\n '163-L-3.wav',\n '163-L-4.wav',\n '163-L-5.wav',\n '163-L-6.wav',\n '163-L-7.wav',\n '163-L-8.wav',\n '163-L-9.wav',\n '163-L-10.wav',\n '163-L-11.wav',\n '164-L-1.wav',\n '164-L-2.wav',\n '164-L-3.wav',\n '164-L-4.wav',\n '164-L-5.wav',\n '164-L-6.wav',\n '164-L-7.wav',\n '164-L-8.wav',\n '164-L-9.wav',\n '164-L-10.wav',\n '164-L-11.wav',\n '165-L-1.wav',\n '165-L-2.wav',\n '165-L-3.wav',\n '165-L-4.wav',\n '165-L-5.wav',\n '165-L-6.wav',\n '165-L-7.wav',\n '165-L-8.wav',\n '165-L-9.wav',\n '165-L-10.wav',\n '165-L-11.wav',\n '166-L-1.wav',\n '166-L-2.wav',\n '166-L-3.wav',\n '166-L-4.wav',\n '166-L-5.wav',\n '166-L-6.wav',\n '166-L-7.wav',\n '166-L-8.wav',\n '166-L-9.wav',\n '166-L-10.wav',\n '166-L-11.wav',\n '167-L-1.wav',\n '167-L-2.wav',\n '167-L-3.wav',\n '167-L-4.wav',\n '167-L-5.wav',\n '167-L-6.wav',\n '167-L-7.wav',\n '167-L-8.wav',\n '167-L-9.wav',\n '167-L-10.wav',\n '167-L-11.wav',\n '167-L-12.wav',\n '168-L-1.wav',\n '168-L-2.wav',\n '168-L-3.wav',\n '168-L-4.wav',\n '168-L-5.wav',\n '168-L-6.wav',\n '168-L-7.wav',\n '168-L-8.wav',\n '168-L-9.wav',\n '168-L-10.wav',\n '168-L-11.wav',\n '169-L-1.wav',\n '169-L-2.wav',\n '169-L-3.wav',\n '169-L-4.wav',\n '169-L-5.wav',\n '169-L-6.wav',\n '169-L-7.wav',\n '169-L-8.wav',\n '169-L-9.wav',\n '169-L-10.wav',\n '169-L-11.wav',\n '170-L-1.wav',\n '170-L-2.wav',\n '170-L-3.wav',\n '170-L-4.wav',\n '170-L-5.wav',\n '170-L-6.wav',\n '170-L-7.wav',\n '170-L-8.wav',\n '170-L-9.wav',\n '170-L-10.wav',\n '170-L-11.wav',\n '171-L-1.wav',\n '171-L-2.wav',\n '171-L-3.wav',\n '171-L-4.wav',\n '171-L-5.wav',\n '171-L-6.wav',\n '171-L-7.wav',\n '171-L-8.wav',\n '171-L-9.wav',\n '171-L-10.wav',\n '171-L-11.wav',\n '172-L-1.wav',\n '172-L-2.wav',\n '172-L-3.wav',\n '172-L-4.wav',\n '172-L-5.wav',\n '172-L-6.wav',\n '172-L-7.wav',\n '172-L-8.wav',\n '172-L-9.wav',\n '172-L-10.wav',\n '172-L-11.wav',\n '173-L-1.wav',\n '173-L-2.wav',\n '173-L-3.wav',\n '173-L-4.wav',\n '173-L-5.wav',\n '173-L-6.wav',\n '173-L-7.wav',\n '173-L-8.wav',\n '173-L-9.wav',\n '173-L-10.wav',\n '173-L-11.wav',\n '174-L-1.wav',\n '174-L-2.wav',\n '174-L-3.wav',\n '174-L-4.wav',\n '174-L-5.wav',\n '174-L-6.wav',\n '174-L-7.wav',\n '174-L-8.wav',\n '174-L-9.wav',\n '174-L-10.wav',\n '174-L-11.wav',\n '174-L-12.wav',\n '175-L-1.wav',\n '175-L-2.wav',\n '175-L-3.wav',\n '175-L-4.wav',\n '175-L-5.wav',\n '175-L-6.wav',\n '175-L-7.wav',\n '175-L-8.wav',\n '175-L-9.wav',\n '175-L-10.wav',\n '175-L-11.wav',\n '176-L-1.wav',\n '176-L-2.wav',\n '176-L-3.wav',\n '176-L-4.wav',\n '176-L-5.wav',\n '176-L-6.wav',\n '176-L-7.wav',\n '176-L-8.wav',\n '176-L-9.wav',\n '176-L-10.wav',\n '176-L-11.wav',\n '177-L-1.wav',\n '177-L-2.wav',\n '177-L-3.wav',\n '177-L-4.wav',\n '177-L-5.wav',\n '177-L-6.wav',\n '177-L-7.wav',\n '177-L-8.wav',\n '177-L-9.wav',\n '177-L-10.wav',\n '177-L-11.wav',\n '178-L-1.wav',\n '178-L-2.wav',\n '178-L-3.wav',\n '178-L-4.wav',\n '178-L-5.wav',\n '178-L-6.wav',\n '178-L-7.wav',\n '178-L-8.wav',\n '178-L-9.wav',\n '178-L-10.wav',\n '178-L-11.wav',\n '179-L-1.wav',\n '179-L-2.wav',\n '179-L-3.wav',\n '179-L-4.wav',\n '179-L-5.wav',\n '179-L-6.wav',\n '179-L-7.wav',\n '179-L-8.wav',\n '179-L-9.wav',\n '179-L-10.wav',\n '179-L-11.wav',\n '180-L-1.wav',\n '180-L-2.wav',\n '180-L-3.wav',\n '180-L-4.wav',\n '180-L-5.wav',\n '180-L-6.wav',\n '180-L-7.wav',\n '180-L-8.wav',\n '180-L-9.wav',\n '180-L-10.wav',\n '180-L-11.wav',\n '181-L-1.wav',\n '181-L-2.wav',\n '181-L-3.wav',\n '181-L-4.wav',\n '181-L-5.wav',\n '181-L-6.wav',\n '181-L-7.wav',\n '181-L-8.wav',\n '181-L-9.wav',\n '181-L-10.wav',\n '181-L-11.wav',\n '181-L-12.wav',\n '182-L-1.wav',\n '182-L-2.wav',\n '182-L-3.wav',\n '182-L-4.wav',\n '182-L-5.wav',\n '182-L-6.wav',\n '182-L-7.wav',\n '182-L-8.wav',\n '182-L-9.wav',\n '182-L-10.wav',\n '182-L-11.wav',\n '183-L-1.wav',\n '183-L-2.wav',\n '183-L-3.wav',\n '183-L-4.wav',\n '183-L-5.wav',\n '183-L-6.wav',\n '183-L-7.wav',\n '183-L-8.wav',\n '183-L-9.wav',\n '183-L-10.wav',\n '183-L-11.wav',\n '183-L-12.wav',\n '184-L-1.wav',\n '184-L-2.wav',\n '184-L-3.wav',\n '184-L-4.wav',\n '184-L-5.wav',\n '184-L-6.wav',\n '184-L-7.wav',\n '184-L-8.wav',\n '184-L-9.wav',\n '184-L-10.wav',\n '184-L-11.wav',\n '185-L-1.wav',\n '185-L-2.wav',\n '185-L-3.wav',\n '185-L-4.wav',\n '185-L-5.wav',\n '185-L-6.wav',\n '185-L-7.wav',\n '185-L-8.wav',\n '185-L-9.wav',\n '185-L-10.wav',\n '185-L-11.wav',\n '186-L-1.wav',\n '186-L-2.wav',\n '186-L-3.wav',\n '186-L-4.wav',\n '186-L-5.wav',\n '186-L-6.wav',\n '186-L-7.wav',\n '186-L-8.wav',\n '186-L-9.wav',\n '186-L-10.wav',\n '186-L-11.wav',\n '186-L-29.wav',\n '187-L-1.wav',\n '187-L-2.wav',\n '187-L-3.wav',\n '187-L-4.wav',\n '187-L-5.wav',\n '187-L-6.wav',\n '187-L-7.wav',\n '187-L-8.wav',\n '187-L-9.wav',\n '187-L-10.wav',\n '187-L-11.wav',\n '188-L-1.wav',\n '188-L-2.wav',\n '188-L-3.wav',\n '188-L-4.wav',\n '188-L-5.wav',\n '188-L-6.wav',\n '188-L-7.wav',\n '188-L-8.wav',\n '188-L-9.wav',\n '188-L-10.wav',\n '188-L-11.wav',\n '189-L-1.wav',\n '189-L-2.wav',\n '189-L-3.wav',\n '189-L-4.wav',\n '189-L-5.wav',\n '189-L-6.wav',\n '189-L-7.wav',\n '189-L-8.wav',\n '189-L-9.wav',\n '189-L-10.wav',\n '189-L-11.wav',\n '190-L-1.wav',\n '190-L-2.wav',\n '190-L-3.wav',\n '190-L-4.wav',\n '190-L-5.wav',\n '190-L-6.wav',\n '190-L-7.wav',\n '190-L-8.wav',\n '190-L-9.wav',\n '190-L-10.wav',\n '190-L-11.wav',\n '190-L-12.wav',\n '191-L-1.wav',\n '191-L-2.wav',\n '191-L-3.wav',\n '191-L-4.wav',\n '191-L-5.wav',\n '191-L-6.wav',\n '191-L-7.wav',\n '191-L-8.wav',\n '191-L-9.wav',\n '191-L-10.wav',\n '191-L-11.wav',\n '192-L-1.wav',\n '192-L-2.wav',\n '192-L-3.wav',\n '192-L-4.wav',\n '192-L-5.wav',\n '192-L-6.wav',\n '192-L-7.wav',\n '192-L-8.wav',\n '192-L-9.wav',\n '192-L-10.wav',\n '192-L-11.wav',\n '193-L-1.wav',\n ...]"
     },
     "execution_count": 53,
     "metadata": {},
     "output_type": "execute_result"
    }
   ],
   "source": [
    "# natsort 自然排序超级好用\n",
    "file_names = natsorted(file_names)\n",
    "file_names"
   ],
   "metadata": {
    "collapsed": false,
    "pycharm": {
     "name": "#%%\n"
    }
   }
  },
  {
   "cell_type": "code",
   "execution_count": 54,
   "outputs": [],
   "source": [
    "def amplitude(y):\n",
    "    \"\"\"\n",
    "    Applies automatic gain control to the audio to make it sound more comfortable to listen to.\n",
    "\n",
    "    Parameters:\n",
    "    ----------\n",
    "    y : numpy.ndarray [shape=(n_samples,)]\n",
    "        The input audio signal as a time series.\n",
    "    sr : number > 0 [scalar]\n",
    "        The sampling rate of `y`, i.e. the number of samples per second.\n",
    "\n",
    "    Returns:\n",
    "    -------\n",
    "    y_agc : numpy.ndarray [shape=(n_samples,)]\n",
    "        The output audio signal after applying AGC.\n",
    "    \"\"\"\n",
    "    target_db = -40  # 目标分贝值\n",
    "    db = librosa.amplitude_to_db(y)\n",
    "    gain = librosa.db_to_amplitude(target_db - db.mean())  # 计算增益系数\n",
    "    y_agc = y * gain\n",
    "    return y_agc"
   ],
   "metadata": {
    "collapsed": false,
    "pycharm": {
     "name": "#%%\n"
    }
   }
  },
  {
   "cell_type": "code",
   "execution_count": 55,
   "outputs": [
    {
     "data": {
      "text/plain": "Empty DataFrame\nColumns: [category, file_name, score, 1_mean, 2_mean, 3_mean, 4_mean, 5_mean, 6_mean, 7_mean, 8_mean, 9_mean, 10_mean, 11_mean, 12_mean, 13_mean, 14_mean, 15_mean, 16_mean, 17_mean, 18_mean, 19_mean, 20_mean, 1_25_per, 2_25_per, 3_25_per, 4_25_per, 5_25_per, 6_25_per, 7_25_per, 8_25_per, 9_25_per, 10_25_per, 11_25_per, 12_25_per, 13_25_per, 14_25_per, 15_25_per, 16_25_per, 17_25_per, 18_25_per, 19_25_per, 20_25_per, 1_75_per, 2_75_per, 3_75_per, 4_75_per, 5_75_per, 6_75_per, 7_75_per, 8_75_per, 9_75_per, 10_75_per, 11_75_per, 12_75_per, 13_75_per, 14_75_per, 15_75_per, 16_75_per, 17_75_per, 18_75_per, 19_75_per, 20_75_per, 1_kurtosis, 2_kurtosis, 3_kurtosis, 4_kurtosis, 5_kurtosis, 6_kurtosis, 7_kurtosis, 8_kurtosis, 9_kurtosis, 10_kurtosis, 11_kurtosis, 12_kurtosis, 13_kurtosis, 14_kurtosis, 15_kurtosis, 16_kurtosis, 17_kurtosis, 18_kurtosis, 19_kurtosis, 20_kurtosis, 1_skew, 2_skew, 3_skew, 4_skew, 5_skew, 6_skew, 7_skew, 8_skew, 9_skew, 10_skew, 11_skew, 12_skew, 13_skew, 14_skew, 15_skew, 16_skew, 17_skew, ...]\nIndex: []\n\n[0 rows x 103 columns]",
      "text/html": "<div>\n<style scoped>\n    .dataframe tbody tr th:only-of-type {\n        vertical-align: middle;\n    }\n\n    .dataframe tbody tr th {\n        vertical-align: top;\n    }\n\n    .dataframe thead th {\n        text-align: right;\n    }\n</style>\n<table border=\"1\" class=\"dataframe\">\n  <thead>\n    <tr style=\"text-align: right;\">\n      <th></th>\n      <th>category</th>\n      <th>file_name</th>\n      <th>score</th>\n      <th>1_mean</th>\n      <th>2_mean</th>\n      <th>3_mean</th>\n      <th>4_mean</th>\n      <th>5_mean</th>\n      <th>6_mean</th>\n      <th>7_mean</th>\n      <th>...</th>\n      <th>11_skew</th>\n      <th>12_skew</th>\n      <th>13_skew</th>\n      <th>14_skew</th>\n      <th>15_skew</th>\n      <th>16_skew</th>\n      <th>17_skew</th>\n      <th>18_skew</th>\n      <th>19_skew</th>\n      <th>20_skew</th>\n    </tr>\n  </thead>\n  <tbody>\n  </tbody>\n</table>\n<p>0 rows × 103 columns</p>\n</div>"
     },
     "execution_count": 55,
     "metadata": {},
     "output_type": "execute_result"
    }
   ],
   "source": [
    "test_features = pd.DataFrame(columns=columns_new_1)\n",
    "test_features"
   ],
   "metadata": {
    "collapsed": false,
    "pycharm": {
     "name": "#%%\n"
    }
   }
  },
  {
   "cell_type": "code",
   "execution_count": 56,
   "outputs": [
    {
     "data": {
      "text/plain": "     category     file_name score 1_mean 2_mean 3_mean 4_mean 5_mean 6_mean  \\\n0          HJ     1-L-1.wav   NaN    NaN    NaN    NaN    NaN    NaN    NaN   \n1          HJ     1-L-2.wav   NaN    NaN    NaN    NaN    NaN    NaN    NaN   \n2          HJ     2-L-1.wav   NaN    NaN    NaN    NaN    NaN    NaN    NaN   \n3          HJ     2-L-2.wav   NaN    NaN    NaN    NaN    NaN    NaN    NaN   \n4          HJ     3-L-1.wav   NaN    NaN    NaN    NaN    NaN    NaN    NaN   \n...       ...           ...   ...    ...    ...    ...    ...    ...    ...   \n6759       HJ   702-L-7.wav   NaN    NaN    NaN    NaN    NaN    NaN    NaN   \n6760       HJ   702-L-8.wav   NaN    NaN    NaN    NaN    NaN    NaN    NaN   \n6761       HJ   702-L-9.wav   NaN    NaN    NaN    NaN    NaN    NaN    NaN   \n6762       HJ  702-L-10.wav   NaN    NaN    NaN    NaN    NaN    NaN    NaN   \n6763       HJ  702-L-11.wav   NaN    NaN    NaN    NaN    NaN    NaN    NaN   \n\n     7_mean  ... 11_skew 12_skew 13_skew 14_skew 15_skew 16_skew 17_skew  \\\n0       NaN  ...     NaN     NaN     NaN     NaN     NaN     NaN     NaN   \n1       NaN  ...     NaN     NaN     NaN     NaN     NaN     NaN     NaN   \n2       NaN  ...     NaN     NaN     NaN     NaN     NaN     NaN     NaN   \n3       NaN  ...     NaN     NaN     NaN     NaN     NaN     NaN     NaN   \n4       NaN  ...     NaN     NaN     NaN     NaN     NaN     NaN     NaN   \n...     ...  ...     ...     ...     ...     ...     ...     ...     ...   \n6759    NaN  ...     NaN     NaN     NaN     NaN     NaN     NaN     NaN   \n6760    NaN  ...     NaN     NaN     NaN     NaN     NaN     NaN     NaN   \n6761    NaN  ...     NaN     NaN     NaN     NaN     NaN     NaN     NaN   \n6762    NaN  ...     NaN     NaN     NaN     NaN     NaN     NaN     NaN   \n6763    NaN  ...     NaN     NaN     NaN     NaN     NaN     NaN     NaN   \n\n     18_skew 19_skew 20_skew  \n0        NaN     NaN     NaN  \n1        NaN     NaN     NaN  \n2        NaN     NaN     NaN  \n3        NaN     NaN     NaN  \n4        NaN     NaN     NaN  \n...      ...     ...     ...  \n6759     NaN     NaN     NaN  \n6760     NaN     NaN     NaN  \n6761     NaN     NaN     NaN  \n6762     NaN     NaN     NaN  \n6763     NaN     NaN     NaN  \n\n[6764 rows x 103 columns]",
      "text/html": "<div>\n<style scoped>\n    .dataframe tbody tr th:only-of-type {\n        vertical-align: middle;\n    }\n\n    .dataframe tbody tr th {\n        vertical-align: top;\n    }\n\n    .dataframe thead th {\n        text-align: right;\n    }\n</style>\n<table border=\"1\" class=\"dataframe\">\n  <thead>\n    <tr style=\"text-align: right;\">\n      <th></th>\n      <th>category</th>\n      <th>file_name</th>\n      <th>score</th>\n      <th>1_mean</th>\n      <th>2_mean</th>\n      <th>3_mean</th>\n      <th>4_mean</th>\n      <th>5_mean</th>\n      <th>6_mean</th>\n      <th>7_mean</th>\n      <th>...</th>\n      <th>11_skew</th>\n      <th>12_skew</th>\n      <th>13_skew</th>\n      <th>14_skew</th>\n      <th>15_skew</th>\n      <th>16_skew</th>\n      <th>17_skew</th>\n      <th>18_skew</th>\n      <th>19_skew</th>\n      <th>20_skew</th>\n    </tr>\n  </thead>\n  <tbody>\n    <tr>\n      <th>0</th>\n      <td>HJ</td>\n      <td>1-L-1.wav</td>\n      <td>NaN</td>\n      <td>NaN</td>\n      <td>NaN</td>\n      <td>NaN</td>\n      <td>NaN</td>\n      <td>NaN</td>\n      <td>NaN</td>\n      <td>NaN</td>\n      <td>...</td>\n      <td>NaN</td>\n      <td>NaN</td>\n      <td>NaN</td>\n      <td>NaN</td>\n      <td>NaN</td>\n      <td>NaN</td>\n      <td>NaN</td>\n      <td>NaN</td>\n      <td>NaN</td>\n      <td>NaN</td>\n    </tr>\n    <tr>\n      <th>1</th>\n      <td>HJ</td>\n      <td>1-L-2.wav</td>\n      <td>NaN</td>\n      <td>NaN</td>\n      <td>NaN</td>\n      <td>NaN</td>\n      <td>NaN</td>\n      <td>NaN</td>\n      <td>NaN</td>\n      <td>NaN</td>\n      <td>...</td>\n      <td>NaN</td>\n      <td>NaN</td>\n      <td>NaN</td>\n      <td>NaN</td>\n      <td>NaN</td>\n      <td>NaN</td>\n      <td>NaN</td>\n      <td>NaN</td>\n      <td>NaN</td>\n      <td>NaN</td>\n    </tr>\n    <tr>\n      <th>2</th>\n      <td>HJ</td>\n      <td>2-L-1.wav</td>\n      <td>NaN</td>\n      <td>NaN</td>\n      <td>NaN</td>\n      <td>NaN</td>\n      <td>NaN</td>\n      <td>NaN</td>\n      <td>NaN</td>\n      <td>NaN</td>\n      <td>...</td>\n      <td>NaN</td>\n      <td>NaN</td>\n      <td>NaN</td>\n      <td>NaN</td>\n      <td>NaN</td>\n      <td>NaN</td>\n      <td>NaN</td>\n      <td>NaN</td>\n      <td>NaN</td>\n      <td>NaN</td>\n    </tr>\n    <tr>\n      <th>3</th>\n      <td>HJ</td>\n      <td>2-L-2.wav</td>\n      <td>NaN</td>\n      <td>NaN</td>\n      <td>NaN</td>\n      <td>NaN</td>\n      <td>NaN</td>\n      <td>NaN</td>\n      <td>NaN</td>\n      <td>NaN</td>\n      <td>...</td>\n      <td>NaN</td>\n      <td>NaN</td>\n      <td>NaN</td>\n      <td>NaN</td>\n      <td>NaN</td>\n      <td>NaN</td>\n      <td>NaN</td>\n      <td>NaN</td>\n      <td>NaN</td>\n      <td>NaN</td>\n    </tr>\n    <tr>\n      <th>4</th>\n      <td>HJ</td>\n      <td>3-L-1.wav</td>\n      <td>NaN</td>\n      <td>NaN</td>\n      <td>NaN</td>\n      <td>NaN</td>\n      <td>NaN</td>\n      <td>NaN</td>\n      <td>NaN</td>\n      <td>NaN</td>\n      <td>...</td>\n      <td>NaN</td>\n      <td>NaN</td>\n      <td>NaN</td>\n      <td>NaN</td>\n      <td>NaN</td>\n      <td>NaN</td>\n      <td>NaN</td>\n      <td>NaN</td>\n      <td>NaN</td>\n      <td>NaN</td>\n    </tr>\n    <tr>\n      <th>...</th>\n      <td>...</td>\n      <td>...</td>\n      <td>...</td>\n      <td>...</td>\n      <td>...</td>\n      <td>...</td>\n      <td>...</td>\n      <td>...</td>\n      <td>...</td>\n      <td>...</td>\n      <td>...</td>\n      <td>...</td>\n      <td>...</td>\n      <td>...</td>\n      <td>...</td>\n      <td>...</td>\n      <td>...</td>\n      <td>...</td>\n      <td>...</td>\n      <td>...</td>\n      <td>...</td>\n    </tr>\n    <tr>\n      <th>6759</th>\n      <td>HJ</td>\n      <td>702-L-7.wav</td>\n      <td>NaN</td>\n      <td>NaN</td>\n      <td>NaN</td>\n      <td>NaN</td>\n      <td>NaN</td>\n      <td>NaN</td>\n      <td>NaN</td>\n      <td>NaN</td>\n      <td>...</td>\n      <td>NaN</td>\n      <td>NaN</td>\n      <td>NaN</td>\n      <td>NaN</td>\n      <td>NaN</td>\n      <td>NaN</td>\n      <td>NaN</td>\n      <td>NaN</td>\n      <td>NaN</td>\n      <td>NaN</td>\n    </tr>\n    <tr>\n      <th>6760</th>\n      <td>HJ</td>\n      <td>702-L-8.wav</td>\n      <td>NaN</td>\n      <td>NaN</td>\n      <td>NaN</td>\n      <td>NaN</td>\n      <td>NaN</td>\n      <td>NaN</td>\n      <td>NaN</td>\n      <td>NaN</td>\n      <td>...</td>\n      <td>NaN</td>\n      <td>NaN</td>\n      <td>NaN</td>\n      <td>NaN</td>\n      <td>NaN</td>\n      <td>NaN</td>\n      <td>NaN</td>\n      <td>NaN</td>\n      <td>NaN</td>\n      <td>NaN</td>\n    </tr>\n    <tr>\n      <th>6761</th>\n      <td>HJ</td>\n      <td>702-L-9.wav</td>\n      <td>NaN</td>\n      <td>NaN</td>\n      <td>NaN</td>\n      <td>NaN</td>\n      <td>NaN</td>\n      <td>NaN</td>\n      <td>NaN</td>\n      <td>NaN</td>\n      <td>...</td>\n      <td>NaN</td>\n      <td>NaN</td>\n      <td>NaN</td>\n      <td>NaN</td>\n      <td>NaN</td>\n      <td>NaN</td>\n      <td>NaN</td>\n      <td>NaN</td>\n      <td>NaN</td>\n      <td>NaN</td>\n    </tr>\n    <tr>\n      <th>6762</th>\n      <td>HJ</td>\n      <td>702-L-10.wav</td>\n      <td>NaN</td>\n      <td>NaN</td>\n      <td>NaN</td>\n      <td>NaN</td>\n      <td>NaN</td>\n      <td>NaN</td>\n      <td>NaN</td>\n      <td>NaN</td>\n      <td>...</td>\n      <td>NaN</td>\n      <td>NaN</td>\n      <td>NaN</td>\n      <td>NaN</td>\n      <td>NaN</td>\n      <td>NaN</td>\n      <td>NaN</td>\n      <td>NaN</td>\n      <td>NaN</td>\n      <td>NaN</td>\n    </tr>\n    <tr>\n      <th>6763</th>\n      <td>HJ</td>\n      <td>702-L-11.wav</td>\n      <td>NaN</td>\n      <td>NaN</td>\n      <td>NaN</td>\n      <td>NaN</td>\n      <td>NaN</td>\n      <td>NaN</td>\n      <td>NaN</td>\n      <td>NaN</td>\n      <td>...</td>\n      <td>NaN</td>\n      <td>NaN</td>\n      <td>NaN</td>\n      <td>NaN</td>\n      <td>NaN</td>\n      <td>NaN</td>\n      <td>NaN</td>\n      <td>NaN</td>\n      <td>NaN</td>\n      <td>NaN</td>\n    </tr>\n  </tbody>\n</table>\n<p>6764 rows × 103 columns</p>\n</div>"
     },
     "execution_count": 56,
     "metadata": {},
     "output_type": "execute_result"
    }
   ],
   "source": [
    "test_features['file_name'] = file_names\n",
    "# 记得改！！！\n",
    "test_features['category'] = 'HJ'\n",
    "test_features"
   ],
   "metadata": {
    "collapsed": false,
    "pycharm": {
     "name": "#%%\n"
    }
   }
  },
  {
   "cell_type": "code",
   "execution_count": 57,
   "outputs": [
    {
     "name": "stderr",
     "output_type": "stream",
     "text": [
      "C:\\Users\\Black\\AppData\\Local\\Temp\\ipykernel_8652\\2726879896.py:6: UserWarning: PySoundFile failed. Trying audioread instead.\n",
      "  y, sr = librosa.load(wav_path, duration=10, sr=48000)\n",
      "E:\\Python\\Anaconda\\lib\\site-packages\\librosa\\core\\audio.py:184: FutureWarning: librosa.core.audio.__audioread_load\n",
      "\tDeprecated as of librosa version 0.10.0.\n",
      "\tIt will be removed in librosa version 1.0.\n",
      "  y, sr_native = __audioread_load(path, offset, duration, dtype)\n"
     ]
    },
    {
     "name": "stdout",
     "output_type": "stream",
     "text": [
      "Failed to load F:\\702\\561-L-6.wav: \n",
      "Failed to load F:\\702\\561-L-7.wav: \n",
      "Failed to load F:\\702\\561-L-8.wav: \n",
      "Failed to load F:\\702\\561-L-9.wav: \n",
      "Failed to load F:\\702\\562-L-1.wav: \n",
      "Failed to load F:\\702\\562-L-2.wav: \n",
      "Failed to load F:\\702\\562-L-3.wav: \n",
      "Failed to load F:\\702\\562-L-4.wav: \n",
      "Failed to load F:\\702\\562-L-5.wav: \n",
      "Failed to load F:\\702\\562-L-6.wav: \n",
      "Failed to load F:\\702\\562-L-7.wav: \n",
      "Failed to load F:\\702\\562-L-8.wav: \n",
      "Failed to load F:\\702\\562-L-9.wav: \n",
      "Failed to load F:\\702\\562-L-10.wav: \n",
      "Failed to load F:\\702\\562-L-11.wav: \n",
      "Failed to load F:\\702\\563-L-1.wav: \n",
      "Failed to load F:\\702\\563-L-2.wav: \n",
      "Failed to load F:\\702\\563-L-3.wav: \n",
      "Failed to load F:\\702\\563-L-4.wav: \n",
      "Failed to load F:\\702\\563-L-5.wav: \n",
      "Failed to load F:\\702\\563-L-6.wav: \n",
      "Failed to load F:\\702\\563-L-7.wav: \n",
      "Failed to load F:\\702\\563-L-8.wav: \n",
      "Failed to load F:\\702\\563-L-9.wav: \n",
      "Failed to load F:\\702\\563-L-10.wav: \n",
      "Failed to load F:\\702\\563-L-11.wav: \n",
      "Failed to load F:\\702\\564-L-1.wav: \n",
      "Failed to load F:\\702\\564-L-2.wav: \n",
      "Failed to load F:\\702\\564-L-3.wav: \n",
      "Failed to load F:\\702\\564-L-4.wav: \n",
      "Failed to load F:\\702\\564-L-5.wav: \n",
      "Failed to load F:\\702\\564-L-6.wav: \n",
      "Failed to load F:\\702\\564-L-7.wav: \n",
      "Failed to load F:\\702\\564-L-8.wav: \n",
      "Failed to load F:\\702\\564-L-9.wav: \n",
      "Failed to load F:\\702\\564-L-10.wav: \n",
      "Failed to load F:\\702\\564-L-11.wav: \n",
      "Failed to load F:\\702\\565-L-1.wav: \n",
      "Failed to load F:\\702\\565-L-2.wav: \n",
      "Failed to load F:\\702\\565-L-3.wav: \n",
      "Failed to load F:\\702\\565-L-4.wav: \n",
      "Failed to load F:\\702\\565-L-5.wav: \n",
      "Failed to load F:\\702\\565-L-6.wav: \n",
      "Failed to load F:\\702\\565-L-7.wav: \n",
      "Failed to load F:\\702\\565-L-8.wav: \n",
      "Failed to load F:\\702\\565-L-9.wav: \n",
      "Failed to load F:\\702\\565-L-10.wav: \n",
      "Failed to load F:\\702\\565-L-11.wav: \n",
      "Failed to load F:\\702\\566-L-1.wav: \n",
      "Failed to load F:\\702\\566-L-2.wav: \n",
      "Failed to load F:\\702\\566-L-3.wav: \n",
      "Failed to load F:\\702\\566-L-4.wav: \n",
      "Failed to load F:\\702\\566-L-5.wav: \n",
      "Failed to load F:\\702\\566-L-6.wav: \n",
      "Failed to load F:\\702\\566-L-7.wav: \n",
      "Failed to load F:\\702\\566-L-8.wav: \n",
      "Failed to load F:\\702\\566-L-9.wav: \n",
      "Failed to load F:\\702\\566-L-10.wav: \n",
      "Failed to load F:\\702\\566-L-11.wav: \n",
      "Failed to load F:\\702\\567-L-1.wav: \n",
      "Failed to load F:\\702\\567-L-2.wav: \n",
      "Failed to load F:\\702\\567-L-3.wav: \n",
      "Failed to load F:\\702\\567-L-4.wav: \n",
      "Failed to load F:\\702\\567-L-5.wav: \n",
      "Failed to load F:\\702\\567-L-6.wav: \n",
      "Failed to load F:\\702\\567-L-7.wav: \n",
      "Failed to load F:\\702\\567-L-8.wav: \n",
      "Failed to load F:\\702\\567-L-9.wav: \n",
      "Failed to load F:\\702\\567-L-10.wav: \n",
      "Failed to load F:\\702\\567-L-11.wav: \n",
      "Failed to load F:\\702\\568-L-1.wav: \n",
      "Failed to load F:\\702\\568-L-2.wav: \n",
      "Failed to load F:\\702\\568-L-3.wav: \n",
      "Failed to load F:\\702\\568-L-4.wav: \n",
      "Failed to load F:\\702\\568-L-5.wav: \n",
      "Failed to load F:\\702\\568-L-6.wav: \n",
      "Failed to load F:\\702\\568-L-7.wav: \n",
      "Failed to load F:\\702\\568-L-8.wav: \n",
      "Failed to load F:\\702\\568-L-9.wav: \n",
      "Failed to load F:\\702\\568-L-10.wav: \n",
      "Failed to load F:\\702\\568-L-11.wav: \n",
      "Failed to load F:\\702\\569-L-1.wav: \n",
      "Failed to load F:\\702\\569-L-2.wav: \n",
      "Failed to load F:\\702\\569-L-3.wav: \n",
      "Failed to load F:\\702\\569-L-4.wav: \n",
      "Failed to load F:\\702\\569-L-5.wav: \n",
      "Failed to load F:\\702\\569-L-6.wav: \n",
      "Failed to load F:\\702\\569-L-7.wav: \n",
      "Failed to load F:\\702\\569-L-8.wav: \n",
      "Failed to load F:\\702\\569-L-9.wav: \n",
      "Failed to load F:\\702\\569-L-10.wav: \n",
      "Failed to load F:\\702\\569-L-11.wav: \n",
      "Failed to load F:\\702\\570-L-1.wav: \n",
      "Failed to load F:\\702\\570-L-2.wav: \n",
      "Failed to load F:\\702\\570-L-3.wav: \n",
      "Failed to load F:\\702\\570-L-4.wav: \n",
      "Failed to load F:\\702\\570-L-5.wav: \n",
      "Failed to load F:\\702\\570-L-6.wav: \n",
      "Failed to load F:\\702\\570-L-7.wav: \n",
      "Failed to load F:\\702\\570-L-8.wav: \n",
      "Failed to load F:\\702\\570-L-9.wav: \n",
      "Failed to load F:\\702\\570-L-10.wav: \n",
      "Failed to load F:\\702\\570-L-11.wav: \n",
      "Failed to load F:\\702\\571-L-1.wav: \n",
      "Failed to load F:\\702\\571-L-2.wav: \n",
      "Failed to load F:\\702\\571-L-3.wav: \n",
      "Failed to load F:\\702\\571-L-4.wav: \n",
      "Failed to load F:\\702\\571-L-5.wav: \n",
      "Failed to load F:\\702\\571-L-6.wav: \n",
      "Failed to load F:\\702\\571-L-7.wav: \n",
      "Failed to load F:\\702\\571-L-8.wav: \n",
      "Failed to load F:\\702\\571-L-9.wav: \n",
      "Failed to load F:\\702\\571-L-10.wav: \n",
      "Failed to load F:\\702\\571-L-11.wav: \n",
      "Failed to load F:\\702\\572-L-1.wav: \n",
      "Failed to load F:\\702\\572-L-2.wav: \n",
      "Failed to load F:\\702\\572-L-3.wav: \n",
      "Failed to load F:\\702\\572-L-4.wav: \n",
      "Failed to load F:\\702\\572-L-5.wav: \n",
      "Failed to load F:\\702\\572-L-6.wav: \n",
      "Failed to load F:\\702\\572-L-7.wav: \n",
      "Failed to load F:\\702\\572-L-8.wav: \n",
      "Failed to load F:\\702\\572-L-9.wav: \n",
      "Failed to load F:\\702\\572-L-10.wav: \n",
      "Failed to load F:\\702\\572-L-11.wav: \n",
      "Failed to load F:\\702\\573-L-1.wav: \n",
      "Failed to load F:\\702\\573-L-2.wav: \n",
      "Failed to load F:\\702\\573-L-3.wav: \n",
      "Failed to load F:\\702\\573-L-4.wav: \n",
      "Failed to load F:\\702\\573-L-5.wav: \n",
      "Failed to load F:\\702\\573-L-6.wav: \n",
      "Failed to load F:\\702\\573-L-7.wav: \n",
      "Failed to load F:\\702\\573-L-8.wav: \n",
      "Failed to load F:\\702\\573-L-10.wav: \n",
      "Failed to load F:\\702\\573-L-11.wav: \n"
     ]
    }
   ],
   "source": [
    "for i in range(len(test_features)):\n",
    "    try:\n",
    "        wav_path = os.path.join(audio_path, test_features.loc[i, 'file_name'])\n",
    "        # 全部截取10s\n",
    "        # 采样率调整到48000\n",
    "        y, sr = librosa.load(wav_path, duration=10, sr=48000)\n",
    "\n",
    "        # 都增益为相同大小的分贝\n",
    "        y = amplitude(y)\n",
    "\n",
    "        mfcc = librosa.feature.mfcc(y=y, sr=sr, n_mfcc=20)\n",
    "        A = mfcc.T\n",
    "        means = np.mean(A, axis=0)\n",
    "        per_25, per_75 = np.percentile(A, axis=0, q=[25, 75])\n",
    "        kurtosis_list = np.apply_along_axis(func1d=kurtosis, axis=0, arr=A)\n",
    "        skewness_list = np.apply_along_axis(func1d=skew, axis=0, arr=A)\n",
    "        # stds = np.std(A, axis=0)\n",
    "\n",
    "        test_features.loc[i, \"1_mean\":\"20_mean\"] = means\n",
    "        test_features.loc[i, \"1_25_per\":\"20_25_per\"] = per_25\n",
    "        test_features.loc[i, \"1_75_per\":\"20_75_per\"] = per_75\n",
    "        test_features.loc[i, \"1_kurtosis\":\"20_kurtosis\"] = kurtosis_list\n",
    "        test_features.loc[i, \"1_skew\":\"20_skew\"] = skewness_list\n",
    "        # test_features.loc[i, \"1_std\":\"20_std\"] = stds\n",
    "\n",
    "    except Exception as e:\n",
    "        print(f\"Failed to load {wav_path}: {str(e)}\")\n",
    "        continue\n"
   ],
   "metadata": {
    "collapsed": false,
    "pycharm": {
     "name": "#%%\n"
    }
   }
  },
  {
   "cell_type": "code",
   "execution_count": 58,
   "outputs": [],
   "source": [
    "def fill_in_score(score_df, target_df):\n",
    "    for index, row in target_df.iterrows():\n",
    "        match = score_df.loc[score_df['file_name'] == row['file_name']]\n",
    "        if not match.empty:\n",
    "            target_df.loc[index, 'score'] = match['score'].values[0]"
   ],
   "metadata": {
    "collapsed": false,
    "pycharm": {
     "name": "#%%\n"
    }
   }
  },
  {
   "cell_type": "code",
   "execution_count": 59,
   "outputs": [
    {
     "data": {
      "text/plain": "     category     file_name score      1_mean      2_mean     3_mean  \\\n0          HJ     1-L-1.wav   6.6 -335.402161  159.253494 -52.787285   \n1          HJ     1-L-2.wav   6.8 -326.408142  148.003998 -49.609848   \n2          HJ     2-L-1.wav   4.9  -516.02417  102.700752   4.908616   \n3          HJ     2-L-2.wav   4.8 -456.014465   96.289589 -17.459013   \n4          HJ     3-L-1.wav   5.8 -403.878784  164.525055  -4.393493   \n...       ...           ...   ...         ...         ...        ...   \n6759       HJ   702-L-7.wav   NaN -486.286102  151.171371  37.888817   \n6760       HJ   702-L-8.wav   NaN -463.574371  133.773987  18.725918   \n6761       HJ   702-L-9.wav   NaN -395.032318   72.533134   8.380421   \n6762       HJ  702-L-10.wav   NaN -356.977081   38.957897   2.146409   \n6763       HJ  702-L-11.wav   NaN -378.504333   36.111004   7.530036   \n\n         4_mean     5_mean     6_mean     7_mean  ...   11_skew   12_skew  \\\n0     69.803879 -34.576855  17.988552   3.388374  ...  -0.17701 -0.008158   \n1     63.973774 -34.563484  17.459896   0.936002  ... -0.587196  0.310391   \n2     44.569489  21.012732  20.736811   7.293008  ...  0.104603 -0.002309   \n3     50.023727  24.628195  17.048071   -1.33632  ...  0.331303 -0.135057   \n4     29.458893   5.173839   7.259298   8.410524  ...  0.012559  0.002363   \n...         ...        ...        ...        ...  ...       ...       ...   \n6759  45.507748   16.74642  11.330189   11.97255  ...    1.1463  -1.58738   \n6760  36.003479  23.547596  12.673466   8.066476  ... -0.372607   0.29114   \n6761  85.573936 -17.068604  14.665447  28.101759  ...   0.50257  0.066227   \n6762  98.338318 -33.563881  10.989425   35.32505  ...  0.125903  0.195047   \n6763   103.1605 -29.975536  13.827346  38.912312  ... -0.371695 -0.129184   \n\n       13_skew   14_skew   15_skew   16_skew   17_skew   18_skew   19_skew  \\\n0     0.258802 -0.268425  0.043004  0.072303  0.032303  0.061787  0.114541   \n1      0.15721  0.048497 -0.095161  0.045254  0.111295 -0.070749  0.141118   \n2     0.298823  0.261202  0.087246  -0.43555  0.083865  0.307347  0.235184   \n3     0.036021 -0.059932 -0.025637 -0.072459 -0.091573 -0.035333  0.153171   \n4     0.085559 -0.083491 -0.091567  0.219964 -0.252475 -0.096006  0.305517   \n...        ...       ...       ...       ...       ...       ...       ...   \n6759  0.925241  0.523738 -1.776168  1.303783 -0.912829  0.396778 -0.280245   \n6760  0.180007  -0.35301 -0.295279  0.438773   0.06001 -0.034909 -0.283023   \n6761  0.023048 -0.132354   0.11322 -0.217274  0.004043  0.162817  0.032962   \n6762 -0.037434 -0.099999  0.198733  0.091525  0.048435  0.151745  0.258098   \n6763 -0.081178 -0.035164   -0.0231  -0.04518 -0.129773  0.081936  0.012714   \n\n       20_skew  \n0    -0.326617  \n1     0.105294  \n2     0.348165  \n3     0.129038  \n4     0.205339  \n...        ...  \n6759 -0.464345  \n6760   0.37683  \n6761 -0.049915  \n6762  0.125212  \n6763  0.090014  \n\n[6764 rows x 103 columns]",
      "text/html": "<div>\n<style scoped>\n    .dataframe tbody tr th:only-of-type {\n        vertical-align: middle;\n    }\n\n    .dataframe tbody tr th {\n        vertical-align: top;\n    }\n\n    .dataframe thead th {\n        text-align: right;\n    }\n</style>\n<table border=\"1\" class=\"dataframe\">\n  <thead>\n    <tr style=\"text-align: right;\">\n      <th></th>\n      <th>category</th>\n      <th>file_name</th>\n      <th>score</th>\n      <th>1_mean</th>\n      <th>2_mean</th>\n      <th>3_mean</th>\n      <th>4_mean</th>\n      <th>5_mean</th>\n      <th>6_mean</th>\n      <th>7_mean</th>\n      <th>...</th>\n      <th>11_skew</th>\n      <th>12_skew</th>\n      <th>13_skew</th>\n      <th>14_skew</th>\n      <th>15_skew</th>\n      <th>16_skew</th>\n      <th>17_skew</th>\n      <th>18_skew</th>\n      <th>19_skew</th>\n      <th>20_skew</th>\n    </tr>\n  </thead>\n  <tbody>\n    <tr>\n      <th>0</th>\n      <td>HJ</td>\n      <td>1-L-1.wav</td>\n      <td>6.6</td>\n      <td>-335.402161</td>\n      <td>159.253494</td>\n      <td>-52.787285</td>\n      <td>69.803879</td>\n      <td>-34.576855</td>\n      <td>17.988552</td>\n      <td>3.388374</td>\n      <td>...</td>\n      <td>-0.17701</td>\n      <td>-0.008158</td>\n      <td>0.258802</td>\n      <td>-0.268425</td>\n      <td>0.043004</td>\n      <td>0.072303</td>\n      <td>0.032303</td>\n      <td>0.061787</td>\n      <td>0.114541</td>\n      <td>-0.326617</td>\n    </tr>\n    <tr>\n      <th>1</th>\n      <td>HJ</td>\n      <td>1-L-2.wav</td>\n      <td>6.8</td>\n      <td>-326.408142</td>\n      <td>148.003998</td>\n      <td>-49.609848</td>\n      <td>63.973774</td>\n      <td>-34.563484</td>\n      <td>17.459896</td>\n      <td>0.936002</td>\n      <td>...</td>\n      <td>-0.587196</td>\n      <td>0.310391</td>\n      <td>0.15721</td>\n      <td>0.048497</td>\n      <td>-0.095161</td>\n      <td>0.045254</td>\n      <td>0.111295</td>\n      <td>-0.070749</td>\n      <td>0.141118</td>\n      <td>0.105294</td>\n    </tr>\n    <tr>\n      <th>2</th>\n      <td>HJ</td>\n      <td>2-L-1.wav</td>\n      <td>4.9</td>\n      <td>-516.02417</td>\n      <td>102.700752</td>\n      <td>4.908616</td>\n      <td>44.569489</td>\n      <td>21.012732</td>\n      <td>20.736811</td>\n      <td>7.293008</td>\n      <td>...</td>\n      <td>0.104603</td>\n      <td>-0.002309</td>\n      <td>0.298823</td>\n      <td>0.261202</td>\n      <td>0.087246</td>\n      <td>-0.43555</td>\n      <td>0.083865</td>\n      <td>0.307347</td>\n      <td>0.235184</td>\n      <td>0.348165</td>\n    </tr>\n    <tr>\n      <th>3</th>\n      <td>HJ</td>\n      <td>2-L-2.wav</td>\n      <td>4.8</td>\n      <td>-456.014465</td>\n      <td>96.289589</td>\n      <td>-17.459013</td>\n      <td>50.023727</td>\n      <td>24.628195</td>\n      <td>17.048071</td>\n      <td>-1.33632</td>\n      <td>...</td>\n      <td>0.331303</td>\n      <td>-0.135057</td>\n      <td>0.036021</td>\n      <td>-0.059932</td>\n      <td>-0.025637</td>\n      <td>-0.072459</td>\n      <td>-0.091573</td>\n      <td>-0.035333</td>\n      <td>0.153171</td>\n      <td>0.129038</td>\n    </tr>\n    <tr>\n      <th>4</th>\n      <td>HJ</td>\n      <td>3-L-1.wav</td>\n      <td>5.8</td>\n      <td>-403.878784</td>\n      <td>164.525055</td>\n      <td>-4.393493</td>\n      <td>29.458893</td>\n      <td>5.173839</td>\n      <td>7.259298</td>\n      <td>8.410524</td>\n      <td>...</td>\n      <td>0.012559</td>\n      <td>0.002363</td>\n      <td>0.085559</td>\n      <td>-0.083491</td>\n      <td>-0.091567</td>\n      <td>0.219964</td>\n      <td>-0.252475</td>\n      <td>-0.096006</td>\n      <td>0.305517</td>\n      <td>0.205339</td>\n    </tr>\n    <tr>\n      <th>...</th>\n      <td>...</td>\n      <td>...</td>\n      <td>...</td>\n      <td>...</td>\n      <td>...</td>\n      <td>...</td>\n      <td>...</td>\n      <td>...</td>\n      <td>...</td>\n      <td>...</td>\n      <td>...</td>\n      <td>...</td>\n      <td>...</td>\n      <td>...</td>\n      <td>...</td>\n      <td>...</td>\n      <td>...</td>\n      <td>...</td>\n      <td>...</td>\n      <td>...</td>\n      <td>...</td>\n    </tr>\n    <tr>\n      <th>6759</th>\n      <td>HJ</td>\n      <td>702-L-7.wav</td>\n      <td>NaN</td>\n      <td>-486.286102</td>\n      <td>151.171371</td>\n      <td>37.888817</td>\n      <td>45.507748</td>\n      <td>16.74642</td>\n      <td>11.330189</td>\n      <td>11.97255</td>\n      <td>...</td>\n      <td>1.1463</td>\n      <td>-1.58738</td>\n      <td>0.925241</td>\n      <td>0.523738</td>\n      <td>-1.776168</td>\n      <td>1.303783</td>\n      <td>-0.912829</td>\n      <td>0.396778</td>\n      <td>-0.280245</td>\n      <td>-0.464345</td>\n    </tr>\n    <tr>\n      <th>6760</th>\n      <td>HJ</td>\n      <td>702-L-8.wav</td>\n      <td>NaN</td>\n      <td>-463.574371</td>\n      <td>133.773987</td>\n      <td>18.725918</td>\n      <td>36.003479</td>\n      <td>23.547596</td>\n      <td>12.673466</td>\n      <td>8.066476</td>\n      <td>...</td>\n      <td>-0.372607</td>\n      <td>0.29114</td>\n      <td>0.180007</td>\n      <td>-0.35301</td>\n      <td>-0.295279</td>\n      <td>0.438773</td>\n      <td>0.06001</td>\n      <td>-0.034909</td>\n      <td>-0.283023</td>\n      <td>0.37683</td>\n    </tr>\n    <tr>\n      <th>6761</th>\n      <td>HJ</td>\n      <td>702-L-9.wav</td>\n      <td>NaN</td>\n      <td>-395.032318</td>\n      <td>72.533134</td>\n      <td>8.380421</td>\n      <td>85.573936</td>\n      <td>-17.068604</td>\n      <td>14.665447</td>\n      <td>28.101759</td>\n      <td>...</td>\n      <td>0.50257</td>\n      <td>0.066227</td>\n      <td>0.023048</td>\n      <td>-0.132354</td>\n      <td>0.11322</td>\n      <td>-0.217274</td>\n      <td>0.004043</td>\n      <td>0.162817</td>\n      <td>0.032962</td>\n      <td>-0.049915</td>\n    </tr>\n    <tr>\n      <th>6762</th>\n      <td>HJ</td>\n      <td>702-L-10.wav</td>\n      <td>NaN</td>\n      <td>-356.977081</td>\n      <td>38.957897</td>\n      <td>2.146409</td>\n      <td>98.338318</td>\n      <td>-33.563881</td>\n      <td>10.989425</td>\n      <td>35.32505</td>\n      <td>...</td>\n      <td>0.125903</td>\n      <td>0.195047</td>\n      <td>-0.037434</td>\n      <td>-0.099999</td>\n      <td>0.198733</td>\n      <td>0.091525</td>\n      <td>0.048435</td>\n      <td>0.151745</td>\n      <td>0.258098</td>\n      <td>0.125212</td>\n    </tr>\n    <tr>\n      <th>6763</th>\n      <td>HJ</td>\n      <td>702-L-11.wav</td>\n      <td>NaN</td>\n      <td>-378.504333</td>\n      <td>36.111004</td>\n      <td>7.530036</td>\n      <td>103.1605</td>\n      <td>-29.975536</td>\n      <td>13.827346</td>\n      <td>38.912312</td>\n      <td>...</td>\n      <td>-0.371695</td>\n      <td>-0.129184</td>\n      <td>-0.081178</td>\n      <td>-0.035164</td>\n      <td>-0.0231</td>\n      <td>-0.04518</td>\n      <td>-0.129773</td>\n      <td>0.081936</td>\n      <td>0.012714</td>\n      <td>0.090014</td>\n    </tr>\n  </tbody>\n</table>\n<p>6764 rows × 103 columns</p>\n</div>"
     },
     "execution_count": 59,
     "metadata": {},
     "output_type": "execute_result"
    }
   ],
   "source": [
    "# score_path = r'./input/score/Black_split_score.xlsx'\n",
    "score_path = r'./input/score/HJ_split_score.xlsx'\n",
    "# score_path = r'./input/score/83_score.xlsx'\n",
    "# score_path = r'./input/score/80_score.xlsx'\n",
    "score_df = pd.read_excel(score_path)\n",
    "fill_in_score(score_df, test_features)\n",
    "test_features"
   ],
   "metadata": {
    "collapsed": false,
    "pycharm": {
     "name": "#%%\n"
    }
   }
  },
  {
   "cell_type": "code",
   "execution_count": 60,
   "outputs": [],
   "source": [
    "# 记得改！！！\n",
    "# test_features.to_excel('./output/black_mfcc_features.xlsx', index=False, encoding='utf_8_sig')\n",
    "test_features.to_excel('./output/HJ_mfcc_features.xlsx', index=False, encoding='utf_8_sig')\n",
    "# test_features.to_excel('./output/83_mfcc_features.xlsx', index=False, encoding='utf_8_sig')\n",
    "# test_features.to_excel('./output/80_mfcc_features.xlsx', index=False, encoding='utf_8_sig')\n",
    "# test_features.to_excel('./output/test_mfcc_features.xlsx', index=False, encoding='utf_8_sig')"
   ],
   "metadata": {
    "collapsed": false,
    "pycharm": {
     "name": "#%%\n"
    }
   }
  }
 ],
 "metadata": {
  "kernelspec": {
   "display_name": "Python 3",
   "language": "python",
   "name": "python3"
  },
  "language_info": {
   "codemirror_mode": {
    "name": "ipython",
    "version": 2
   },
   "file_extension": ".py",
   "mimetype": "text/x-python",
   "name": "python",
   "nbconvert_exporter": "python",
   "pygments_lexer": "ipython2",
   "version": "2.7.6"
  }
 },
 "nbformat": 4,
 "nbformat_minor": 0
}