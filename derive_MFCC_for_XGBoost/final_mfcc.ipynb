{
 "cells": [
  {
   "cell_type": "code",
   "execution_count": 8,
   "metadata": {
    "collapsed": true
   },
   "outputs": [],
   "source": [
    "import librosa\n",
    "import pandas as pd\n",
    "import numpy as np\n",
    "import os\n",
    "from config import *\n",
    "from scipy.stats import kurtosis, skew\n",
    "\n",
    "\n",
    "def amplitude(y):\n",
    "    target_db = -40  # 目标分贝值\n",
    "    db = librosa.amplitude_to_db(y)\n",
    "    gain = librosa.db_to_amplitude(target_db - db.mean())  # 计算增益系数\n",
    "    y_agc = y * gain\n",
    "    return y_agc\n",
    "\n",
    "\n",
    "def extract_mfcc(wav_path, sr=44100):\n",
    "    \"\"\"\n",
    "    从给定路径的音频文件中提取MFCC特征\n",
    "\n",
    "    Args:\n",
    "        wav_path (str): 音频文件的路径\n",
    "        sr (int): 音频采样率，默认为44100\n",
    "\n",
    "    Returns:\n",
    "        numpy.ndarray: 提取的MFCC特征矩阵，维度为(n_mfcc, t)\n",
    "    \"\"\"\n",
    "    # 设置参数\n",
    "    # n_mfcc = 20  # MFCC系数的数量\n",
    "    # hop_length = 512  # 每帧的时间长度\n",
    "    # n_fft = 2048  # FFT窗口大小\n",
    "    # y, sr = librosa.load(wav_path, sr=None)\n",
    "    y, sr = librosa.load(wav_path, sr=sr)\n",
    "    # 都增益为相同大小的分贝\n",
    "    y = amplitude(y)\n",
    "    mfcc = librosa.feature.mfcc(y=y, sr=sr, n_mfcc=13)\n",
    "    return mfcc.T\n",
    "\n",
    "\n",
    "def first_order_diff_mean_var(x):\n",
    "    diff = np.diff(x, n=1)\n",
    "    mean = np.mean(diff)\n",
    "    var = np.var(diff)\n",
    "    return mean, var\n",
    "\n",
    "\n",
    "def second_order_diff_mean(x):\n",
    "    diff = np.diff(x, n=2)\n",
    "    mean = np.mean(diff)\n",
    "    return mean\n"
   ]
  },
  {
   "cell_type": "code",
   "execution_count": 9,
   "outputs": [
    {
     "data": {
      "text/plain": "     category                     file_name     score 1_mean 2_mean 3_mean  \\\n0         200              001-143-L-11.wav  6.000000    NaN    NaN    NaN   \n1         200              002-127-L-11.wav  6.633333    NaN    NaN    NaN   \n2         200              003-154-L-11.wav  6.100000    NaN    NaN    NaN   \n3         200               004-131-L-3.wav  6.700000    NaN    NaN    NaN   \n4         200  005-2023-04-09_05h17m42s.wav  5.533333    NaN    NaN    NaN   \n..        ...                           ...       ...    ...    ...    ...   \n358        80            ns11-N601-1050.wav  5.925000    NaN    NaN    NaN   \n359        80            ns12-N602-0859.wav  5.200000    NaN    NaN    NaN   \n360        80            ns13-N603-1527.wav  4.250000    NaN    NaN    NaN   \n361        80            ns14-N604-1029.wav  5.750000    NaN    NaN    NaN   \n362        80            ns15-N605-1056.wav  4.050000    NaN    NaN    NaN   \n\n    4_mean 5_mean 6_mean 7_mean  ... 4_diff_2_mean 5_diff_2_mean  \\\n0      NaN    NaN    NaN    NaN  ...           NaN           NaN   \n1      NaN    NaN    NaN    NaN  ...           NaN           NaN   \n2      NaN    NaN    NaN    NaN  ...           NaN           NaN   \n3      NaN    NaN    NaN    NaN  ...           NaN           NaN   \n4      NaN    NaN    NaN    NaN  ...           NaN           NaN   \n..     ...    ...    ...    ...  ...           ...           ...   \n358    NaN    NaN    NaN    NaN  ...           NaN           NaN   \n359    NaN    NaN    NaN    NaN  ...           NaN           NaN   \n360    NaN    NaN    NaN    NaN  ...           NaN           NaN   \n361    NaN    NaN    NaN    NaN  ...           NaN           NaN   \n362    NaN    NaN    NaN    NaN  ...           NaN           NaN   \n\n    6_diff_2_mean 7_diff_2_mean 8_diff_2_mean 9_diff_2_mean 10_diff_2_mean  \\\n0             NaN           NaN           NaN           NaN            NaN   \n1             NaN           NaN           NaN           NaN            NaN   \n2             NaN           NaN           NaN           NaN            NaN   \n3             NaN           NaN           NaN           NaN            NaN   \n4             NaN           NaN           NaN           NaN            NaN   \n..            ...           ...           ...           ...            ...   \n358           NaN           NaN           NaN           NaN            NaN   \n359           NaN           NaN           NaN           NaN            NaN   \n360           NaN           NaN           NaN           NaN            NaN   \n361           NaN           NaN           NaN           NaN            NaN   \n362           NaN           NaN           NaN           NaN            NaN   \n\n    11_diff_2_mean 12_diff_2_mean 13_diff_2_mean  \n0              NaN            NaN            NaN  \n1              NaN            NaN            NaN  \n2              NaN            NaN            NaN  \n3              NaN            NaN            NaN  \n4              NaN            NaN            NaN  \n..             ...            ...            ...  \n358            NaN            NaN            NaN  \n359            NaN            NaN            NaN  \n360            NaN            NaN            NaN  \n361            NaN            NaN            NaN  \n362            NaN            NaN            NaN  \n\n[363 rows x 81 columns]",
      "text/html": "<div>\n<style scoped>\n    .dataframe tbody tr th:only-of-type {\n        vertical-align: middle;\n    }\n\n    .dataframe tbody tr th {\n        vertical-align: top;\n    }\n\n    .dataframe thead th {\n        text-align: right;\n    }\n</style>\n<table border=\"1\" class=\"dataframe\">\n  <thead>\n    <tr style=\"text-align: right;\">\n      <th></th>\n      <th>category</th>\n      <th>file_name</th>\n      <th>score</th>\n      <th>1_mean</th>\n      <th>2_mean</th>\n      <th>3_mean</th>\n      <th>4_mean</th>\n      <th>5_mean</th>\n      <th>6_mean</th>\n      <th>7_mean</th>\n      <th>...</th>\n      <th>4_diff_2_mean</th>\n      <th>5_diff_2_mean</th>\n      <th>6_diff_2_mean</th>\n      <th>7_diff_2_mean</th>\n      <th>8_diff_2_mean</th>\n      <th>9_diff_2_mean</th>\n      <th>10_diff_2_mean</th>\n      <th>11_diff_2_mean</th>\n      <th>12_diff_2_mean</th>\n      <th>13_diff_2_mean</th>\n    </tr>\n  </thead>\n  <tbody>\n    <tr>\n      <th>0</th>\n      <td>200</td>\n      <td>001-143-L-11.wav</td>\n      <td>6.000000</td>\n      <td>NaN</td>\n      <td>NaN</td>\n      <td>NaN</td>\n      <td>NaN</td>\n      <td>NaN</td>\n      <td>NaN</td>\n      <td>NaN</td>\n      <td>...</td>\n      <td>NaN</td>\n      <td>NaN</td>\n      <td>NaN</td>\n      <td>NaN</td>\n      <td>NaN</td>\n      <td>NaN</td>\n      <td>NaN</td>\n      <td>NaN</td>\n      <td>NaN</td>\n      <td>NaN</td>\n    </tr>\n    <tr>\n      <th>1</th>\n      <td>200</td>\n      <td>002-127-L-11.wav</td>\n      <td>6.633333</td>\n      <td>NaN</td>\n      <td>NaN</td>\n      <td>NaN</td>\n      <td>NaN</td>\n      <td>NaN</td>\n      <td>NaN</td>\n      <td>NaN</td>\n      <td>...</td>\n      <td>NaN</td>\n      <td>NaN</td>\n      <td>NaN</td>\n      <td>NaN</td>\n      <td>NaN</td>\n      <td>NaN</td>\n      <td>NaN</td>\n      <td>NaN</td>\n      <td>NaN</td>\n      <td>NaN</td>\n    </tr>\n    <tr>\n      <th>2</th>\n      <td>200</td>\n      <td>003-154-L-11.wav</td>\n      <td>6.100000</td>\n      <td>NaN</td>\n      <td>NaN</td>\n      <td>NaN</td>\n      <td>NaN</td>\n      <td>NaN</td>\n      <td>NaN</td>\n      <td>NaN</td>\n      <td>...</td>\n      <td>NaN</td>\n      <td>NaN</td>\n      <td>NaN</td>\n      <td>NaN</td>\n      <td>NaN</td>\n      <td>NaN</td>\n      <td>NaN</td>\n      <td>NaN</td>\n      <td>NaN</td>\n      <td>NaN</td>\n    </tr>\n    <tr>\n      <th>3</th>\n      <td>200</td>\n      <td>004-131-L-3.wav</td>\n      <td>6.700000</td>\n      <td>NaN</td>\n      <td>NaN</td>\n      <td>NaN</td>\n      <td>NaN</td>\n      <td>NaN</td>\n      <td>NaN</td>\n      <td>NaN</td>\n      <td>...</td>\n      <td>NaN</td>\n      <td>NaN</td>\n      <td>NaN</td>\n      <td>NaN</td>\n      <td>NaN</td>\n      <td>NaN</td>\n      <td>NaN</td>\n      <td>NaN</td>\n      <td>NaN</td>\n      <td>NaN</td>\n    </tr>\n    <tr>\n      <th>4</th>\n      <td>200</td>\n      <td>005-2023-04-09_05h17m42s.wav</td>\n      <td>5.533333</td>\n      <td>NaN</td>\n      <td>NaN</td>\n      <td>NaN</td>\n      <td>NaN</td>\n      <td>NaN</td>\n      <td>NaN</td>\n      <td>NaN</td>\n      <td>...</td>\n      <td>NaN</td>\n      <td>NaN</td>\n      <td>NaN</td>\n      <td>NaN</td>\n      <td>NaN</td>\n      <td>NaN</td>\n      <td>NaN</td>\n      <td>NaN</td>\n      <td>NaN</td>\n      <td>NaN</td>\n    </tr>\n    <tr>\n      <th>...</th>\n      <td>...</td>\n      <td>...</td>\n      <td>...</td>\n      <td>...</td>\n      <td>...</td>\n      <td>...</td>\n      <td>...</td>\n      <td>...</td>\n      <td>...</td>\n      <td>...</td>\n      <td>...</td>\n      <td>...</td>\n      <td>...</td>\n      <td>...</td>\n      <td>...</td>\n      <td>...</td>\n      <td>...</td>\n      <td>...</td>\n      <td>...</td>\n      <td>...</td>\n      <td>...</td>\n    </tr>\n    <tr>\n      <th>358</th>\n      <td>80</td>\n      <td>ns11-N601-1050.wav</td>\n      <td>5.925000</td>\n      <td>NaN</td>\n      <td>NaN</td>\n      <td>NaN</td>\n      <td>NaN</td>\n      <td>NaN</td>\n      <td>NaN</td>\n      <td>NaN</td>\n      <td>...</td>\n      <td>NaN</td>\n      <td>NaN</td>\n      <td>NaN</td>\n      <td>NaN</td>\n      <td>NaN</td>\n      <td>NaN</td>\n      <td>NaN</td>\n      <td>NaN</td>\n      <td>NaN</td>\n      <td>NaN</td>\n    </tr>\n    <tr>\n      <th>359</th>\n      <td>80</td>\n      <td>ns12-N602-0859.wav</td>\n      <td>5.200000</td>\n      <td>NaN</td>\n      <td>NaN</td>\n      <td>NaN</td>\n      <td>NaN</td>\n      <td>NaN</td>\n      <td>NaN</td>\n      <td>NaN</td>\n      <td>...</td>\n      <td>NaN</td>\n      <td>NaN</td>\n      <td>NaN</td>\n      <td>NaN</td>\n      <td>NaN</td>\n      <td>NaN</td>\n      <td>NaN</td>\n      <td>NaN</td>\n      <td>NaN</td>\n      <td>NaN</td>\n    </tr>\n    <tr>\n      <th>360</th>\n      <td>80</td>\n      <td>ns13-N603-1527.wav</td>\n      <td>4.250000</td>\n      <td>NaN</td>\n      <td>NaN</td>\n      <td>NaN</td>\n      <td>NaN</td>\n      <td>NaN</td>\n      <td>NaN</td>\n      <td>NaN</td>\n      <td>...</td>\n      <td>NaN</td>\n      <td>NaN</td>\n      <td>NaN</td>\n      <td>NaN</td>\n      <td>NaN</td>\n      <td>NaN</td>\n      <td>NaN</td>\n      <td>NaN</td>\n      <td>NaN</td>\n      <td>NaN</td>\n    </tr>\n    <tr>\n      <th>361</th>\n      <td>80</td>\n      <td>ns14-N604-1029.wav</td>\n      <td>5.750000</td>\n      <td>NaN</td>\n      <td>NaN</td>\n      <td>NaN</td>\n      <td>NaN</td>\n      <td>NaN</td>\n      <td>NaN</td>\n      <td>NaN</td>\n      <td>...</td>\n      <td>NaN</td>\n      <td>NaN</td>\n      <td>NaN</td>\n      <td>NaN</td>\n      <td>NaN</td>\n      <td>NaN</td>\n      <td>NaN</td>\n      <td>NaN</td>\n      <td>NaN</td>\n      <td>NaN</td>\n    </tr>\n    <tr>\n      <th>362</th>\n      <td>80</td>\n      <td>ns15-N605-1056.wav</td>\n      <td>4.050000</td>\n      <td>NaN</td>\n      <td>NaN</td>\n      <td>NaN</td>\n      <td>NaN</td>\n      <td>NaN</td>\n      <td>NaN</td>\n      <td>NaN</td>\n      <td>...</td>\n      <td>NaN</td>\n      <td>NaN</td>\n      <td>NaN</td>\n      <td>NaN</td>\n      <td>NaN</td>\n      <td>NaN</td>\n      <td>NaN</td>\n      <td>NaN</td>\n      <td>NaN</td>\n      <td>NaN</td>\n    </tr>\n  </tbody>\n</table>\n<p>363 rows × 81 columns</p>\n</div>"
     },
     "execution_count": 9,
     "metadata": {},
     "output_type": "execute_result"
    }
   ],
   "source": [
    "audio_dir = r'.\\input\\audio'\n",
    "score = pd.read_excel(r'.\\input\\score.xlsx')\n",
    "data = pd.DataFrame(columns=columns)\n",
    "data['category'] = score['folder_name']\n",
    "data['file_name'] = score['file_name']\n",
    "data['score'] = score['score']\n",
    "data"
   ],
   "metadata": {
    "collapsed": false,
    "pycharm": {
     "name": "#%%\n"
    }
   }
  },
  {
   "cell_type": "code",
   "execution_count": 13,
   "outputs": [
    {
     "data": {
      "text/plain": "     category                     file_name     score      1_mean      2_mean  \\\n0         200              001-143-L-11.wav  6.000000 -382.383118  129.699524   \n1         200              002-127-L-11.wav  6.633333 -264.106262  122.780869   \n2         200              003-154-L-11.wav  6.100000 -355.073517   94.369255   \n3         200               004-131-L-3.wav  6.700000  -316.15387  127.803688   \n4         200  005-2023-04-09_05h17m42s.wav  5.533333 -378.653351  167.027374   \n..        ...                           ...       ...         ...         ...   \n358        80            ns11-N601-1050.wav  5.925000 -424.095917  199.589035   \n359        80            ns12-N602-0859.wav  5.200000 -463.246063  186.532913   \n360        80            ns13-N603-1527.wav  4.250000 -417.487518  184.109451   \n361        80            ns14-N604-1029.wav  5.750000 -459.146149  200.875412   \n362        80            ns15-N605-1056.wav  4.050000 -483.219482  157.023056   \n\n        3_mean     4_mean     5_mean     6_mean     7_mean  ... 4_diff_2_mean  \\\n0   -24.393963  27.436533  -4.836144  21.969589   5.772991  ...     -0.004324   \n1   -48.852364  30.297501 -18.720873   7.887349 -12.326442  ...     -0.015862   \n2   -25.467772  38.089897   3.871238  25.670464   0.307353  ...     -0.009421   \n3   -32.442688  10.504256 -13.509813  16.713568  -4.463919  ...      0.002864   \n4    14.113789  14.079938  14.309244   6.560044   7.098984  ...      0.005915   \n..         ...        ...        ...        ...        ...  ...           ...   \n358  -27.47884  55.143353  28.570026 -16.808243  28.513512  ...     -0.010207   \n359  -7.294523  59.409134  27.469156  -8.858232  29.274824  ...     -0.010352   \n360 -65.363724  46.153511  36.601055 -10.332705  27.301556  ...     -0.010015   \n361   9.043395  44.290855  26.432962  -1.009963  21.638632  ...      -0.00581   \n362  -8.394358  57.434708  21.448412  -6.898713  40.987251  ...      -0.00858   \n\n    5_diff_2_mean 6_diff_2_mean 7_diff_2_mean 8_diff_2_mean 9_diff_2_mean  \\\n0        0.029115     -0.011319      0.004951      0.006631     -0.019848   \n1        -0.00564     -0.014478     -0.007142     -0.003026      0.011058   \n2        0.015123     -0.011728      0.002192     -0.007242      0.004647   \n3        0.040273      0.002317      0.014188     -0.010892      0.005344   \n4       -0.005486     -0.006482     -0.004301     -0.010414      -0.00861   \n..            ...           ...           ...           ...           ...   \n358      0.000527       0.01236     -0.005509     -0.002979     -0.003146   \n359      -0.01393     -0.002696     -0.015298     -0.007763      0.000753   \n360     -0.020555      0.007385     -0.015139     -0.007042      0.004971   \n361     -0.015356     -0.000227     -0.004554      0.006147      0.020121   \n362     -0.003983      0.018936     -0.022396     -0.017252      0.002459   \n\n    10_diff_2_mean 11_diff_2_mean 12_diff_2_mean 13_diff_2_mean  \n0        -0.013718      -0.013251      -0.013526      -0.001809  \n1         0.003039      -0.007403      -0.015382      -0.003262  \n2        -0.015387      -0.008264      -0.007631      -0.008146  \n3        -0.010376      -0.000062      -0.002669      -0.004549  \n4        -0.001221       0.003829       0.001279       0.008912  \n..             ...            ...            ...            ...  \n358       -0.00247       0.009454       0.003625       0.000688  \n359      -0.010489         0.0056       0.001995       -0.01326  \n360      -0.013193       0.000711       0.000445      -0.007092  \n361      -0.000323      -0.008783      -0.001035       0.000338  \n362      -0.010079        0.00995       0.001815      -0.003658  \n\n[363 rows x 81 columns]",
      "text/html": "<div>\n<style scoped>\n    .dataframe tbody tr th:only-of-type {\n        vertical-align: middle;\n    }\n\n    .dataframe tbody tr th {\n        vertical-align: top;\n    }\n\n    .dataframe thead th {\n        text-align: right;\n    }\n</style>\n<table border=\"1\" class=\"dataframe\">\n  <thead>\n    <tr style=\"text-align: right;\">\n      <th></th>\n      <th>category</th>\n      <th>file_name</th>\n      <th>score</th>\n      <th>1_mean</th>\n      <th>2_mean</th>\n      <th>3_mean</th>\n      <th>4_mean</th>\n      <th>5_mean</th>\n      <th>6_mean</th>\n      <th>7_mean</th>\n      <th>...</th>\n      <th>4_diff_2_mean</th>\n      <th>5_diff_2_mean</th>\n      <th>6_diff_2_mean</th>\n      <th>7_diff_2_mean</th>\n      <th>8_diff_2_mean</th>\n      <th>9_diff_2_mean</th>\n      <th>10_diff_2_mean</th>\n      <th>11_diff_2_mean</th>\n      <th>12_diff_2_mean</th>\n      <th>13_diff_2_mean</th>\n    </tr>\n  </thead>\n  <tbody>\n    <tr>\n      <th>0</th>\n      <td>200</td>\n      <td>001-143-L-11.wav</td>\n      <td>6.000000</td>\n      <td>-382.383118</td>\n      <td>129.699524</td>\n      <td>-24.393963</td>\n      <td>27.436533</td>\n      <td>-4.836144</td>\n      <td>21.969589</td>\n      <td>5.772991</td>\n      <td>...</td>\n      <td>-0.004324</td>\n      <td>0.029115</td>\n      <td>-0.011319</td>\n      <td>0.004951</td>\n      <td>0.006631</td>\n      <td>-0.019848</td>\n      <td>-0.013718</td>\n      <td>-0.013251</td>\n      <td>-0.013526</td>\n      <td>-0.001809</td>\n    </tr>\n    <tr>\n      <th>1</th>\n      <td>200</td>\n      <td>002-127-L-11.wav</td>\n      <td>6.633333</td>\n      <td>-264.106262</td>\n      <td>122.780869</td>\n      <td>-48.852364</td>\n      <td>30.297501</td>\n      <td>-18.720873</td>\n      <td>7.887349</td>\n      <td>-12.326442</td>\n      <td>...</td>\n      <td>-0.015862</td>\n      <td>-0.00564</td>\n      <td>-0.014478</td>\n      <td>-0.007142</td>\n      <td>-0.003026</td>\n      <td>0.011058</td>\n      <td>0.003039</td>\n      <td>-0.007403</td>\n      <td>-0.015382</td>\n      <td>-0.003262</td>\n    </tr>\n    <tr>\n      <th>2</th>\n      <td>200</td>\n      <td>003-154-L-11.wav</td>\n      <td>6.100000</td>\n      <td>-355.073517</td>\n      <td>94.369255</td>\n      <td>-25.467772</td>\n      <td>38.089897</td>\n      <td>3.871238</td>\n      <td>25.670464</td>\n      <td>0.307353</td>\n      <td>...</td>\n      <td>-0.009421</td>\n      <td>0.015123</td>\n      <td>-0.011728</td>\n      <td>0.002192</td>\n      <td>-0.007242</td>\n      <td>0.004647</td>\n      <td>-0.015387</td>\n      <td>-0.008264</td>\n      <td>-0.007631</td>\n      <td>-0.008146</td>\n    </tr>\n    <tr>\n      <th>3</th>\n      <td>200</td>\n      <td>004-131-L-3.wav</td>\n      <td>6.700000</td>\n      <td>-316.15387</td>\n      <td>127.803688</td>\n      <td>-32.442688</td>\n      <td>10.504256</td>\n      <td>-13.509813</td>\n      <td>16.713568</td>\n      <td>-4.463919</td>\n      <td>...</td>\n      <td>0.002864</td>\n      <td>0.040273</td>\n      <td>0.002317</td>\n      <td>0.014188</td>\n      <td>-0.010892</td>\n      <td>0.005344</td>\n      <td>-0.010376</td>\n      <td>-0.000062</td>\n      <td>-0.002669</td>\n      <td>-0.004549</td>\n    </tr>\n    <tr>\n      <th>4</th>\n      <td>200</td>\n      <td>005-2023-04-09_05h17m42s.wav</td>\n      <td>5.533333</td>\n      <td>-378.653351</td>\n      <td>167.027374</td>\n      <td>14.113789</td>\n      <td>14.079938</td>\n      <td>14.309244</td>\n      <td>6.560044</td>\n      <td>7.098984</td>\n      <td>...</td>\n      <td>0.005915</td>\n      <td>-0.005486</td>\n      <td>-0.006482</td>\n      <td>-0.004301</td>\n      <td>-0.010414</td>\n      <td>-0.00861</td>\n      <td>-0.001221</td>\n      <td>0.003829</td>\n      <td>0.001279</td>\n      <td>0.008912</td>\n    </tr>\n    <tr>\n      <th>...</th>\n      <td>...</td>\n      <td>...</td>\n      <td>...</td>\n      <td>...</td>\n      <td>...</td>\n      <td>...</td>\n      <td>...</td>\n      <td>...</td>\n      <td>...</td>\n      <td>...</td>\n      <td>...</td>\n      <td>...</td>\n      <td>...</td>\n      <td>...</td>\n      <td>...</td>\n      <td>...</td>\n      <td>...</td>\n      <td>...</td>\n      <td>...</td>\n      <td>...</td>\n      <td>...</td>\n    </tr>\n    <tr>\n      <th>358</th>\n      <td>80</td>\n      <td>ns11-N601-1050.wav</td>\n      <td>5.925000</td>\n      <td>-424.095917</td>\n      <td>199.589035</td>\n      <td>-27.47884</td>\n      <td>55.143353</td>\n      <td>28.570026</td>\n      <td>-16.808243</td>\n      <td>28.513512</td>\n      <td>...</td>\n      <td>-0.010207</td>\n      <td>0.000527</td>\n      <td>0.01236</td>\n      <td>-0.005509</td>\n      <td>-0.002979</td>\n      <td>-0.003146</td>\n      <td>-0.00247</td>\n      <td>0.009454</td>\n      <td>0.003625</td>\n      <td>0.000688</td>\n    </tr>\n    <tr>\n      <th>359</th>\n      <td>80</td>\n      <td>ns12-N602-0859.wav</td>\n      <td>5.200000</td>\n      <td>-463.246063</td>\n      <td>186.532913</td>\n      <td>-7.294523</td>\n      <td>59.409134</td>\n      <td>27.469156</td>\n      <td>-8.858232</td>\n      <td>29.274824</td>\n      <td>...</td>\n      <td>-0.010352</td>\n      <td>-0.01393</td>\n      <td>-0.002696</td>\n      <td>-0.015298</td>\n      <td>-0.007763</td>\n      <td>0.000753</td>\n      <td>-0.010489</td>\n      <td>0.0056</td>\n      <td>0.001995</td>\n      <td>-0.01326</td>\n    </tr>\n    <tr>\n      <th>360</th>\n      <td>80</td>\n      <td>ns13-N603-1527.wav</td>\n      <td>4.250000</td>\n      <td>-417.487518</td>\n      <td>184.109451</td>\n      <td>-65.363724</td>\n      <td>46.153511</td>\n      <td>36.601055</td>\n      <td>-10.332705</td>\n      <td>27.301556</td>\n      <td>...</td>\n      <td>-0.010015</td>\n      <td>-0.020555</td>\n      <td>0.007385</td>\n      <td>-0.015139</td>\n      <td>-0.007042</td>\n      <td>0.004971</td>\n      <td>-0.013193</td>\n      <td>0.000711</td>\n      <td>0.000445</td>\n      <td>-0.007092</td>\n    </tr>\n    <tr>\n      <th>361</th>\n      <td>80</td>\n      <td>ns14-N604-1029.wav</td>\n      <td>5.750000</td>\n      <td>-459.146149</td>\n      <td>200.875412</td>\n      <td>9.043395</td>\n      <td>44.290855</td>\n      <td>26.432962</td>\n      <td>-1.009963</td>\n      <td>21.638632</td>\n      <td>...</td>\n      <td>-0.00581</td>\n      <td>-0.015356</td>\n      <td>-0.000227</td>\n      <td>-0.004554</td>\n      <td>0.006147</td>\n      <td>0.020121</td>\n      <td>-0.000323</td>\n      <td>-0.008783</td>\n      <td>-0.001035</td>\n      <td>0.000338</td>\n    </tr>\n    <tr>\n      <th>362</th>\n      <td>80</td>\n      <td>ns15-N605-1056.wav</td>\n      <td>4.050000</td>\n      <td>-483.219482</td>\n      <td>157.023056</td>\n      <td>-8.394358</td>\n      <td>57.434708</td>\n      <td>21.448412</td>\n      <td>-6.898713</td>\n      <td>40.987251</td>\n      <td>...</td>\n      <td>-0.00858</td>\n      <td>-0.003983</td>\n      <td>0.018936</td>\n      <td>-0.022396</td>\n      <td>-0.017252</td>\n      <td>0.002459</td>\n      <td>-0.010079</td>\n      <td>0.00995</td>\n      <td>0.001815</td>\n      <td>-0.003658</td>\n    </tr>\n  </tbody>\n</table>\n<p>363 rows × 81 columns</p>\n</div>"
     },
     "execution_count": 13,
     "metadata": {},
     "output_type": "execute_result"
    }
   ],
   "source": [
    "for i in range(len(data)):\n",
    "    try:\n",
    "        wav_path = os.path.join(audio_dir, str(data.loc[i, 'category']), str(data.loc[i, 'file_name']))\n",
    "        mfcc = extract_mfcc(wav_path)\n",
    "        means = np.mean(mfcc, axis=0)\n",
    "        kurtosis_list = np.apply_along_axis(func1d=kurtosis, axis=0, arr=mfcc)\n",
    "        skewness_list = np.apply_along_axis(func1d=skew, axis=0, arr=mfcc)\n",
    "        first_mean, first_var = np.apply_along_axis(func1d=first_order_diff_mean_var, axis=0, arr=mfcc)\n",
    "        second_mean = np.apply_along_axis(func1d=second_order_diff_mean, axis=0, arr=mfcc)\n",
    "\n",
    "        data.loc[i, \"1_mean\":\"13_mean\"] = means\n",
    "        data.loc[i, \"1_kurtosis\":\"13_kurtosis\"] = kurtosis_list\n",
    "        data.loc[i, \"1_skew\":\"13_skew\"] = skewness_list\n",
    "        data.loc[i, \"1_diff_1_mean\":\"13_diff_1_mean\"] = first_mean\n",
    "        data.loc[i, \"1_diff_1_std\":\"13_diff_1_std\"] = first_var\n",
    "        data.loc[i, \"1_diff_2_mean\":\"13_diff_2_mean\"] = second_mean\n",
    "\n",
    "    except Exception as e:\n",
    "        print(f\"Failed to load {wav_path}: {str(e)}\")\n",
    "        continue\n",
    "\n",
    "data"
   ],
   "metadata": {
    "collapsed": false,
    "pycharm": {
     "name": "#%%\n"
    }
   }
  },
  {
   "cell_type": "code",
   "execution_count": 17,
   "outputs": [],
   "source": [
    "data.to_excel('./output/78_columns_mfcc.xlsx', index=False, encoding='utf_8_sig')"
   ],
   "metadata": {
    "collapsed": false,
    "pycharm": {
     "name": "#%%\n"
    }
   }
  },
  {
   "cell_type": "code",
   "execution_count": null,
   "outputs": [],
   "source": [],
   "metadata": {
    "collapsed": false,
    "pycharm": {
     "name": "#%%\n"
    }
   }
  }
 ],
 "metadata": {
  "kernelspec": {
   "display_name": "Python 3",
   "language": "python",
   "name": "python3"
  },
  "language_info": {
   "codemirror_mode": {
    "name": "ipython",
    "version": 2
   },
   "file_extension": ".py",
   "mimetype": "text/x-python",
   "name": "python",
   "nbconvert_exporter": "python",
   "pygments_lexer": "ipython2",
   "version": "2.7.6"
  }
 },
 "nbformat": 4,
 "nbformat_minor": 0
}