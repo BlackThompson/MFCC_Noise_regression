{
 "cells": [
  {
   "cell_type": "code",
   "execution_count": 4,
   "metadata": {
    "collapsed": true
   },
   "outputs": [],
   "source": [
    "import pandas as pd\n",
    "import numpy as np\n",
    "import soundfile as sf\n",
    "import librosa\n",
    "import os\n",
    "from utils import *\n",
    "from config import *\n",
    "from utils import extract_mfcc\n",
    "\n",
    "sr = 44100\n",
    "audio_dir = r'.\\input\\audio'"
   ]
  },
  {
   "cell_type": "code",
   "execution_count": 5,
   "outputs": [
    {
     "data": {
      "text/plain": "      category                     file_name     score 1_mean 2_mean 3_mean  \\\n0          200              001-143-L-11.wav  6.000000    NaN    NaN    NaN   \n1          200              002-127-L-11.wav  6.633333    NaN    NaN    NaN   \n2          200              003-154-L-11.wav  6.100000    NaN    NaN    NaN   \n3          200               004-131-L-3.wav  6.700000    NaN    NaN    NaN   \n4          200  005-2023-04-09_05h17m42s.wav  5.533333    NaN    NaN    NaN   \n...        ...                           ...       ...    ...    ...    ...   \n1344       702                    98-L-2.wav  5.000000    NaN    NaN    NaN   \n1345       702                    99-L-1.wav  4.000000    NaN    NaN    NaN   \n1346       702                    99-L-2.wav  4.200000    NaN    NaN    NaN   \n1347       702                     9-L-1.wav  5.700000    NaN    NaN    NaN   \n1348       702                     9-L-2.wav  5.800000    NaN    NaN    NaN   \n\n     4_mean 5_mean 6_mean 7_mean  ... 4_diff_2_mean 5_diff_2_mean  \\\n0       NaN    NaN    NaN    NaN  ...           NaN           NaN   \n1       NaN    NaN    NaN    NaN  ...           NaN           NaN   \n2       NaN    NaN    NaN    NaN  ...           NaN           NaN   \n3       NaN    NaN    NaN    NaN  ...           NaN           NaN   \n4       NaN    NaN    NaN    NaN  ...           NaN           NaN   \n...     ...    ...    ...    ...  ...           ...           ...   \n1344    NaN    NaN    NaN    NaN  ...           NaN           NaN   \n1345    NaN    NaN    NaN    NaN  ...           NaN           NaN   \n1346    NaN    NaN    NaN    NaN  ...           NaN           NaN   \n1347    NaN    NaN    NaN    NaN  ...           NaN           NaN   \n1348    NaN    NaN    NaN    NaN  ...           NaN           NaN   \n\n     6_diff_2_mean 7_diff_2_mean 8_diff_2_mean 9_diff_2_mean 10_diff_2_mean  \\\n0              NaN           NaN           NaN           NaN            NaN   \n1              NaN           NaN           NaN           NaN            NaN   \n2              NaN           NaN           NaN           NaN            NaN   \n3              NaN           NaN           NaN           NaN            NaN   \n4              NaN           NaN           NaN           NaN            NaN   \n...            ...           ...           ...           ...            ...   \n1344           NaN           NaN           NaN           NaN            NaN   \n1345           NaN           NaN           NaN           NaN            NaN   \n1346           NaN           NaN           NaN           NaN            NaN   \n1347           NaN           NaN           NaN           NaN            NaN   \n1348           NaN           NaN           NaN           NaN            NaN   \n\n     11_diff_2_mean 12_diff_2_mean 13_diff_2_mean  \n0               NaN            NaN            NaN  \n1               NaN            NaN            NaN  \n2               NaN            NaN            NaN  \n3               NaN            NaN            NaN  \n4               NaN            NaN            NaN  \n...             ...            ...            ...  \n1344            NaN            NaN            NaN  \n1345            NaN            NaN            NaN  \n1346            NaN            NaN            NaN  \n1347            NaN            NaN            NaN  \n1348            NaN            NaN            NaN  \n\n[1349 rows x 81 columns]",
      "text/html": "<div>\n<style scoped>\n    .dataframe tbody tr th:only-of-type {\n        vertical-align: middle;\n    }\n\n    .dataframe tbody tr th {\n        vertical-align: top;\n    }\n\n    .dataframe thead th {\n        text-align: right;\n    }\n</style>\n<table border=\"1\" class=\"dataframe\">\n  <thead>\n    <tr style=\"text-align: right;\">\n      <th></th>\n      <th>category</th>\n      <th>file_name</th>\n      <th>score</th>\n      <th>1_mean</th>\n      <th>2_mean</th>\n      <th>3_mean</th>\n      <th>4_mean</th>\n      <th>5_mean</th>\n      <th>6_mean</th>\n      <th>7_mean</th>\n      <th>...</th>\n      <th>4_diff_2_mean</th>\n      <th>5_diff_2_mean</th>\n      <th>6_diff_2_mean</th>\n      <th>7_diff_2_mean</th>\n      <th>8_diff_2_mean</th>\n      <th>9_diff_2_mean</th>\n      <th>10_diff_2_mean</th>\n      <th>11_diff_2_mean</th>\n      <th>12_diff_2_mean</th>\n      <th>13_diff_2_mean</th>\n    </tr>\n  </thead>\n  <tbody>\n    <tr>\n      <th>0</th>\n      <td>200</td>\n      <td>001-143-L-11.wav</td>\n      <td>6.000000</td>\n      <td>NaN</td>\n      <td>NaN</td>\n      <td>NaN</td>\n      <td>NaN</td>\n      <td>NaN</td>\n      <td>NaN</td>\n      <td>NaN</td>\n      <td>...</td>\n      <td>NaN</td>\n      <td>NaN</td>\n      <td>NaN</td>\n      <td>NaN</td>\n      <td>NaN</td>\n      <td>NaN</td>\n      <td>NaN</td>\n      <td>NaN</td>\n      <td>NaN</td>\n      <td>NaN</td>\n    </tr>\n    <tr>\n      <th>1</th>\n      <td>200</td>\n      <td>002-127-L-11.wav</td>\n      <td>6.633333</td>\n      <td>NaN</td>\n      <td>NaN</td>\n      <td>NaN</td>\n      <td>NaN</td>\n      <td>NaN</td>\n      <td>NaN</td>\n      <td>NaN</td>\n      <td>...</td>\n      <td>NaN</td>\n      <td>NaN</td>\n      <td>NaN</td>\n      <td>NaN</td>\n      <td>NaN</td>\n      <td>NaN</td>\n      <td>NaN</td>\n      <td>NaN</td>\n      <td>NaN</td>\n      <td>NaN</td>\n    </tr>\n    <tr>\n      <th>2</th>\n      <td>200</td>\n      <td>003-154-L-11.wav</td>\n      <td>6.100000</td>\n      <td>NaN</td>\n      <td>NaN</td>\n      <td>NaN</td>\n      <td>NaN</td>\n      <td>NaN</td>\n      <td>NaN</td>\n      <td>NaN</td>\n      <td>...</td>\n      <td>NaN</td>\n      <td>NaN</td>\n      <td>NaN</td>\n      <td>NaN</td>\n      <td>NaN</td>\n      <td>NaN</td>\n      <td>NaN</td>\n      <td>NaN</td>\n      <td>NaN</td>\n      <td>NaN</td>\n    </tr>\n    <tr>\n      <th>3</th>\n      <td>200</td>\n      <td>004-131-L-3.wav</td>\n      <td>6.700000</td>\n      <td>NaN</td>\n      <td>NaN</td>\n      <td>NaN</td>\n      <td>NaN</td>\n      <td>NaN</td>\n      <td>NaN</td>\n      <td>NaN</td>\n      <td>...</td>\n      <td>NaN</td>\n      <td>NaN</td>\n      <td>NaN</td>\n      <td>NaN</td>\n      <td>NaN</td>\n      <td>NaN</td>\n      <td>NaN</td>\n      <td>NaN</td>\n      <td>NaN</td>\n      <td>NaN</td>\n    </tr>\n    <tr>\n      <th>4</th>\n      <td>200</td>\n      <td>005-2023-04-09_05h17m42s.wav</td>\n      <td>5.533333</td>\n      <td>NaN</td>\n      <td>NaN</td>\n      <td>NaN</td>\n      <td>NaN</td>\n      <td>NaN</td>\n      <td>NaN</td>\n      <td>NaN</td>\n      <td>...</td>\n      <td>NaN</td>\n      <td>NaN</td>\n      <td>NaN</td>\n      <td>NaN</td>\n      <td>NaN</td>\n      <td>NaN</td>\n      <td>NaN</td>\n      <td>NaN</td>\n      <td>NaN</td>\n      <td>NaN</td>\n    </tr>\n    <tr>\n      <th>...</th>\n      <td>...</td>\n      <td>...</td>\n      <td>...</td>\n      <td>...</td>\n      <td>...</td>\n      <td>...</td>\n      <td>...</td>\n      <td>...</td>\n      <td>...</td>\n      <td>...</td>\n      <td>...</td>\n      <td>...</td>\n      <td>...</td>\n      <td>...</td>\n      <td>...</td>\n      <td>...</td>\n      <td>...</td>\n      <td>...</td>\n      <td>...</td>\n      <td>...</td>\n      <td>...</td>\n    </tr>\n    <tr>\n      <th>1344</th>\n      <td>702</td>\n      <td>98-L-2.wav</td>\n      <td>5.000000</td>\n      <td>NaN</td>\n      <td>NaN</td>\n      <td>NaN</td>\n      <td>NaN</td>\n      <td>NaN</td>\n      <td>NaN</td>\n      <td>NaN</td>\n      <td>...</td>\n      <td>NaN</td>\n      <td>NaN</td>\n      <td>NaN</td>\n      <td>NaN</td>\n      <td>NaN</td>\n      <td>NaN</td>\n      <td>NaN</td>\n      <td>NaN</td>\n      <td>NaN</td>\n      <td>NaN</td>\n    </tr>\n    <tr>\n      <th>1345</th>\n      <td>702</td>\n      <td>99-L-1.wav</td>\n      <td>4.000000</td>\n      <td>NaN</td>\n      <td>NaN</td>\n      <td>NaN</td>\n      <td>NaN</td>\n      <td>NaN</td>\n      <td>NaN</td>\n      <td>NaN</td>\n      <td>...</td>\n      <td>NaN</td>\n      <td>NaN</td>\n      <td>NaN</td>\n      <td>NaN</td>\n      <td>NaN</td>\n      <td>NaN</td>\n      <td>NaN</td>\n      <td>NaN</td>\n      <td>NaN</td>\n      <td>NaN</td>\n    </tr>\n    <tr>\n      <th>1346</th>\n      <td>702</td>\n      <td>99-L-2.wav</td>\n      <td>4.200000</td>\n      <td>NaN</td>\n      <td>NaN</td>\n      <td>NaN</td>\n      <td>NaN</td>\n      <td>NaN</td>\n      <td>NaN</td>\n      <td>NaN</td>\n      <td>...</td>\n      <td>NaN</td>\n      <td>NaN</td>\n      <td>NaN</td>\n      <td>NaN</td>\n      <td>NaN</td>\n      <td>NaN</td>\n      <td>NaN</td>\n      <td>NaN</td>\n      <td>NaN</td>\n      <td>NaN</td>\n    </tr>\n    <tr>\n      <th>1347</th>\n      <td>702</td>\n      <td>9-L-1.wav</td>\n      <td>5.700000</td>\n      <td>NaN</td>\n      <td>NaN</td>\n      <td>NaN</td>\n      <td>NaN</td>\n      <td>NaN</td>\n      <td>NaN</td>\n      <td>NaN</td>\n      <td>...</td>\n      <td>NaN</td>\n      <td>NaN</td>\n      <td>NaN</td>\n      <td>NaN</td>\n      <td>NaN</td>\n      <td>NaN</td>\n      <td>NaN</td>\n      <td>NaN</td>\n      <td>NaN</td>\n      <td>NaN</td>\n    </tr>\n    <tr>\n      <th>1348</th>\n      <td>702</td>\n      <td>9-L-2.wav</td>\n      <td>5.800000</td>\n      <td>NaN</td>\n      <td>NaN</td>\n      <td>NaN</td>\n      <td>NaN</td>\n      <td>NaN</td>\n      <td>NaN</td>\n      <td>NaN</td>\n      <td>...</td>\n      <td>NaN</td>\n      <td>NaN</td>\n      <td>NaN</td>\n      <td>NaN</td>\n      <td>NaN</td>\n      <td>NaN</td>\n      <td>NaN</td>\n      <td>NaN</td>\n      <td>NaN</td>\n      <td>NaN</td>\n    </tr>\n  </tbody>\n</table>\n<p>1349 rows × 81 columns</p>\n</div>"
     },
     "execution_count": 5,
     "metadata": {},
     "output_type": "execute_result"
    }
   ],
   "source": [
    "score = pd.read_excel(r'.\\input\\score.xlsx')\n",
    "data = pd.DataFrame(columns=columns)\n",
    "data['category'] = score['folder_name']\n",
    "data['file_name'] = score['file_name']\n",
    "data['score'] = score['score']\n",
    "data"
   ],
   "metadata": {
    "collapsed": false,
    "pycharm": {
     "name": "#%%\n"
    }
   }
  },
  {
   "cell_type": "code",
   "execution_count": 6,
   "outputs": [
    {
     "data": {
      "text/plain": "      category                     file_name     score      1_mean  \\\n0          200              001-143-L-11.wav  6.000000 -351.558807   \n1          200              002-127-L-11.wav  6.633333 -349.742737   \n2          200              003-154-L-11.wav  6.100000 -320.001038   \n3          200               004-131-L-3.wav  6.700000 -333.587067   \n4          200  005-2023-04-09_05h17m42s.wav  5.533333   -353.6203   \n...        ...                           ...       ...         ...   \n1344       702                    98-L-2.wav  5.000000 -397.155762   \n1345       702                    99-L-1.wav  4.000000 -438.306976   \n1346       702                    99-L-2.wav  4.200000 -416.274109   \n1347       702                     9-L-1.wav  5.700000 -321.688141   \n1348       702                     9-L-2.wav  5.800000 -322.987305   \n\n          2_mean     3_mean     4_mean     5_mean     6_mean     7_mean  ...  \\\n0     129.699524 -24.393963  27.436533  -4.836143  21.969589   5.772991  ...   \n1     122.780869 -48.852364  30.297501 -18.720875   7.887349 -12.326442  ...   \n2      94.369255 -25.467773  38.089897   3.871238  25.670464   0.307353  ...   \n3     127.803688 -32.442688  10.504256 -13.509814  16.713568  -4.463919  ...   \n4     167.027374  14.113789  14.079938  14.309244   6.560044   7.098983  ...   \n...          ...        ...        ...        ...        ...        ...  ...   \n1344  138.111328 -32.130901  65.280716 -14.923958   -0.11865   2.971155  ...   \n1345  123.592171 -72.126961  30.140499 -45.976196   10.44342  -1.760054  ...   \n1346   76.505959 -87.691742  59.242271 -54.128895   9.280252 -21.653458  ...   \n1347   96.273041  23.552652   2.496489  -5.074949  23.720148  -29.09606  ...   \n1348     87.5522  28.257627  -3.453061  -5.064977   23.96335 -25.207888  ...   \n\n     4_diff_2_mean 5_diff_2_mean 6_diff_2_mean 7_diff_2_mean 8_diff_2_mean  \\\n0        -0.004324      0.029115     -0.011319      0.004951      0.006631   \n1        -0.015862      -0.00564     -0.014478     -0.007142     -0.003026   \n2        -0.009421      0.015123     -0.011728      0.002192     -0.007242   \n3         0.002864      0.040273      0.002317      0.014188     -0.010892   \n4         0.005915     -0.005486     -0.006482     -0.004301     -0.010414   \n...            ...           ...           ...           ...           ...   \n1344     -0.005902      0.003387     -0.005219      0.005256     -0.005245   \n1345     -0.007243      0.002603     -0.002008      0.000128     -0.000534   \n1346     -0.003568      0.008413     -0.004464      0.007721      0.003451   \n1347      0.017664      0.000438      0.004941      -0.00171       -0.0047   \n1348     -0.001357      -0.00543     -0.001639     -0.001923      0.002827   \n\n     9_diff_2_mean 10_diff_2_mean 11_diff_2_mean 12_diff_2_mean 13_diff_2_mean  \n0        -0.019848      -0.013718      -0.013251      -0.013526      -0.001809  \n1         0.011058       0.003039      -0.007403      -0.015382      -0.003262  \n2         0.004647      -0.015387      -0.008264      -0.007631      -0.008146  \n3         0.005344      -0.010376      -0.000062      -0.002669      -0.004549  \n4         -0.00861      -0.001221       0.003829       0.001279       0.008912  \n...            ...            ...            ...            ...            ...  \n1344      0.007665       0.000196       0.001184       -0.00138      -0.003859  \n1345      0.001634       0.004382       0.000176       0.001937      -0.002273  \n1346      0.002184       0.000157      -0.003176      -0.001693       0.001533  \n1347     -0.008255      -0.003897       0.000495       0.002937       0.002551  \n1348      0.003505       0.003872      -0.002196       0.001908      -0.002106  \n\n[1349 rows x 81 columns]",
      "text/html": "<div>\n<style scoped>\n    .dataframe tbody tr th:only-of-type {\n        vertical-align: middle;\n    }\n\n    .dataframe tbody tr th {\n        vertical-align: top;\n    }\n\n    .dataframe thead th {\n        text-align: right;\n    }\n</style>\n<table border=\"1\" class=\"dataframe\">\n  <thead>\n    <tr style=\"text-align: right;\">\n      <th></th>\n      <th>category</th>\n      <th>file_name</th>\n      <th>score</th>\n      <th>1_mean</th>\n      <th>2_mean</th>\n      <th>3_mean</th>\n      <th>4_mean</th>\n      <th>5_mean</th>\n      <th>6_mean</th>\n      <th>7_mean</th>\n      <th>...</th>\n      <th>4_diff_2_mean</th>\n      <th>5_diff_2_mean</th>\n      <th>6_diff_2_mean</th>\n      <th>7_diff_2_mean</th>\n      <th>8_diff_2_mean</th>\n      <th>9_diff_2_mean</th>\n      <th>10_diff_2_mean</th>\n      <th>11_diff_2_mean</th>\n      <th>12_diff_2_mean</th>\n      <th>13_diff_2_mean</th>\n    </tr>\n  </thead>\n  <tbody>\n    <tr>\n      <th>0</th>\n      <td>200</td>\n      <td>001-143-L-11.wav</td>\n      <td>6.000000</td>\n      <td>-351.558807</td>\n      <td>129.699524</td>\n      <td>-24.393963</td>\n      <td>27.436533</td>\n      <td>-4.836143</td>\n      <td>21.969589</td>\n      <td>5.772991</td>\n      <td>...</td>\n      <td>-0.004324</td>\n      <td>0.029115</td>\n      <td>-0.011319</td>\n      <td>0.004951</td>\n      <td>0.006631</td>\n      <td>-0.019848</td>\n      <td>-0.013718</td>\n      <td>-0.013251</td>\n      <td>-0.013526</td>\n      <td>-0.001809</td>\n    </tr>\n    <tr>\n      <th>1</th>\n      <td>200</td>\n      <td>002-127-L-11.wav</td>\n      <td>6.633333</td>\n      <td>-349.742737</td>\n      <td>122.780869</td>\n      <td>-48.852364</td>\n      <td>30.297501</td>\n      <td>-18.720875</td>\n      <td>7.887349</td>\n      <td>-12.326442</td>\n      <td>...</td>\n      <td>-0.015862</td>\n      <td>-0.00564</td>\n      <td>-0.014478</td>\n      <td>-0.007142</td>\n      <td>-0.003026</td>\n      <td>0.011058</td>\n      <td>0.003039</td>\n      <td>-0.007403</td>\n      <td>-0.015382</td>\n      <td>-0.003262</td>\n    </tr>\n    <tr>\n      <th>2</th>\n      <td>200</td>\n      <td>003-154-L-11.wav</td>\n      <td>6.100000</td>\n      <td>-320.001038</td>\n      <td>94.369255</td>\n      <td>-25.467773</td>\n      <td>38.089897</td>\n      <td>3.871238</td>\n      <td>25.670464</td>\n      <td>0.307353</td>\n      <td>...</td>\n      <td>-0.009421</td>\n      <td>0.015123</td>\n      <td>-0.011728</td>\n      <td>0.002192</td>\n      <td>-0.007242</td>\n      <td>0.004647</td>\n      <td>-0.015387</td>\n      <td>-0.008264</td>\n      <td>-0.007631</td>\n      <td>-0.008146</td>\n    </tr>\n    <tr>\n      <th>3</th>\n      <td>200</td>\n      <td>004-131-L-3.wav</td>\n      <td>6.700000</td>\n      <td>-333.587067</td>\n      <td>127.803688</td>\n      <td>-32.442688</td>\n      <td>10.504256</td>\n      <td>-13.509814</td>\n      <td>16.713568</td>\n      <td>-4.463919</td>\n      <td>...</td>\n      <td>0.002864</td>\n      <td>0.040273</td>\n      <td>0.002317</td>\n      <td>0.014188</td>\n      <td>-0.010892</td>\n      <td>0.005344</td>\n      <td>-0.010376</td>\n      <td>-0.000062</td>\n      <td>-0.002669</td>\n      <td>-0.004549</td>\n    </tr>\n    <tr>\n      <th>4</th>\n      <td>200</td>\n      <td>005-2023-04-09_05h17m42s.wav</td>\n      <td>5.533333</td>\n      <td>-353.6203</td>\n      <td>167.027374</td>\n      <td>14.113789</td>\n      <td>14.079938</td>\n      <td>14.309244</td>\n      <td>6.560044</td>\n      <td>7.098983</td>\n      <td>...</td>\n      <td>0.005915</td>\n      <td>-0.005486</td>\n      <td>-0.006482</td>\n      <td>-0.004301</td>\n      <td>-0.010414</td>\n      <td>-0.00861</td>\n      <td>-0.001221</td>\n      <td>0.003829</td>\n      <td>0.001279</td>\n      <td>0.008912</td>\n    </tr>\n    <tr>\n      <th>...</th>\n      <td>...</td>\n      <td>...</td>\n      <td>...</td>\n      <td>...</td>\n      <td>...</td>\n      <td>...</td>\n      <td>...</td>\n      <td>...</td>\n      <td>...</td>\n      <td>...</td>\n      <td>...</td>\n      <td>...</td>\n      <td>...</td>\n      <td>...</td>\n      <td>...</td>\n      <td>...</td>\n      <td>...</td>\n      <td>...</td>\n      <td>...</td>\n      <td>...</td>\n      <td>...</td>\n    </tr>\n    <tr>\n      <th>1344</th>\n      <td>702</td>\n      <td>98-L-2.wav</td>\n      <td>5.000000</td>\n      <td>-397.155762</td>\n      <td>138.111328</td>\n      <td>-32.130901</td>\n      <td>65.280716</td>\n      <td>-14.923958</td>\n      <td>-0.11865</td>\n      <td>2.971155</td>\n      <td>...</td>\n      <td>-0.005902</td>\n      <td>0.003387</td>\n      <td>-0.005219</td>\n      <td>0.005256</td>\n      <td>-0.005245</td>\n      <td>0.007665</td>\n      <td>0.000196</td>\n      <td>0.001184</td>\n      <td>-0.00138</td>\n      <td>-0.003859</td>\n    </tr>\n    <tr>\n      <th>1345</th>\n      <td>702</td>\n      <td>99-L-1.wav</td>\n      <td>4.000000</td>\n      <td>-438.306976</td>\n      <td>123.592171</td>\n      <td>-72.126961</td>\n      <td>30.140499</td>\n      <td>-45.976196</td>\n      <td>10.44342</td>\n      <td>-1.760054</td>\n      <td>...</td>\n      <td>-0.007243</td>\n      <td>0.002603</td>\n      <td>-0.002008</td>\n      <td>0.000128</td>\n      <td>-0.000534</td>\n      <td>0.001634</td>\n      <td>0.004382</td>\n      <td>0.000176</td>\n      <td>0.001937</td>\n      <td>-0.002273</td>\n    </tr>\n    <tr>\n      <th>1346</th>\n      <td>702</td>\n      <td>99-L-2.wav</td>\n      <td>4.200000</td>\n      <td>-416.274109</td>\n      <td>76.505959</td>\n      <td>-87.691742</td>\n      <td>59.242271</td>\n      <td>-54.128895</td>\n      <td>9.280252</td>\n      <td>-21.653458</td>\n      <td>...</td>\n      <td>-0.003568</td>\n      <td>0.008413</td>\n      <td>-0.004464</td>\n      <td>0.007721</td>\n      <td>0.003451</td>\n      <td>0.002184</td>\n      <td>0.000157</td>\n      <td>-0.003176</td>\n      <td>-0.001693</td>\n      <td>0.001533</td>\n    </tr>\n    <tr>\n      <th>1347</th>\n      <td>702</td>\n      <td>9-L-1.wav</td>\n      <td>5.700000</td>\n      <td>-321.688141</td>\n      <td>96.273041</td>\n      <td>23.552652</td>\n      <td>2.496489</td>\n      <td>-5.074949</td>\n      <td>23.720148</td>\n      <td>-29.09606</td>\n      <td>...</td>\n      <td>0.017664</td>\n      <td>0.000438</td>\n      <td>0.004941</td>\n      <td>-0.00171</td>\n      <td>-0.0047</td>\n      <td>-0.008255</td>\n      <td>-0.003897</td>\n      <td>0.000495</td>\n      <td>0.002937</td>\n      <td>0.002551</td>\n    </tr>\n    <tr>\n      <th>1348</th>\n      <td>702</td>\n      <td>9-L-2.wav</td>\n      <td>5.800000</td>\n      <td>-322.987305</td>\n      <td>87.5522</td>\n      <td>28.257627</td>\n      <td>-3.453061</td>\n      <td>-5.064977</td>\n      <td>23.96335</td>\n      <td>-25.207888</td>\n      <td>...</td>\n      <td>-0.001357</td>\n      <td>-0.00543</td>\n      <td>-0.001639</td>\n      <td>-0.001923</td>\n      <td>0.002827</td>\n      <td>0.003505</td>\n      <td>0.003872</td>\n      <td>-0.002196</td>\n      <td>0.001908</td>\n      <td>-0.002106</td>\n    </tr>\n  </tbody>\n</table>\n<p>1349 rows × 81 columns</p>\n</div>"
     },
     "execution_count": 6,
     "metadata": {},
     "output_type": "execute_result"
    }
   ],
   "source": [
    "from scipy.stats import kurtosis, skew\n",
    "\n",
    "for i in range(len(data)):\n",
    "    try:\n",
    "        wav_path = os.path.join(audio_dir, str(data.loc[i, 'category']), str(data.loc[i, 'file_name']))\n",
    "        mfcc = extract_mfcc(wav_path)\n",
    "        means = np.mean(mfcc, axis=0)\n",
    "        kurtosis_list = np.apply_along_axis(func1d=kurtosis, axis=0, arr=mfcc)\n",
    "        skewness_list = np.apply_along_axis(func1d=skew, axis=0, arr=mfcc)\n",
    "        first_mean, first_var = np.apply_along_axis(func1d=first_order_diff_mean_var, axis=0, arr=mfcc)\n",
    "        second_mean = np.apply_along_axis(func1d=second_order_diff_mean, axis=0, arr=mfcc)\n",
    "\n",
    "        data.loc[i, \"1_mean\":\"13_mean\"] = means\n",
    "        data.loc[i, \"1_kurtosis\":\"13_kurtosis\"] = kurtosis_list\n",
    "        data.loc[i, \"1_skew\":\"13_skew\"] = skewness_list\n",
    "        data.loc[i, \"1_diff_1_mean\":\"13_diff_1_mean\"] = first_mean\n",
    "        data.loc[i, \"1_diff_1_std\":\"13_diff_1_std\"] = first_var\n",
    "        data.loc[i, \"1_diff_2_mean\":\"13_diff_2_mean\"] = second_mean\n",
    "\n",
    "    except Exception as e:\n",
    "        print(f\"Failed to load {wav_path}: {str(e)}\")\n",
    "        continue\n",
    "\n",
    "data"
   ],
   "metadata": {
    "collapsed": false,
    "pycharm": {
     "name": "#%%\n"
    }
   }
  },
  {
   "cell_type": "code",
   "execution_count": 7,
   "outputs": [],
   "source": [
    "data.to_excel('./output/78_columns_mfcc_use_laeq.xlsx', index=False, encoding='utf_8_sig')"
   ],
   "metadata": {
    "collapsed": false,
    "pycharm": {
     "name": "#%%\n"
    }
   }
  },
  {
   "cell_type": "code",
   "execution_count": null,
   "outputs": [],
   "source": [],
   "metadata": {
    "collapsed": false,
    "pycharm": {
     "name": "#%%\n"
    }
   }
  }
 ],
 "metadata": {
  "kernelspec": {
   "display_name": "Python 3",
   "language": "python",
   "name": "python3"
  },
  "language_info": {
   "codemirror_mode": {
    "name": "ipython",
    "version": 2
   },
   "file_extension": ".py",
   "mimetype": "text/x-python",
   "name": "python",
   "nbconvert_exporter": "python",
   "pygments_lexer": "ipython2",
   "version": "2.7.6"
  }
 },
 "nbformat": 4,
 "nbformat_minor": 0
}