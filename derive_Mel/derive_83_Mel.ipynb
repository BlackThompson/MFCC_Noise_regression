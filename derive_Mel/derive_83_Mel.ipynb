{
 "cells": [
  {
   "cell_type": "code",
   "execution_count": 2,
   "metadata": {
    "collapsed": true
   },
   "outputs": [],
   "source": [
    "import librosa\n",
    "import os\n",
    "from matplotlib import pyplot as plt\n",
    "import numpy as np\n",
    "\n",
    "# Set the path to the directory containing the audio files\n",
    "# audio_dir = '/path/to/audio/files/'\n",
    "audio_dir = r'./input/83_sounds/'\n",
    "\n",
    "\n",
    "# Set the parameters for the mel spectrogram\n",
    "n_fft = 2048\n",
    "hop_length = 512\n",
    "n_mels = 128"
   ]
  },
  {
   "cell_type": "code",
   "execution_count": 3,
   "outputs": [
    {
     "data": {
      "text/plain": "<Figure size 432x288 with 0 Axes>"
     },
     "metadata": {},
     "output_type": "display_data"
    }
   ],
   "source": [
    "# Loop over all the files in the directory\n",
    "for filename in os.listdir(audio_dir):\n",
    "    if filename.endswith('.wav'):\n",
    "        # Load the audio file\n",
    "        filepath = os.path.join(audio_dir, filename)\n",
    "        y, sr = librosa.load(filepath)\n",
    "\n",
    "        # Compute the mel spectrogram\n",
    "        S = librosa.feature.melspectrogram(y=y, sr=sr, n_fft=n_fft, hop_length=hop_length, n_mels=n_mels)\n",
    "\n",
    "        # Save the mel spectrogram as an image file\n",
    "        output_filename = os.path.splitext(filename)[0] + '.png'\n",
    "        output_filepath = os.path.join(audio_dir, output_filename)\n",
    "        librosa.display.specshow(librosa.power_to_db(S, ref=np.max), y_axis='mel', x_axis='time')\n",
    "        plt.colorbar(format='%+2.0f dB')\n",
    "        plt.title('Mel spectrogram')\n",
    "        plt.tight_layout()\n",
    "        plt.savefig(output_filepath)\n",
    "        plt.clf()"
   ],
   "metadata": {
    "collapsed": false,
    "pycharm": {
     "name": "#%%\n"
    }
   }
  },
  {
   "cell_type": "code",
   "execution_count": null,
   "outputs": [],
   "source": [],
   "metadata": {
    "collapsed": false,
    "pycharm": {
     "name": "#%%\n"
    }
   }
  }
 ],
 "metadata": {
  "kernelspec": {
   "display_name": "Python 3",
   "language": "python",
   "name": "python3"
  },
  "language_info": {
   "codemirror_mode": {
    "name": "ipython",
    "version": 2
   },
   "file_extension": ".py",
   "mimetype": "text/x-python",
   "name": "python",
   "nbconvert_exporter": "python",
   "pygments_lexer": "ipython2",
   "version": "2.7.6"
  }
 },
 "nbformat": 4,
 "nbformat_minor": 0
}