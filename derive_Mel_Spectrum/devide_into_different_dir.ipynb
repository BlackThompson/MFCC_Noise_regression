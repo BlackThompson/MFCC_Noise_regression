{
 "cells": [
  {
   "cell_type": "code",
   "execution_count": 1,
   "metadata": {
    "collapsed": true,
    "pycharm": {
     "name": "#%%\n"
    }
   },
   "outputs": [],
   "source": [
    "import os\n",
    "import shutil\n",
    "import pandas as pd\n",
    "\n",
    "# 读取Excel表格\n",
    "audio_path = r'E:\\Dataset\\ESC-50-master\\audio'\n",
    "output_dir = r'E:\\Dataset\\ESC-50-master\\devided_class'\n",
    "meta_path = r'.\\input\\esc50.csv'\n",
    "\n",
    "df = pd.read_csv(meta_path)\n",
    "\n",
    "# 循环遍历Excel表格中的每一行\n",
    "for i, row in df.iterrows():\n",
    "    # 获取音频编号和声音类别\n",
    "    audio_file = row['filename']\n",
    "    sound_type = row['category']\n",
    "\n",
    "    # 构造源文件路径和目标文件夹路径\n",
    "    source_path = os.path.join(audio_path, audio_file)\n",
    "    target_folder = os.path.join(output_dir, sound_type)\n",
    "\n",
    "    # 如果目标文件夹不存在，则创建\n",
    "    if not os.path.exists(target_folder):\n",
    "        os.makedirs(target_folder)\n",
    "\n",
    "    # 构造目标文件路径\n",
    "    target_path = os.path.join(target_folder, audio_file)\n",
    "\n",
    "    # 复制文件到目标文件夹\n",
    "    shutil.copyfile(source_path, target_path)"
   ]
  }
 ],
 "metadata": {
  "kernelspec": {
   "display_name": "Python 3",
   "language": "python",
   "name": "python3"
  },
  "language_info": {
   "codemirror_mode": {
    "name": "ipython",
    "version": 2
   },
   "file_extension": ".py",
   "mimetype": "text/x-python",
   "name": "python",
   "nbconvert_exporter": "python",
   "pygments_lexer": "ipython2",
   "version": "2.7.6"
  }
 },
 "nbformat": 4,
 "nbformat_minor": 0
}