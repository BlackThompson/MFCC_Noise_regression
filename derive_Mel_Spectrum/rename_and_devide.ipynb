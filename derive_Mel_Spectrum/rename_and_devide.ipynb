{
 "cells": [
  {
   "cell_type": "code",
   "execution_count": 5,
   "metadata": {
    "collapsed": true
   },
   "outputs": [],
   "source": [
    "import os\n",
    "import shutil\n",
    "\n",
    "# 指定原始文件夹和目标文件夹路径\n",
    "import pandas as pd\n",
    "\n",
    "# src_folder = r\"./output/83_Mel\"\n",
    "# dst_folder = r\"./output/83_different_sound/all\"\n",
    "#\n",
    "# # 遍历原始文件夹中的所有文件\n",
    "# for filename in os.listdir(src_folder):\n",
    "#     # 提取原始文件名中的数字前缀\n",
    "#     prefix = filename.split(\"-\")[0]\n",
    "#     # 构建新的文件名\n",
    "#     new_filename = prefix + \".png\"\n",
    "#     print(new_filename)\n",
    "#     # 构建文件的完整路径\n",
    "#     src_path = os.path.join(src_folder, filename)\n",
    "#     dst_path = os.path.join(dst_folder, new_filename)\n",
    "#     # 复制并重命名文件\n",
    "#     shutil.copy2(src_path, dst_path)"
   ]
  },
  {
   "cell_type": "code",
   "execution_count": 6,
   "outputs": [
    {
     "data": {
      "text/plain": "    index  class  noise_score  1.水声  2.鸟鸣虫叫  3.风声  4.喧闹声  5.生活声  6.音乐歌曲声  \\\n0       1      2      5.47951     0       1     0      0      1        0   \n1       2      3      4.50410     1       0     0      0      0        0   \n2       3      4      4.02869     0       0     0      0      1        0   \n3       4      3      4.31967     0       0     0      0      1        1   \n4       5      2      5.60246     1       1     0      0      1        0   \n..    ...    ...          ...   ...     ...   ...    ...    ...      ...   \n78     79      4      3.59836     0       1     0      0      0        0   \n79     80      1      7.13525     1       1     0      0      0        0   \n80     81      3      4.27459     0       0     0      0      0        0   \n81     82      3      4.10246     0       1     0      0      0        0   \n82     83      2      5.15164     0       1     0      0      0        0   \n\n    7.汽车声  8.机器声  9.其他 main sound  \n0       0      0     0        2,5  \n1       1      1     0      1,7,8  \n2       1      0     0        5,7  \n3       0      0     0        5,6  \n4       0      0     0      1,2,5  \n..    ...    ...   ...        ...  \n78      0      1     0        2,8  \n79      0      0     0        1,2  \n80      1      1     0        7,8  \n81      1      1     0      2,7,8  \n82      0      0     0          2  \n\n[83 rows x 13 columns]",
      "text/html": "<div>\n<style scoped>\n    .dataframe tbody tr th:only-of-type {\n        vertical-align: middle;\n    }\n\n    .dataframe tbody tr th {\n        vertical-align: top;\n    }\n\n    .dataframe thead th {\n        text-align: right;\n    }\n</style>\n<table border=\"1\" class=\"dataframe\">\n  <thead>\n    <tr style=\"text-align: right;\">\n      <th></th>\n      <th>index</th>\n      <th>class</th>\n      <th>noise_score</th>\n      <th>1.水声</th>\n      <th>2.鸟鸣虫叫</th>\n      <th>3.风声</th>\n      <th>4.喧闹声</th>\n      <th>5.生活声</th>\n      <th>6.音乐歌曲声</th>\n      <th>7.汽车声</th>\n      <th>8.机器声</th>\n      <th>9.其他</th>\n      <th>main sound</th>\n    </tr>\n  </thead>\n  <tbody>\n    <tr>\n      <th>0</th>\n      <td>1</td>\n      <td>2</td>\n      <td>5.47951</td>\n      <td>0</td>\n      <td>1</td>\n      <td>0</td>\n      <td>0</td>\n      <td>1</td>\n      <td>0</td>\n      <td>0</td>\n      <td>0</td>\n      <td>0</td>\n      <td>2,5</td>\n    </tr>\n    <tr>\n      <th>1</th>\n      <td>2</td>\n      <td>3</td>\n      <td>4.50410</td>\n      <td>1</td>\n      <td>0</td>\n      <td>0</td>\n      <td>0</td>\n      <td>0</td>\n      <td>0</td>\n      <td>1</td>\n      <td>1</td>\n      <td>0</td>\n      <td>1,7,8</td>\n    </tr>\n    <tr>\n      <th>2</th>\n      <td>3</td>\n      <td>4</td>\n      <td>4.02869</td>\n      <td>0</td>\n      <td>0</td>\n      <td>0</td>\n      <td>0</td>\n      <td>1</td>\n      <td>0</td>\n      <td>1</td>\n      <td>0</td>\n      <td>0</td>\n      <td>5,7</td>\n    </tr>\n    <tr>\n      <th>3</th>\n      <td>4</td>\n      <td>3</td>\n      <td>4.31967</td>\n      <td>0</td>\n      <td>0</td>\n      <td>0</td>\n      <td>0</td>\n      <td>1</td>\n      <td>1</td>\n      <td>0</td>\n      <td>0</td>\n      <td>0</td>\n      <td>5,6</td>\n    </tr>\n    <tr>\n      <th>4</th>\n      <td>5</td>\n      <td>2</td>\n      <td>5.60246</td>\n      <td>1</td>\n      <td>1</td>\n      <td>0</td>\n      <td>0</td>\n      <td>1</td>\n      <td>0</td>\n      <td>0</td>\n      <td>0</td>\n      <td>0</td>\n      <td>1,2,5</td>\n    </tr>\n    <tr>\n      <th>...</th>\n      <td>...</td>\n      <td>...</td>\n      <td>...</td>\n      <td>...</td>\n      <td>...</td>\n      <td>...</td>\n      <td>...</td>\n      <td>...</td>\n      <td>...</td>\n      <td>...</td>\n      <td>...</td>\n      <td>...</td>\n      <td>...</td>\n    </tr>\n    <tr>\n      <th>78</th>\n      <td>79</td>\n      <td>4</td>\n      <td>3.59836</td>\n      <td>0</td>\n      <td>1</td>\n      <td>0</td>\n      <td>0</td>\n      <td>0</td>\n      <td>0</td>\n      <td>0</td>\n      <td>1</td>\n      <td>0</td>\n      <td>2,8</td>\n    </tr>\n    <tr>\n      <th>79</th>\n      <td>80</td>\n      <td>1</td>\n      <td>7.13525</td>\n      <td>1</td>\n      <td>1</td>\n      <td>0</td>\n      <td>0</td>\n      <td>0</td>\n      <td>0</td>\n      <td>0</td>\n      <td>0</td>\n      <td>0</td>\n      <td>1,2</td>\n    </tr>\n    <tr>\n      <th>80</th>\n      <td>81</td>\n      <td>3</td>\n      <td>4.27459</td>\n      <td>0</td>\n      <td>0</td>\n      <td>0</td>\n      <td>0</td>\n      <td>0</td>\n      <td>0</td>\n      <td>1</td>\n      <td>1</td>\n      <td>0</td>\n      <td>7,8</td>\n    </tr>\n    <tr>\n      <th>81</th>\n      <td>82</td>\n      <td>3</td>\n      <td>4.10246</td>\n      <td>0</td>\n      <td>1</td>\n      <td>0</td>\n      <td>0</td>\n      <td>0</td>\n      <td>0</td>\n      <td>1</td>\n      <td>1</td>\n      <td>0</td>\n      <td>2,7,8</td>\n    </tr>\n    <tr>\n      <th>82</th>\n      <td>83</td>\n      <td>2</td>\n      <td>5.15164</td>\n      <td>0</td>\n      <td>1</td>\n      <td>0</td>\n      <td>0</td>\n      <td>0</td>\n      <td>0</td>\n      <td>0</td>\n      <td>0</td>\n      <td>0</td>\n      <td>2</td>\n    </tr>\n  </tbody>\n</table>\n<p>83 rows × 13 columns</p>\n</div>"
     },
     "execution_count": 6,
     "metadata": {},
     "output_type": "execute_result"
    }
   ],
   "source": [
    "import pandas as pd\n",
    "\n",
    "main_sound = pd.read_excel(r'./input/83_main_sound.xlsx')\n",
    "main_sound"
   ],
   "metadata": {
    "collapsed": false,
    "pycharm": {
     "name": "#%%\n"
    }
   }
  },
  {
   "cell_type": "code",
   "execution_count": 7,
   "outputs": [
    {
     "data": {
      "text/plain": "Index(['1.水声', '2.鸟鸣虫叫', '3.风声', '4.喧闹声', '5.生活声', '6.音乐歌曲声', '7.汽车声',\n       '8.机器声'],\n      dtype='object')"
     },
     "execution_count": 7,
     "metadata": {},
     "output_type": "execute_result"
    }
   ],
   "source": [
    "category_columns = main_sound.columns[3:-2]\n",
    "category_columns"
   ],
   "metadata": {
    "collapsed": false,
    "pycharm": {
     "name": "#%%\n"
    }
   }
  },
  {
   "cell_type": "code",
   "execution_count": 8,
   "outputs": [],
   "source": [
    "png_folder = './output/83_different_sound/all'\n",
    "dst_path = './output/83_different_sound'\n",
    "for category in category_columns:\n",
    "    dst_folder = os.path.join(dst_path, category)\n",
    "    for filename in os.listdir(png_folder):\n",
    "        index = int(filename.split('.')[0]) - 1\n",
    "        value = main_sound.loc[index, category]\n",
    "        if value == 1:\n",
    "            src = os.path.join(png_folder, filename)\n",
    "            dst = os.path.join(dst_folder, filename)\n",
    "            shutil.copy2(src, dst)\n",
    "        else:\n",
    "            continue"
   ],
   "metadata": {
    "collapsed": false,
    "pycharm": {
     "name": "#%%\n"
    }
   }
  },
  {
   "cell_type": "code",
   "execution_count": 8,
   "outputs": [],
   "source": [],
   "metadata": {
    "collapsed": false,
    "pycharm": {
     "name": "#%%\n"
    }
   }
  }
 ],
 "metadata": {
  "kernelspec": {
   "display_name": "Python 3",
   "language": "python",
   "name": "python3"
  },
  "language_info": {
   "codemirror_mode": {
    "name": "ipython",
    "version": 2
   },
   "file_extension": ".py",
   "mimetype": "text/x-python",
   "name": "python",
   "nbconvert_exporter": "python",
   "pygments_lexer": "ipython2",
   "version": "2.7.6"
  }
 },
 "nbformat": 4,
 "nbformat_minor": 0
}