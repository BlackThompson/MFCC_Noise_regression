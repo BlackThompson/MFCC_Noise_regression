{
 "cells": [
  {
   "cell_type": "code",
   "execution_count": 1,
   "metadata": {
    "collapsed": true
   },
   "outputs": [],
   "source": [
    "import pandas as pd\n",
    "import numpy as np\n",
    "from load_data import *\n",
    "from config import *\n",
    "from cal_accuracy import *\n",
    "from sklearn.metrics import r2_score\n",
    "import h2o\n",
    "from h2o.automl import H2OAutoML"
   ]
  },
  {
   "cell_type": "code",
   "execution_count": 2,
   "outputs": [],
   "source": [
    "train_path = r'./input/train_features_100_columns.xlsx'\n",
    "train_X, train_y = load_train(train_path, columns=used_feature_columns)"
   ],
   "metadata": {
    "collapsed": false,
    "pycharm": {
     "name": "#%%\n"
    }
   }
  },
  {
   "cell_type": "code",
   "execution_count": 3,
   "outputs": [
    {
     "name": "stdout",
     "output_type": "stream",
     "text": [
      "Checking whether there is an H2O instance running at http://localhost:54321. connected.\n"
     ]
    },
    {
     "data": {
      "text/plain": "--------------------------  -----------------------------\nH2O_cluster_uptime:         19 mins 12 secs\nH2O_cluster_timezone:       Asia/Shanghai\nH2O_data_parsing_timezone:  UTC\nH2O_cluster_version:        3.40.0.2\nH2O_cluster_version_age:    19 days\nH2O_cluster_name:           H2O_from_python_Black_ncgltp\nH2O_cluster_total_nodes:    1\nH2O_cluster_free_memory:    3.959 Gb\nH2O_cluster_total_cores:    16\nH2O_cluster_allowed_cores:  16\nH2O_cluster_status:         locked, healthy\nH2O_connection_url:         http://localhost:54321\nH2O_connection_proxy:       {\"http\": null, \"https\": null}\nH2O_internal_security:      False\nPython_version:             3.9.12 final\n--------------------------  -----------------------------",
      "text/html": "\n<style>\n\n#h2o-table-1.h2o-container {\n  overflow-x: auto;\n}\n#h2o-table-1 .h2o-table {\n  /* width: 100%; */\n  margin-top: 1em;\n  margin-bottom: 1em;\n}\n#h2o-table-1 .h2o-table caption {\n  white-space: nowrap;\n  caption-side: top;\n  text-align: left;\n  /* margin-left: 1em; */\n  margin: 0;\n  font-size: larger;\n}\n#h2o-table-1 .h2o-table thead {\n  white-space: nowrap; \n  position: sticky;\n  top: 0;\n  box-shadow: 0 -1px inset;\n}\n#h2o-table-1 .h2o-table tbody {\n  overflow: auto;\n}\n#h2o-table-1 .h2o-table th,\n#h2o-table-1 .h2o-table td {\n  text-align: right;\n  /* border: 1px solid; */\n}\n#h2o-table-1 .h2o-table tr:nth-child(even) {\n  /* background: #F5F5F5 */\n}\n\n</style>      \n<div id=\"h2o-table-1\" class=\"h2o-container\">\n  <table class=\"h2o-table\">\n    <caption></caption>\n    <thead></thead>\n    <tbody><tr><td>H2O_cluster_uptime:</td>\n<td>19 mins 12 secs</td></tr>\n<tr><td>H2O_cluster_timezone:</td>\n<td>Asia/Shanghai</td></tr>\n<tr><td>H2O_data_parsing_timezone:</td>\n<td>UTC</td></tr>\n<tr><td>H2O_cluster_version:</td>\n<td>3.40.0.2</td></tr>\n<tr><td>H2O_cluster_version_age:</td>\n<td>19 days</td></tr>\n<tr><td>H2O_cluster_name:</td>\n<td>H2O_from_python_Black_ncgltp</td></tr>\n<tr><td>H2O_cluster_total_nodes:</td>\n<td>1</td></tr>\n<tr><td>H2O_cluster_free_memory:</td>\n<td>3.959 Gb</td></tr>\n<tr><td>H2O_cluster_total_cores:</td>\n<td>16</td></tr>\n<tr><td>H2O_cluster_allowed_cores:</td>\n<td>16</td></tr>\n<tr><td>H2O_cluster_status:</td>\n<td>locked, healthy</td></tr>\n<tr><td>H2O_connection_url:</td>\n<td>http://localhost:54321</td></tr>\n<tr><td>H2O_connection_proxy:</td>\n<td>{\"http\": null, \"https\": null}</td></tr>\n<tr><td>H2O_internal_security:</td>\n<td>False</td></tr>\n<tr><td>Python_version:</td>\n<td>3.9.12 final</td></tr></tbody>\n  </table>\n</div>\n"
     },
     "metadata": {},
     "output_type": "display_data"
    }
   ],
   "source": [
    "h2o.init()"
   ],
   "metadata": {
    "collapsed": false,
    "pycharm": {
     "name": "#%%\n"
    }
   }
  },
  {
   "cell_type": "code",
   "execution_count": 4,
   "outputs": [
    {
     "data": {
      "text/plain": "        1_mean    2_mean    3_mean    4_mean    5_mean    6_mean    7_mean  \\\n0     1.574413 -0.595018  0.677216 -0.696579  0.136810 -0.613404  0.850699   \n1     1.244477 -0.137308 -0.301510 -0.482496  0.032674 -1.651424 -1.423365   \n2     0.931657  0.703500 -1.319554  1.406807 -0.808947  1.479099 -0.308815   \n3     0.259705  0.926657 -0.428194  2.178997 -2.432780  0.567669 -0.597812   \n4     1.323155 -0.015586  0.167741 -0.787749  0.175858 -1.127500 -0.175234   \n...        ...       ...       ...       ...       ...       ...       ...   \n1143 -0.461677  1.298373 -1.612240  0.530556 -0.414059 -0.272928  0.732004   \n1144 -0.458822  1.133439 -1.931468  0.577434 -0.817595 -0.309936  0.678030   \n1145 -0.405343  1.286867 -1.940625  0.318612 -0.953067 -0.336904  0.413767   \n1146 -0.124733  1.200254 -1.544272  0.515851 -0.326352 -0.334674  0.675748   \n1147 -0.172829  1.276842 -1.341633  0.659941 -0.308280 -0.067611  0.548428   \n\n        8_mean    9_mean   10_mean  ...   12_skew   13_skew   14_skew  \\\n0     0.431330  0.328712  1.022111  ... -1.102672  0.969074 -0.247969   \n1    -0.360956 -0.555029 -0.188058  ...  0.682936  1.017500 -1.057441   \n2     1.335414 -0.309134  0.376286  ... -1.208664 -0.461975  1.492302   \n3    -0.508629 -2.574246 -1.296486  ...  0.104821 -2.068631 -0.606832   \n4    -0.205967 -1.033645 -0.075280  ... -0.258667  0.617105 -0.370833   \n...        ...       ...       ...  ...       ...       ...       ...   \n1143 -0.384005  0.964341 -0.242277  ... -0.562786  0.518348 -0.032733   \n1144 -0.548255  0.737241 -0.807416  ...  0.224051  1.145614 -0.886834   \n1145 -0.676147  0.841470 -0.597713  ... -0.196911  1.931289  0.189183   \n1146 -0.490826  0.607516  0.015397  ... -0.392496  0.939524 -1.258123   \n1147 -0.687524  0.302018 -0.796161  ... -0.036270  0.794291 -0.297827   \n\n       15_skew   16_skew   17_skew   18_skew   19_skew   20_skew    score  \n0     0.685464 -0.500171 -2.014586 -0.348453 -0.676601  1.076558  5.95492  \n1     0.249369 -0.922953 -1.800550 -0.241787 -2.128465  0.254249  4.87705  \n2     2.497259  4.810327  0.151155  0.618250 -1.766959 -0.762853  4.53279  \n3     1.555269  0.124300  0.523478  0.047980  2.915161  2.979695  4.97951  \n4    -0.439105  0.754251 -0.789184 -0.109633 -0.220446 -0.705462  6.12295  \n...        ...       ...       ...       ...       ...       ...      ...  \n1143  0.099830 -0.278905 -0.857440 -0.339690  0.320588  0.707936  5.00000  \n1144  0.894299  0.438648 -0.438553 -0.255705 -0.727307 -0.630789  5.10000  \n1145  1.017778  0.739885  0.209159 -0.355751  0.121028  0.689736  4.80000  \n1146 -0.181848 -0.073388 -0.125529 -0.692759  1.037686  1.232057  4.90000  \n1147 -0.118448  0.642172 -0.360817  0.049775  0.369367 -0.334507  5.00000  \n\n[1148 rows x 101 columns]",
      "text/html": "<div>\n<style scoped>\n    .dataframe tbody tr th:only-of-type {\n        vertical-align: middle;\n    }\n\n    .dataframe tbody tr th {\n        vertical-align: top;\n    }\n\n    .dataframe thead th {\n        text-align: right;\n    }\n</style>\n<table border=\"1\" class=\"dataframe\">\n  <thead>\n    <tr style=\"text-align: right;\">\n      <th></th>\n      <th>1_mean</th>\n      <th>2_mean</th>\n      <th>3_mean</th>\n      <th>4_mean</th>\n      <th>5_mean</th>\n      <th>6_mean</th>\n      <th>7_mean</th>\n      <th>8_mean</th>\n      <th>9_mean</th>\n      <th>10_mean</th>\n      <th>...</th>\n      <th>12_skew</th>\n      <th>13_skew</th>\n      <th>14_skew</th>\n      <th>15_skew</th>\n      <th>16_skew</th>\n      <th>17_skew</th>\n      <th>18_skew</th>\n      <th>19_skew</th>\n      <th>20_skew</th>\n      <th>score</th>\n    </tr>\n  </thead>\n  <tbody>\n    <tr>\n      <th>0</th>\n      <td>1.574413</td>\n      <td>-0.595018</td>\n      <td>0.677216</td>\n      <td>-0.696579</td>\n      <td>0.136810</td>\n      <td>-0.613404</td>\n      <td>0.850699</td>\n      <td>0.431330</td>\n      <td>0.328712</td>\n      <td>1.022111</td>\n      <td>...</td>\n      <td>-1.102672</td>\n      <td>0.969074</td>\n      <td>-0.247969</td>\n      <td>0.685464</td>\n      <td>-0.500171</td>\n      <td>-2.014586</td>\n      <td>-0.348453</td>\n      <td>-0.676601</td>\n      <td>1.076558</td>\n      <td>5.95492</td>\n    </tr>\n    <tr>\n      <th>1</th>\n      <td>1.244477</td>\n      <td>-0.137308</td>\n      <td>-0.301510</td>\n      <td>-0.482496</td>\n      <td>0.032674</td>\n      <td>-1.651424</td>\n      <td>-1.423365</td>\n      <td>-0.360956</td>\n      <td>-0.555029</td>\n      <td>-0.188058</td>\n      <td>...</td>\n      <td>0.682936</td>\n      <td>1.017500</td>\n      <td>-1.057441</td>\n      <td>0.249369</td>\n      <td>-0.922953</td>\n      <td>-1.800550</td>\n      <td>-0.241787</td>\n      <td>-2.128465</td>\n      <td>0.254249</td>\n      <td>4.87705</td>\n    </tr>\n    <tr>\n      <th>2</th>\n      <td>0.931657</td>\n      <td>0.703500</td>\n      <td>-1.319554</td>\n      <td>1.406807</td>\n      <td>-0.808947</td>\n      <td>1.479099</td>\n      <td>-0.308815</td>\n      <td>1.335414</td>\n      <td>-0.309134</td>\n      <td>0.376286</td>\n      <td>...</td>\n      <td>-1.208664</td>\n      <td>-0.461975</td>\n      <td>1.492302</td>\n      <td>2.497259</td>\n      <td>4.810327</td>\n      <td>0.151155</td>\n      <td>0.618250</td>\n      <td>-1.766959</td>\n      <td>-0.762853</td>\n      <td>4.53279</td>\n    </tr>\n    <tr>\n      <th>3</th>\n      <td>0.259705</td>\n      <td>0.926657</td>\n      <td>-0.428194</td>\n      <td>2.178997</td>\n      <td>-2.432780</td>\n      <td>0.567669</td>\n      <td>-0.597812</td>\n      <td>-0.508629</td>\n      <td>-2.574246</td>\n      <td>-1.296486</td>\n      <td>...</td>\n      <td>0.104821</td>\n      <td>-2.068631</td>\n      <td>-0.606832</td>\n      <td>1.555269</td>\n      <td>0.124300</td>\n      <td>0.523478</td>\n      <td>0.047980</td>\n      <td>2.915161</td>\n      <td>2.979695</td>\n      <td>4.97951</td>\n    </tr>\n    <tr>\n      <th>4</th>\n      <td>1.323155</td>\n      <td>-0.015586</td>\n      <td>0.167741</td>\n      <td>-0.787749</td>\n      <td>0.175858</td>\n      <td>-1.127500</td>\n      <td>-0.175234</td>\n      <td>-0.205967</td>\n      <td>-1.033645</td>\n      <td>-0.075280</td>\n      <td>...</td>\n      <td>-0.258667</td>\n      <td>0.617105</td>\n      <td>-0.370833</td>\n      <td>-0.439105</td>\n      <td>0.754251</td>\n      <td>-0.789184</td>\n      <td>-0.109633</td>\n      <td>-0.220446</td>\n      <td>-0.705462</td>\n      <td>6.12295</td>\n    </tr>\n    <tr>\n      <th>...</th>\n      <td>...</td>\n      <td>...</td>\n      <td>...</td>\n      <td>...</td>\n      <td>...</td>\n      <td>...</td>\n      <td>...</td>\n      <td>...</td>\n      <td>...</td>\n      <td>...</td>\n      <td>...</td>\n      <td>...</td>\n      <td>...</td>\n      <td>...</td>\n      <td>...</td>\n      <td>...</td>\n      <td>...</td>\n      <td>...</td>\n      <td>...</td>\n      <td>...</td>\n      <td>...</td>\n    </tr>\n    <tr>\n      <th>1143</th>\n      <td>-0.461677</td>\n      <td>1.298373</td>\n      <td>-1.612240</td>\n      <td>0.530556</td>\n      <td>-0.414059</td>\n      <td>-0.272928</td>\n      <td>0.732004</td>\n      <td>-0.384005</td>\n      <td>0.964341</td>\n      <td>-0.242277</td>\n      <td>...</td>\n      <td>-0.562786</td>\n      <td>0.518348</td>\n      <td>-0.032733</td>\n      <td>0.099830</td>\n      <td>-0.278905</td>\n      <td>-0.857440</td>\n      <td>-0.339690</td>\n      <td>0.320588</td>\n      <td>0.707936</td>\n      <td>5.00000</td>\n    </tr>\n    <tr>\n      <th>1144</th>\n      <td>-0.458822</td>\n      <td>1.133439</td>\n      <td>-1.931468</td>\n      <td>0.577434</td>\n      <td>-0.817595</td>\n      <td>-0.309936</td>\n      <td>0.678030</td>\n      <td>-0.548255</td>\n      <td>0.737241</td>\n      <td>-0.807416</td>\n      <td>...</td>\n      <td>0.224051</td>\n      <td>1.145614</td>\n      <td>-0.886834</td>\n      <td>0.894299</td>\n      <td>0.438648</td>\n      <td>-0.438553</td>\n      <td>-0.255705</td>\n      <td>-0.727307</td>\n      <td>-0.630789</td>\n      <td>5.10000</td>\n    </tr>\n    <tr>\n      <th>1145</th>\n      <td>-0.405343</td>\n      <td>1.286867</td>\n      <td>-1.940625</td>\n      <td>0.318612</td>\n      <td>-0.953067</td>\n      <td>-0.336904</td>\n      <td>0.413767</td>\n      <td>-0.676147</td>\n      <td>0.841470</td>\n      <td>-0.597713</td>\n      <td>...</td>\n      <td>-0.196911</td>\n      <td>1.931289</td>\n      <td>0.189183</td>\n      <td>1.017778</td>\n      <td>0.739885</td>\n      <td>0.209159</td>\n      <td>-0.355751</td>\n      <td>0.121028</td>\n      <td>0.689736</td>\n      <td>4.80000</td>\n    </tr>\n    <tr>\n      <th>1146</th>\n      <td>-0.124733</td>\n      <td>1.200254</td>\n      <td>-1.544272</td>\n      <td>0.515851</td>\n      <td>-0.326352</td>\n      <td>-0.334674</td>\n      <td>0.675748</td>\n      <td>-0.490826</td>\n      <td>0.607516</td>\n      <td>0.015397</td>\n      <td>...</td>\n      <td>-0.392496</td>\n      <td>0.939524</td>\n      <td>-1.258123</td>\n      <td>-0.181848</td>\n      <td>-0.073388</td>\n      <td>-0.125529</td>\n      <td>-0.692759</td>\n      <td>1.037686</td>\n      <td>1.232057</td>\n      <td>4.90000</td>\n    </tr>\n    <tr>\n      <th>1147</th>\n      <td>-0.172829</td>\n      <td>1.276842</td>\n      <td>-1.341633</td>\n      <td>0.659941</td>\n      <td>-0.308280</td>\n      <td>-0.067611</td>\n      <td>0.548428</td>\n      <td>-0.687524</td>\n      <td>0.302018</td>\n      <td>-0.796161</td>\n      <td>...</td>\n      <td>-0.036270</td>\n      <td>0.794291</td>\n      <td>-0.297827</td>\n      <td>-0.118448</td>\n      <td>0.642172</td>\n      <td>-0.360817</td>\n      <td>0.049775</td>\n      <td>0.369367</td>\n      <td>-0.334507</td>\n      <td>5.00000</td>\n    </tr>\n  </tbody>\n</table>\n<p>1148 rows × 101 columns</p>\n</div>"
     },
     "execution_count": 4,
     "metadata": {},
     "output_type": "execute_result"
    }
   ],
   "source": [
    "data = pd.concat([train_X, train_y], axis=1)\n",
    "data"
   ],
   "metadata": {
    "collapsed": false,
    "pycharm": {
     "name": "#%%\n"
    }
   }
  },
  {
   "cell_type": "code",
   "execution_count": 5,
   "outputs": [],
   "source": [
    "x = used_feature_columns\n",
    "y = 'score'"
   ],
   "metadata": {
    "collapsed": false,
    "pycharm": {
     "name": "#%%\n"
    }
   }
  },
  {
   "cell_type": "code",
   "execution_count": 6,
   "outputs": [
    {
     "name": "stdout",
     "output_type": "stream",
     "text": [
      "Parse progress: |████████████████████████████████████████████████████████████████| (done) 100%\n"
     ]
    }
   ],
   "source": [
    "h2o_data = h2o.H2OFrame(data)\n",
    "# 拆分数据集为训练集和测试集\n",
    "train, test = h2o_data.split_frame(ratios=[0.9], seed=42)"
   ],
   "metadata": {
    "collapsed": false,
    "pycharm": {
     "name": "#%%\n"
    }
   }
  },
  {
   "cell_type": "code",
   "execution_count": 7,
   "outputs": [
    {
     "name": "stdout",
     "output_type": "stream",
     "text": [
      "Train shape: (1042, 101)\n",
      "Test shape: (106, 101)\n"
     ]
    }
   ],
   "source": [
    "# 输出训练集和测试集的形状\n",
    "print('Train shape:', train.shape)\n",
    "print('Test shape:', test.shape)"
   ],
   "metadata": {
    "collapsed": false,
    "pycharm": {
     "name": "#%%\n"
    }
   }
  },
  {
   "cell_type": "code",
   "execution_count": 8,
   "outputs": [
    {
     "name": "stdout",
     "output_type": "stream",
     "text": [
      "AutoML progress: |█\n",
      "00:56:40.499: AutoML: XGBoost is not available; skipping it.\n",
      "\n",
      "██████████████████████████████████████████████████████████████| (done) 100%\n"
     ]
    },
    {
     "data": {
      "text/plain": "Model Details\n=============\nH2OStackedEnsembleEstimator : Stacked Ensemble\nModel Key: StackedEnsemble_AllModels_6_AutoML_1_20230329_05640\n\n\nModel Summary for Stacked Ensemble: \nkey                                        value\n-----------------------------------------  ----------------\nStacking strategy                          cross_validation\nNumber of base models (used / total)       37/340\n# GBM base models (used / total)           6/38\n# DeepLearning base models (used / total)  31/299\n# DRF base models (used / total)           0/2\n# GLM base models (used / total)           0/1\nMetalearner algorithm                      GLM\nMetalearner fold assignment scheme         Random\nMetalearner nfolds                         5\nMetalearner fold_column\nCustom metalearner hyperparameters         None\n\nModelMetricsRegressionGLM: stackedensemble\n** Reported on train data. **\n\nMSE: 0.00519859848917356\nRMSE: 0.07210130712527728\nMAE: 0.057294498805996595\nRMSLE: 0.01282464892517389\nMean Residual Deviance: 0.00519859848917356\nR^2: 0.9960270612184577\nNull degrees of freedom: 1041\nResidual degrees of freedom: 1004\nNull deviance: 1363.4591227241442\nResidual deviance: 5.416939625718849\nAIC: -2445.191688699858\n\nModelMetricsRegressionGLM: stackedensemble\n** Reported on cross-validation data. **\n\nMSE: 0.25591250854259107\nRMSE: 0.5058779581505712\nMAE: 0.3642635290745822\nRMSLE: 0.08581181175518254\nMean Residual Deviance: 0.25591250854259107\nR^2: 0.8044233013978409\nNull degrees of freedom: 1041\nResidual degrees of freedom: 1026\nNull deviance: 1364.697011201966\nResidual deviance: 266.6608339013799\nAIC: 1570.9056212062567\n\nCross-Validation Metrics Summary: \n                        mean       sd          cv_1_valid    cv_2_valid    cv_3_valid    cv_4_valid    cv_5_valid\n----------------------  ---------  ----------  ------------  ------------  ------------  ------------  ------------\nmae                     0.36502    0.00948748  0.35208       0.361166      0.366004      0.378015      0.367835\nmean_residual_deviance  0.256088   0.0270595   0.235299      0.235627      0.242228      0.297197      0.270087\nmse                     0.256088   0.0270595   0.235299      0.235627      0.242228      0.297197      0.270087\nnull_deviance           272.939    28.4423     263.422       299.889       229.891       296.65        274.845\nr2                      0.802893   0.0236427   0.814435      0.837908      0.79337       0.777298      0.791453\nresidual_deviance       53.5447    7.99977     48.4717       48.5391       47.4767       65.9778       57.2584\nrmse                    0.505503   0.0263282   0.485077      0.485414      0.492167      0.545158      0.519699\nrmsle                   0.0858268  0.00294987  0.0836879     0.0858761     0.0821603     0.0890355     0.0883745\n\n[tips]\nUse `model.explain()` to inspect the model.\n--\nUse `h2o.display.toggle_user_tips()` to switch on/off this section.",
      "text/html": "<pre style='margin: 1em 0 1em 0;'>Model Details\n=============\nH2OStackedEnsembleEstimator : Stacked Ensemble\nModel Key: StackedEnsemble_AllModels_6_AutoML_1_20230329_05640\n</pre>\n<div style='margin: 1em 0 1em 0;'>\n<style>\n\n#h2o-table-2.h2o-container {\n  overflow-x: auto;\n}\n#h2o-table-2 .h2o-table {\n  /* width: 100%; */\n  margin-top: 1em;\n  margin-bottom: 1em;\n}\n#h2o-table-2 .h2o-table caption {\n  white-space: nowrap;\n  caption-side: top;\n  text-align: left;\n  /* margin-left: 1em; */\n  margin: 0;\n  font-size: larger;\n}\n#h2o-table-2 .h2o-table thead {\n  white-space: nowrap; \n  position: sticky;\n  top: 0;\n  box-shadow: 0 -1px inset;\n}\n#h2o-table-2 .h2o-table tbody {\n  overflow: auto;\n}\n#h2o-table-2 .h2o-table th,\n#h2o-table-2 .h2o-table td {\n  text-align: right;\n  /* border: 1px solid; */\n}\n#h2o-table-2 .h2o-table tr:nth-child(even) {\n  /* background: #F5F5F5 */\n}\n\n</style>      \n<div id=\"h2o-table-2\" class=\"h2o-container\">\n  <table class=\"h2o-table\">\n    <caption>Model Summary for Stacked Ensemble: </caption>\n    <thead><tr><th>key</th>\n<th>value</th></tr></thead>\n    <tbody><tr><td>Stacking strategy</td>\n<td>cross_validation</td></tr>\n<tr><td>Number of base models (used / total)</td>\n<td>37/340</td></tr>\n<tr><td># GBM base models (used / total)</td>\n<td>6/38</td></tr>\n<tr><td># DeepLearning base models (used / total)</td>\n<td>31/299</td></tr>\n<tr><td># DRF base models (used / total)</td>\n<td>0/2</td></tr>\n<tr><td># GLM base models (used / total)</td>\n<td>0/1</td></tr>\n<tr><td>Metalearner algorithm</td>\n<td>GLM</td></tr>\n<tr><td>Metalearner fold assignment scheme</td>\n<td>Random</td></tr>\n<tr><td>Metalearner nfolds</td>\n<td>5</td></tr>\n<tr><td>Metalearner fold_column</td>\n<td>None</td></tr>\n<tr><td>Custom metalearner hyperparameters</td>\n<td>None</td></tr></tbody>\n  </table>\n</div>\n</div>\n<div style='margin: 1em 0 1em 0;'><pre style='margin: 1em 0 1em 0;'>ModelMetricsRegressionGLM: stackedensemble\n** Reported on train data. **\n\nMSE: 0.00519859848917356\nRMSE: 0.07210130712527728\nMAE: 0.057294498805996595\nRMSLE: 0.01282464892517389\nMean Residual Deviance: 0.00519859848917356\nR^2: 0.9960270612184577\nNull degrees of freedom: 1041\nResidual degrees of freedom: 1004\nNull deviance: 1363.4591227241442\nResidual deviance: 5.416939625718849\nAIC: -2445.191688699858</pre></div>\n<div style='margin: 1em 0 1em 0;'><pre style='margin: 1em 0 1em 0;'>ModelMetricsRegressionGLM: stackedensemble\n** Reported on cross-validation data. **\n\nMSE: 0.25591250854259107\nRMSE: 0.5058779581505712\nMAE: 0.3642635290745822\nRMSLE: 0.08581181175518254\nMean Residual Deviance: 0.25591250854259107\nR^2: 0.8044233013978409\nNull degrees of freedom: 1041\nResidual degrees of freedom: 1026\nNull deviance: 1364.697011201966\nResidual deviance: 266.6608339013799\nAIC: 1570.9056212062567</pre></div>\n<div style='margin: 1em 0 1em 0;'>\n<style>\n\n#h2o-table-3.h2o-container {\n  overflow-x: auto;\n}\n#h2o-table-3 .h2o-table {\n  /* width: 100%; */\n  margin-top: 1em;\n  margin-bottom: 1em;\n}\n#h2o-table-3 .h2o-table caption {\n  white-space: nowrap;\n  caption-side: top;\n  text-align: left;\n  /* margin-left: 1em; */\n  margin: 0;\n  font-size: larger;\n}\n#h2o-table-3 .h2o-table thead {\n  white-space: nowrap; \n  position: sticky;\n  top: 0;\n  box-shadow: 0 -1px inset;\n}\n#h2o-table-3 .h2o-table tbody {\n  overflow: auto;\n}\n#h2o-table-3 .h2o-table th,\n#h2o-table-3 .h2o-table td {\n  text-align: right;\n  /* border: 1px solid; */\n}\n#h2o-table-3 .h2o-table tr:nth-child(even) {\n  /* background: #F5F5F5 */\n}\n\n</style>      \n<div id=\"h2o-table-3\" class=\"h2o-container\">\n  <table class=\"h2o-table\">\n    <caption>Cross-Validation Metrics Summary: </caption>\n    <thead><tr><th></th>\n<th>mean</th>\n<th>sd</th>\n<th>cv_1_valid</th>\n<th>cv_2_valid</th>\n<th>cv_3_valid</th>\n<th>cv_4_valid</th>\n<th>cv_5_valid</th></tr></thead>\n    <tbody><tr><td>mae</td>\n<td>0.3650198</td>\n<td>0.0094875</td>\n<td>0.35208</td>\n<td>0.3611656</td>\n<td>0.3660042</td>\n<td>0.3780146</td>\n<td>0.3678345</td></tr>\n<tr><td>mean_residual_deviance</td>\n<td>0.2560876</td>\n<td>0.0270595</td>\n<td>0.2352993</td>\n<td>0.2356266</td>\n<td>0.2422282</td>\n<td>0.2971971</td>\n<td>0.2700868</td></tr>\n<tr><td>mse</td>\n<td>0.2560876</td>\n<td>0.0270595</td>\n<td>0.2352993</td>\n<td>0.2356266</td>\n<td>0.2422282</td>\n<td>0.2971971</td>\n<td>0.2700868</td></tr>\n<tr><td>null_deviance</td>\n<td>272.9394</td>\n<td>28.442263</td>\n<td>263.42212</td>\n<td>299.8891</td>\n<td>229.89087</td>\n<td>296.64966</td>\n<td>274.8453</td></tr>\n<tr><td>r2</td>\n<td>0.8028929</td>\n<td>0.0236427</td>\n<td>0.8144353</td>\n<td>0.8379077</td>\n<td>0.7933701</td>\n<td>0.7772984</td>\n<td>0.7914529</td></tr>\n<tr><td>residual_deviance</td>\n<td>53.544727</td>\n<td>7.999769</td>\n<td>48.471657</td>\n<td>48.539078</td>\n<td>47.47672</td>\n<td>65.97777</td>\n<td>57.258415</td></tr>\n<tr><td>rmse</td>\n<td>0.5055028</td>\n<td>0.0263282</td>\n<td>0.4850766</td>\n<td>0.4854138</td>\n<td>0.4921668</td>\n<td>0.5451579</td>\n<td>0.5196988</td></tr>\n<tr><td>rmsle</td>\n<td>0.0858268</td>\n<td>0.0029499</td>\n<td>0.0836879</td>\n<td>0.0858761</td>\n<td>0.0821603</td>\n<td>0.0890355</td>\n<td>0.0883745</td></tr></tbody>\n  </table>\n</div>\n</div><pre style=\"font-size: smaller; margin: 1em 0 0 0;\">\n\n[tips]\nUse `model.explain()` to inspect the model.\n--\nUse `h2o.display.toggle_user_tips()` to switch on/off this section.</pre>"
     },
     "execution_count": 8,
     "metadata": {},
     "output_type": "execute_result"
    }
   ],
   "source": [
    "automl = H2OAutoML(max_runtime_secs=22000)\n",
    "# 使用AutoML搜索最佳模型\n",
    "automl.train(x=x, y=y, training_frame=train)"
   ],
   "metadata": {
    "collapsed": false,
    "pycharm": {
     "name": "#%%\n"
    }
   }
  },
  {
   "cell_type": "code",
   "execution_count": 9,
   "outputs": [
    {
     "name": "stdout",
     "output_type": "stream",
     "text": [
      "model_id                                                    rmse       mse       mae      rmsle    mean_residual_deviance\n",
      "StackedEnsemble_AllModels_6_AutoML_1_20230329_05640     0.505878  0.255913  0.364264  0.0858118                  0.255913\n",
      "StackedEnsemble_AllModels_5_AutoML_1_20230329_05640     0.50749   0.257546  0.367305  0.0862244                  0.257546\n",
      "StackedEnsemble_BestOfFamily_8_AutoML_1_20230329_05640  0.51878   0.269133  0.372219  0.0874731                  0.269133\n",
      "StackedEnsemble_BestOfFamily_5_AutoML_1_20230329_05640  0.52423   0.274817  0.378479  0.0884451                  0.274817\n",
      "StackedEnsemble_BestOfFamily_7_AutoML_1_20230329_05640  0.5254    0.276045  0.378637  0.0886705                  0.276045\n",
      "StackedEnsemble_Best1000_1_AutoML_1_20230329_05640      0.525417  0.276063  0.387519  0.0890639                  0.276063\n",
      "StackedEnsemble_AllModels_4_AutoML_1_20230329_05640     0.529145  0.279994  0.390549  0.0897857                  0.279994\n",
      "StackedEnsemble_BestOfFamily_4_AutoML_1_20230329_05640  0.539781  0.291363  0.399425  0.0908498                  0.291363\n",
      "StackedEnsemble_AllModels_3_AutoML_1_20230329_05640     0.542349  0.294142  0.405725  0.0915712                  0.294142\n",
      "StackedEnsemble_BestOfFamily_6_AutoML_1_20230329_05640  0.543299  0.295174  0.397569  0.0917528                  0.295174\n",
      "[10 rows x 6 columns]\n",
      "\n",
      "stackedensemble prediction progress: |███████████████████████████████████████████| (done) 100%\n"
     ]
    },
    {
     "data": {
      "text/plain": "  predict\n---------\n  4.38703\n  5.51507\n  4.8485\n  4.46082\n  5.42533\n  6.07483\n  4.71611\n  6.47602\n  4.07976\n  4.46628\n[106 rows x 1 column]\n",
      "text/html": "<table class='dataframe'>\n<thead>\n<tr><th style=\"text-align: right;\">  predict</th></tr>\n</thead>\n<tbody>\n<tr><td style=\"text-align: right;\">  4.38703</td></tr>\n<tr><td style=\"text-align: right;\">  5.51507</td></tr>\n<tr><td style=\"text-align: right;\">  4.8485 </td></tr>\n<tr><td style=\"text-align: right;\">  4.46082</td></tr>\n<tr><td style=\"text-align: right;\">  5.42533</td></tr>\n<tr><td style=\"text-align: right;\">  6.07483</td></tr>\n<tr><td style=\"text-align: right;\">  4.71611</td></tr>\n<tr><td style=\"text-align: right;\">  6.47602</td></tr>\n<tr><td style=\"text-align: right;\">  4.07976</td></tr>\n<tr><td style=\"text-align: right;\">  4.46628</td></tr>\n</tbody>\n</table><pre style='font-size: smaller; margin-bottom: 1em;'>[106 rows x 1 column]</pre>"
     },
     "execution_count": 9,
     "metadata": {},
     "output_type": "execute_result"
    }
   ],
   "source": [
    "# 查看AutoML搜索结果\n",
    "lb = automl.leaderboard\n",
    "print(lb.head())\n",
    "\n",
    "# 预测测试集\n",
    "predictions = automl.leader.predict(test)\n",
    "\n",
    "predictions"
   ],
   "metadata": {
    "collapsed": false,
    "pycharm": {
     "name": "#%%\n"
    }
   }
  }
 ],
 "metadata": {
  "kernelspec": {
   "display_name": "Python 3",
   "language": "python",
   "name": "python3"
  },
  "language_info": {
   "codemirror_mode": {
    "name": "ipython",
    "version": 2
   },
   "file_extension": ".py",
   "mimetype": "text/x-python",
   "name": "python",
   "nbconvert_exporter": "python",
   "pygments_lexer": "ipython2",
   "version": "2.7.6"
  }
 },
 "nbformat": 4,
 "nbformat_minor": 0
}