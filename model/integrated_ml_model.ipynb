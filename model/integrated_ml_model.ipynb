{
 "cells": [
  {
   "cell_type": "code",
   "execution_count": 2,
   "metadata": {
    "collapsed": true
   },
   "outputs": [],
   "source": [
    "import pandas as pd\n",
    "import xgboost as xgb\n",
    "import numpy as np\n",
    "from sklearn.model_selection import train_test_split, KFold\n",
    "from sklearn.metrics import mean_squared_error\n",
    "from load_data import *\n",
    "from config import *\n",
    "from cal_accuracy import *"
   ]
  },
  {
   "cell_type": "code",
   "execution_count": 3,
   "outputs": [
    {
     "data": {
      "text/plain": "array([[-2.71991577e+02,  8.61285858e+01,  1.04619980e+01, ...,\n        -8.59493083e-02, -1.58480387e-01,  2.76203179e-01],\n       [-2.37500397e+02,  1.08127800e+02, -1.38982105e+01, ...,\n        -6.24737520e-02, -5.12937490e-01,  8.82254842e-02],\n       [-3.57435699e+02,  1.48540115e+02, -3.92370453e+01, ...,\n         1.26810181e-01, -4.24679764e-01, -1.44282221e-01],\n       ...,\n       [-3.33466522e+02,  1.76578857e+02, -5.46953354e+01, ...,\n        -8.75556170e-02,  3.62523379e-02,  1.87776623e-01],\n       [-3.42536560e+02,  1.72415955e+02, -4.48302116e+01, ...,\n        -1.61726880e-01,  2.60044641e-01,  3.11749669e-01],\n       [-3.50182678e+02,  1.76097061e+02, -3.97865868e+01, ...,\n         1.69565890e-03,  9.68818259e-02, -4.63632737e-02]])"
     },
     "execution_count": 3,
     "metadata": {},
     "output_type": "execute_result"
    }
   ],
   "source": [
    "# path = r'./input/train_features_100_columns.xlsx'\n",
    "path = r'./input/train_mfcc_features.xlsx'\n",
    "data = pd.read_excel(path)\n",
    "\n",
    "# 这一行记得删掉\n",
    "# data = data[data['category'] != 80]\n",
    "\n",
    "X = data[used_feature_columns].values\n",
    "y = data['score'].values\n",
    "X"
   ],
   "metadata": {
    "collapsed": false,
    "pycharm": {
     "name": "#%%\n"
    }
   }
  },
  {
   "cell_type": "code",
   "execution_count": 4,
   "outputs": [],
   "source": [
    "# 将数据集划分为训练集、验证集和测试集\n",
    "X_train_val, X_test, y_train_val, y_test = train_test_split(X, y, test_size=0.1, random_state=42)\n",
    "X_train, X_val, y_train, y_val = train_test_split(X_train_val, y_train_val, test_size=0.1, random_state=42)"
   ],
   "metadata": {
    "collapsed": false,
    "pycharm": {
     "name": "#%%\n"
    }
   }
  },
  {
   "cell_type": "code",
   "execution_count": 5,
   "outputs": [],
   "source": [
    "# 2. 定义模型并进行交叉验证\n",
    "params = {\n",
    "    \"objective\": \"reg:squarederror\",\n",
    "    \"eta\": 0.1,\n",
    "    \"max_depth\": 6,\n",
    "    \"min_child_weight\": 1,\n",
    "    \"subsample\": 0.8,\n",
    "    \"colsample_bytree\": 0.8,\n",
    "    \"seed\": 42,\n",
    "}\n",
    "num_rounds = 100"
   ],
   "metadata": {
    "collapsed": false,
    "pycharm": {
     "name": "#%%\n"
    }
   }
  },
  {
   "cell_type": "code",
   "execution_count": 6,
   "outputs": [
    {
     "name": "stdout",
     "output_type": "stream",
     "text": [
      "Training fold 0...\n",
      "[0]\tval-rmse:4.28218\n",
      "[10]\tval-rmse:1.71807\n",
      "[20]\tval-rmse:0.92561\n",
      "[30]\tval-rmse:0.75091\n",
      "[40]\tval-rmse:0.71707\n",
      "[50]\tval-rmse:0.70460\n",
      "[60]\tval-rmse:0.70079\n",
      "[70]\tval-rmse:0.69941\n",
      "[80]\tval-rmse:0.69576\n",
      "[90]\tval-rmse:0.69601\n",
      "[99]\tval-rmse:0.69297\n",
      "Training fold 1...\n",
      "[0]\tval-rmse:4.24342\n",
      "[10]\tval-rmse:1.70257\n",
      "[20]\tval-rmse:0.89853\n",
      "[30]\tval-rmse:0.67666\n",
      "[40]\tval-rmse:0.62805\n",
      "[50]\tval-rmse:0.61387\n",
      "[60]\tval-rmse:0.60907\n",
      "[70]\tval-rmse:0.60831\n",
      "[80]\tval-rmse:0.60779\n",
      "[90]\tval-rmse:0.60784\n",
      "[99]\tval-rmse:0.60688\n",
      "Training fold 2...\n",
      "[0]\tval-rmse:4.25717\n",
      "[10]\tval-rmse:1.69740\n",
      "[20]\tval-rmse:0.93104\n",
      "[30]\tval-rmse:0.75824\n",
      "[40]\tval-rmse:0.72060\n",
      "[50]\tval-rmse:0.70921\n",
      "[60]\tval-rmse:0.70260\n",
      "[70]\tval-rmse:0.69812\n",
      "[80]\tval-rmse:0.69768\n",
      "[90]\tval-rmse:0.69980\n",
      "[99]\tval-rmse:0.70020\n",
      "Training fold 3...\n",
      "[0]\tval-rmse:4.34271\n",
      "[10]\tval-rmse:1.74105\n",
      "[20]\tval-rmse:0.92668\n",
      "[30]\tval-rmse:0.71792\n",
      "[40]\tval-rmse:0.67429\n",
      "[50]\tval-rmse:0.65511\n",
      "[60]\tval-rmse:0.65136\n",
      "[70]\tval-rmse:0.64850\n",
      "[80]\tval-rmse:0.64598\n",
      "[90]\tval-rmse:0.64433\n",
      "[99]\tval-rmse:0.64288\n",
      "Training fold 4...\n",
      "[0]\tval-rmse:4.21246\n",
      "[10]\tval-rmse:1.64424\n",
      "[20]\tval-rmse:0.86460\n",
      "[30]\tval-rmse:0.67046\n",
      "[40]\tval-rmse:0.62898\n",
      "[50]\tval-rmse:0.62454\n",
      "[60]\tval-rmse:0.62289\n",
      "[70]\tval-rmse:0.62237\n",
      "[80]\tval-rmse:0.62152\n",
      "[90]\tval-rmse:0.62137\n",
      "[99]\tval-rmse:0.61873\n",
      "[0]\ttrain-rmse:4.27855\tval-rmse:4.12037\n",
      "[10]\ttrain-rmse:1.62603\tval-rmse:1.61033\n",
      "[20]\ttrain-rmse:0.70749\tval-rmse:0.85418\n",
      "[30]\ttrain-rmse:0.39069\tval-rmse:0.68001\n",
      "[40]\ttrain-rmse:0.27690\tval-rmse:0.64549\n",
      "[50]\ttrain-rmse:0.22888\tval-rmse:0.63943\n",
      "[60]\ttrain-rmse:0.18798\tval-rmse:0.63237\n",
      "[70]\ttrain-rmse:0.15191\tval-rmse:0.62673\n",
      "[80]\ttrain-rmse:0.12574\tval-rmse:0.62512\n",
      "[90]\ttrain-rmse:0.10559\tval-rmse:0.62384\n",
      "[92]\ttrain-rmse:0.10265\tval-rmse:0.62508\n",
      "Test set MSE: 0.3420\n"
     ]
    }
   ],
   "source": [
    "# 使用交叉验证进行模型选择\n",
    "kf = KFold(n_splits=5, shuffle=True, random_state=42)  # 5折交叉验证\n",
    "for fold, (train_idx, val_idx) in enumerate(kf.split(X_train_val)):\n",
    "    print(f\"Training fold {fold}...\")\n",
    "    X_fold_train, y_fold_train = X_train_val[train_idx], y_train_val[train_idx]\n",
    "    X_fold_val, y_fold_val = X_train_val[val_idx], y_train_val[val_idx]\n",
    "\n",
    "    dtrain = xgb.DMatrix(X_fold_train, label=y_fold_train)\n",
    "    dval = xgb.DMatrix(X_fold_val, label=y_fold_val)\n",
    "\n",
    "    bst = xgb.train(params, dtrain, num_rounds, evals=[(dval, \"val\")], verbose_eval=10)\n",
    "    # print(f\"Fold {fold} best score: {bst.best_score}\\n\")\n",
    "\n",
    "# 3. 在全量数据上重新训练模型，并在测试集上评估模型表现\n",
    "dtrain = xgb.DMatrix(X_train, label=y_train)\n",
    "dval = xgb.DMatrix(X_val, label=y_val)\n",
    "dtest = xgb.DMatrix(X_test, label=y_test)\n",
    "\n",
    "watchlist = [(dtrain, \"train\"), (dval, \"val\")]\n",
    "bst = xgb.train(params, dtrain, num_rounds, evals=watchlist, early_stopping_rounds=10, verbose_eval=10)\n",
    "\n",
    "# 在测试集上评估模型表现\n",
    "y_pred = bst.predict(dtest)\n",
    "mse = mean_squared_error(y_test, y_pred)\n",
    "print(f\"Test set MSE: {mse:.4f}\")"
   ],
   "metadata": {
    "collapsed": false,
    "pycharm": {
     "name": "#%%\n"
    }
   }
  },
  {
   "cell_type": "code",
   "execution_count": 7,
   "outputs": [],
   "source": [
    "# 保存模型\n",
    "bst.save_model(\"xgboost_model.model\")\n",
    "# bst.save_model(\"xgboost_model.model\")"
   ],
   "metadata": {
    "collapsed": false,
    "pycharm": {
     "name": "#%%\n"
    }
   }
  },
  {
   "cell_type": "code",
   "execution_count": 8,
   "outputs": [
    {
     "data": {
      "text/plain": "     true   predict  difference\n0     3.8  3.917978    0.117978\n1     5.8  6.150219    0.350219\n2     4.3  4.383216    0.083216\n3     4.8  5.374737    0.574737\n4     7.0  6.212053    0.787947\n..    ...       ...         ...\n134   4.7  4.918137    0.218137\n135   7.3  5.626795    1.673205\n136   5.0  5.326736    0.326736\n137   7.0  6.802062    0.197938\n138   4.0  4.202486    0.202486\n\n[139 rows x 3 columns]",
      "text/html": "<div>\n<style scoped>\n    .dataframe tbody tr th:only-of-type {\n        vertical-align: middle;\n    }\n\n    .dataframe tbody tr th {\n        vertical-align: top;\n    }\n\n    .dataframe thead th {\n        text-align: right;\n    }\n</style>\n<table border=\"1\" class=\"dataframe\">\n  <thead>\n    <tr style=\"text-align: right;\">\n      <th></th>\n      <th>true</th>\n      <th>predict</th>\n      <th>difference</th>\n    </tr>\n  </thead>\n  <tbody>\n    <tr>\n      <th>0</th>\n      <td>3.8</td>\n      <td>3.917978</td>\n      <td>0.117978</td>\n    </tr>\n    <tr>\n      <th>1</th>\n      <td>5.8</td>\n      <td>6.150219</td>\n      <td>0.350219</td>\n    </tr>\n    <tr>\n      <th>2</th>\n      <td>4.3</td>\n      <td>4.383216</td>\n      <td>0.083216</td>\n    </tr>\n    <tr>\n      <th>3</th>\n      <td>4.8</td>\n      <td>5.374737</td>\n      <td>0.574737</td>\n    </tr>\n    <tr>\n      <th>4</th>\n      <td>7.0</td>\n      <td>6.212053</td>\n      <td>0.787947</td>\n    </tr>\n    <tr>\n      <th>...</th>\n      <td>...</td>\n      <td>...</td>\n      <td>...</td>\n    </tr>\n    <tr>\n      <th>134</th>\n      <td>4.7</td>\n      <td>4.918137</td>\n      <td>0.218137</td>\n    </tr>\n    <tr>\n      <th>135</th>\n      <td>7.3</td>\n      <td>5.626795</td>\n      <td>1.673205</td>\n    </tr>\n    <tr>\n      <th>136</th>\n      <td>5.0</td>\n      <td>5.326736</td>\n      <td>0.326736</td>\n    </tr>\n    <tr>\n      <th>137</th>\n      <td>7.0</td>\n      <td>6.802062</td>\n      <td>0.197938</td>\n    </tr>\n    <tr>\n      <th>138</th>\n      <td>4.0</td>\n      <td>4.202486</td>\n      <td>0.202486</td>\n    </tr>\n  </tbody>\n</table>\n<p>139 rows × 3 columns</p>\n</div>"
     },
     "execution_count": 8,
     "metadata": {},
     "output_type": "execute_result"
    }
   ],
   "source": [
    "a = pd.DataFrame()\n",
    "a['true'] = y_test\n",
    "a['predict'] = y_pred\n",
    "a['difference'] = abs(y_pred - y_test)\n",
    "a"
   ],
   "metadata": {
    "collapsed": false,
    "pycharm": {
     "name": "#%%\n"
    }
   }
  },
  {
   "cell_type": "code",
   "execution_count": 9,
   "outputs": [
    {
     "data": {
      "text/plain": "0.9424460431654677"
     },
     "execution_count": 9,
     "metadata": {},
     "output_type": "execute_result"
    }
   ],
   "source": [
    "# predict_class_list = []\n",
    "# true_class_list = []\n",
    "# for i in range(len(a)):\n",
    "#     predict_class, true_class = classify(a.predict[i], a.true[i])\n",
    "#     predict_class_list.append(predict_class)\n",
    "#     true_class_list.append(true_class)\n",
    "#\n",
    "# acc = accuracy(predict_class_list, true_class_list)\n",
    "# acc"
   ],
   "metadata": {
    "collapsed": false,
    "pycharm": {
     "name": "#%%\n"
    }
   }
  },
  {
   "cell_type": "code",
   "execution_count": 10,
   "outputs": [
    {
     "name": "stdout",
     "output_type": "stream",
     "text": [
      "r2: 0.814757195762998\n"
     ]
    }
   ],
   "source": [
    "from sklearn.metrics import r2_score\n",
    "r2 = r2_score(a['true'], a['predict'])\n",
    "print('r2:', r2)"
   ],
   "metadata": {
    "collapsed": false,
    "pycharm": {
     "name": "#%%\n"
    }
   }
  },
  {
   "cell_type": "code",
   "execution_count": 9,
   "outputs": [],
   "source": [],
   "metadata": {
    "collapsed": false,
    "pycharm": {
     "name": "#%%\n"
    }
   }
  }
 ],
 "metadata": {
  "kernelspec": {
   "display_name": "Python 3",
   "language": "python",
   "name": "python3"
  },
  "language_info": {
   "codemirror_mode": {
    "name": "ipython",
    "version": 2
   },
   "file_extension": ".py",
   "mimetype": "text/x-python",
   "name": "python",
   "nbconvert_exporter": "python",
   "pygments_lexer": "ipython2",
   "version": "2.7.6"
  }
 },
 "nbformat": 4,
 "nbformat_minor": 0
}