{
 "cells": [
  {
   "cell_type": "code",
   "execution_count": 18,
   "metadata": {
    "collapsed": true
   },
   "outputs": [],
   "source": [
    "import pandas as pd\n",
    "import xgboost as xgb\n",
    "import numpy as np\n",
    "from sklearn.model_selection import train_test_split, KFold\n",
    "from sklearn.metrics import mean_squared_error\n",
    "from load_data import *\n",
    "from config import *\n",
    "from cal_accuracy import *"
   ]
  },
  {
   "cell_type": "code",
   "execution_count": 8,
   "outputs": [
    {
     "data": {
      "text/plain": "array([[-2.52127609e+02,  8.61285858e+01,  1.04619980e+01, ...,\n        -8.59494486e-02, -1.58480361e-01,  2.76203319e-01],\n       [-2.79456085e+02,  1.08127800e+02, -1.38982105e+01, ...,\n        -6.24734813e-02, -5.12937559e-01,  8.82252009e-02],\n       [-3.05366821e+02,  1.48540115e+02, -3.92370453e+01, ...,\n         1.26810337e-01, -4.24679665e-01, -1.44282138e-01],\n       ...,\n       [-4.16110138e+02,  1.76578857e+02, -5.46953316e+01, ...,\n        -8.75555227e-02,  3.62524560e-02,  1.87776582e-01],\n       [-3.92867310e+02,  1.72415955e+02, -4.48302155e+01, ...,\n        -1.61726862e-01,  2.60044699e-01,  3.11749954e-01],\n       [-3.96851105e+02,  1.76097061e+02, -3.97865868e+01, ...,\n         1.69581815e-03,  9.68816644e-02, -4.63630866e-02]])"
     },
     "execution_count": 8,
     "metadata": {},
     "output_type": "execute_result"
    }
   ],
   "source": [
    "path = r'./input/train_features_100_columns.xlsx'\n",
    "data = pd.read_excel(path)\n",
    "\n",
    "# 这一行记得删掉\n",
    "data = data[data['category'] != 80]\n",
    "\n",
    "X = data[used_feature_columns].values\n",
    "y = data['score'].values\n",
    "X"
   ],
   "metadata": {
    "collapsed": false,
    "pycharm": {
     "name": "#%%\n"
    }
   }
  },
  {
   "cell_type": "code",
   "execution_count": 9,
   "outputs": [],
   "source": [
    "# 将数据集划分为训练集、验证集和测试集\n",
    "X_train_val, X_test, y_train_val, y_test = train_test_split(X, y, test_size=0.1, random_state=42)\n",
    "X_train, X_val, y_train, y_val = train_test_split(X_train_val, y_train_val, test_size=0.1, random_state=42)"
   ],
   "metadata": {
    "collapsed": false,
    "pycharm": {
     "name": "#%%\n"
    }
   }
  },
  {
   "cell_type": "code",
   "execution_count": 10,
   "outputs": [],
   "source": [
    "# 2. 定义模型并进行交叉验证\n",
    "params = {\n",
    "    \"objective\": \"reg:squarederror\",\n",
    "    \"eta\": 0.1,\n",
    "    \"max_depth\": 6,\n",
    "    \"min_child_weight\": 1,\n",
    "    \"subsample\": 0.8,\n",
    "    \"colsample_bytree\": 0.8,\n",
    "    \"seed\": 42,\n",
    "}\n",
    "num_rounds = 100"
   ],
   "metadata": {
    "collapsed": false,
    "pycharm": {
     "name": "#%%\n"
    }
   }
  },
  {
   "cell_type": "code",
   "execution_count": 11,
   "outputs": [
    {
     "name": "stdout",
     "output_type": "stream",
     "text": [
      "Training fold 0...\n",
      "[0]\tval-rmse:4.47665\n",
      "[10]\tval-rmse:1.76476\n",
      "[20]\tval-rmse:0.90167\n",
      "[30]\tval-rmse:0.65854\n",
      "[40]\tval-rmse:0.60689\n",
      "[50]\tval-rmse:0.59181\n",
      "[60]\tval-rmse:0.58593\n",
      "[70]\tval-rmse:0.58183\n",
      "[80]\tval-rmse:0.57926\n",
      "[90]\tval-rmse:0.57879\n",
      "[99]\tval-rmse:0.57944\n",
      "Training fold 1...\n",
      "[0]\tval-rmse:4.34722\n",
      "[10]\tval-rmse:1.62225\n",
      "[20]\tval-rmse:0.76968\n",
      "[30]\tval-rmse:0.56556\n",
      "[40]\tval-rmse:0.53033\n",
      "[50]\tval-rmse:0.52605\n",
      "[60]\tval-rmse:0.52346\n",
      "[70]\tval-rmse:0.52229\n",
      "[80]\tval-rmse:0.52174\n",
      "[90]\tval-rmse:0.52004\n",
      "[99]\tval-rmse:0.51951\n",
      "Training fold 2...\n",
      "[0]\tval-rmse:4.45845\n",
      "[10]\tval-rmse:1.78589\n",
      "[20]\tval-rmse:0.93723\n",
      "[30]\tval-rmse:0.71047\n",
      "[40]\tval-rmse:0.65558\n",
      "[50]\tval-rmse:0.64743\n",
      "[60]\tval-rmse:0.64239\n",
      "[70]\tval-rmse:0.64186\n",
      "[80]\tval-rmse:0.64234\n",
      "[90]\tval-rmse:0.64238\n",
      "[99]\tval-rmse:0.64065\n",
      "Training fold 3...\n",
      "[0]\tval-rmse:4.42467\n",
      "[10]\tval-rmse:1.68188\n",
      "[20]\tval-rmse:0.83505\n",
      "[30]\tval-rmse:0.62743\n",
      "[40]\tval-rmse:0.58412\n",
      "[50]\tval-rmse:0.57288\n",
      "[60]\tval-rmse:0.57169\n",
      "[70]\tval-rmse:0.56690\n",
      "[80]\tval-rmse:0.56697\n",
      "[90]\tval-rmse:0.56602\n",
      "[99]\tval-rmse:0.56612\n",
      "Training fold 4...\n",
      "[0]\tval-rmse:4.55104\n",
      "[10]\tval-rmse:1.75197\n",
      "[20]\tval-rmse:0.83219\n",
      "[30]\tval-rmse:0.60255\n",
      "[40]\tval-rmse:0.55711\n",
      "[50]\tval-rmse:0.55072\n",
      "[60]\tval-rmse:0.54659\n",
      "[70]\tval-rmse:0.54350\n",
      "[80]\tval-rmse:0.54185\n",
      "[90]\tval-rmse:0.54190\n",
      "[99]\tval-rmse:0.54099\n",
      "[0]\ttrain-rmse:4.43926\tval-rmse:4.52939\n",
      "[10]\ttrain-rmse:1.64993\tval-rmse:1.79727\n",
      "[20]\ttrain-rmse:0.67579\tval-rmse:0.94552\n",
      "[30]\ttrain-rmse:0.33643\tval-rmse:0.73240\n",
      "[40]\ttrain-rmse:0.21775\tval-rmse:0.68268\n",
      "[50]\ttrain-rmse:0.16520\tval-rmse:0.66370\n",
      "[60]\ttrain-rmse:0.13043\tval-rmse:0.65523\n",
      "[70]\ttrain-rmse:0.10491\tval-rmse:0.64949\n",
      "[80]\ttrain-rmse:0.08268\tval-rmse:0.64917\n",
      "[90]\ttrain-rmse:0.06873\tval-rmse:0.64904\n",
      "[93]\ttrain-rmse:0.06587\tval-rmse:0.64934\n",
      "Test set MSE: 0.2021\n"
     ]
    }
   ],
   "source": [
    "# 使用交叉验证进行模型选择\n",
    "kf = KFold(n_splits=5, shuffle=True, random_state=42)  # 5折交叉验证\n",
    "for fold, (train_idx, val_idx) in enumerate(kf.split(X_train_val)):\n",
    "    print(f\"Training fold {fold}...\")\n",
    "    X_fold_train, y_fold_train = X_train_val[train_idx], y_train_val[train_idx]\n",
    "    X_fold_val, y_fold_val = X_train_val[val_idx], y_train_val[val_idx]\n",
    "\n",
    "    dtrain = xgb.DMatrix(X_fold_train, label=y_fold_train)\n",
    "    dval = xgb.DMatrix(X_fold_val, label=y_fold_val)\n",
    "\n",
    "    bst = xgb.train(params, dtrain, num_rounds, evals=[(dval, \"val\")], verbose_eval=10)\n",
    "    # print(f\"Fold {fold} best score: {bst.best_score}\\n\")\n",
    "\n",
    "# 3. 在全量数据上重新训练模型，并在测试集上评估模型表现\n",
    "dtrain = xgb.DMatrix(X_train, label=y_train)\n",
    "dval = xgb.DMatrix(X_val, label=y_val)\n",
    "dtest = xgb.DMatrix(X_test, label=y_test)\n",
    "\n",
    "watchlist = [(dtrain, \"train\"), (dval, \"val\")]\n",
    "bst = xgb.train(params, dtrain, num_rounds, evals=watchlist, early_stopping_rounds=10, verbose_eval=10)\n",
    "\n",
    "# 在测试集上评估模型表现\n",
    "y_pred = bst.predict(dtest)\n",
    "mse = mean_squared_error(y_test, y_pred)\n",
    "print(f\"Test set MSE: {mse:.4f}\")"
   ],
   "metadata": {
    "collapsed": false,
    "pycharm": {
     "name": "#%%\n"
    }
   }
  },
  {
   "cell_type": "code",
   "execution_count": 12,
   "outputs": [],
   "source": [
    "# 保存模型\n",
    "bst.save_model(\"xgboost_model_test.model\")\n",
    "# bst.save_model(\"xgboost_model.model\")"
   ],
   "metadata": {
    "collapsed": false,
    "pycharm": {
     "name": "#%%\n"
    }
   }
  },
  {
   "cell_type": "code",
   "execution_count": 26,
   "outputs": [
    {
     "data": {
      "text/plain": "     true   predict  difference\n0     4.2  4.360538    0.160538\n1     7.2  5.849472    1.350528\n2     4.6  4.265465    0.334535\n3     5.4  4.824483    0.575517\n4     5.2  4.769087    0.430913\n..    ...       ...         ...\n102   4.7  4.341842    0.358158\n103   4.7  4.552692    0.147308\n104   4.1  4.934181    0.834181\n105   4.3  4.459157    0.159157\n106   4.4  3.927311    0.472689\n\n[107 rows x 3 columns]",
      "text/html": "<div>\n<style scoped>\n    .dataframe tbody tr th:only-of-type {\n        vertical-align: middle;\n    }\n\n    .dataframe tbody tr th {\n        vertical-align: top;\n    }\n\n    .dataframe thead th {\n        text-align: right;\n    }\n</style>\n<table border=\"1\" class=\"dataframe\">\n  <thead>\n    <tr style=\"text-align: right;\">\n      <th></th>\n      <th>true</th>\n      <th>predict</th>\n      <th>difference</th>\n    </tr>\n  </thead>\n  <tbody>\n    <tr>\n      <th>0</th>\n      <td>4.2</td>\n      <td>4.360538</td>\n      <td>0.160538</td>\n    </tr>\n    <tr>\n      <th>1</th>\n      <td>7.2</td>\n      <td>5.849472</td>\n      <td>1.350528</td>\n    </tr>\n    <tr>\n      <th>2</th>\n      <td>4.6</td>\n      <td>4.265465</td>\n      <td>0.334535</td>\n    </tr>\n    <tr>\n      <th>3</th>\n      <td>5.4</td>\n      <td>4.824483</td>\n      <td>0.575517</td>\n    </tr>\n    <tr>\n      <th>4</th>\n      <td>5.2</td>\n      <td>4.769087</td>\n      <td>0.430913</td>\n    </tr>\n    <tr>\n      <th>...</th>\n      <td>...</td>\n      <td>...</td>\n      <td>...</td>\n    </tr>\n    <tr>\n      <th>102</th>\n      <td>4.7</td>\n      <td>4.341842</td>\n      <td>0.358158</td>\n    </tr>\n    <tr>\n      <th>103</th>\n      <td>4.7</td>\n      <td>4.552692</td>\n      <td>0.147308</td>\n    </tr>\n    <tr>\n      <th>104</th>\n      <td>4.1</td>\n      <td>4.934181</td>\n      <td>0.834181</td>\n    </tr>\n    <tr>\n      <th>105</th>\n      <td>4.3</td>\n      <td>4.459157</td>\n      <td>0.159157</td>\n    </tr>\n    <tr>\n      <th>106</th>\n      <td>4.4</td>\n      <td>3.927311</td>\n      <td>0.472689</td>\n    </tr>\n  </tbody>\n</table>\n<p>107 rows × 3 columns</p>\n</div>"
     },
     "execution_count": 26,
     "metadata": {},
     "output_type": "execute_result"
    }
   ],
   "source": [
    "a = pd.DataFrame()\n",
    "a['true'] = y_test\n",
    "a['predict'] = y_pred\n",
    "a['difference'] = abs(y_pred - y_test)\n",
    "a"
   ],
   "metadata": {
    "collapsed": false,
    "pycharm": {
     "name": "#%%\n"
    }
   }
  },
  {
   "cell_type": "code",
   "execution_count": 19,
   "outputs": [
    {
     "data": {
      "text/plain": "0.9532710280373832"
     },
     "execution_count": 19,
     "metadata": {},
     "output_type": "execute_result"
    }
   ],
   "source": [
    "predict_class_list = []\n",
    "true_class_list = []\n",
    "for i in range(len(a)):\n",
    "    predict_class, true_class = classify(a.predict[i], a.true[i])\n",
    "    predict_class_list.append(predict_class)\n",
    "    true_class_list.append(true_class)\n",
    "\n",
    "acc = accuracy(predict_class_list, true_class_list)\n",
    "acc"
   ],
   "metadata": {
    "collapsed": false,
    "pycharm": {
     "name": "#%%\n"
    }
   }
  },
  {
   "cell_type": "code",
   "execution_count": 27,
   "outputs": [
    {
     "name": "stdout",
     "output_type": "stream",
     "text": [
      "r2: 0.8286441202481112\n"
     ]
    }
   ],
   "source": [
    "from sklearn.metrics import r2_score\n",
    "r2 = r2_score(a['true'], a['predict'])\n",
    "print('r2:', r2)"
   ],
   "metadata": {
    "collapsed": false,
    "pycharm": {
     "name": "#%%\n"
    }
   }
  },
  {
   "cell_type": "code",
   "execution_count": null,
   "outputs": [],
   "source": [],
   "metadata": {
    "collapsed": false,
    "pycharm": {
     "name": "#%%\n"
    }
   }
  }
 ],
 "metadata": {
  "kernelspec": {
   "display_name": "Python 3",
   "language": "python",
   "name": "python3"
  },
  "language_info": {
   "codemirror_mode": {
    "name": "ipython",
    "version": 2
   },
   "file_extension": ".py",
   "mimetype": "text/x-python",
   "name": "python",
   "nbconvert_exporter": "python",
   "pygments_lexer": "ipython2",
   "version": "2.7.6"
  }
 },
 "nbformat": 4,
 "nbformat_minor": 0
}