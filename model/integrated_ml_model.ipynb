{
 "cells": [
  {
   "cell_type": "code",
   "execution_count": 1,
   "metadata": {
    "collapsed": true
   },
   "outputs": [],
   "source": [
    "import pandas as pd\n",
    "import xgboost as xgb\n",
    "import numpy as np\n",
    "from sklearn.model_selection import train_test_split, KFold\n",
    "from sklearn.metrics import mean_squared_error\n",
    "from load_data import *\n",
    "from config import *\n",
    "from cal_accuracy import *"
   ]
  },
  {
   "cell_type": "code",
   "execution_count": 2,
   "outputs": [
    {
     "data": {
      "text/plain": "array([[-3.45536407e+02,  1.53117401e+02, -3.95242233e+01, ...,\n        -2.61893914e-02,  1.44600853e-01, -1.22696232e-01],\n       [-3.12047394e+02,  1.72199463e+02, -4.61398582e+01, ...,\n         1.45827789e-01, -3.15922471e-01, -1.31190235e-01],\n       [-4.32839844e+02,  2.02102585e+02, -4.00666580e+01, ...,\n         3.76228370e-01,  8.28478671e-01,  2.99108658e-01],\n       ...,\n       [-4.00168701e+02,  2.18579895e+02, -2.46945438e+01, ...,\n         2.60418874e-02, -6.55715518e-02,  1.60245924e-01],\n       [-4.16314362e+02,  2.12160629e+02, -2.31564560e+01, ...,\n         2.36106313e-01,  1.74130710e-01,  1.19963453e-01],\n       [-4.14621216e+02,  2.15601944e+02, -1.86578865e+01, ...,\n         1.88304041e-01, -5.55893974e-02,  1.49449814e-01]])"
     },
     "execution_count": 2,
     "metadata": {},
     "output_type": "execute_result"
    }
   ],
   "source": [
    "path = r'./input/train_mfcc_features.xlsx'\n",
    "data = pd.read_excel(path)\n",
    "\n",
    "# 这一行记得删掉\n",
    "# data = data[data['category'] != 80]\n",
    "\n",
    "X = data[used_feature_columns].values\n",
    "y = data['score'].values\n",
    "X"
   ],
   "metadata": {
    "collapsed": false,
    "pycharm": {
     "name": "#%%\n"
    }
   }
  },
  {
   "cell_type": "code",
   "execution_count": 3,
   "outputs": [],
   "source": [
    "# 将数据集划分为训练集、验证集和测试集\n",
    "X_train_val, X_test, y_train_val, y_test = train_test_split(X, y, test_size=0.1, random_state=42)\n",
    "X_train, X_val, y_train, y_val = train_test_split(X_train_val, y_train_val, test_size=0.1, random_state=42)"
   ],
   "metadata": {
    "collapsed": false,
    "pycharm": {
     "name": "#%%\n"
    }
   }
  },
  {
   "cell_type": "code",
   "execution_count": 4,
   "outputs": [],
   "source": [
    "# 2. 定义模型并进行交叉验证\n",
    "params = {\n",
    "    \"objective\": \"reg:squarederror\",\n",
    "    \"eta\": 0.1,\n",
    "    \"max_depth\": 6,\n",
    "    \"min_child_weight\": 1,\n",
    "    \"subsample\": 0.8,\n",
    "    # \"colsample_bytree\": 0.8,\n",
    "    \"colsample_bytree\": 0.3,\n",
    "    \"seed\": 42,\n",
    "}\n",
    "num_rounds = 100"
   ],
   "metadata": {
    "collapsed": false,
    "pycharm": {
     "name": "#%%\n"
    }
   }
  },
  {
   "cell_type": "code",
   "execution_count": 5,
   "outputs": [
    {
     "name": "stdout",
     "output_type": "stream",
     "text": [
      "Training fold 0...\n",
      "[0]\tval-rmse:4.28542\n",
      "[10]\tval-rmse:1.73877\n",
      "[20]\tval-rmse:1.01883\n",
      "[30]\tval-rmse:0.86047\n",
      "[40]\tval-rmse:0.83388\n",
      "[50]\tval-rmse:0.82781\n",
      "[60]\tval-rmse:0.82600\n",
      "[70]\tval-rmse:0.82686\n",
      "[80]\tval-rmse:0.82529\n",
      "[90]\tval-rmse:0.82322\n",
      "[99]\tval-rmse:0.82067\n",
      "Training fold 1...\n",
      "[0]\tval-rmse:4.24544\n",
      "[10]\tval-rmse:1.74116\n",
      "[20]\tval-rmse:0.97714\n",
      "[30]\tval-rmse:0.78369\n",
      "[40]\tval-rmse:0.74098\n",
      "[50]\tval-rmse:0.72644\n",
      "[60]\tval-rmse:0.72610\n",
      "[70]\tval-rmse:0.72294\n",
      "[80]\tval-rmse:0.71954\n",
      "[90]\tval-rmse:0.71818\n",
      "[99]\tval-rmse:0.71790\n",
      "Training fold 2...\n",
      "[0]\tval-rmse:4.26036\n",
      "[10]\tval-rmse:1.71157\n",
      "[20]\tval-rmse:0.95130\n",
      "[30]\tval-rmse:0.77950\n",
      "[40]\tval-rmse:0.73736\n",
      "[50]\tval-rmse:0.72993\n",
      "[60]\tval-rmse:0.73004\n",
      "[70]\tval-rmse:0.72866\n",
      "[80]\tval-rmse:0.72860\n",
      "[90]\tval-rmse:0.73024\n",
      "[99]\tval-rmse:0.72993\n",
      "Training fold 3...\n",
      "[0]\tval-rmse:4.33593\n",
      "[10]\tval-rmse:1.75961\n",
      "[20]\tval-rmse:0.99700\n",
      "[30]\tval-rmse:0.81242\n",
      "[40]\tval-rmse:0.77477\n",
      "[50]\tval-rmse:0.75819\n",
      "[60]\tval-rmse:0.75091\n",
      "[70]\tval-rmse:0.74220\n",
      "[80]\tval-rmse:0.73793\n",
      "[90]\tval-rmse:0.73514\n",
      "[99]\tval-rmse:0.73585\n",
      "Training fold 4...\n",
      "[0]\tval-rmse:4.21161\n",
      "[10]\tval-rmse:1.66242\n",
      "[20]\tval-rmse:0.93950\n",
      "[30]\tval-rmse:0.78807\n",
      "[40]\tval-rmse:0.76794\n",
      "[50]\tval-rmse:0.76545\n",
      "[60]\tval-rmse:0.76703\n",
      "[70]\tval-rmse:0.76509\n",
      "[80]\tval-rmse:0.76385\n",
      "[90]\tval-rmse:0.76242\n",
      "[99]\tval-rmse:0.76272\n",
      "[0]\ttrain-rmse:4.27921\tval-rmse:4.13170\n",
      "[10]\ttrain-rmse:1.62909\tval-rmse:1.60479\n",
      "[20]\ttrain-rmse:0.71526\tval-rmse:0.91753\n",
      "[30]\ttrain-rmse:0.40642\tval-rmse:0.77820\n",
      "[40]\ttrain-rmse:0.30619\tval-rmse:0.75667\n",
      "[50]\ttrain-rmse:0.25517\tval-rmse:0.75011\n",
      "[60]\ttrain-rmse:0.21647\tval-rmse:0.75179\n",
      "[61]\ttrain-rmse:0.21301\tval-rmse:0.75263\n",
      "Test set MSE: 0.4693\n"
     ]
    }
   ],
   "source": [
    "# 使用交叉验证进行模型选择\n",
    "kf = KFold(n_splits=5, shuffle=True, random_state=42)  # 5折交叉验证\n",
    "for fold, (train_idx, val_idx) in enumerate(kf.split(X_train_val)):\n",
    "    print(f\"Training fold {fold}...\")\n",
    "    X_fold_train, y_fold_train = X_train_val[train_idx], y_train_val[train_idx]\n",
    "    X_fold_val, y_fold_val = X_train_val[val_idx], y_train_val[val_idx]\n",
    "\n",
    "    dtrain = xgb.DMatrix(X_fold_train, label=y_fold_train)\n",
    "    dval = xgb.DMatrix(X_fold_val, label=y_fold_val)\n",
    "\n",
    "    bst = xgb.train(params, dtrain, num_rounds, evals=[(dval, \"val\")], verbose_eval=10)\n",
    "    # print(f\"Fold {fold} best score: {bst.best_score}\\n\")\n",
    "\n",
    "# 3. 在全量数据上重新训练模型，并在测试集上评估模型表现\n",
    "dtrain = xgb.DMatrix(X_train, label=y_train)\n",
    "dval = xgb.DMatrix(X_val, label=y_val)\n",
    "dtest = xgb.DMatrix(X_test, label=y_test)\n",
    "\n",
    "watchlist = [(dtrain, \"train\"), (dval, \"val\")]\n",
    "bst = xgb.train(params, dtrain, num_rounds, evals=watchlist, early_stopping_rounds=10, verbose_eval=10)\n",
    "\n",
    "# 在测试集上评估模型表现\n",
    "y_pred = bst.predict(dtest)\n",
    "mse = mean_squared_error(y_test, y_pred)\n",
    "print(f\"Test set MSE: {mse:.4f}\")"
   ],
   "metadata": {
    "collapsed": false,
    "pycharm": {
     "name": "#%%\n"
    }
   }
  },
  {
   "cell_type": "code",
   "execution_count": 6,
   "outputs": [],
   "source": [
    "# 保存模型\n",
    "bst.save_model(\"xgboost_model.model\")\n",
    "# bst.save_model(\"xgboost_model.model\")"
   ],
   "metadata": {
    "collapsed": false,
    "pycharm": {
     "name": "#%%\n"
    }
   }
  },
  {
   "cell_type": "code",
   "execution_count": 7,
   "outputs": [
    {
     "data": {
      "text/plain": "     true   predict  difference\n0     3.8  3.802764    0.002764\n1     5.8  6.107949    0.307949\n2     4.3  4.360485    0.060485\n3     4.8  5.327379    0.527379\n4     7.0  6.147086    0.852914\n..    ...       ...         ...\n134   4.7  5.036708    0.336708\n135   7.3  5.626446    1.673554\n136   5.0  5.067968    0.067968\n137   7.0  6.207727    0.792273\n138   4.0  4.018569    0.018569\n\n[139 rows x 3 columns]",
      "text/html": "<div>\n<style scoped>\n    .dataframe tbody tr th:only-of-type {\n        vertical-align: middle;\n    }\n\n    .dataframe tbody tr th {\n        vertical-align: top;\n    }\n\n    .dataframe thead th {\n        text-align: right;\n    }\n</style>\n<table border=\"1\" class=\"dataframe\">\n  <thead>\n    <tr style=\"text-align: right;\">\n      <th></th>\n      <th>true</th>\n      <th>predict</th>\n      <th>difference</th>\n    </tr>\n  </thead>\n  <tbody>\n    <tr>\n      <th>0</th>\n      <td>3.8</td>\n      <td>3.802764</td>\n      <td>0.002764</td>\n    </tr>\n    <tr>\n      <th>1</th>\n      <td>5.8</td>\n      <td>6.107949</td>\n      <td>0.307949</td>\n    </tr>\n    <tr>\n      <th>2</th>\n      <td>4.3</td>\n      <td>4.360485</td>\n      <td>0.060485</td>\n    </tr>\n    <tr>\n      <th>3</th>\n      <td>4.8</td>\n      <td>5.327379</td>\n      <td>0.527379</td>\n    </tr>\n    <tr>\n      <th>4</th>\n      <td>7.0</td>\n      <td>6.147086</td>\n      <td>0.852914</td>\n    </tr>\n    <tr>\n      <th>...</th>\n      <td>...</td>\n      <td>...</td>\n      <td>...</td>\n    </tr>\n    <tr>\n      <th>134</th>\n      <td>4.7</td>\n      <td>5.036708</td>\n      <td>0.336708</td>\n    </tr>\n    <tr>\n      <th>135</th>\n      <td>7.3</td>\n      <td>5.626446</td>\n      <td>1.673554</td>\n    </tr>\n    <tr>\n      <th>136</th>\n      <td>5.0</td>\n      <td>5.067968</td>\n      <td>0.067968</td>\n    </tr>\n    <tr>\n      <th>137</th>\n      <td>7.0</td>\n      <td>6.207727</td>\n      <td>0.792273</td>\n    </tr>\n    <tr>\n      <th>138</th>\n      <td>4.0</td>\n      <td>4.018569</td>\n      <td>0.018569</td>\n    </tr>\n  </tbody>\n</table>\n<p>139 rows × 3 columns</p>\n</div>"
     },
     "execution_count": 7,
     "metadata": {},
     "output_type": "execute_result"
    }
   ],
   "source": [
    "a = pd.DataFrame()\n",
    "a['true'] = y_test\n",
    "a['predict'] = y_pred\n",
    "a['difference'] = abs(y_pred - y_test)\n",
    "a"
   ],
   "metadata": {
    "collapsed": false,
    "pycharm": {
     "name": "#%%\n"
    }
   }
  },
  {
   "cell_type": "code",
   "execution_count": 8,
   "outputs": [],
   "source": [
    "# predict_class_list = []\n",
    "# true_class_list = []\n",
    "# for i in range(len(a)):\n",
    "#     predict_class, true_class = classify(a.predict[i], a.true[i])\n",
    "#     predict_class_list.append(predict_class)\n",
    "#     true_class_list.append(true_class)\n",
    "#\n",
    "# acc = accuracy(predict_class_list, true_class_list)\n",
    "# acc"
   ],
   "metadata": {
    "collapsed": false,
    "pycharm": {
     "name": "#%%\n"
    }
   }
  },
  {
   "cell_type": "code",
   "execution_count": 9,
   "outputs": [
    {
     "name": "stdout",
     "output_type": "stream",
     "text": [
      "r2: 0.745841385390802\n"
     ]
    }
   ],
   "source": [
    "from sklearn.metrics import r2_score\n",
    "\n",
    "r2 = r2_score(a['true'], a['predict'])\n",
    "print('r2:', r2)"
   ],
   "metadata": {
    "collapsed": false,
    "pycharm": {
     "name": "#%%\n"
    }
   }
  },
  {
   "cell_type": "code",
   "execution_count": 9,
   "outputs": [],
   "source": [],
   "metadata": {
    "collapsed": false,
    "pycharm": {
     "name": "#%%\n"
    }
   }
  }
 ],
 "metadata": {
  "kernelspec": {
   "display_name": "Python 3",
   "language": "python",
   "name": "python3"
  },
  "language_info": {
   "codemirror_mode": {
    "name": "ipython",
    "version": 2
   },
   "file_extension": ".py",
   "mimetype": "text/x-python",
   "name": "python",
   "nbconvert_exporter": "python",
   "pygments_lexer": "ipython2",
   "version": "2.7.6"
  }
 },
 "nbformat": 4,
 "nbformat_minor": 0
}