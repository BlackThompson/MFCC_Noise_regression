{
 "cells": [
  {
   "cell_type": "code",
   "execution_count": 1,
   "metadata": {
    "collapsed": true
   },
   "outputs": [],
   "source": [
    "import numpy as np\n",
    "import pandas as pd\n",
    "import xgboost as xgb\n",
    "from config import *\n",
    "from cal_accuracy import *\n",
    "from sklearn.metrics import r2_score\n",
    "from sklearn.metrics import mean_squared_error, mean_absolute_error"
   ]
  },
  {
   "cell_type": "code",
   "execution_count": 2,
   "outputs": [],
   "source": [
    "# 加载模型并使用\n",
    "loaded_model = xgb.Booster()\n",
    "loaded_model.load_model(\"xgboost_model.model\")"
   ],
   "metadata": {
    "collapsed": false,
    "pycharm": {
     "name": "#%%\n"
    }
   }
  },
  {
   "cell_type": "code",
   "execution_count": 3,
   "outputs": [],
   "source": [
    "# test_data_path = r'E:\\Python\\Code\\Mel_recognition\\derive_MFCC_for_ML\\output\\test_mfcc_features.xlsx'\n",
    "test_data_path = r'./input/80_mfcc_features.xlsx'\n",
    "# test_data_path = r'./input/BX_mfcc_features.xlsx'\n",
    "test_data = pd.read_excel(test_data_path)\n",
    "X_test = test_data[used_feature_columns].values\n",
    "y_test = test_data['score']\n",
    "dtest = xgb.DMatrix(X_test)\n",
    "y_pred = loaded_model.predict(dtest)"
   ],
   "metadata": {
    "collapsed": false,
    "pycharm": {
     "name": "#%%\n"
    }
   }
  },
  {
   "cell_type": "code",
   "execution_count": 4,
   "outputs": [
    {
     "data": {
      "text/plain": "array([4.776188 , 5.1395283, 4.351365 , 5.6734014, 5.256562 , 3.8593256,\n       4.4258914, 3.2893384, 4.922205 , 4.1608357, 4.5311165, 4.443876 ,\n       5.624592 , 5.1075344, 5.4319086, 5.452294 , 6.4140944, 4.266591 ,\n       4.328673 , 6.826655 , 6.603935 , 5.153317 , 6.1467543, 6.126073 ,\n       7.019328 , 5.903679 , 5.77272  , 5.97805  , 5.9953604, 6.2089095,\n       3.9785883, 4.008742 , 4.2825437, 4.970814 , 4.2075524, 5.2583847,\n       3.6790996, 6.0078325, 5.464769 , 6.431015 , 3.906386 , 5.589835 ,\n       4.474938 , 4.2986474, 5.525362 , 4.916931 , 4.290227 , 4.3644586,\n       5.5108237, 5.0944157, 4.9915376, 4.7803617, 4.768901 , 4.663909 ,\n       4.5155745, 4.3508425, 4.8890862, 3.6157756, 3.1133025, 3.5797791,\n       3.4686577, 4.427801 , 4.578123 , 4.8204603, 4.762848 , 4.828783 ,\n       4.4724092, 5.013092 , 4.8228054, 2.7113628, 5.4629855, 4.978195 ,\n       5.458784 , 4.1526403, 4.0300756, 4.7072763, 4.883318 , 5.581065 ,\n       4.8893404, 5.4115176], dtype=float32)"
     },
     "execution_count": 4,
     "metadata": {},
     "output_type": "execute_result"
    }
   ],
   "source": [
    "y_pred"
   ],
   "metadata": {
    "collapsed": false,
    "pycharm": {
     "name": "#%%\n"
    }
   }
  },
  {
   "cell_type": "code",
   "execution_count": 5,
   "outputs": [
    {
     "data": {
      "text/plain": "     true   predict  difference           file_name\n0   4.575  4.776188    0.201188   ba1-M301-1731.wav\n1   5.100  5.139528    0.039528   ba2-M302-0823.wav\n2   5.150  4.351365    0.798635   ba3-M303-0743.wav\n3   3.150  5.673401    2.523401   ba4-M304-1030.wav\n4   5.125  5.256562    0.131562   ba5-M306-0708.wav\n..    ...       ...         ...                 ...\n75  5.925  4.707276    1.217724  ns11-N601-1050.wav\n76  5.200  4.883318    0.316682  ns12-N602-0859.wav\n77  4.250  5.581065    1.331065  ns13-N603-1527.wav\n78  5.750  4.889340    0.860660  ns14-N604-1029.wav\n79  4.050  5.411518    1.361518  ns15-N605-1056.wav\n\n[80 rows x 4 columns]",
      "text/html": "<div>\n<style scoped>\n    .dataframe tbody tr th:only-of-type {\n        vertical-align: middle;\n    }\n\n    .dataframe tbody tr th {\n        vertical-align: top;\n    }\n\n    .dataframe thead th {\n        text-align: right;\n    }\n</style>\n<table border=\"1\" class=\"dataframe\">\n  <thead>\n    <tr style=\"text-align: right;\">\n      <th></th>\n      <th>true</th>\n      <th>predict</th>\n      <th>difference</th>\n      <th>file_name</th>\n    </tr>\n  </thead>\n  <tbody>\n    <tr>\n      <th>0</th>\n      <td>4.575</td>\n      <td>4.776188</td>\n      <td>0.201188</td>\n      <td>ba1-M301-1731.wav</td>\n    </tr>\n    <tr>\n      <th>1</th>\n      <td>5.100</td>\n      <td>5.139528</td>\n      <td>0.039528</td>\n      <td>ba2-M302-0823.wav</td>\n    </tr>\n    <tr>\n      <th>2</th>\n      <td>5.150</td>\n      <td>4.351365</td>\n      <td>0.798635</td>\n      <td>ba3-M303-0743.wav</td>\n    </tr>\n    <tr>\n      <th>3</th>\n      <td>3.150</td>\n      <td>5.673401</td>\n      <td>2.523401</td>\n      <td>ba4-M304-1030.wav</td>\n    </tr>\n    <tr>\n      <th>4</th>\n      <td>5.125</td>\n      <td>5.256562</td>\n      <td>0.131562</td>\n      <td>ba5-M306-0708.wav</td>\n    </tr>\n    <tr>\n      <th>...</th>\n      <td>...</td>\n      <td>...</td>\n      <td>...</td>\n      <td>...</td>\n    </tr>\n    <tr>\n      <th>75</th>\n      <td>5.925</td>\n      <td>4.707276</td>\n      <td>1.217724</td>\n      <td>ns11-N601-1050.wav</td>\n    </tr>\n    <tr>\n      <th>76</th>\n      <td>5.200</td>\n      <td>4.883318</td>\n      <td>0.316682</td>\n      <td>ns12-N602-0859.wav</td>\n    </tr>\n    <tr>\n      <th>77</th>\n      <td>4.250</td>\n      <td>5.581065</td>\n      <td>1.331065</td>\n      <td>ns13-N603-1527.wav</td>\n    </tr>\n    <tr>\n      <th>78</th>\n      <td>5.750</td>\n      <td>4.889340</td>\n      <td>0.860660</td>\n      <td>ns14-N604-1029.wav</td>\n    </tr>\n    <tr>\n      <th>79</th>\n      <td>4.050</td>\n      <td>5.411518</td>\n      <td>1.361518</td>\n      <td>ns15-N605-1056.wav</td>\n    </tr>\n  </tbody>\n</table>\n<p>80 rows × 4 columns</p>\n</div>"
     },
     "execution_count": 5,
     "metadata": {},
     "output_type": "execute_result"
    }
   ],
   "source": [
    "contrast = pd.DataFrame()\n",
    "contrast['true'] = y_test\n",
    "contrast['predict'] = y_pred\n",
    "contrast['difference'] = abs(y_pred - y_test)\n",
    "contrast['file_name'] = test_data['file_name']\n",
    "contrast"
   ],
   "metadata": {
    "collapsed": false,
    "pycharm": {
     "name": "#%%\n"
    }
   }
  },
  {
   "cell_type": "code",
   "execution_count": 6,
   "outputs": [
    {
     "data": {
      "text/plain": "0.6875"
     },
     "execution_count": 6,
     "metadata": {},
     "output_type": "execute_result"
    }
   ],
   "source": [
    "threshold = 1\n",
    "count = (contrast['difference'] < threshold).sum()\n",
    "acc = count / len(contrast)\n",
    "acc"
   ],
   "metadata": {
    "collapsed": false,
    "pycharm": {
     "name": "#%%\n"
    }
   }
  },
  {
   "cell_type": "code",
   "execution_count": 7,
   "outputs": [
    {
     "data": {
      "text/plain": "0.8452851999998092"
     },
     "execution_count": 7,
     "metadata": {},
     "output_type": "execute_result"
    }
   ],
   "source": [
    "avg_diff = contrast['difference'].sum() / len(contrast)\n",
    "# avg_percent = avg_diff / 8\n",
    "avg_percent = avg_diff / 5\n",
    "(1 - avg_percent)"
   ],
   "metadata": {
    "collapsed": false,
    "pycharm": {
     "name": "#%%\n"
    }
   }
  },
  {
   "cell_type": "code",
   "execution_count": 8,
   "outputs": [
    {
     "data": {
      "text/plain": "0.1938328383647676"
     },
     "execution_count": 8,
     "metadata": {},
     "output_type": "execute_result"
    }
   ],
   "source": [
    "r2 = r2_score(contrast['true'], contrast['predict'])\n",
    "r2"
   ],
   "metadata": {
    "collapsed": false,
    "pycharm": {
     "name": "#%%\n"
    }
   }
  },
  {
   "cell_type": "code",
   "execution_count": 9,
   "outputs": [
    {
     "data": {
      "text/plain": "0.8"
     },
     "execution_count": 9,
     "metadata": {},
     "output_type": "execute_result"
    }
   ],
   "source": [
    "predict_class_list = []\n",
    "true_class_list = []\n",
    "for i in range(len(contrast)):\n",
    "    predict_class, true_class = classify(contrast.predict[i], contrast.true[i])\n",
    "    predict_class_list.append(predict_class)\n",
    "    true_class_list.append(true_class)\n",
    "\n",
    "acc = accuracy(predict_class_list, true_class_list)\n",
    "acc"
   ],
   "metadata": {
    "collapsed": false,
    "pycharm": {
     "name": "#%%\n"
    }
   }
  },
  {
   "cell_type": "code",
   "execution_count": 10,
   "outputs": [
    {
     "data": {
      "text/plain": "(0.9168985512852348, 0.9575481978914873, 0.7735740000009537)"
     },
     "execution_count": 10,
     "metadata": {},
     "output_type": "execute_result"
    }
   ],
   "source": [
    "mse = mean_squared_error(contrast['predict'], contrast['true'])\n",
    "rmse = np.sqrt(mse)\n",
    "mae = mean_absolute_error(contrast['predict'], contrast['true'])\n",
    "mse, rmse, mae"
   ],
   "metadata": {
    "collapsed": false,
    "pycharm": {
     "name": "#%%\n"
    }
   }
  },
  {
   "cell_type": "code",
   "execution_count": 18,
   "outputs": [],
   "source": [],
   "metadata": {
    "collapsed": false,
    "pycharm": {
     "name": "#%%\n"
    }
   }
  }
 ],
 "metadata": {
  "kernelspec": {
   "display_name": "Python 3",
   "language": "python",
   "name": "python3"
  },
  "language_info": {
   "codemirror_mode": {
    "name": "ipython",
    "version": 2
   },
   "file_extension": ".py",
   "mimetype": "text/x-python",
   "name": "python",
   "nbconvert_exporter": "python",
   "pygments_lexer": "ipython2",
   "version": "2.7.6"
  }
 },
 "nbformat": 4,
 "nbformat_minor": 0
}