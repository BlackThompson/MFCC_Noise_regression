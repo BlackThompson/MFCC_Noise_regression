{
 "cells": [
  {
   "cell_type": "code",
   "execution_count": 1,
   "metadata": {
    "collapsed": true
   },
   "outputs": [],
   "source": [
    "import numpy as np\n",
    "import pandas as pd\n",
    "import xgboost as xgb\n",
    "from config import *\n",
    "from cal_accuracy import *\n",
    "from sklearn.metrics import r2_score\n",
    "from sklearn.metrics import mean_squared_error, mean_absolute_error"
   ]
  },
  {
   "cell_type": "code",
   "execution_count": 2,
   "outputs": [],
   "source": [
    "# 加载模型并使用\n",
    "loaded_model = xgb.Booster()\n",
    "loaded_model.load_model(\"xgboost_model_test.model\")"
   ],
   "metadata": {
    "collapsed": false,
    "pycharm": {
     "name": "#%%\n"
    }
   }
  },
  {
   "cell_type": "code",
   "execution_count": 3,
   "outputs": [],
   "source": [
    "test_data_path = r'./input/test_features_100_columns.xlsx'\n",
    "test_data = pd.read_excel(test_data_path)\n",
    "X_test = test_data[used_feature_columns].values\n",
    "y_test = test_data['score']\n",
    "dtest = xgb.DMatrix(X_test)\n",
    "y_pred = loaded_model.predict(dtest)"
   ],
   "metadata": {
    "collapsed": false,
    "pycharm": {
     "name": "#%%\n"
    }
   }
  },
  {
   "cell_type": "code",
   "execution_count": 4,
   "outputs": [
    {
     "data": {
      "text/plain": "     true   predict  difference           file_name\n0   4.575  4.395761    0.179239   ba1-M301-1731.wav\n1   5.100  5.250212    0.150212   ba2-M302-0823.wav\n2   5.150  5.866136    0.716136   ba3-M303-0743.wav\n3   3.150  4.880989    1.730989   ba4-M304-1030.wav\n4   5.125  4.751622    0.373378   ba5-M306-0708.wav\n..    ...       ...         ...                 ...\n75  5.925  4.430910    1.494090  ns11-N601-1050.wav\n76  5.200  4.469306    0.730694  ns12-N602-0859.wav\n77  4.250  4.681808    0.431808  ns13-N603-1527.wav\n78  5.750  4.705876    1.044124  ns14-N604-1029.wav\n79  4.050  4.647305    0.597305  ns15-N605-1056.wav\n\n[80 rows x 4 columns]",
      "text/html": "<div>\n<style scoped>\n    .dataframe tbody tr th:only-of-type {\n        vertical-align: middle;\n    }\n\n    .dataframe tbody tr th {\n        vertical-align: top;\n    }\n\n    .dataframe thead th {\n        text-align: right;\n    }\n</style>\n<table border=\"1\" class=\"dataframe\">\n  <thead>\n    <tr style=\"text-align: right;\">\n      <th></th>\n      <th>true</th>\n      <th>predict</th>\n      <th>difference</th>\n      <th>file_name</th>\n    </tr>\n  </thead>\n  <tbody>\n    <tr>\n      <th>0</th>\n      <td>4.575</td>\n      <td>4.395761</td>\n      <td>0.179239</td>\n      <td>ba1-M301-1731.wav</td>\n    </tr>\n    <tr>\n      <th>1</th>\n      <td>5.100</td>\n      <td>5.250212</td>\n      <td>0.150212</td>\n      <td>ba2-M302-0823.wav</td>\n    </tr>\n    <tr>\n      <th>2</th>\n      <td>5.150</td>\n      <td>5.866136</td>\n      <td>0.716136</td>\n      <td>ba3-M303-0743.wav</td>\n    </tr>\n    <tr>\n      <th>3</th>\n      <td>3.150</td>\n      <td>4.880989</td>\n      <td>1.730989</td>\n      <td>ba4-M304-1030.wav</td>\n    </tr>\n    <tr>\n      <th>4</th>\n      <td>5.125</td>\n      <td>4.751622</td>\n      <td>0.373378</td>\n      <td>ba5-M306-0708.wav</td>\n    </tr>\n    <tr>\n      <th>...</th>\n      <td>...</td>\n      <td>...</td>\n      <td>...</td>\n      <td>...</td>\n    </tr>\n    <tr>\n      <th>75</th>\n      <td>5.925</td>\n      <td>4.430910</td>\n      <td>1.494090</td>\n      <td>ns11-N601-1050.wav</td>\n    </tr>\n    <tr>\n      <th>76</th>\n      <td>5.200</td>\n      <td>4.469306</td>\n      <td>0.730694</td>\n      <td>ns12-N602-0859.wav</td>\n    </tr>\n    <tr>\n      <th>77</th>\n      <td>4.250</td>\n      <td>4.681808</td>\n      <td>0.431808</td>\n      <td>ns13-N603-1527.wav</td>\n    </tr>\n    <tr>\n      <th>78</th>\n      <td>5.750</td>\n      <td>4.705876</td>\n      <td>1.044124</td>\n      <td>ns14-N604-1029.wav</td>\n    </tr>\n    <tr>\n      <th>79</th>\n      <td>4.050</td>\n      <td>4.647305</td>\n      <td>0.597305</td>\n      <td>ns15-N605-1056.wav</td>\n    </tr>\n  </tbody>\n</table>\n<p>80 rows × 4 columns</p>\n</div>"
     },
     "execution_count": 4,
     "metadata": {},
     "output_type": "execute_result"
    }
   ],
   "source": [
    "contrast = pd.DataFrame()\n",
    "contrast['true'] = y_test\n",
    "contrast['predict'] = y_pred\n",
    "contrast['difference'] = abs(y_pred - y_test)\n",
    "contrast['file_name'] = test_data['file_name']\n",
    "contrast"
   ],
   "metadata": {
    "collapsed": false,
    "pycharm": {
     "name": "#%%\n"
    }
   }
  },
  {
   "cell_type": "code",
   "execution_count": 5,
   "outputs": [
    {
     "data": {
      "text/plain": "0.6375"
     },
     "execution_count": 5,
     "metadata": {},
     "output_type": "execute_result"
    }
   ],
   "source": [
    "threshold = 1\n",
    "count = (contrast['difference'] < threshold).sum()\n",
    "acc = count / len(contrast)\n",
    "acc"
   ],
   "metadata": {
    "collapsed": false,
    "pycharm": {
     "name": "#%%\n"
    }
   }
  },
  {
   "cell_type": "code",
   "execution_count": 6,
   "outputs": [
    {
     "data": {
      "text/plain": "0.8433813374042511"
     },
     "execution_count": 6,
     "metadata": {},
     "output_type": "execute_result"
    }
   ],
   "source": [
    "avg_diff = contrast['difference'].sum() / len(contrast)\n",
    "# avg_percent = avg_diff / 8\n",
    "avg_percent = avg_diff / 5\n",
    "(1 - avg_percent)"
   ],
   "metadata": {
    "collapsed": false,
    "pycharm": {
     "name": "#%%\n"
    }
   }
  },
  {
   "cell_type": "code",
   "execution_count": 7,
   "outputs": [
    {
     "data": {
      "text/plain": "0.14743619426097476"
     },
     "execution_count": 7,
     "metadata": {},
     "output_type": "execute_result"
    }
   ],
   "source": [
    "r2 = r2_score(contrast['true'], contrast['predict'])\n",
    "r2"
   ],
   "metadata": {
    "collapsed": false,
    "pycharm": {
     "name": "#%%\n"
    }
   }
  },
  {
   "cell_type": "code",
   "execution_count": 8,
   "outputs": [
    {
     "data": {
      "text/plain": "0.7875"
     },
     "execution_count": 8,
     "metadata": {},
     "output_type": "execute_result"
    }
   ],
   "source": [
    "predict_class_list = []\n",
    "true_class_list = []\n",
    "for i in range(len(contrast)):\n",
    "    predict_class, true_class = classify(contrast.predict[i], contrast.true[i])\n",
    "    predict_class_list.append(predict_class)\n",
    "    true_class_list.append(true_class)\n",
    "\n",
    "acc = accuracy(predict_class_list, true_class_list)\n",
    "acc"
   ],
   "metadata": {
    "collapsed": false,
    "pycharm": {
     "name": "#%%\n"
    }
   }
  },
  {
   "cell_type": "code",
   "execution_count": 9,
   "outputs": [
    {
     "data": {
      "text/plain": "(0.9696680236574089, 0.9847172303039127, 0.7830933129787445)"
     },
     "execution_count": 9,
     "metadata": {},
     "output_type": "execute_result"
    }
   ],
   "source": [
    "mse = mean_squared_error(contrast['predict'], contrast['true'])\n",
    "rmse = np.sqrt(mse)\n",
    "mae = mean_absolute_error(contrast['predict'], contrast['true'])\n",
    "mse, rmse, mae"
   ],
   "metadata": {
    "collapsed": false,
    "pycharm": {
     "name": "#%%\n"
    }
   }
  },
  {
   "cell_type": "code",
   "execution_count": 9,
   "outputs": [],
   "source": [],
   "metadata": {
    "collapsed": false,
    "pycharm": {
     "name": "#%%\n"
    }
   }
  }
 ],
 "metadata": {
  "kernelspec": {
   "display_name": "Python 3",
   "language": "python",
   "name": "python3"
  },
  "language_info": {
   "codemirror_mode": {
    "name": "ipython",
    "version": 2
   },
   "file_extension": ".py",
   "mimetype": "text/x-python",
   "name": "python",
   "nbconvert_exporter": "python",
   "pygments_lexer": "ipython2",
   "version": "2.7.6"
  }
 },
 "nbformat": 4,
 "nbformat_minor": 0
}