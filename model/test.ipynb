{
 "cells": [
  {
   "cell_type": "code",
   "execution_count": 9,
   "metadata": {
    "collapsed": true
   },
   "outputs": [],
   "source": [
    "import numpy as np\n",
    "import pandas as pd\n",
    "import xgboost as xgb\n",
    "from config import *\n",
    "from cal_accuracy import *\n",
    "from sklearn.metrics import r2_score\n",
    "from sklearn.metrics import mean_squared_error, mean_absolute_error"
   ]
  },
  {
   "cell_type": "code",
   "execution_count": 10,
   "outputs": [],
   "source": [
    "# 加载模型并使用\n",
    "loaded_model = xgb.Booster()\n",
    "loaded_model.load_model(\"xgboost_model.model\")"
   ],
   "metadata": {
    "collapsed": false,
    "pycharm": {
     "name": "#%%\n"
    }
   }
  },
  {
   "cell_type": "code",
   "execution_count": 11,
   "outputs": [],
   "source": [
    "test_data_path = r'./input/80_mfcc_features.xlsx'\n",
    "# test_data_path = r'./input/BX_mfcc_features.xlsx'\n",
    "test_data = pd.read_excel(test_data_path)\n",
    "X_test = test_data[used_feature_columns].values\n",
    "y_test = test_data['score']\n",
    "dtest = xgb.DMatrix(X_test)\n",
    "y_pred = loaded_model.predict(dtest)"
   ],
   "metadata": {
    "collapsed": false,
    "pycharm": {
     "name": "#%%\n"
    }
   }
  },
  {
   "cell_type": "code",
   "execution_count": 12,
   "outputs": [
    {
     "data": {
      "text/plain": "array([4.1003814, 4.7087326, 3.9116578, 4.505127 , 5.133733 , 4.0449896,\n       4.172427 , 2.950767 , 5.2831154, 3.7745504, 3.876462 , 4.6491475,\n       5.589925 , 5.190408 , 3.5560749, 4.890977 , 6.135751 , 5.0477805,\n       3.7586544, 6.7336183, 6.574779 , 5.8727913, 6.1205044, 6.2080345,\n       7.206163 , 6.0729694, 4.8404946, 6.760572 , 5.8355703, 6.421427 ,\n       3.8161645, 3.9930525, 3.6973379, 4.5940776, 4.021965 , 5.317329 ,\n       3.4087245, 5.175335 , 5.345025 , 6.9156675, 3.9823618, 4.671823 ,\n       3.9752512, 4.345393 , 5.1488423, 4.795766 , 4.1689587, 4.6423216,\n       5.3163395, 5.0369816, 4.537899 , 5.1613846, 4.9386387, 4.7360015,\n       4.3693566, 3.5836813, 4.9916196, 3.7236462, 2.918874 , 4.0112653,\n       3.1007504, 4.3613763, 4.9012833, 4.497142 , 4.595325 , 5.1666136,\n       4.1041126, 4.564349 , 5.005306 , 2.7229142, 5.0677166, 4.911899 ,\n       5.676402 , 4.1380816, 3.845627 , 4.6081586, 5.3279376, 4.785335 ,\n       4.8249917, 5.4853077], dtype=float32)"
     },
     "execution_count": 12,
     "metadata": {},
     "output_type": "execute_result"
    }
   ],
   "source": [
    "y_pred"
   ],
   "metadata": {
    "collapsed": false,
    "pycharm": {
     "name": "#%%\n"
    }
   }
  },
  {
   "cell_type": "code",
   "execution_count": 13,
   "outputs": [
    {
     "data": {
      "text/plain": "     true   predict  difference           file_name\n0   4.575  4.100381    0.474619   ba1-M301-1731.wav\n1   5.100  4.708733    0.391267   ba2-M302-0823.wav\n2   5.150  3.911658    1.238342   ba3-M303-0743.wav\n3   3.150  4.505127    1.355127   ba4-M304-1030.wav\n4   5.125  5.133733    0.008733   ba5-M306-0708.wav\n..    ...       ...         ...                 ...\n75  5.925  4.608159    1.316841  ns11-N601-1050.wav\n76  5.200  5.327938    0.127938  ns12-N602-0859.wav\n77  4.250  4.785335    0.535335  ns13-N603-1527.wav\n78  5.750  4.824992    0.925008  ns14-N604-1029.wav\n79  4.050  5.485308    1.435308  ns15-N605-1056.wav\n\n[80 rows x 4 columns]",
      "text/html": "<div>\n<style scoped>\n    .dataframe tbody tr th:only-of-type {\n        vertical-align: middle;\n    }\n\n    .dataframe tbody tr th {\n        vertical-align: top;\n    }\n\n    .dataframe thead th {\n        text-align: right;\n    }\n</style>\n<table border=\"1\" class=\"dataframe\">\n  <thead>\n    <tr style=\"text-align: right;\">\n      <th></th>\n      <th>true</th>\n      <th>predict</th>\n      <th>difference</th>\n      <th>file_name</th>\n    </tr>\n  </thead>\n  <tbody>\n    <tr>\n      <th>0</th>\n      <td>4.575</td>\n      <td>4.100381</td>\n      <td>0.474619</td>\n      <td>ba1-M301-1731.wav</td>\n    </tr>\n    <tr>\n      <th>1</th>\n      <td>5.100</td>\n      <td>4.708733</td>\n      <td>0.391267</td>\n      <td>ba2-M302-0823.wav</td>\n    </tr>\n    <tr>\n      <th>2</th>\n      <td>5.150</td>\n      <td>3.911658</td>\n      <td>1.238342</td>\n      <td>ba3-M303-0743.wav</td>\n    </tr>\n    <tr>\n      <th>3</th>\n      <td>3.150</td>\n      <td>4.505127</td>\n      <td>1.355127</td>\n      <td>ba4-M304-1030.wav</td>\n    </tr>\n    <tr>\n      <th>4</th>\n      <td>5.125</td>\n      <td>5.133733</td>\n      <td>0.008733</td>\n      <td>ba5-M306-0708.wav</td>\n    </tr>\n    <tr>\n      <th>...</th>\n      <td>...</td>\n      <td>...</td>\n      <td>...</td>\n      <td>...</td>\n    </tr>\n    <tr>\n      <th>75</th>\n      <td>5.925</td>\n      <td>4.608159</td>\n      <td>1.316841</td>\n      <td>ns11-N601-1050.wav</td>\n    </tr>\n    <tr>\n      <th>76</th>\n      <td>5.200</td>\n      <td>5.327938</td>\n      <td>0.127938</td>\n      <td>ns12-N602-0859.wav</td>\n    </tr>\n    <tr>\n      <th>77</th>\n      <td>4.250</td>\n      <td>4.785335</td>\n      <td>0.535335</td>\n      <td>ns13-N603-1527.wav</td>\n    </tr>\n    <tr>\n      <th>78</th>\n      <td>5.750</td>\n      <td>4.824992</td>\n      <td>0.925008</td>\n      <td>ns14-N604-1029.wav</td>\n    </tr>\n    <tr>\n      <th>79</th>\n      <td>4.050</td>\n      <td>5.485308</td>\n      <td>1.435308</td>\n      <td>ns15-N605-1056.wav</td>\n    </tr>\n  </tbody>\n</table>\n<p>80 rows × 4 columns</p>\n</div>"
     },
     "execution_count": 13,
     "metadata": {},
     "output_type": "execute_result"
    }
   ],
   "source": [
    "contrast = pd.DataFrame()\n",
    "contrast['true'] = y_test\n",
    "contrast['predict'] = y_pred\n",
    "contrast['difference'] = abs(y_pred - y_test)\n",
    "contrast['file_name'] = test_data['file_name']\n",
    "contrast"
   ],
   "metadata": {
    "collapsed": false,
    "pycharm": {
     "name": "#%%\n"
    }
   }
  },
  {
   "cell_type": "code",
   "execution_count": 14,
   "outputs": [
    {
     "data": {
      "text/plain": "0.7375"
     },
     "execution_count": 14,
     "metadata": {},
     "output_type": "execute_result"
    }
   ],
   "source": [
    "threshold = 1\n",
    "count = (contrast['difference'] < threshold).sum()\n",
    "acc = count / len(contrast)\n",
    "acc"
   ],
   "metadata": {
    "collapsed": false,
    "pycharm": {
     "name": "#%%\n"
    }
   }
  },
  {
   "cell_type": "code",
   "execution_count": 15,
   "outputs": [
    {
     "data": {
      "text/plain": "0.8549230571985245"
     },
     "execution_count": 15,
     "metadata": {},
     "output_type": "execute_result"
    }
   ],
   "source": [
    "avg_diff = contrast['difference'].sum() / len(contrast)\n",
    "# avg_percent = avg_diff / 8\n",
    "avg_percent = avg_diff / 5\n",
    "(1 - avg_percent)"
   ],
   "metadata": {
    "collapsed": false,
    "pycharm": {
     "name": "#%%\n"
    }
   }
  },
  {
   "cell_type": "code",
   "execution_count": 16,
   "outputs": [
    {
     "data": {
      "text/plain": "0.27287242869102735"
     },
     "execution_count": 16,
     "metadata": {},
     "output_type": "execute_result"
    }
   ],
   "source": [
    "r2 = r2_score(contrast['true'], contrast['predict'])\n",
    "r2"
   ],
   "metadata": {
    "collapsed": false,
    "pycharm": {
     "name": "#%%\n"
    }
   }
  },
  {
   "cell_type": "code",
   "execution_count": 17,
   "outputs": [
    {
     "data": {
      "text/plain": "0.8375"
     },
     "execution_count": 17,
     "metadata": {},
     "output_type": "execute_result"
    }
   ],
   "source": [
    "predict_class_list = []\n",
    "true_class_list = []\n",
    "for i in range(len(contrast)):\n",
    "    predict_class, true_class = classify(contrast.predict[i], contrast.true[i])\n",
    "    predict_class_list.append(predict_class)\n",
    "    true_class_list.append(true_class)\n",
    "\n",
    "acc = accuracy(predict_class_list, true_class_list)\n",
    "acc"
   ],
   "metadata": {
    "collapsed": false,
    "pycharm": {
     "name": "#%%\n"
    }
   }
  },
  {
   "cell_type": "code",
   "execution_count": 18,
   "outputs": [
    {
     "data": {
      "text/plain": "(0.8270024486986138, 0.9093967498834674, 0.7253847140073777)"
     },
     "execution_count": 18,
     "metadata": {},
     "output_type": "execute_result"
    }
   ],
   "source": [
    "mse = mean_squared_error(contrast['predict'], contrast['true'])\n",
    "rmse = np.sqrt(mse)\n",
    "mae = mean_absolute_error(contrast['predict'], contrast['true'])\n",
    "mse, rmse, mae"
   ],
   "metadata": {
    "collapsed": false,
    "pycharm": {
     "name": "#%%\n"
    }
   }
  },
  {
   "cell_type": "code",
   "execution_count": 18,
   "outputs": [],
   "source": [],
   "metadata": {
    "collapsed": false,
    "pycharm": {
     "name": "#%%\n"
    }
   }
  }
 ],
 "metadata": {
  "kernelspec": {
   "display_name": "Python 3",
   "language": "python",
   "name": "python3"
  },
  "language_info": {
   "codemirror_mode": {
    "name": "ipython",
    "version": 2
   },
   "file_extension": ".py",
   "mimetype": "text/x-python",
   "name": "python",
   "nbconvert_exporter": "python",
   "pygments_lexer": "ipython2",
   "version": "2.7.6"
  }
 },
 "nbformat": 4,
 "nbformat_minor": 0
}