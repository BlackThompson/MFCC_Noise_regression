{
 "cells": [
  {
   "cell_type": "code",
   "execution_count": 2,
   "metadata": {
    "collapsed": true
   },
   "outputs": [],
   "source": [
    "import numpy as np\n",
    "import scipy.signal as signal\n",
    "import soundfile as sf\n",
    "\n",
    "\n",
    "def a_weighting(fs):\n",
    "    \"\"\"Calculate A-weighting filter coefficients.\n",
    "\n",
    "    Args:\n",
    "        fs (int): Sampling rate.\n",
    "\n",
    "    Returns:\n",
    "        b, a (ndarray): Filter coefficients.\n",
    "    \"\"\"\n",
    "    f1 = 20.598997\n",
    "    f2 = 107.65265\n",
    "    f3 = 737.86223\n",
    "    C1 = 12194.217\n",
    "    C2 = 20.598997 ** 2 * 737.86223\n",
    "    C3 = 12194.217 ** 2\n",
    "    A = [2 * np.pi * f3 * f2, 0, C3 * (2 * np.pi * f1) ** 2 + C1 * (2 * np.pi * f3) ** 2,\n",
    "         0, 2 * np.pi * f1 * f2 * C1 * C3, C2 * (2 * np.pi * f2) ** 2 + C1 * (2 * np.pi * f1) ** 2]\n",
    "    d0 = A[0] * A[5] - A[1] * A[4]\n",
    "    d1 = A[2] * A[5] - A[3] * A[4]\n",
    "    d2 = A[2] * A[4] - A[3] * A[5]\n",
    "    b = np.array([A[5] / d0, -A[4] / d0, 0])\n",
    "    a = np.array([1, -d1 / d0, -d2 / d0])\n",
    "    return b, a\n",
    "\n",
    "\n",
    "def calculate_laeq(audio_file_path):\n",
    "    \"\"\"Calculate LAeq of the given audio file.\n",
    "\n",
    "    Args:\n",
    "        audio_file_path (str): Path to the audio file.\n",
    "\n",
    "    Returns:\n",
    "        laeq (float): LAeq value.\n",
    "    \"\"\"\n",
    "    # Load audio file\n",
    "    audio, fs = sf.read(audio_file_path)\n",
    "\n",
    "    # Filter with A-weighting\n",
    "    b, a = a_weighting(fs)\n",
    "    audio = signal.lfilter(b, a, audio)\n",
    "\n",
    "    # Calculate LAeq\n",
    "    block_size = int(fs)\n",
    "    num_blocks = int(np.ceil(len(audio) / block_size))\n",
    "    laeqs = []\n",
    "    for i in range(num_blocks):\n",
    "        block = audio[i * block_size:(i + 1) * block_size]\n",
    "        rms = np.sqrt(np.mean(block ** 2))\n",
    "        laeq = 20 * np.log10(rms / 20e-6)\n",
    "        laeqs.append(laeq)\n",
    "    laeq = np.mean(laeqs)\n",
    "\n",
    "    return laeq\n"
   ]
  },
  {
   "cell_type": "code",
   "execution_count": 3,
   "outputs": [
    {
     "data": {
      "text/plain": "37.84080799897417"
     },
     "execution_count": 3,
     "metadata": {},
     "output_type": "execute_result"
    }
   ],
   "source": [
    "path = r'./input/test/sample.wav'\n",
    "laeq = calculate_laeq(path)\n",
    "laeq"
   ],
   "metadata": {
    "collapsed": false,
    "pycharm": {
     "name": "#%%\n"
    }
   }
  },
  {
   "cell_type": "code",
   "execution_count": 4,
   "outputs": [
    {
     "data": {
      "text/plain": "(array([[-6.10351562e-05, -3.35693359e-04],\n        [-9.15527344e-05, -2.44140625e-04],\n        [-1.52587891e-04, -1.52587891e-04],\n        ...,\n        [-3.05175781e-05,  3.96728516e-04],\n        [ 6.10351562e-05,  3.35693359e-04],\n        [ 1.52587891e-04,  3.35693359e-04]]),\n 48000)"
     },
     "execution_count": 4,
     "metadata": {},
     "output_type": "execute_result"
    }
   ],
   "source": [],
   "metadata": {
    "collapsed": false,
    "pycharm": {
     "name": "#%%\n"
    }
   }
  },
  {
   "cell_type": "code",
   "execution_count": null,
   "outputs": [],
   "source": [],
   "metadata": {
    "collapsed": false,
    "pycharm": {
     "name": "#%%\n"
    }
   }
  }
 ],
 "metadata": {
  "kernelspec": {
   "display_name": "Python 3",
   "language": "python",
   "name": "python3"
  },
  "language_info": {
   "codemirror_mode": {
    "name": "ipython",
    "version": 2
   },
   "file_extension": ".py",
   "mimetype": "text/x-python",
   "name": "python",
   "nbconvert_exporter": "python",
   "pygments_lexer": "ipython2",
   "version": "2.7.6"
  }
 },
 "nbformat": 4,
 "nbformat_minor": 0
}