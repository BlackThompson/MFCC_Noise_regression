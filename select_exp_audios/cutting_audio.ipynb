{
 "cells": [
  {
   "cell_type": "code",
   "execution_count": 1,
   "metadata": {
    "collapsed": true
   },
   "outputs": [],
   "source": [
    "import librosa\n",
    "import numpy as np\n",
    "import wave\n",
    "import soundfile as sf\n",
    "import os\n",
    "\n",
    "\n",
    "def split_audio_file(audio_name, audio_file, subfile_duration, num_decimal_places=0):\n",
    "    \"\"\"\n",
    "    将1个音频文件切割成任意长度的WAV文件并输出。\n",
    "\n",
    "    参数:\n",
    "    audio_file (str): 音频文件的路径。\n",
    "    subfile_duration (float): 每个子文件的长度，以秒为单位。\n",
    "    num_decimal_places (int, optional): 保留小数点后几位。默认为0。\n",
    "\n",
    "    返回:\n",
    "    None\n",
    "    \"\"\"\n",
    "    # 加载音频文件\n",
    "    # mono = Flase会保留双通道\n",
    "    y, sr = librosa.load(audio_file, sr=None, mono=False)\n",
    "    y = amplitude(y)\n",
    "    duration = librosa.get_duration(y=y, sr=sr)\n",
    "\n",
    "    # 确定子文件的数量\n",
    "    num_subfiles = int(duration // subfile_duration)\n",
    "\n",
    "    # 利用NumPy的linspace函数创建一系列时间戳，用于切割音频\n",
    "    timestamps = np.linspace(0, num_subfiles * subfile_duration, num=num_subfiles + 1, endpoint=True)\n",
    "\n",
    "    print(f'{audio_name} split start !')\n",
    "\n",
    "    # 循环遍历每个子文件，并使用librosa.output.write_wav函数将它们保存为.wav文件\n",
    "    for i in range(num_subfiles):\n",
    "        start = int(timestamps[i] * sr)\n",
    "        end = int(timestamps[i + 1] * sr)\n",
    "        subfile = y[:, start:end]\n",
    "        filename = f'{audio_name}_{i + 1:0{len(str(num_subfiles))}d}.wav'\n",
    "        write_path = './output/split_audio/' + filename\n",
    "        sf.write(write_path, np.transpose(subfile), sr, format='wav', subtype='PCM_16')\n",
    "\n",
    "    print(f'{num_subfiles} subfiles have been created.')\n",
    "\n",
    "    # 如果剩余部分长度不足一个子文件，则将其丢弃\n",
    "    remaining_duration = duration - num_subfiles * subfile_duration\n",
    "    if remaining_duration >= subfile_duration:\n",
    "        num_subfiles += 1\n",
    "        start = int(timestamps[-1] * sr)\n",
    "        end = len(y)\n",
    "        subfile = y[:, start:end]\n",
    "        filename = f'{audio_name}_{i + 1:0{len(str(num_subfiles))}d}.wav'\n",
    "        write_path = './output/split_audio/' + filename\n",
    "        sf.write(write_path, np.transpose(subfile), sr, format='wav', subtype='PCM_16')\n",
    "        # librosa.output.write_wav(filename, subfile, sr)\n",
    "        print(f'Remaining duration of {remaining_duration:.{num_decimal_places}f}s has been saved as {filename}.')\n"
   ]
  },
  {
   "cell_type": "code",
   "execution_count": 2,
   "outputs": [],
   "source": [
    "def amplitude(y):\n",
    "    \"\"\"\n",
    "    Applies automatic gain control to the audio to make it sound more comfortable to listen to.\n",
    "\n",
    "    Parameters:\n",
    "    ----------\n",
    "    y : numpy.ndarray [shape=(n_samples,)]\n",
    "        The input audio signal as a time series.\n",
    "    sr : number > 0 [scalar]\n",
    "        The sampling rate of `y`, i.e. the number of samples per second.\n",
    "\n",
    "    Returns:\n",
    "    -------\n",
    "    y_agc : numpy.ndarray [shape=(n_samples,)]\n",
    "        The output audio signal after applying AGC.\n",
    "    \"\"\"\n",
    "    target_db = -40  # 目标分贝值\n",
    "    db = librosa.amplitude_to_db(y)\n",
    "    gain = librosa.db_to_amplitude(target_db - db.mean())  # 计算增益系数\n",
    "    y_agc = y * gain\n",
    "    return y_agc"
   ],
   "metadata": {
    "collapsed": false,
    "pycharm": {
     "name": "#%%\n"
    }
   }
  },
  {
   "cell_type": "code",
   "execution_count": 3,
   "outputs": [
    {
     "name": "stdout",
     "output_type": "stream",
     "text": [
      "大型车辆 split start !\n",
      "4 subfiles have been created.\n",
      "布谷鸟生活声 split start !\n",
      "30 subfiles have been created.\n",
      "虫鸣行驶声 split start !\n",
      "6 subfiles have been created.\n",
      "鸟鸣小雨 split start !\n",
      "30 subfiles have been created.\n",
      "鸟鸣机械声 split start !\n",
      "6 subfiles have been created.\n"
     ]
    }
   ],
   "source": [
    "# audio_dir = r'./input/新音频'\n",
    "# audio_dir = r'./input/702_select'\n",
    "audio_dir = r'./input/新音频_2'\n",
    "for audio_name in os.listdir(audio_dir):\n",
    "    audio_path = os.path.join(audio_dir, audio_name)\n",
    "    audio_name = audio_name.split('.')[0]\n",
    "    split_audio_file(audio_name, audio_path, 10)"
   ],
   "metadata": {
    "collapsed": false,
    "pycharm": {
     "name": "#%%\n"
    }
   }
  },
  {
   "cell_type": "code",
   "execution_count": 4,
   "outputs": [],
   "source": [
    "# audio_path = r'./input/test/sample.wav'\n",
    "# # y, sr = librosa.load(audio_path, sr=None, mono=False)\n",
    "# y, sr = librosa.load(audio_path, sr=None, mono=False)\n",
    "# # sf.write(r'./output/test1.wav', y, sr, format='wav', subtype='PCM_16')\n",
    "# # sf.write(file=r'./output/test1.wav', data=np.transpose(y), samplerate=sr, format='wav', subtype='PCM_16')\n",
    "# db1 = librosa.amplitude_to_db(y)"
   ],
   "metadata": {
    "collapsed": false,
    "pycharm": {
     "name": "#%%\n"
    }
   }
  },
  {
   "cell_type": "code",
   "execution_count": 5,
   "outputs": [],
   "source": [
    "# # 计算增益系数\n",
    "# target_db = -40  # 目标分贝值\n",
    "# gain1 = librosa.db_to_amplitude(target_db - db1.mean())\n",
    "# y1_agc = y * gain1\n",
    "# # sf.write(r'./output/sample_ad.wav', np.transpose(y1_agc), sr, format='wav', subtype='PCM_16')"
   ],
   "metadata": {
    "collapsed": false,
    "pycharm": {
     "name": "#%%\n"
    }
   }
  },
  {
   "cell_type": "code",
   "execution_count": 6,
   "outputs": [],
   "source": [
    "# db2 = librosa.amplitude_to_db(y1_agc)\n",
    "# db2.mean()"
   ],
   "metadata": {
    "collapsed": false,
    "pycharm": {
     "name": "#%%\n"
    }
   }
  },
  {
   "cell_type": "code",
   "execution_count": 7,
   "outputs": [],
   "source": [
    "import os\n",
    "import pandas as pd\n",
    "\n",
    "folder_path = r'./output/split_audio'\n",
    "\n",
    "files = os.listdir(folder_path)\n",
    "\n",
    "# 创建一个DataFrame对象，将文件名放在第一列\n",
    "df = pd.DataFrame({'File Name': files})\n",
    "\n",
    "# 将DataFrame写入Excel文件\n",
    "# df.to_excel(r'./output/split_audio_names.xlsx', index=False)\n",
    "df.to_excel(r'./output/split_audio_names.xlsx', index=False)"
   ],
   "metadata": {
    "collapsed": false,
    "pycharm": {
     "name": "#%%\n"
    }
   }
  },
  {
   "cell_type": "code",
   "execution_count": 7,
   "outputs": [],
   "source": [],
   "metadata": {
    "collapsed": false,
    "pycharm": {
     "name": "#%%\n"
    }
   }
  }
 ],
 "metadata": {
  "kernelspec": {
   "display_name": "Python 3",
   "language": "python",
   "name": "python3"
  },
  "language_info": {
   "codemirror_mode": {
    "name": "ipython",
    "version": 2
   },
   "file_extension": ".py",
   "mimetype": "text/x-python",
   "name": "python",
   "nbconvert_exporter": "python",
   "pygments_lexer": "ipython2",
   "version": "2.7.6"
  }
 },
 "nbformat": 4,
 "nbformat_minor": 0
}