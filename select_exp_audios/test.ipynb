{
 "cells": [
  {
   "cell_type": "code",
   "execution_count": 14,
   "metadata": {
    "collapsed": true
   },
   "outputs": [
    {
     "data": {
      "text/plain": "(10187776, 4)"
     },
     "execution_count": 14,
     "metadata": {},
     "output_type": "execute_result"
    }
   ],
   "source": [
    "import numpy as np\n",
    "from scipy.io import wavfile\n",
    "\n",
    "# 加载两个wav音频文件\n",
    "rate1, data1 = wavfile.read('./input/test/audio1.wav')\n",
    "rate2, data2 = wavfile.read('./input/test/audio2.wav')\n",
    "rate3, data3 = wavfile.read('./input/test/audio3.wav')\n",
    "rate1, rate2, rate3\n",
    "data3.shape"
   ]
  },
  {
   "cell_type": "code",
   "execution_count": 5,
   "outputs": [
    {
     "name": "stdout",
     "output_type": "stream",
     "text": [
      "音频1的LEQ为：40.16 dB\n",
      "音频2的LEQ为：40.39 dB\n"
     ]
    }
   ],
   "source": [
    "# 确保两个音频文件的采样率相同\n",
    "assert rate1 == rate2\n",
    "\n",
    "# 将音频数据转换为单通道（如果不是单通道）\n",
    "if len(data1.shape) > 1:\n",
    "    data1 = data1[:, 0]\n",
    "if len(data2.shape) > 1:\n",
    "    data2 = data2[:, 0]\n",
    "\n",
    "# 定义每个时间段的长度，这里设为1秒\n",
    "time_interval = 1 * rate1\n",
    "# 计算时间段的数量\n",
    "num_intervals = int(np.ceil(len(data1) / time_interval))\n",
    "\n",
    "\n",
    "# 定义A加权滤波器\n",
    "def a_weighting(f):\n",
    "    \"\"\"计算A加权滤波器在给定频率f下的增益\"\"\"\n",
    "    # 跳过频率为0的点\n",
    "    f = f[1:]\n",
    "    return 20 * np.log10(\n",
    "        2.71828 ** (-5.5 * (np.log10(f / 1000)) ** 2) * (1.5 * ((f / 1000) ** 2 + 20 ** 2) ** 0.5) / (f / 1000) ** 2 / ((f / 1000) ** 2 + 107.7 ** 2) ** 0.5 + 0.000001)\n",
    "\n",
    "\n",
    "# 对每个音频文件进行LEQ计算\n",
    "leq1 = 0\n",
    "leq2 = 0\n",
    "for i in range(num_intervals):\n",
    "    # 取出当前时间段的音频数据\n",
    "    interval_data1 = data1[i * time_interval: (i + 1) * time_interval] / 32767.0\n",
    "    interval_data2 = data2[i * time_interval: (i + 1) * time_interval] / 32767.0\n",
    "\n",
    "    # 裁剪采样数据，将数据限制在 -1 到 1 的范围内\n",
    "    interval_data1 = np.clip(interval_data1, -1, 1)\n",
    "    interval_data2 = np.clip(interval_data2, -1, 1)\n",
    "\n",
    "    # 计算当前时间段内的声压级\n",
    "    spl1 = 20 * np.log10(np.sqrt(np.mean(interval_data1 ** 2)))\n",
    "    spl2 = 20 * np.log10(np.sqrt(np.mean(interval_data2 ** 2)))\n",
    "\n",
    "    # 对声压级进行A加权\n",
    "    spl1_a = spl1 + a_weighting(np.linspace(0, rate1 / 2, len(interval_data1) // 2 + 1))\n",
    "    spl2_a = spl2 + a_weighting(np.linspace(0, rate1 / 2, len(interval_data2) // 2 + 1))\n",
    "\n",
    "    # 对A加权后的声压级进行LEQ计算\n",
    "    leq1 += np.mean(spl1_a) ** 2\n",
    "    leq2 += np.mean(spl2_a) ** 2\n",
    "\n",
    "leq1 = 10 * np.log10(leq1 / num_intervals)\n",
    "leq2 = 10 * np.log10(leq2 / num_intervals)\n",
    "\n",
    "print('音频1的LEQ为：{:.2f} dB'.format(leq1))\n",
    "print('音频2的LEQ为：{:.2f} dB'.format(leq2))\n"
   ],
   "metadata": {
    "collapsed": false,
    "pycharm": {
     "name": "#%%\n"
    }
   }
  },
  {
   "cell_type": "code",
   "execution_count": 3,
   "outputs": [
    {
     "data": {
      "text/plain": "44100"
     },
     "execution_count": 3,
     "metadata": {},
     "output_type": "execute_result"
    }
   ],
   "source": [
    "rate1"
   ],
   "metadata": {
    "collapsed": false,
    "pycharm": {
     "name": "#%%\n"
    }
   }
  },
  {
   "cell_type": "code",
   "execution_count": 11,
   "outputs": [
    {
     "ename": "Error",
     "evalue": "unknown format: 3",
     "output_type": "error",
     "traceback": [
      "\u001B[1;31m---------------------------------------------------------------------------\u001B[0m",
      "\u001B[1;31mError\u001B[0m                                     Traceback (most recent call last)",
      "Input \u001B[1;32mIn [11]\u001B[0m, in \u001B[0;36m<cell line: 3>\u001B[1;34m()\u001B[0m\n\u001B[0;32m      1\u001B[0m \u001B[38;5;28;01mimport\u001B[39;00m \u001B[38;5;21;01mwave\u001B[39;00m\n\u001B[1;32m----> 3\u001B[0m \u001B[38;5;28;01mwith\u001B[39;00m \u001B[43mwave\u001B[49m\u001B[38;5;241;43m.\u001B[39;49m\u001B[43mopen\u001B[49m\u001B[43m(\u001B[49m\u001B[38;5;124;43m'\u001B[39;49m\u001B[38;5;124;43m./input/test/audio3.wav\u001B[39;49m\u001B[38;5;124;43m'\u001B[39;49m\u001B[43m,\u001B[49m\u001B[43m \u001B[49m\u001B[38;5;124;43m'\u001B[39;49m\u001B[38;5;124;43mrb\u001B[39;49m\u001B[38;5;124;43m'\u001B[39;49m\u001B[43m)\u001B[49m \u001B[38;5;28;01mas\u001B[39;00m audio:\n\u001B[0;32m      4\u001B[0m     sample_width \u001B[38;5;241m=\u001B[39m audio\u001B[38;5;241m.\u001B[39mgetsampwidth()\n\u001B[0;32m      5\u001B[0m     \u001B[38;5;28mprint\u001B[39m(\u001B[38;5;124mf\u001B[39m\u001B[38;5;124m\"\u001B[39m\u001B[38;5;124m采样深度为：\u001B[39m\u001B[38;5;132;01m{\u001B[39;00msample_width\u001B[38;5;132;01m}\u001B[39;00m\u001B[38;5;124m bytes\u001B[39m\u001B[38;5;124m\"\u001B[39m)\n",
      "File \u001B[1;32mE:\\Python\\Anaconda\\lib\\wave.py:509\u001B[0m, in \u001B[0;36mopen\u001B[1;34m(f, mode)\u001B[0m\n\u001B[0;32m    507\u001B[0m         mode \u001B[38;5;241m=\u001B[39m \u001B[38;5;124m'\u001B[39m\u001B[38;5;124mrb\u001B[39m\u001B[38;5;124m'\u001B[39m\n\u001B[0;32m    508\u001B[0m \u001B[38;5;28;01mif\u001B[39;00m mode \u001B[38;5;129;01min\u001B[39;00m (\u001B[38;5;124m'\u001B[39m\u001B[38;5;124mr\u001B[39m\u001B[38;5;124m'\u001B[39m, \u001B[38;5;124m'\u001B[39m\u001B[38;5;124mrb\u001B[39m\u001B[38;5;124m'\u001B[39m):\n\u001B[1;32m--> 509\u001B[0m     \u001B[38;5;28;01mreturn\u001B[39;00m \u001B[43mWave_read\u001B[49m\u001B[43m(\u001B[49m\u001B[43mf\u001B[49m\u001B[43m)\u001B[49m\n\u001B[0;32m    510\u001B[0m \u001B[38;5;28;01melif\u001B[39;00m mode \u001B[38;5;129;01min\u001B[39;00m (\u001B[38;5;124m'\u001B[39m\u001B[38;5;124mw\u001B[39m\u001B[38;5;124m'\u001B[39m, \u001B[38;5;124m'\u001B[39m\u001B[38;5;124mwb\u001B[39m\u001B[38;5;124m'\u001B[39m):\n\u001B[0;32m    511\u001B[0m     \u001B[38;5;28;01mreturn\u001B[39;00m Wave_write(f)\n",
      "File \u001B[1;32mE:\\Python\\Anaconda\\lib\\wave.py:163\u001B[0m, in \u001B[0;36mWave_read.__init__\u001B[1;34m(self, f)\u001B[0m\n\u001B[0;32m    161\u001B[0m \u001B[38;5;66;03m# else, assume it is an open file object already\u001B[39;00m\n\u001B[0;32m    162\u001B[0m \u001B[38;5;28;01mtry\u001B[39;00m:\n\u001B[1;32m--> 163\u001B[0m     \u001B[38;5;28;43mself\u001B[39;49m\u001B[38;5;241;43m.\u001B[39;49m\u001B[43minitfp\u001B[49m\u001B[43m(\u001B[49m\u001B[43mf\u001B[49m\u001B[43m)\u001B[49m\n\u001B[0;32m    164\u001B[0m \u001B[38;5;28;01mexcept\u001B[39;00m:\n\u001B[0;32m    165\u001B[0m     \u001B[38;5;28;01mif\u001B[39;00m \u001B[38;5;28mself\u001B[39m\u001B[38;5;241m.\u001B[39m_i_opened_the_file:\n",
      "File \u001B[1;32mE:\\Python\\Anaconda\\lib\\wave.py:143\u001B[0m, in \u001B[0;36mWave_read.initfp\u001B[1;34m(self, file)\u001B[0m\n\u001B[0;32m    141\u001B[0m chunkname \u001B[38;5;241m=\u001B[39m chunk\u001B[38;5;241m.\u001B[39mgetname()\n\u001B[0;32m    142\u001B[0m \u001B[38;5;28;01mif\u001B[39;00m chunkname \u001B[38;5;241m==\u001B[39m \u001B[38;5;124mb\u001B[39m\u001B[38;5;124m'\u001B[39m\u001B[38;5;124mfmt \u001B[39m\u001B[38;5;124m'\u001B[39m:\n\u001B[1;32m--> 143\u001B[0m     \u001B[38;5;28;43mself\u001B[39;49m\u001B[38;5;241;43m.\u001B[39;49m\u001B[43m_read_fmt_chunk\u001B[49m\u001B[43m(\u001B[49m\u001B[43mchunk\u001B[49m\u001B[43m)\u001B[49m\n\u001B[0;32m    144\u001B[0m     \u001B[38;5;28mself\u001B[39m\u001B[38;5;241m.\u001B[39m_fmt_chunk_read \u001B[38;5;241m=\u001B[39m \u001B[38;5;241m1\u001B[39m\n\u001B[0;32m    145\u001B[0m \u001B[38;5;28;01melif\u001B[39;00m chunkname \u001B[38;5;241m==\u001B[39m \u001B[38;5;124mb\u001B[39m\u001B[38;5;124m'\u001B[39m\u001B[38;5;124mdata\u001B[39m\u001B[38;5;124m'\u001B[39m:\n",
      "File \u001B[1;32mE:\\Python\\Anaconda\\lib\\wave.py:268\u001B[0m, in \u001B[0;36mWave_read._read_fmt_chunk\u001B[1;34m(self, chunk)\u001B[0m\n\u001B[0;32m    266\u001B[0m         \u001B[38;5;28;01mraise\u001B[39;00m Error(\u001B[38;5;124m'\u001B[39m\u001B[38;5;124mbad sample width\u001B[39m\u001B[38;5;124m'\u001B[39m)\n\u001B[0;32m    267\u001B[0m \u001B[38;5;28;01melse\u001B[39;00m:\n\u001B[1;32m--> 268\u001B[0m     \u001B[38;5;28;01mraise\u001B[39;00m Error(\u001B[38;5;124m'\u001B[39m\u001B[38;5;124munknown format: \u001B[39m\u001B[38;5;132;01m%r\u001B[39;00m\u001B[38;5;124m'\u001B[39m \u001B[38;5;241m%\u001B[39m (wFormatTag,))\n\u001B[0;32m    269\u001B[0m \u001B[38;5;28;01mif\u001B[39;00m \u001B[38;5;129;01mnot\u001B[39;00m \u001B[38;5;28mself\u001B[39m\u001B[38;5;241m.\u001B[39m_nchannels:\n\u001B[0;32m    270\u001B[0m     \u001B[38;5;28;01mraise\u001B[39;00m Error(\u001B[38;5;124m'\u001B[39m\u001B[38;5;124mbad # of channels\u001B[39m\u001B[38;5;124m'\u001B[39m)\n",
      "\u001B[1;31mError\u001B[0m: unknown format: 3"
     ]
    }
   ],
   "source": [
    "import wave\n",
    "\n",
    "with wave.open('./input/test/audio3.wav', 'rb') as audio:\n",
    "    sample_width = audio.getsampwidth()\n",
    "    print(f\"采样深度为：{sample_width} bytes\")"
   ],
   "metadata": {
    "collapsed": false,
    "pycharm": {
     "name": "#%%\n"
    }
   }
  },
  {
   "cell_type": "code",
   "execution_count": 13,
   "outputs": [
    {
     "data": {
      "text/plain": "array([[-5.9314687e-02, -2.0501588e-01,  2.5348153e-03,  1.4804414e-04],\n       [-6.2018484e-02, -1.9504559e-01, -1.5884844e-03, -1.7395186e-03],\n       [-6.3100010e-02, -1.8842128e-01,  2.6700057e-03, -7.0320966e-04],\n       ...,\n       [-4.7708607e-01, -2.8177008e-01, -6.6243177e-03, -5.5886656e-03],\n       [-4.9523535e-01, -2.7872831e-01, -5.0358335e-03, -1.1473420e-03],\n       [-5.0381994e-01, -2.8021538e-01, -3.5149441e-03, -6.4029088e-03]],\n      dtype=float32)"
     },
     "execution_count": 13,
     "metadata": {},
     "output_type": "execute_result"
    }
   ],
   "source": [
    "data3"
   ],
   "metadata": {
    "collapsed": false,
    "pycharm": {
     "name": "#%%\n"
    }
   }
  },
  {
   "cell_type": "code",
   "execution_count": 16,
   "outputs": [
    {
     "ename": "ImportError",
     "evalue": "cannot import name 'audio' from 'python_speech_features' (E:\\Python\\Anaconda\\lib\\site-packages\\python_speech_features\\__init__.py)",
     "output_type": "error",
     "traceback": [
      "\u001B[1;31m---------------------------------------------------------------------------\u001B[0m",
      "\u001B[1;31mImportError\u001B[0m                               Traceback (most recent call last)",
      "Input \u001B[1;32mIn [16]\u001B[0m, in \u001B[0;36m<cell line: 3>\u001B[1;34m()\u001B[0m\n\u001B[0;32m      1\u001B[0m \u001B[38;5;28;01mimport\u001B[39;00m \u001B[38;5;21;01mnumpy\u001B[39;00m \u001B[38;5;28;01mas\u001B[39;00m \u001B[38;5;21;01mnp\u001B[39;00m\n\u001B[0;32m      2\u001B[0m \u001B[38;5;28;01mfrom\u001B[39;00m \u001B[38;5;21;01mscipy\u001B[39;00m\u001B[38;5;21;01m.\u001B[39;00m\u001B[38;5;21;01mio\u001B[39;00m \u001B[38;5;28;01mimport\u001B[39;00m wavfile\n\u001B[1;32m----> 3\u001B[0m \u001B[38;5;28;01mfrom\u001B[39;00m \u001B[38;5;21;01mpython_speech_features\u001B[39;00m \u001B[38;5;28;01mimport\u001B[39;00m audio\n\u001B[0;32m      5\u001B[0m \u001B[38;5;66;03m# 读取音频文件\u001B[39;00m\n\u001B[0;32m      6\u001B[0m rate1, data1 \u001B[38;5;241m=\u001B[39m wavfile\u001B[38;5;241m.\u001B[39mread(\u001B[38;5;124m'\u001B[39m\u001B[38;5;124maudio1.wav\u001B[39m\u001B[38;5;124m'\u001B[39m)\n",
      "\u001B[1;31mImportError\u001B[0m: cannot import name 'audio' from 'python_speech_features' (E:\\Python\\Anaconda\\lib\\site-packages\\python_speech_features\\__init__.py)"
     ]
    }
   ],
   "source": [
    "import numpy as np\n",
    "from scipy.io import wavfile\n",
    "from python_speech_features import audio\n",
    "\n",
    "# 读取音频文件\n",
    "rate1, data1 = wavfile.read('audio1.wav')\n",
    "\n",
    "# 计算当前Leq\n",
    "data1 = audio.convert_audio_samples(data1, orig_rate=rate1, target_rate=rate1)\n",
    "current_leq = 20 * np.log10(np.sqrt(np.mean(np.square(data1))) / 20e-6)\n",
    "print(current_leq)\n"
   ],
   "metadata": {
    "collapsed": false,
    "pycharm": {
     "name": "#%%\n"
    }
   }
  },
  {
   "cell_type": "code",
   "execution_count": 21,
   "outputs": [],
   "source": [
    "import numpy as np\n",
    "\n",
    "\n",
    "def calculate_leq(signal, fs):\n",
    "    \"\"\"计算给定信号的LEQ\n",
    "\n",
    "    Args:\n",
    "        signal: ndarray，输入信号数组\n",
    "        fs: float，采样率\n",
    "\n",
    "    Returns:\n",
    "        float，LEQ值\n",
    "    \"\"\"\n",
    "    # 计算能量\n",
    "    energy = np.sum(signal ** 2)\n",
    "\n",
    "    # 计算RMS\n",
    "    rms = np.sqrt(energy / len(signal))\n",
    "\n",
    "    # 计算A权ing\n",
    "    A_weighting = np.array([31.5, 63, 125, 250, 500, 1000, 2000, 4000, 8000, 16000])\n",
    "    A_weighting_db = np.array([-39.4, -26.2, -16.1, -8.6, -3.2, 0, 1.2, 1, -1.1, -6.6])\n",
    "    f = np.array([16.35, 32.7, 65.4, 130.8, 261.6, 523.3, 1047, 2093, 4186, 8372])\n",
    "    C = np.array([0.0002, 0.0005, 0.0012, 0.0025, 0.0050, 0.0100, 0.0200, 0.0400, 0.0800, 0.1600])\n",
    "    k = np.array([1.6, 1.2, 0.9, 0.7, 0.6, 0.6, 0.6, 0.7, 0.8, 1.0])\n",
    "    A_filter = np.sum((10 ** (A_weighting_db / 10)) ** 2 * C * k)\n",
    "    filter_gain = np.interp(f, A_weighting, 10 ** (A_weighting_db / 20))\n",
    "    A_rms = np.sqrt(np.sum((signal * filter_gain) ** 2) / len(signal) / A_filter)\n",
    "\n",
    "    # 计算LEQ\n",
    "    leq = 20 * np.log10(A_rms / 20e-6)\n",
    "\n",
    "    return leq\n"
   ],
   "metadata": {
    "collapsed": false,
    "pycharm": {
     "name": "#%%\n"
    }
   }
  },
  {
   "cell_type": "code",
   "execution_count": 22,
   "outputs": [
    {
     "name": "stderr",
     "output_type": "stream",
     "text": [
      "C:\\Users\\Black\\AppData\\Local\\Temp\\ipykernel_14220\\1022432384.py:17: RuntimeWarning: invalid value encountered in sqrt\n",
      "  rms = np.sqrt(energy / len(signal))\n"
     ]
    },
    {
     "ename": "ValueError",
     "evalue": "operands could not be broadcast together with shapes (220500,) (10,) ",
     "output_type": "error",
     "traceback": [
      "\u001B[1;31m---------------------------------------------------------------------------\u001B[0m",
      "\u001B[1;31mValueError\u001B[0m                                Traceback (most recent call last)",
      "Input \u001B[1;32mIn [22]\u001B[0m, in \u001B[0;36m<cell line: 5>\u001B[1;34m()\u001B[0m\n\u001B[0;32m      1\u001B[0m \u001B[38;5;28;01mfrom\u001B[39;00m \u001B[38;5;21;01mscipy\u001B[39;00m\u001B[38;5;21;01m.\u001B[39;00m\u001B[38;5;21;01mio\u001B[39;00m \u001B[38;5;28;01mimport\u001B[39;00m wavfile\n\u001B[0;32m      3\u001B[0m \u001B[38;5;66;03m# 读取音频文件\u001B[39;00m\n\u001B[0;32m      4\u001B[0m \u001B[38;5;66;03m# 计算当前LEQ\u001B[39;00m\n\u001B[1;32m----> 5\u001B[0m current_leq \u001B[38;5;241m=\u001B[39m \u001B[43mcalculate_leq\u001B[49m\u001B[43m(\u001B[49m\u001B[43mdata1\u001B[49m\u001B[43m,\u001B[49m\u001B[43m \u001B[49m\u001B[43mrate1\u001B[49m\u001B[43m)\u001B[49m\n\u001B[0;32m      7\u001B[0m \u001B[38;5;66;03m# 修改LEQ值为60dB\u001B[39;00m\n\u001B[0;32m      8\u001B[0m target_leq \u001B[38;5;241m=\u001B[39m \u001B[38;5;241m60\u001B[39m\n",
      "Input \u001B[1;32mIn [21]\u001B[0m, in \u001B[0;36mcalculate_leq\u001B[1;34m(signal, fs)\u001B[0m\n\u001B[0;32m     25\u001B[0m A_filter \u001B[38;5;241m=\u001B[39m np\u001B[38;5;241m.\u001B[39msum((\u001B[38;5;241m10\u001B[39m\u001B[38;5;241m*\u001B[39m\u001B[38;5;241m*\u001B[39m(A_weighting_db\u001B[38;5;241m/\u001B[39m\u001B[38;5;241m10\u001B[39m))\u001B[38;5;241m*\u001B[39m\u001B[38;5;241m*\u001B[39m\u001B[38;5;241m2\u001B[39m \u001B[38;5;241m*\u001B[39m C \u001B[38;5;241m*\u001B[39m k)\n\u001B[0;32m     26\u001B[0m filter_gain \u001B[38;5;241m=\u001B[39m np\u001B[38;5;241m.\u001B[39minterp(f, A_weighting, \u001B[38;5;241m10\u001B[39m\u001B[38;5;241m*\u001B[39m\u001B[38;5;241m*\u001B[39m(A_weighting_db\u001B[38;5;241m/\u001B[39m\u001B[38;5;241m20\u001B[39m))\n\u001B[1;32m---> 27\u001B[0m A_rms \u001B[38;5;241m=\u001B[39m np\u001B[38;5;241m.\u001B[39msqrt(np\u001B[38;5;241m.\u001B[39msum((\u001B[43msignal\u001B[49m\u001B[43m \u001B[49m\u001B[38;5;241;43m*\u001B[39;49m\u001B[43m \u001B[49m\u001B[43mfilter_gain\u001B[49m)\u001B[38;5;241m*\u001B[39m\u001B[38;5;241m*\u001B[39m\u001B[38;5;241m2\u001B[39m) \u001B[38;5;241m/\u001B[39m \u001B[38;5;28mlen\u001B[39m(signal) \u001B[38;5;241m/\u001B[39m A_filter)\n\u001B[0;32m     29\u001B[0m \u001B[38;5;66;03m# 计算LEQ\u001B[39;00m\n\u001B[0;32m     30\u001B[0m leq \u001B[38;5;241m=\u001B[39m \u001B[38;5;241m20\u001B[39m \u001B[38;5;241m*\u001B[39m np\u001B[38;5;241m.\u001B[39mlog10(A_rms \u001B[38;5;241m/\u001B[39m \u001B[38;5;241m20e-6\u001B[39m)\n",
      "\u001B[1;31mValueError\u001B[0m: operands could not be broadcast together with shapes (220500,) (10,) "
     ]
    }
   ],
   "source": [
    "from scipy.io import wavfile\n",
    "\n",
    "# 读取音频文件\n",
    "# 计算当前LEQ\n",
    "current_leq = calculate_leq(data1, rate1)\n",
    "\n",
    "# 修改LEQ值为60dB\n",
    "target_leq = 60\n",
    "scale_factor = 10 ** ((target_leq - current_leq) / 20.0)\n",
    "scaled_data = data1 * scale_factor\n",
    "\n",
    "current_leq"
   ],
   "metadata": {
    "collapsed": false,
    "pycharm": {
     "name": "#%%\n"
    }
   }
  },
  {
   "cell_type": "code",
   "execution_count": 24,
   "outputs": [],
   "source": [
    "import librosa\n",
    "import numpy as np\n",
    "\n",
    "def calculate_leq(audio_file, window_size=44100, hop_length=22050):\n",
    "    # 读取音频文件\n",
    "    y, sr = librosa.load(audio_file, sr=None)\n",
    "\n",
    "    # 计算每个窗口的rms值\n",
    "    rms = librosa.feature.rms(y, frame_length=window_size, hop_length=hop_length)[0]\n",
    "\n",
    "    # 将rms值转换为分贝（dB）单位\n",
    "    db = librosa.amplitude_to_db(rms)\n",
    "\n",
    "    # 计算Leq(A)值\n",
    "    leq = np.mean(db)\n",
    "\n",
    "    return leq"
   ],
   "metadata": {
    "collapsed": false,
    "pycharm": {
     "name": "#%%\n"
    }
   }
  },
  {
   "cell_type": "code",
   "execution_count": 25,
   "outputs": [
    {
     "ename": "TypeError",
     "evalue": "rms() takes 0 positional arguments but 1 positional argument (and 2 keyword-only arguments) were given",
     "output_type": "error",
     "traceback": [
      "\u001B[1;31m---------------------------------------------------------------------------\u001B[0m",
      "\u001B[1;31mTypeError\u001B[0m                                 Traceback (most recent call last)",
      "Input \u001B[1;32mIn [25]\u001B[0m, in \u001B[0;36m<cell line: 3>\u001B[1;34m()\u001B[0m\n\u001B[0;32m      1\u001B[0m \u001B[38;5;66;03m# 示例用法\u001B[39;00m\n\u001B[0;32m      2\u001B[0m audio_file \u001B[38;5;241m=\u001B[39m \u001B[38;5;124m'\u001B[39m\u001B[38;5;124m./input/test/audio1.wav\u001B[39m\u001B[38;5;124m'\u001B[39m\n\u001B[1;32m----> 3\u001B[0m leq \u001B[38;5;241m=\u001B[39m \u001B[43mcalculate_leq\u001B[49m\u001B[43m(\u001B[49m\u001B[43maudio_file\u001B[49m\u001B[43m)\u001B[49m\n\u001B[0;32m      4\u001B[0m \u001B[38;5;28mprint\u001B[39m(\u001B[38;5;124mf\u001B[39m\u001B[38;5;124m\"\u001B[39m\u001B[38;5;124m音频文件 \u001B[39m\u001B[38;5;132;01m{\u001B[39;00maudio_file\u001B[38;5;132;01m}\u001B[39;00m\u001B[38;5;124m 的 Leq(A) 值为：\u001B[39m\u001B[38;5;132;01m{\u001B[39;00mleq\u001B[38;5;132;01m:\u001B[39;00m\u001B[38;5;124m.2f\u001B[39m\u001B[38;5;132;01m}\u001B[39;00m\u001B[38;5;124m dB\u001B[39m\u001B[38;5;124m\"\u001B[39m)\n",
      "Input \u001B[1;32mIn [24]\u001B[0m, in \u001B[0;36mcalculate_leq\u001B[1;34m(audio_file, window_size, hop_length)\u001B[0m\n\u001B[0;32m      6\u001B[0m y, sr \u001B[38;5;241m=\u001B[39m librosa\u001B[38;5;241m.\u001B[39mload(audio_file, sr\u001B[38;5;241m=\u001B[39m\u001B[38;5;28;01mNone\u001B[39;00m)\n\u001B[0;32m      8\u001B[0m \u001B[38;5;66;03m# 计算每个窗口的rms值\u001B[39;00m\n\u001B[1;32m----> 9\u001B[0m rms \u001B[38;5;241m=\u001B[39m \u001B[43mlibrosa\u001B[49m\u001B[38;5;241;43m.\u001B[39;49m\u001B[43mfeature\u001B[49m\u001B[38;5;241;43m.\u001B[39;49m\u001B[43mrms\u001B[49m\u001B[43m(\u001B[49m\u001B[43my\u001B[49m\u001B[43m,\u001B[49m\u001B[43m \u001B[49m\u001B[43mframe_length\u001B[49m\u001B[38;5;241;43m=\u001B[39;49m\u001B[43mwindow_size\u001B[49m\u001B[43m,\u001B[49m\u001B[43m \u001B[49m\u001B[43mhop_length\u001B[49m\u001B[38;5;241;43m=\u001B[39;49m\u001B[43mhop_length\u001B[49m\u001B[43m)\u001B[49m[\u001B[38;5;241m0\u001B[39m]\n\u001B[0;32m     11\u001B[0m \u001B[38;5;66;03m# 将rms值转换为分贝（dB）单位\u001B[39;00m\n\u001B[0;32m     12\u001B[0m db \u001B[38;5;241m=\u001B[39m librosa\u001B[38;5;241m.\u001B[39mamplitude_to_db(rms)\n",
      "\u001B[1;31mTypeError\u001B[0m: rms() takes 0 positional arguments but 1 positional argument (and 2 keyword-only arguments) were given"
     ]
    }
   ],
   "source": [
    "# 示例用法\n",
    "audio_file = './input/test/audio1.wav'\n",
    "leq = calculate_leq(audio_file)\n",
    "print(f\"音频文件 {audio_file} 的 Leq(A) 值为：{leq:.2f} dB\")"
   ],
   "metadata": {
    "collapsed": false,
    "pycharm": {
     "name": "#%%\n"
    }
   }
  },
  {
   "cell_type": "code",
   "execution_count": null,
   "outputs": [],
   "source": [],
   "metadata": {
    "collapsed": false,
    "pycharm": {
     "name": "#%%\n"
    }
   }
  }
 ],
 "metadata": {
  "kernelspec": {
   "display_name": "Python 3",
   "language": "python",
   "name": "python3"
  },
  "language_info": {
   "codemirror_mode": {
    "name": "ipython",
    "version": 2
   },
   "file_extension": ".py",
   "mimetype": "text/x-python",
   "name": "python",
   "nbconvert_exporter": "python",
   "pygments_lexer": "ipython2",
   "version": "2.7.6"
  }
 },
 "nbformat": 4,
 "nbformat_minor": 0
}